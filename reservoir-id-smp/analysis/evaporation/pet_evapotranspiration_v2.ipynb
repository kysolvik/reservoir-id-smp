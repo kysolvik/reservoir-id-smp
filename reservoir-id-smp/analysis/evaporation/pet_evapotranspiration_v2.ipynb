{
 "cells": [
  {
   "cell_type": "code",
   "execution_count": null,
   "metadata": {},
   "outputs": [],
   "source": [
    "import xarray as xr\n",
    "import numpy as np\n",
    "import pandas as pd\n",
    "from scipy.interpolate import NearestNDInterpolator\n",
    "import glob\n",
    "import os"
   ]
  },
  {
   "cell_type": "markdown",
   "metadata": {},
   "source": [
    "# Historical calcs using CRU"
   ]
  },
  {
   "cell_type": "code",
   "execution_count": null,
   "metadata": {},
   "outputs": [],
   "source": [
    "pet_ds = xr.open_dataset('./data/cru_ts4.08.1901.2023.pet.dat.nc')"
   ]
  },
  {
   "cell_type": "code",
   "execution_count": null,
   "metadata": {},
   "outputs": [],
   "source": [
    "pet_ds = pet_ds.sel(time=slice(np.datetime64('2021-01-01'), np.datetime64('2021-12-31'))).mean(dim='time')\n",
    "# pet_ds = pet_ds.sel(time=slice(np.datetime64('1940-01-01'), np.datetime64('1949-12-31'))).mean(dim='time')"
   ]
  },
  {
   "cell_type": "code",
   "execution_count": null,
   "metadata": {},
   "outputs": [],
   "source": [
    "res_df = pd.read_csv('../remove_bad_water/out/sentinel_2021_v6_wgs84_merged.csv')\n",
    "res_df = res_df.loc[res_df['hydropoly_max']<100]\n",
    "res_df['area_ha'] = res_df['area']*100/10000 # HA\n",
    "res_df['area_km'] = res_df['area']*100/(1000*1000) # km2\n",
    "res_df['area_m'] = res_df['area']*100\n",
    "res_df = res_df.loc[res_df['area_ha']<100] # Remove less than 100 ha"
   ]
  },
  {
   "cell_type": "code",
   "execution_count": null,
   "metadata": {},
   "outputs": [],
   "source": [
    "xr_indexer = {\n",
    "    'lon':xr.DataArray(res_df['longitude'].values, dims=['res']),\n",
    "    'lat':xr.DataArray(res_df['latitude'].values, dims=['res'])\n",
    "}"
   ]
  },
  {
   "cell_type": "code",
   "execution_count": null,
   "metadata": {},
   "outputs": [],
   "source": [
    "res_pets = pet_ds.sel(xr_indexer, method='nearest')"
   ]
  },
  {
   "cell_type": "code",
   "execution_count": null,
   "metadata": {},
   "outputs": [],
   "source": [
    "res_pets = res_pets.assign(area_m=('res', res_df['area_m'].values))"
   ]
  },
  {
   "cell_type": "code",
   "execution_count": null,
   "metadata": {},
   "outputs": [],
   "source": [
    "res_month_evap = res_pets['pet']*res_pets['area_m']\n",
    "res_month_evap = res_month_evap/1000 # Assuming PET is in mm\n",
    "evap_value = (res_month_evap*365).sum()*1000 # 365 days per year, 1000 converts from cubic meters to liters"
   ]
  },
  {
   "cell_type": "code",
   "execution_count": null,
   "metadata": {},
   "outputs": [],
   "source": [
    "evap_value"
   ]
  },
  {
   "cell_type": "markdown",
   "metadata": {},
   "source": [
    "# Future Calcs"
   ]
  },
  {
   "cell_type": "code",
   "execution_count": null,
   "metadata": {},
   "outputs": [],
   "source": [
    "def interp(da):\n",
    "    indices = np.where(np.isfinite(da))\n",
    "    interp = NearestNDInterpolator(np.transpose(indices), da.data[indices])\n",
    "    da[...] = interp(*np.indices(da.shape))\n",
    "    return da\n",
    "\n",
    "\n",
    "def calc_total_evap(res_pets):\n",
    "    res_month_evap = res_pets['var']*res_pets['area_m']\n",
    "    res_month_evap = res_month_evap/1000 # Assuming PET is in mm\n",
    "    evap_value = (res_month_evap*12).sum()*1000 # 12 months per year\n",
    "    return evap_value\n",
    "\n",
    "def full_pet_calcs(res_df, pet_ncdf_path):\n",
    "    pet_ds = xr.open_dataset(pet_ncdf_path)\n",
    "    xr_indexer = {\n",
    "        'longitude':xr.DataArray(res_df['longitude'].values, dims=['res']),\n",
    "        'latitude':xr.DataArray(res_df['latitude'].values, dims=['res'])\n",
    "    }\n",
    "    pet_ds_last10 = pet_ds.sel(time=slice(20901, 209912)).mean(dim='time')\n",
    "    pet_ds_first10 = pet_ds.sel(time=slice(20101, 202012)).mean(dim='time')\n",
    "    pet_ds_first10['var'] = interp(pet_ds_first10['var'])\n",
    "    pet_ds_last10['var'] = interp(pet_ds_last10['var'])\n",
    "    res_pets_last10 = pet_ds_last10.sel(xr_indexer, method='nearest')\n",
    "    res_pets_last10 = res_pets_last10.assign(area_m=('res', res_df['area_m'].values))\n",
    "    res_pets_first10 = pet_ds_first10.sel(xr_indexer, method='nearest')\n",
    "    res_pets_first10 = res_pets_first10.assign(area_m=('res', res_df['area_m'].values))\n",
    "    evap_first10 = calc_total_evap(res_pets_first10)\n",
    "    evap_last10 = calc_total_evap(res_pets_last10)\n",
    "    return evap_first10, evap_last10"
   ]
  },
  {
   "cell_type": "code",
   "execution_count": null,
   "metadata": {},
   "outputs": [],
   "source": [
    "# Do All and write out results\n",
    "# First mount using rclone: rclone mount --drive-shared-with-me cu_gdrive: gdrive/\n",
    "all_models = glob.glob('./data/gdrive/Shared_Kylen_2024/CMIP5_PETpmEstimated/*rcp*.nc')\n",
    "all_dicts = []\n",
    "for mod_nc in all_models:\n",
    "    mod_name = os.path.basename(mod_nc)[:-3]\n",
    "    print(mod_name)\n",
    "    baseline, final = full_pet_calcs(res_df, mod_nc)\n",
    "    out_dict = {\n",
    "        'model':mod_name,\n",
    "        'baseline_evap': baseline.values,\n",
    "        'final_evap': final.values\n",
    "    }\n",
    "    all_dicts.append(out_dict)"
   ]
  },
  {
   "cell_type": "code",
   "execution_count": null,
   "metadata": {},
   "outputs": [],
   "source": [
    "# full_df = pd.DataFrame(all_dicts)\n",
    "# full_df.to_csv('./data/sentinel_v6_2021_allmodels.csv', index=False)\n",
    "full_df = pd.read_csv('./data/sentinel_v6_2021_allmodels.csv')"
   ]
  },
  {
   "cell_type": "code",
   "execution_count": null,
   "metadata": {},
   "outputs": [],
   "source": [
    "full_df['scenario'] = None\n",
    "full_df.loc[full_df['model'].str.contains('rcp26'), 'scenario'] = 'rcp26'\n",
    "full_df.loc[full_df['model'].str.contains('rcp45'), 'scenario'] = 'rcp45'\n",
    "full_df.loc[full_df['model'].str.contains('rcp85'), 'scenario'] = 'rcp85'\n",
    "full_df['ratio'] = (full_df['final_evap'] / full_df['baseline_evap'])"
   ]
  },
  {
   "cell_type": "code",
   "execution_count": null,
   "metadata": {},
   "outputs": [],
   "source": [
    "full_df['model']"
   ]
  },
  {
   "cell_type": "code",
   "execution_count": null,
   "metadata": {},
   "outputs": [],
   "source": [
    "full_df.groupby('scenario').aggregate(['mean','std', 'max', 'min', 'count'])['ratio']"
   ]
  },
  {
   "cell_type": "code",
   "execution_count": null,
   "metadata": {},
   "outputs": [],
   "source": [
    ".159737*9.7"
   ]
  }
 ],
 "metadata": {
  "kernelspec": {
   "display_name": "resgis",
   "language": "python",
   "name": "python3"
  },
  "language_info": {
   "codemirror_mode": {
    "name": "ipython",
    "version": 3
   },
   "file_extension": ".py",
   "mimetype": "text/x-python",
   "name": "python",
   "nbconvert_exporter": "python",
   "pygments_lexer": "ipython3",
   "version": "3.10.13"
  }
 },
 "nbformat": 4,
 "nbformat_minor": 2
}
