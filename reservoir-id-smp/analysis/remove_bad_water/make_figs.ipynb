{
 "cells": [
  {
   "cell_type": "code",
   "execution_count": null,
   "id": "4d936ee2",
   "metadata": {},
   "outputs": [],
   "source": [
    "import pandas as pd\n",
    "import glob\n",
    "import os\n",
    "import numpy as np\n",
    "import matplotlib.pyplot as plt\n",
    "import seaborn as sns"
   ]
  },
  {
   "cell_type": "code",
   "execution_count": null,
   "id": "306cb611",
   "metadata": {},
   "outputs": [],
   "source": [
    "all_csvs = glob.glob('./out/ls*merged.csv')\n",
    "all_csvs.sort()"
   ]
  },
  {
   "cell_type": "code",
   "execution_count": null,
   "id": "cd894dce",
   "metadata": {},
   "outputs": [],
   "source": [
    "def read_process_csv(csv):\n",
    "    temp_df = pd.read_csv(csv)\n",
    "    temp_df['satellite'] = os.path.basename(csv)[:3]\n",
    "    temp_df['year'] = int(os.path.basename(csv)[4:8])\n",
    "    return temp_df"
   ]
  },
  {
   "cell_type": "code",
   "execution_count": null,
   "id": "72a69f44",
   "metadata": {},
   "outputs": [],
   "source": [
    "full_df = pd.concat([\n",
    "    read_process_csv(csv) for csv in all_csvs\n",
    "])"
   ]
  },
  {
   "cell_type": "code",
   "execution_count": null,
   "id": "3d159d3d",
   "metadata": {},
   "outputs": [],
   "source": [
    "(full_df.loc[full_df.year==2022]['area_ha'] < 0.09).mean()"
   ]
  },
  {
   "cell_type": "code",
   "execution_count": null,
   "id": "e9580e17",
   "metadata": {},
   "outputs": [],
   "source": [
    "(full_df.loc[full_df.year==2022]['area_ha'] < 0.045).mean()"
   ]
  },
  {
   "cell_type": "code",
   "execution_count": null,
   "id": "3dac489b",
   "metadata": {},
   "outputs": [],
   "source": [
    "full_df = full_df.loc[full_df['hydropoly_max']<100]\n",
    "full_df['area_ha'] = full_df['area']*100/10000 # HA\n",
    "full_df['area_km'] = full_df['area']*100/(1000*1000) # km2\n",
    "full_df = full_df.loc[full_df['area_ha']<100] # Remove less than 100 ha\n",
    "\n"
   ]
  },
  {
   "cell_type": "code",
   "execution_count": null,
   "id": "9c7f2d26",
   "metadata": {},
   "outputs": [],
   "source": [
    "groupby_year_sat = full_df.groupby(['year', 'satellite']).agg([\n",
    "    'mean','median','sum','count'\n",
    "])[['area', 'area_ha','area_km']]"
   ]
  },
  {
   "cell_type": "code",
   "execution_count": null,
   "id": "727337b1",
   "metadata": {},
   "outputs": [],
   "source": [
    "groupby_year_sat_year_sat"
   ]
  },
  {
   "cell_type": "code",
   "execution_count": null,
   "id": "3ac5c45a",
   "metadata": {},
   "outputs": [],
   "source": [
    "year_satellite = groupby_year_sat.reset_index().set_index('year')[['satellite']]\n",
    "\n",
    "# All colors from colorbrewer, these are a few options: \n",
    "# color_dict = {'ls5': '#1b9e77',\n",
    "#               'ls7': '#d95f02',\n",
    "#               'ls8': '#7570b3'}\n",
    "\n",
    "color_dict = {'ls5': '#66c2a5',\n",
    "              'ls7': '#fc8d62',\n",
    "              'ls8': '#8da0cb'}\n",
    "\n",
    "# color_dict = {'ls5': '#a6cee3',\n",
    "#               'ls7': '#1f78b4',\n",
    "#               'ls8': '#b2df8a'}"
   ]
  },
  {
   "cell_type": "code",
   "execution_count": null,
   "id": "b7e9418e",
   "metadata": {},
   "outputs": [],
   "source": [
    "def get_ls_color(y):\n",
    "    return color_dict[year_satellite.loc[y].values[0]]\n",
    "\n",
    "def color_by_ls(df, column, ax):\n",
    "    year_values = np.stack([groupby_year_sat.index.get_level_values('year'),\n",
    "                        groupby_year_sat[column]],\n",
    "                       axis=1)\n",
    "    for start, stop in zip(year_values[:-1],year_values[1:]):\n",
    "        x, y = zip(start, stop)\n",
    "        ls_shortname = year_satellite.loc[x[0]].values[0]\n",
    "        ls_name = 'Landsat {}'.format(ls_shortname[-1])\n",
    "        if ls_name not in ax.get_legend_handles_labels()[1]:\n",
    "            ax.plot(x, y, color=get_ls_color(x[0]), lw=2.5, label=ls_name,\n",
    "                   solid_capstyle='round')\n",
    "        else:\n",
    "            ax.plot(x, y, color=get_ls_color(x[0]), lw=2.5,\n",
    "                   solid_capstyle='round')"
   ]
  },
  {
   "cell_type": "code",
   "execution_count": null,
   "id": "27bf794b",
   "metadata": {},
   "outputs": [],
   "source": [
    "groupby_year_sat['count_k'] = groupby_year_sat[('area','count')]/1000"
   ]
  },
  {
   "cell_type": "code",
   "execution_count": null,
   "id": "186dea29",
   "metadata": {},
   "outputs": [],
   "source": [
    "fig, axs = plt.subplots(1,2, figsize=(12,5))\n",
    "color_by_ls(groupby_year_sat, 'count_k', axs[0])\n",
    "color_by_ls(groupby_year_sat, ('area_km','sum'), axs[1])\n",
    "axs[0].set_ylabel('Total Reservoir Count (thousands)')\n",
    "axs[0].set_xlabel('Year')\n",
    "axs[1].set_ylabel('Total Reservoir Surface Area ($km^2$)')\n",
    "axs[1].set_xlabel('Year')\n",
    "axs[0].legend()\n",
    "fig.tight_layout()"
   ]
  },
  {
   "cell_type": "code",
   "execution_count": null,
   "id": "49a99461",
   "metadata": {},
   "outputs": [],
   "source": [
    "groupby_year_sat['median_ha'] = groupby_year_sat[('area_ha','median')]\n",
    "groupby_year_sat['mean_ha'] = groupby_year_sat[('area_ha','mean')]"
   ]
  },
  {
   "cell_type": "code",
   "execution_count": null,
   "id": "c720f2ac",
   "metadata": {},
   "outputs": [],
   "source": [
    "fig, axs = plt.subplots(1,2, figsize=(12,5))\n",
    "color_by_ls(groupby_year_sat, 'median_ha', axs[0])\n",
    "color_by_ls(groupby_year_sat, 'mean_ha', axs[1])\n",
    "axs[0].set_ylabel('Median Reservoir Size ($ha$)')\n",
    "axs[0].set_xlabel('Year')\n",
    "axs[1].set_ylabel('Mean Reservoir Size ($ha$)')\n",
    "axs[1].set_xlabel('Year')\n",
    "axs[0].legend()\n",
    "fig.tight_layout()"
   ]
  }
 ],
 "metadata": {
  "kernelspec": {
   "display_name": "Python 3 (ipykernel)",
   "language": "python",
   "name": "python3"
  },
  "language_info": {
   "codemirror_mode": {
    "name": "ipython",
    "version": 3
   },
   "file_extension": ".py",
   "mimetype": "text/x-python",
   "name": "python",
   "nbconvert_exporter": "python",
   "pygments_lexer": "ipython3",
   "version": "3.9.2"
  }
 },
 "nbformat": 4,
 "nbformat_minor": 5
}
