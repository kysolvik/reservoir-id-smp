{
 "cells": [
  {
   "cell_type": "code",
   "execution_count": null,
   "id": "4d936ee2",
   "metadata": {},
   "outputs": [],
   "source": [
    "import pandas as pd\n",
    "import glob\n",
    "import os\n",
    "import numpy as np\n",
    "import matplotlib.pyplot as plt\n",
    "import seaborn as sns\n",
    "import geopandas as gpd\n",
    "import shapely"
   ]
  },
  {
   "cell_type": "code",
   "execution_count": null,
   "id": "8bd9741b",
   "metadata": {},
   "outputs": [],
   "source": [
    "all_csvs = glob.glob('./out/sentinel_2021_v6_wgs84_combined_merged.csv')\n",
    "all_csvs.sort()"
   ]
  },
  {
   "cell_type": "code",
   "execution_count": null,
   "id": "cd0fc407",
   "metadata": {},
   "outputs": [],
   "source": [
    "all_csvs"
   ]
  },
  {
   "cell_type": "code",
   "execution_count": null,
   "id": "cd894dce",
   "metadata": {},
   "outputs": [],
   "source": [
    "def read_process_csv(csv):\n",
    "    temp_df = pd.read_csv(csv)\n",
    "    temp_df['satellite'] = os.path.basename(csv)[:8]\n",
    "    temp_df['year'] = int(os.path.basename(csv)[9:13])\n",
    "    return temp_df"
   ]
  },
  {
   "cell_type": "code",
   "execution_count": null,
   "id": "3414b686",
   "metadata": {},
   "outputs": [],
   "source": [
    "\n",
    "full_df = pd.concat([\n",
    "    read_process_csv(csv) for csv in all_csvs\n",
    "])\n",
    "\n",
    "full_df = full_df.loc[full_df['hydropoly_max']<100]\n",
    "full_df['area_ha'] = full_df['area']*100/10000 # HA\n",
    "full_df['area_km'] = full_df['area']*100/(1000*1000) # km2\n",
    "full_df = full_df.loc[full_df['area_ha']<100] # Remove less than 100 ha"
   ]
  },
  {
   "cell_type": "code",
   "execution_count": null,
   "id": "d93d3aff",
   "metadata": {},
   "outputs": [],
   "source": [
    "\n",
    "(full_df['area_ha'] <= 100).sum()"
   ]
  },
  {
   "cell_type": "code",
   "execution_count": null,
   "id": "819b95dd",
   "metadata": {},
   "outputs": [],
   "source": [
    "full_df['area_km'].sum()"
   ]
  },
  {
   "cell_type": "code",
   "execution_count": null,
   "id": "6c7ad7f8",
   "metadata": {},
   "outputs": [],
   "source": [
    "lulc_df = pd.read_csv('../lulc/out/lulc_stats_res_sentinel_2021_summarized.csv')"
   ]
  },
  {
   "cell_type": "code",
   "execution_count": null,
   "id": "7c2d9e05",
   "metadata": {},
   "outputs": [],
   "source": [
    "full_df[['center_lat','center_lon','latitude','longitude', 'area_ha']].rename(columns={'center_lat':'y_aea','center_lon':'x_aea'}).to_csv(\n",
    "    './data/sentinel_2021_v6_cleaned.csv', index=False\n",
    ")"
   ]
  },
  {
   "cell_type": "code",
   "execution_count": null,
   "id": "836f7f0b",
   "metadata": {},
   "outputs": [],
   "source": [
    "\n",
    "groupby_year_sat = full_df.groupby(['year', 'satellite']).agg(\n",
    "    {'area_ha': ['mean','median','sum','count']}\n",
    ")"
   ]
  },
  {
   "cell_type": "code",
   "execution_count": null,
   "id": "f15f9c9c",
   "metadata": {},
   "outputs": [],
   "source": [
    "print(groupby_year_sat)"
   ]
  },
  {
   "cell_type": "markdown",
   "id": "2f0e4670",
   "metadata": {},
   "source": [
    "# Basic area distribution stats"
   ]
  },
  {
   "cell_type": "code",
   "execution_count": null,
   "id": "bb0b6644",
   "metadata": {},
   "outputs": [],
   "source": [
    "print(full_df.loc[(full_df.year==2021) & (full_df.area_ha > 10), 'area_km'].count())\n",
    "print(full_df.loc[(full_df.year==2021) & (full_df.area_ha > 10), 'area_km'].count()/full_df.loc[full_df.year==2021].shape[0])\n",
    "print(full_df.loc[(full_df.year==2021) & (full_df.area_ha < 1), 'area_km'].count()/full_df.loc[full_df.year==2021].shape[0])"
   ]
  },
  {
   "cell_type": "code",
   "execution_count": null,
   "id": "64fc4f1f",
   "metadata": {},
   "outputs": [],
   "source": [
    "total_area = full_df.loc[full_df.year==2021, 'area_km'].sum()\n",
    "print(full_df.loc[full_df.year==2021, 'area_km'].sum())\n",
    "print(full_df.loc[full_df.year==2021, 'area_ha'].sum())\n",
    "print(full_df.loc[(full_df.year==2021) & (full_df.area_ha > 10), 'area_km'].sum())\n",
    "print(full_df.loc[(full_df.year==2021) & (full_df.area_ha > 10), 'area_km'].sum()/total_area)\n",
    "\n",
    "print(full_df.loc[(full_df.year==2021) & (full_df.area_ha < 1), 'area_km'].sum())\n",
    "print(full_df.loc[(full_df.year==2021) & (full_df.area_ha < 1), 'area_km'].sum()/total_area)"
   ]
  },
  {
   "cell_type": "code",
   "execution_count": null,
   "id": "48cb258b",
   "metadata": {},
   "outputs": [],
   "source": [
    "plt.hist(full_df.loc[full_df['year'] == 2021, 'area_ha'], bins=np.arange(0, 5.01, 0.5))"
   ]
  }
 ],
 "metadata": {
  "kernelspec": {
   "display_name": "resgis",
   "language": "python",
   "name": "python3"
  },
  "language_info": {
   "codemirror_mode": {
    "name": "ipython",
    "version": 3
   },
   "file_extension": ".py",
   "mimetype": "text/x-python",
   "name": "python",
   "nbconvert_exporter": "python",
   "pygments_lexer": "ipython3",
   "version": "3.10.13"
  }
 },
 "nbformat": 4,
 "nbformat_minor": 5
}
