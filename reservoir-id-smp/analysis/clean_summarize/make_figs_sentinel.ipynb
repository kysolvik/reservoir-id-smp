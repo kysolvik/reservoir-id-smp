{
 "cells": [
  {
   "cell_type": "code",
   "execution_count": null,
   "id": "4d936ee2",
   "metadata": {},
   "outputs": [],
   "source": [
    "import pandas as pd\n",
    "import glob\n",
    "import os\n",
    "import numpy as np\n",
    "import matplotlib.pyplot as plt\n",
    "import seaborn as sns\n",
    "import geopandas as gpd\n",
    "import shapely"
   ]
  },
  {
   "cell_type": "code",
   "execution_count": null,
   "id": "8bda5d67",
   "metadata": {},
   "outputs": [],
   "source": []
  },
  {
   "cell_type": "code",
   "execution_count": null,
   "id": "8bd9741b",
   "metadata": {},
   "outputs": [],
   "source": [
    "all_csvs = glob.glob('./out/sentinel_2021_v6_wgs84_merged.csv')\n",
    "all_csvs.sort()"
   ]
  },
  {
   "cell_type": "code",
   "execution_count": null,
   "id": "cd894dce",
   "metadata": {},
   "outputs": [],
   "source": [
    "def read_process_csv(csv):\n",
    "    temp_df = pd.read_csv(csv)\n",
    "    temp_df['satellite'] = os.path.basename(csv)[:8]\n",
    "    temp_df['year'] = int(os.path.basename(csv)[9:13])\n",
    "    return temp_df"
   ]
  },
  {
   "cell_type": "code",
   "execution_count": null,
   "id": "3414b686",
   "metadata": {},
   "outputs": [],
   "source": [
    "\n",
    "full_df = pd.concat([\n",
    "    read_process_csv(csv) for csv in all_csvs\n",
    "])\n",
    "\n",
    "full_df = full_df.loc[full_df['hydropoly_max']<100]\n",
    "full_df['area_ha'] = full_df['area']*100/10000 # HA\n",
    "# full_df['area_km'] = full_df['area']*100/(1000*1000) # km2\n",
    "full_df = full_df.loc[full_df['area_ha']<100] # Remove less than 100 ha"
   ]
  },
  {
   "cell_type": "code",
   "execution_count": null,
   "id": "6c7ad7f8",
   "metadata": {},
   "outputs": [],
   "source": [
    "lulc_df = pd.read_csv('../lulc/out/lulc_stats_res_sentinel_2021_summarized.csv')"
   ]
  },
  {
   "cell_type": "code",
   "execution_count": null,
   "id": "7c2d9e05",
   "metadata": {},
   "outputs": [],
   "source": [
    "full_df[['center_lat','center_lon','latitude','longitude', 'area_ha']].join(lulc_df['class']).rename(columns={'class':'lulc_class','center_lat':'y_aea','center_lon':'x_aea'}).to_csv(\n",
    "    './data/sentinel_2021_v6_cleaned.csv', index=False\n",
    ")"
   ]
  },
  {
   "cell_type": "code",
   "execution_count": null,
   "id": "84cac58f",
   "metadata": {},
   "outputs": [],
   "source": [
    "pd.read_csv('./data/sentinel_2021_v6_cleaned.csv')"
   ]
  },
  {
   "cell_type": "code",
   "execution_count": null,
   "id": "836f7f0b",
   "metadata": {},
   "outputs": [],
   "source": [
    "\n",
    "groupby_year_sat = full_df.groupby(['year', 'satellite']).agg(\n",
    "    {'area_ha': ['mean','median','sum','count']}\n",
    ")"
   ]
  },
  {
   "cell_type": "code",
   "execution_count": null,
   "id": "f15f9c9c",
   "metadata": {},
   "outputs": [],
   "source": [
    "print(groupby_year_sat)"
   ]
  },
  {
   "cell_type": "markdown",
   "id": "2f0e4670",
   "metadata": {},
   "source": [
    "# Basic area distribution stats"
   ]
  },
  {
   "cell_type": "code",
   "execution_count": null,
   "id": "bb0b6644",
   "metadata": {},
   "outputs": [],
   "source": [
    "print(full_df.loc[(full_df.year==2021) & (full_df.area_ha > 5), 'area_km'].count())\n",
    "print(full_df.loc[(full_df.year==2021) & (full_df.area_ha > 5), 'area_km'].count()/full_df.loc[full_df.year==2021].shape[0])\n",
    "print(full_df.loc[(full_df.year==2021) & (full_df.area_ha < 1), 'area_km'].count()/full_df.loc[full_df.year==2021].shape[0])"
   ]
  },
  {
   "cell_type": "code",
   "execution_count": null,
   "id": "64fc4f1f",
   "metadata": {},
   "outputs": [],
   "source": [
    "total_area = full_df.loc[full_df.year==2021, 'area_km'].sum()\n",
    "print(full_df.loc[full_df.year==2021, 'area_km'].sum())\n",
    "print(full_df.loc[(full_df.year==2021) & (full_df.area_ha > 5), 'area_km'].sum())\n",
    "print(full_df.loc[(full_df.year==2021) & (full_df.area_ha > 5), 'area_km'].sum()/total_area)\n",
    "\n",
    "print(full_df.loc[(full_df.year==2021) & (full_df.area_ha < 1), 'area_km'].sum())\n",
    "print(full_df.loc[(full_df.year==2021) & (full_df.area_ha < 1), 'area_km'].sum()/total_area)"
   ]
  },
  {
   "cell_type": "code",
   "execution_count": null,
   "id": "48cb258b",
   "metadata": {},
   "outputs": [],
   "source": [
    "plt.hist(full_df.loc[full_df['year'] == 2021, 'area_ha'], bins=np.arange(0, 5.01, 0.5))"
   ]
  },
  {
   "cell_type": "markdown",
   "id": "b2adcd5d",
   "metadata": {},
   "source": [
    "# Map"
   ]
  },
  {
   "cell_type": "code",
   "execution_count": null,
   "id": "1ff24360",
   "metadata": {},
   "outputs": [],
   "source": [
    "# Temporary: Convert to lat/lon\n",
    "for csv in all_csvs:\n",
    "    print(csv, ', Starting')\n",
    "    out_path = csv.replace('aea', 'wgs84')\n",
    "    if not os.path.isfile(out_path):\n",
    "        temp_df = pd.read_csv(csv)\n",
    "        temp_df = temp_df[['center_lat', 'center_lon', 'hydropoly_max', 'area']]\n",
    "        gdf = gpd.GeoDataFrame(\n",
    "            temp_df, geometry=gpd.points_from_xy(temp_df.center_lon, temp_df.center_lat),\n",
    "            crs='ESRI:102033'\n",
    "        )\n",
    "        gdf_wgs84 = gdf.to_crs('EPSG:4326')\n",
    "        gdf_wgs84['longitude'] = gdf_wgs84.geometry.x\n",
    "        gdf_wgs84['latitude'] = gdf_wgs84.geometry.y\n",
    "        gdf_wgs84.drop(columns=['geometry']).to_csv(out_path, index=False)\n",
    "    print(out_path, ', Done')"
   ]
  },
  {
   "cell_type": "code",
   "execution_count": null,
   "id": "f57eec3a",
   "metadata": {},
   "outputs": [],
   "source": [
    "\n",
    "all_csvs = glob.glob('./out/sentinel*v6*wgs84_merged.csv')\n",
    "all_csvs.sort()\n",
    "\n",
    "full_wgs84_df = pd.concat([\n",
    "    read_process_csv(csv) for csv in all_csvs\n",
    "])\n",
    "\n",
    "full_wgs84_df = full_wgs84_df.loc[full_wgs84_df['hydropoly_max']<100]\n",
    "full_wgs84_df['area_ha'] = full_wgs84_df['area']*100/10000 # HA\n",
    "full_wgs84_df['area_km'] = full_wgs84_df['area']*100/(1000*1000) # km2\n",
    "full_wgs84_df = full_wgs84_df.loc[full_wgs84_df['area_ha']<100] # Remove less than 100 ha"
   ]
  },
  {
   "cell_type": "code",
   "execution_count": null,
   "id": "0f71b991",
   "metadata": {},
   "outputs": [],
   "source": [
    "brazil_gdf = gpd.read_file('/home/ksolvik/research/reservoirs/analysis/data/misc/general_borders/Brazilian_States_aea.shp')\n",
    "brazil_gdf = brazil_gdf.to_crs('EPSG:4326')\n",
    "# brazil_gdf = brazil_gdf.dissolve(by='REGIAO')"
   ]
  },
  {
   "cell_type": "code",
   "execution_count": null,
   "id": "ddfeaa98",
   "metadata": {},
   "outputs": [],
   "source": [
    "\n",
    "xlims = brazil_gdf.bounds.min()['minx'], brazil_gdf.bounds.max()['maxx']\n",
    "xlims = (xlims[0] - 1.5, xlims[1]-4)\n",
    "ylims = brazil_gdf.bounds.min()['miny'], brazil_gdf.bounds.max()['maxy']\n",
    "ylims = (ylims[0] - 1, ylims[1] + 1)\n",
    "ylims_range = ylims[1] - ylims[0]\n",
    "xlims_range = xlims[1] - xlims[0]"
   ]
  },
  {
   "cell_type": "code",
   "execution_count": null,
   "id": "39e69cd2",
   "metadata": {},
   "outputs": [],
   "source": [
    "\n",
    "axes_height_ratios=[1, 0.05]\n",
    "fig, axs = plt.subplots(2, 1, figsize = (9, 10),\n",
    "                       gridspec_kw={\"height_ratios\":axes_height_ratios})\n",
    "\n",
    "outline_gdf = gpd.GeoDataFrame(\n",
    "    geometry=gpd.GeoSeries(shapely.geometry.Polygon(\n",
    "        [[xlims[0], ylims[0]],\n",
    "         [xlims[0], ylims[1]],\n",
    "         [xlims[1], ylims[1]],\n",
    "         [xlims[1], ylims[0]],\n",
    "         [xlims[0], ylims[0]]])),\n",
    "    crs='EPSG:4326')\n",
    "nonbrazil_poly = outline_gdf.overlay(brazil_gdf, how='difference')\n",
    "brazil_gdf.boundary.plot(ax=axs[0], color='white', alpha=0.3)\n",
    "year_2021_df = full_wgs84_df.loc[full_wgs84_df['year']==2021]\n",
    "im_h1 = axs[0].hexbin(year_2021_df['longitude'], year_2021_df['latitude'],\n",
    "              gridsize=(80, int(80*ylims_range/xlims_range)),\n",
    "             vmin=0, vmax=2500,\n",
    "             extent=xlims + ylims)\n",
    "\n",
    "# fig.colorbar(im)\n",
    "\n",
    "axs[0].set_xlabel('Longitude (deg)')\n",
    "axs[0].set_ylabel('Latitude (deg)')\n",
    "axs[0].set_xlim(xlims)\n",
    "axs[0].set_ylim(ylims)\n",
    "\n",
    "# Remove outside of Brazil\n",
    "nonbrazil_poly.plot(ax=axs[0],color='black')\n",
    "\n",
    "\n",
    "# Set up colorbar\n",
    "gs = axs[0].get_gridspec()\n",
    "# axs[-1].remove()\n",
    "axs[-1].set_title('Reservoir Count per Hexagon')\n",
    "fig.colorbar(im_h1, cax=axs[-1], orientation='horizontal')\n",
    "fig.tight_layout()\n",
    "plt.savefig('./big_2021.png',dpi=300)"
   ]
  },
  {
   "cell_type": "code",
   "execution_count": null,
   "id": "f498f4b6",
   "metadata": {},
   "outputs": [],
   "source": [
    "\n",
    "%matplotlib inline\n",
    "\n",
    "axes_height_ratios=[1, 0.05]\n",
    "fig, axs = plt.subplots(2, 3, figsize = (18, 10),\n",
    "                       gridspec_kw={\"height_ratios\":axes_height_ratios})\n",
    "\n",
    "# Plot 2017 first\n",
    "outline_gdf = gpd.GeoDataFrame(\n",
    "    geometry=gpd.GeoSeries(shapely.geometry.Polygon(\n",
    "        [[xlims[0], ylims[0]],\n",
    "         [xlims[0], ylims[1]],\n",
    "         [xlims[1], ylims[1]],\n",
    "         [xlims[1], ylims[0]],\n",
    "         [xlims[0], ylims[0]]])),\n",
    "    crs='EPSG:4326')\n",
    "nonbrazil_poly = outline_gdf.overlay(brazil_gdf, how='difference')\n",
    "\n",
    "brazil_gdf.boundary.plot(ax=axs[0, 0], color='white', alpha=0.3)\n",
    "year_2017_df = full_wgs84_df.loc[full_wgs84_df['year']==2017]\n",
    "im_h1 = axs[0,0].hexbin(year_2017_df['longitude'], year_2017_df['latitude'],\n",
    "              gridsize=(60, int(60*ylims_range/xlims_range)),\n",
    "             vmin=0, vmax=5000,\n",
    "             extent=xlims + ylims)\n",
    "\n",
    "# Plot 2021\n",
    "brazil_gdf.boundary.plot(ax=axs[0, 1], color='white', alpha=0.3)\n",
    "year_2021_df = full_wgs84_df.loc[full_wgs84_df['year']==2021]\n",
    "im_h2 = axs[0, 1].hexbin(year_2021_df['longitude'], year_2021_df['latitude'],\n",
    "              gridsize=(60, int(60*ylims_range/xlims_range)),\n",
    "             vmin=0, vmax=5000,\n",
    "             extent=xlims + ylims)\n",
    "\n",
    "\n",
    "# Plot difference\n",
    "brazil_gdf.boundary.plot(ax=axs[0, 2], color='white', alpha=0.3)\n",
    "im_h3 = axs[0, 2].hexbin(year_2021_df['longitude'], year_2021_df['latitude'],\n",
    "              gridsize=(60, int(60*ylims_range/xlims_range)),\n",
    "             vmin=-2000, vmax=2000,\n",
    "             extent=xlims + ylims,\n",
    "             cmap='coolwarm')\n",
    "im_h3.set_array(im_h2.get_array()-im_h1.get_array())\n",
    "\n",
    "# fig.colorbar(im)\n",
    "\n",
    "for cur_ax in axs[0]:\n",
    "    cur_ax.set_xlabel('Longitude (deg)')\n",
    "    cur_ax.set_ylabel('Latitude (deg)')\n",
    "    cur_ax.set_xlim(xlims)\n",
    "    cur_ax.set_ylim(ylims)\n",
    "axs[0,0].set_title('2017', size=20)\n",
    "axs[0,1].set_title('2021', size=20)\n",
    "axs[0,2].set_title('Change', size=20)\n",
    "\n",
    "# Remove outside of Brazil\n",
    "nonbrazil_poly.plot(ax=axs[0,0],color='white')\n",
    "nonbrazil_poly.plot(ax=axs[0,1],color='white')\n",
    "nonbrazil_poly.plot(ax=axs[0,2],color='white')\n",
    "\n",
    "\n",
    "# Set up colorbar\n",
    "gs = axs[0, 0].get_gridspec()\n",
    "for ax in axs[-1]:\n",
    "    ax.remove()\n",
    "axbig = fig.add_subplot(gs[-1, :2])\n",
    "axbig.set_title('Reservoir Count')\n",
    "fig.colorbar(im_h2, cax=axbig, orientation='horizontal')\n",
    "axlr = fig.add_subplot(gs[-1, 2])\n",
    "axlr.set_title('Change')\n",
    "fig.colorbar(im_h3, cax=axlr, orientation='horizontal')\n",
    "fig.tight_layout()"
   ]
  }
 ],
 "metadata": {
  "kernelspec": {
   "display_name": "resgis",
   "language": "python",
   "name": "python3"
  },
  "language_info": {
   "codemirror_mode": {
    "name": "ipython",
    "version": 3
   },
   "file_extension": ".py",
   "mimetype": "text/x-python",
   "name": "python",
   "nbconvert_exporter": "python",
   "pygments_lexer": "ipython3",
   "version": "3.10.13"
  }
 },
 "nbformat": 4,
 "nbformat_minor": 5
}
