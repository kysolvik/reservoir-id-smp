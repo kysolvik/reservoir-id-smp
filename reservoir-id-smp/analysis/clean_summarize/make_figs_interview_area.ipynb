{
 "cells": [
  {
   "cell_type": "code",
   "execution_count": null,
   "id": "4d936ee2",
   "metadata": {},
   "outputs": [],
   "source": [
    "import pandas as pd\n",
    "import glob\n",
    "import os\n",
    "import numpy as np\n",
    "import matplotlib.pyplot as plt\n",
    "import seaborn as sns\n",
    "import geopandas as gpd"
   ]
  },
  {
   "cell_type": "code",
   "execution_count": null,
   "id": "306cb611",
   "metadata": {},
   "outputs": [],
   "source": [
    "all_csvs = glob.glob('./out/v3/ls*_aea_merged.csv')\n",
    "all_csvs.sort()"
   ]
  },
  {
   "cell_type": "code",
   "execution_count": null,
   "id": "cd894dce",
   "metadata": {},
   "outputs": [],
   "source": [
    "def read_process_csv_to_gdf(csv):\n",
    "    temp_df = pd.read_csv(csv)\n",
    "    temp_df['satellite'] = os.path.basename(csv)[:3]\n",
    "    temp_df['year'] = int(os.path.basename(csv)[4:8])\n",
    "    temp_df = temp_df.loc[temp_df['hydropoly_max']<100]\n",
    "    temp_df['area_ha'] = temp_df['area']*100/10000 # HA\n",
    "    temp_df['area_km'] = temp_df['area']*100/(1000*1000) # km2\n",
    "    temp_df = temp_df.loc[temp_df['area_ha']<100] # Remove greater than 100 ha\n",
    "    temp_gdf = gpd.GeoDataFrame(\n",
    "        temp_df, geometry=gpd.points_from_xy(temp_df.center_lon, temp_df.center_lat),\n",
    "        crs='ESRI:102033'\n",
    "    )\n",
    "    return temp_gdf"
   ]
  },
  {
   "cell_type": "code",
   "execution_count": null,
   "id": "f63536ac",
   "metadata": {},
   "outputs": [],
   "source": [
    "def sjoin_summarize(points_gdf, poly_gdf, poly_field):\n",
    "    \n",
    "    joined_gdf = gpd.sjoin(points_gdf, poly_gdf, predicate='within', how='inner')\n",
    "    return joined_gdf[['area_ha', poly_field]].groupby(poly_field).agg(['sum', 'count', 'median'])['area_ha']"
   ]
  },
  {
   "cell_type": "code",
   "execution_count": null,
   "id": "c9e4fe2f",
   "metadata": {},
   "outputs": [],
   "source": [
    "muni_gdf = gpd.read_file('../clip/brazil_munis_interviews_aea.shp')\n",
    "muni_gdf['CD_MUN'] = muni_gdf['CD_MUN'].astype(int)"
   ]
  },
  {
   "cell_type": "code",
   "execution_count": null,
   "id": "af49a5cb",
   "metadata": {},
   "outputs": [],
   "source": [
    "for in_csv in all_csvs:\n",
    "    muni_out_csv = './out/v3_interviews_only/{}'.format(os.path.basename(in_csv).replace('merged.csv', 'muni_stats.csv'))\n",
    "    if not os.path.isfile(muni_out_csv):\n",
    "        res_gdf = read_process_csv_to_gdf(in_csv)\n",
    "        muni_results = sjoin_summarize(res_gdf, muni_gdf, 'CD_MUN')\n",
    "        muni_results.to_csv(muni_out_csv)\n",
    "    print(os.path.basename(in_csv), \"Done\")"
   ]
  },
  {
   "cell_type": "markdown",
   "id": "5f211f00",
   "metadata": {},
   "source": [
    "# Make figures"
   ]
  },
  {
   "cell_type": "code",
   "execution_count": null,
   "id": "8c59b604",
   "metadata": {},
   "outputs": [],
   "source": [
    "def read_process_region_csv(csv):\n",
    "    temp_df = pd.read_csv(csv)\n",
    "    temp_df['satellite'] = os.path.basename(csv)[:3]\n",
    "    temp_df['year'] = int(os.path.basename(csv)[4:8])\n",
    "\n",
    "    return temp_df\n",
    "\n",
    "muni_csvs = glob.glob('./out/v3_interviews_only/*.csv')\n",
    "muni_csvs.sort()\n",
    "muni_list = [read_process_region_csv(csv) for csv in muni_csvs]\n",
    "muni_df = pd.concat(muni_list).set_index('CD_MUN')\n",
    "# muni_df = muni_df.sort_index()"
   ]
  },
  {
   "cell_type": "code",
   "execution_count": null,
   "id": "05368f1e",
   "metadata": {},
   "outputs": [],
   "source": [
    "muni_df = muni_df.loc[~((muni_df['satellite']=='ls7') & (muni_df['year']>2019))]\n",
    "# muni_df = muni_df.loc[~((muni_df['satellite']=='ls8') & (muni_df['year']<2025))]\n",
    "muni_df = muni_df.loc[~((muni_df['satellite']=='ls7') & (muni_df['year']==2000))]\n",
    "muni_df = muni_df.loc[~((muni_df['satellite']=='ls5') & (muni_df['year']==2001))]\n",
    "muni_df = muni_df.loc[~((muni_df['satellite']=='ls5') & (muni_df['year']==2002))]"
   ]
  },
  {
   "cell_type": "code",
   "execution_count": null,
   "id": "09da9a09",
   "metadata": {},
   "outputs": [],
   "source": [
    "muni_names_dict = {\n",
    "    5100201: 'Água Boa',\n",
    "    5101803: 'Barra do Garças',\n",
    "    5102702: 'Canarana',\n",
    "    5106257: 'Nova Xavantina',\n",
    "    5107065: 'Querência',\n",
    "}\n",
    "muni_order = ['Barra do Garças', 'Nova Xavantina', 'Canarana', 'Querência']\n",
    "muni_colors = [\"#fd7f6f\", \"#7eb0d5\", \"#b2e061\", \"#bd7ebe\"]\n",
    "muni_styles = ['-','--','-.',':']"
   ]
  },
  {
   "cell_type": "code",
   "execution_count": null,
   "id": "72a8352d",
   "metadata": {},
   "outputs": [],
   "source": [
    "muni_df['AREA_KM2'] = muni_gdf.set_index('CD_MUN')['AREA_KM2']\n",
    "muni_df['density'] = muni_df['count']/muni_df['AREA_KM2']\n",
    "muni_df = muni_df.drop(columns='AREA_KM2').reset_index()"
   ]
  },
  {
   "cell_type": "code",
   "execution_count": null,
   "id": "e6782b9f",
   "metadata": {},
   "outputs": [],
   "source": [
    "muni_count_df = muni_df.drop(\n",
    "    columns=['satellite']\n",
    "    ).groupby(\n",
    "        ['year', 'CD_MUN']\n",
    "        ).mean().unstack(\n",
    "        # ).mean()[['count','sum', 'median', 'density']].unstack(\n",
    "            level=1\n",
    "            ).rename(columns=muni_names_dict, level=1).drop(\n",
    "                columns='Água Boa', level=1\n",
    "            )\n",
    "muni_count_df = muni_count_df.swaplevel(i=0, j=1, axis=1)[muni_order].swaplevel(i=0,j=1,axis=1)[['sum', 'count', 'median', 'density']]"
   ]
  },
  {
   "cell_type": "code",
   "execution_count": null,
   "id": "ed866778",
   "metadata": {},
   "outputs": [],
   "source": [
    "fig, axs = plt.subplots(1,2, figsize=(7.35, 3))\n",
    "muni_count_df['count'].plot.area(ax=axs[0], legend=False, color=muni_colors, lw=0.1)\n",
    "muni_count_df['density'].plot(ax=axs[1], legend=False, color=muni_colors, lw=1.8, style=muni_styles)\n",
    "handles, labels = axs[1].get_legend_handles_labels()\n",
    "axs[0].legend(handles[::-1], labels[::-1])\n",
    "axs[0].set_ylabel('Reservoir Count')\n",
    "axs[1].set_ylabel('Reservoir Density (# per km$^2$)')\n",
    "for ax in axs:\n",
    "    ax.set_xlabel('Year')\n",
    "    ax.set_xlim([1984, 2023])\n",
    "\n",
    "fig.tight_layout()\n",
    "# muni_count_df['sum'].plot()"
   ]
  },
  {
   "cell_type": "code",
   "execution_count": null,
   "id": "8fd5e357",
   "metadata": {},
   "outputs": [],
   "source": [
    "grayscale_colors = plt.cm.gray([0.8, 0.4, 0.6, 0.2])\n",
    "grayscale_styles = [':', '--', '-.','-']"
   ]
  },
  {
   "cell_type": "code",
   "execution_count": null,
   "id": "e8900eb1",
   "metadata": {},
   "outputs": [],
   "source": [
    "# Portuguese\n",
    "fig, axs = plt.subplots(1,2, figsize=(7.35, 3))\n",
    "muni_count_df['count'].drop(index=2014).plot.area(ax=axs[0], legend=False, color=grayscale_colors, lw=0.1)\n",
    "muni_count_df['density'].drop(index=2014).plot(ax=axs[1], legend=False, color=grayscale_colors, lw=1.8, style=grayscale_styles)\n",
    "handles, labels = axs[1].get_legend_handles_labels()\n",
    "axs[0].legend(handles[::-1], labels[::-1])\n",
    "axs[0].set_ylabel('Número das represas')\n",
    "axs[1].set_ylabel('Densidade das represas\\n(número por km$^2$)')\n",
    "for ax in axs:\n",
    "    ax.set_xlabel('Ano')\n",
    "    ax.set_xlim([1984, 2023])\n",
    "\n",
    "fig.tight_layout()\n",
    "# muni_count_df['sum'].plot()"
   ]
  }
 ],
 "metadata": {
  "kernelspec": {
   "display_name": "resgis",
   "language": "python",
   "name": "python3"
  },
  "language_info": {
   "codemirror_mode": {
    "name": "ipython",
    "version": 3
   },
   "file_extension": ".py",
   "mimetype": "text/x-python",
   "name": "python",
   "nbconvert_exporter": "python",
   "pygments_lexer": "ipython3",
   "version": "3.10.13"
  }
 },
 "nbformat": 4,
 "nbformat_minor": 5
}
