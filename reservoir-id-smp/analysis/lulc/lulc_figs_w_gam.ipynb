{
 "cells": [
  {
   "cell_type": "code",
   "execution_count": null,
   "id": "4d936ee2",
   "metadata": {},
   "outputs": [],
   "source": [
    "import pandas as pd\n",
    "import glob\n",
    "import os\n",
    "import numpy as np\n",
    "import matplotlib.pyplot as plt\n",
    "import scipy.stats as st\n",
    "from timeit import default_timer as timer\n",
    "import matplotlib\n",
    "from matplotlib.legend_handler import HandlerLine2D"
   ]
  },
  {
   "cell_type": "code",
   "execution_count": null,
   "id": "7014539a",
   "metadata": {},
   "outputs": [],
   "source": []
  },
  {
   "cell_type": "code",
   "execution_count": null,
   "id": "e1c4da98",
   "metadata": {},
   "outputs": [],
   "source": [
    "mb_keys_dict = {\n",
    "    'crop': np.array([18,19,39,20,40,62,41,36,46,47,35,48]),\n",
    "    'forest': np.array([3]),\n",
    "    'savanna': np.array([4]),\n",
    "    'grassland':np.array([12]),\n",
    "    'pasture': np.array([15])\n",
    "}"
   ]
  },
  {
   "cell_type": "code",
   "execution_count": null,
   "id": "da9b1702",
   "metadata": {},
   "outputs": [],
   "source": [
    "def read_process_lulc_csv(csv):\n",
    "    df = pd.read_csv(csv, index_col=0)\n",
    "    df = df.loc[:, df.columns[-1]]\n",
    "    lulc_y = int(df.name[42:46]) # For all of mato grosso\n",
    "\n",
    "    df = pd.DataFrame(list(df.apply(eval).values), index=df.index)\n",
    "    df.columns = pd.MultiIndex.from_product([[lulc_y], df.columns])\n",
    "    return df\n",
    "\n",
    "def summarize_lulc(year_df):\n",
    "    out_df = pd.DataFrame()\n",
    "    for lulc_class in mb_keys_dict.keys():\n",
    "        sum_of_class = year_df.loc[:, np.in1d(year_df.columns, mb_keys_dict[lulc_class])].sum(axis=1)\n",
    "        out_df[lulc_class] = sum_of_class\n",
    "    return out_df\n",
    "\n",
    "def classify_lulc(lulc_counts_df):\n",
    "\n",
    "    natural_covers = ['forest', 'grassland', 'savanna']\n",
    "    ag_covers = ['crop','pasture']\n",
    "    natural_df = lulc_counts_df[natural_covers]\n",
    "    ag_df = lulc_counts_df[ag_covers]\n",
    "    ag_sum = ag_df.sum(axis=1)\n",
    "    natural_sum = natural_df.sum(axis=1)\n",
    "    is_natural = ((ag_sum < 1000) & (natural_sum> 1000))\n",
    "    natural_cover = natural_df.loc[is_natural].idxmax(axis=1)\n",
    "    is_ag = ((~is_natural) & (ag_sum > 1000))\n",
    "    ag_cover = ag_df.loc[is_ag].idxmax(axis=1)\n",
    "    lulc_counts_df['class'] = 'other'\n",
    "    lulc_counts_df.loc[is_ag, 'class'] = ag_cover\n",
    "    lulc_counts_df.loc[is_natural, 'class'] = natural_cover\n",
    "    return lulc_counts_df['class']\n",
    "\n",
    "def calc_lulc_full(df):\n",
    "    new_df = pd.DataFrame(df.index).set_index('id_in_tile')\n",
    "\n",
    "    for y in df.columns.levels[0]:\n",
    "        year_df = summarize_lulc(df[y])\n",
    "        year_df.index = df.index\n",
    "        classes = classify_lulc(year_df)\n",
    "        new_df.loc[:, y] = classes\n",
    "        \n",
    "    return new_df\n",
    "\n",
    "def process_year_lulc(y):\n",
    "    all_csvs = glob.glob('./out/lulc_res_counts/lulc_stats_res_{}_mb_*_counts.csv'.format(y))\n",
    "    all_csvs.sort()\n",
    "    areas = pd.read_csv(all_csvs[0])['area'].values\n",
    "    full_df = pd.concat([read_process_lulc_csv(csv) for csv in all_csvs], axis=1)\n",
    "    lulc_df = calc_lulc_full(full_df)\n",
    "    lulc_df['area'] = areas\n",
    "    return lulc_df"
   ]
  },
  {
   "cell_type": "code",
   "execution_count": null,
   "id": "4dc17719",
   "metadata": {},
   "outputs": [],
   "source": [
    "year_range = np.arange(1985, 2022)\n",
    "\n",
    "for y in year_range:\n",
    "    lulc_y_csv = './out/res_lulc_processed/res_lulc_{}.csv'.format(y)\n",
    "    if not os.path.isfile(lulc_y_csv):\n",
    "        lulc_y_df = process_year_lulc(y)\n",
    "        lulc_y_df.to_csv('./out/res_lulc_processed/res_lulc_{}.csv'.format(y))\n",
    "    print(y)\n"
   ]
  },
  {
   "cell_type": "markdown",
   "id": "1d213d13",
   "metadata": {},
   "source": [
    "# Helper functions/data for calculating years since/before transitions"
   ]
  },
  {
   "cell_type": "code",
   "execution_count": null,
   "id": "6217b0d2",
   "metadata": {},
   "outputs": [],
   "source": [
    "lulc_transitions_area_df = pd.read_csv('./out/lulc_summaries/lulc_transitions_yearof_only.csv')\n",
    "lulc_transitions_area_df['year'] = lulc_transitions_area_df['year'].astype(int)\n",
    "lulc_transitions_area_df = lulc_transitions_area_df.drop(columns=['Unnamed: 0']).set_index('year')\n",
    "# Convert areas to km2\n",
    "lulc_transitions_area_df = lulc_transitions_area_df * 30 * 30 / 1000000"
   ]
  },
  {
   "cell_type": "code",
   "execution_count": null,
   "id": "7069853f",
   "metadata": {},
   "outputs": [],
   "source": [
    "\n",
    "def get_transition_counts(lulc_df, res_y, \n",
    "                          only_to_next_transition=True, only_permanent_transition=False,\n",
    "                          trans_area_df=None, adjust_for_lulc_area=True):\n",
    "    transition_counts = []\n",
    "    for y in range(1985, 2022):\n",
    "        transition_df = lulc_df.loc[lulc_df[y]!=lulc_df[y+1]]\n",
    "        if only_permanent_transition:\n",
    "            # only count transitions that match current type and remained that way all along\n",
    "            if res_y <= y:\n",
    "                # Transition is in the future\n",
    "                transition_df = transition_df.loc[\n",
    "                    np.all(transition_df.loc[:, res_y:y].eq(transition_df[res_y].values, axis=0), axis=1)\n",
    "                    ]\n",
    "            if res_y > y:\n",
    "                # Transition is in the past\n",
    "                transition_df = transition_df.loc[\n",
    "                    np.all(transition_df.loc[:, y+1:res_y].eq(transition_df[res_y].values, axis=0), axis=1)\n",
    "                ]\n",
    "        elif only_to_next_transition:\n",
    "            # only count transitions that match current type\n",
    "            if res_y <= y:\n",
    "                # Transition is in the future\n",
    "                transition_df = transition_df.loc[transition_df[y]==transition_df[res_y]]\n",
    "            if res_y > y:\n",
    "                # Transition is in the past\n",
    "                transition_df = transition_df.loc[transition_df[y+1]==transition_df[res_y]]\n",
    "        \n",
    "        transition_df['trans_type'] = transition_df[y] + '-' + transition_df[y+1]\n",
    "        trans_summaries = transition_df[['area','trans_type']].groupby('trans_type').aggregate(\n",
    "            ['count', 'sum'])\n",
    "        trans_summaries.name = y\n",
    "        if adjust_for_lulc_area:\n",
    "            # Fill in 0s for no reservoir transitions\n",
    "            missing_transitions = trans_area_df.columns[~trans_area_df.columns.isin(trans_summaries.index)]\n",
    "            for missing in missing_transitions:\n",
    "                trans_summaries.loc[missing] = 0\n",
    "            trans_summaries = trans_summaries.loc[trans_area_df.columns]\n",
    "            trans_summaries.columns = trans_summaries.columns.set_levels([y],level=0)\n",
    "            trans_summaries[(y, 'count')] = trans_summaries[(y,'count')]/trans_area_df.loc[y]\n",
    "            trans_summaries[(y,'sum')] = trans_summaries[(y,'sum')]/trans_area_df.loc[y]\n",
    "            trans_summaries.columns = trans_summaries.columns.reorder_levels([1,0])\n",
    "        transition_counts.append(trans_summaries)\n",
    "    full_year_transitions = pd.concat(transition_counts, axis=1)\n",
    "    return full_year_transitions"
   ]
  },
  {
   "cell_type": "markdown",
   "id": "c5754c55",
   "metadata": {},
   "source": [
    "# First for all 7 types of transitions"
   ]
  },
  {
   "cell_type": "code",
   "execution_count": null,
   "id": "aa8385df",
   "metadata": {},
   "outputs": [],
   "source": [
    "normalized_dfs_sum = []\n",
    "normalized_dfs_count = []\n",
    "for res_y in year_range:\n",
    "    csv = './out/res_lulc_processed/res_lulc_{}.csv'.format(res_y)\n",
    "    lulc_df = pd.read_csv(csv).set_index('id_in_tile')\n",
    "    lulc_df.columns = list(lulc_df.columns[:-1].astype(int)) + [lulc_df.columns[-1]]\n",
    "    transition_df = get_transition_counts(lulc_df, res_y, only_to_next_transition=True, only_permanent_transition=True,\n",
    "                                          trans_area_df=lulc_transitions_area_df, adjust_for_lulc_area=True)\n",
    "    trans_df_count = transition_df['count'].T\n",
    "    trans_df_count.index = (res_y+1) - trans_df_count.index\n",
    "    trans_df_sum = transition_df['sum'].T\n",
    "    trans_df_sum.index = (res_y+1) - trans_df_sum.index\n",
    "    trans_df_sum.name=res_y\n",
    "    trans_df_count.name=res_y\n",
    "    normalized_dfs_sum.append(trans_df_sum)\n",
    "    normalized_dfs_count.append(trans_df_count)"
   ]
  },
  {
   "cell_type": "code",
   "execution_count": null,
   "id": "b926abe5",
   "metadata": {},
   "outputs": [],
   "source": [
    "full_normalized_df = pd.concat(normalized_dfs_count)\n",
    "mean_trajectories = full_normalized_df.groupby(level=0).mean()\n",
    "std_trajectories = full_normalized_df.groupby(level=0).std()\n",
    "count_trajectories = full_normalized_df.groupby(level=0).count()\n",
    "ci_low_df = count_trajectories.copy()\n",
    "ci_high_df = count_trajectories.copy()"
   ]
  },
  {
   "cell_type": "code",
   "execution_count": null,
   "id": "e6f40009",
   "metadata": {},
   "outputs": [],
   "source": [
    "def calc_interval_low(a):\n",
    "    return st.t.interval(0.95, len(a)-1, loc=np.mean(a), scale=st.sem(a))[0]\n",
    "def calc_interval_high(a):\n",
    "    return st.t.interval(0.95, len(a)-1, loc=np.mean(a), scale=st.sem(a))[1]\n",
    "for trans_type in ci_low_df.columns:\n",
    "    ci_low_df[trans_type] = full_normalized_df[trans_type].groupby(level=0).apply(calc_interval_low)\n",
    "    ci_high_df[trans_type] = full_normalized_df[trans_type].groupby(level=0).apply(calc_interval_high)"
   ]
  },
  {
   "cell_type": "code",
   "execution_count": null,
   "id": "41f48b04",
   "metadata": {},
   "outputs": [],
   "source": [
    "\n",
    "rename_dict = {\n",
    "        'forest-pasture': 'Forest-Pasture',\n",
    "        'grassland-pasture':'Grassland-Pasture',\n",
    "        'savanna-pasture':'Savanna-Pasture',\n",
    "        'forest-crop': 'Forest-Crop',\n",
    "        'grassland-crop':'Grassland-Crop',\n",
    "        'savanna-crop':'Savanna-Crop',\n",
    "        'pasture-crop':'Pasture-Crop',\n",
    "    }"
   ]
  },
  {
   "cell_type": "code",
   "execution_count": null,
   "id": "c8d6a0fd",
   "metadata": {},
   "outputs": [],
   "source": [
    "mean_trajectories = mean_trajectories.rename(\n",
    "    columns=rename_dict\n",
    ")\n",
    "std_trajectories = std_trajectories.rename(\n",
    "    columns=rename_dict\n",
    ")\n",
    "ci_low_df = ci_low_df.rename(\n",
    "    columns=rename_dict\n",
    ")\n",
    "ci_high_df = ci_high_df.rename(\n",
    "    columns=rename_dict\n",
    ")"
   ]
  },
  {
   "cell_type": "code",
   "execution_count": null,
   "id": "7a1dbc61",
   "metadata": {},
   "outputs": [],
   "source": [
    "# top_traj = mean_trajectories + std_trajectories\n",
    "# bottom_traj = mean_trajectories - std_trajectories\n",
    "top_traj = ci_high_df\n",
    "bottom_traj = ci_low_df"
   ]
  },
  {
   "cell_type": "code",
   "execution_count": null,
   "id": "eebe6b6d",
   "metadata": {},
   "outputs": [],
   "source": [
    "ax = lulc_transitions_area_df.rename(columns=rename_dict).plot()\n",
    "ax.set_xlabel('Year')\n",
    "ax.set_ylabel('Transition Area ($km^2$)')"
   ]
  },
  {
   "cell_type": "code",
   "execution_count": null,
   "id": "af6f805a",
   "metadata": {},
   "outputs": [],
   "source": [
    "\n",
    "# Together\n",
    "fig, axs = plt.subplots(1,2, figsize=(12,6))\n",
    "mean_traj_toplot = mean_trajectories[['Forest-Pasture','Grassland-Pasture', 'Savanna-Pasture']]\n",
    "mean_traj_toplot.plot(xlim=[-25, 25],ylim=[0,0.35], ax=axs[0])\n",
    "for cover_type in mean_traj_toplot.columns:\n",
    "    axs[0].fill_between(mean_traj_toplot.index,\n",
    "                        bottom_traj[cover_type], top_traj[cover_type], alpha=0.15)\n",
    "mean_traj_toplot = mean_trajectories[['Forest-Crop','Savanna-Crop',  'Grassland-Crop', 'Pasture-Crop']]\n",
    "mean_traj_toplot.plot(xlim=[-25, 25], ylim=[0,0.35], ax=axs[1])\n",
    "for cover_type in mean_traj_toplot.columns:\n",
    "    axs[1].fill_between(mean_traj_toplot.index,\n",
    "                        bottom_traj[cover_type], top_traj[cover_type], alpha=0.15)\n",
    "for i, ax in enumerate(axs):\n",
    "    ax.set_xlabel('Year')\n",
    "    ax.set_ylabel('Reservoir Density (count per $km^2$)')\n",
    "    ax.axvline(0,color='darkred', linestyle='--')\n",
    "fig.tight_layout()\n",
    "plt.show()"
   ]
  },
  {
   "cell_type": "markdown",
   "id": "36217137",
   "metadata": {},
   "source": [
    "# Simplify: Nature, Pasture, Crop"
   ]
  },
  {
   "cell_type": "code",
   "execution_count": null,
   "id": "c706ce88",
   "metadata": {},
   "outputs": [],
   "source": [
    "transition_regroup_dict = {\n",
    "    'Natural-Pasture': ['forest-pasture', 'savanna-pasture','grassland-pasture'],\n",
    "    'Natural-Crop': ['forest-crop', 'savanna-crop','grassland-crop'],\n",
    "    'Pasture-Crop': ['pasture-crop'],\n",
    "}\n",
    "\n",
    "lulc_transitions_area_simple_df = pd.DataFrame({'year':lulc_transitions_area_df.index}).set_index('year')\n",
    "for key, val in transition_regroup_dict.items():\n",
    "    lulc_transitions_area_simple_df.loc[:, key] = lulc_transitions_area_df[val].sum(axis=1)"
   ]
  },
  {
   "cell_type": "code",
   "execution_count": null,
   "id": "e51a0772",
   "metadata": {},
   "outputs": [],
   "source": [
    "# Group trajectories into nature, crop, pasture\n",
    "regroup_dict = {\n",
    "    'pasture': 'Pasture',\n",
    "    'forest': 'Natural',\n",
    "    'savanna': 'Natural',\n",
    "    'grassland': 'Natural',\n",
    "    'crop': 'Crop'\n",
    "}\n",
    "\n",
    "normalized_dfs_simple_sum = []\n",
    "normalized_dfs_simple_count = []\n",
    "for res_y in year_range:\n",
    "    csv = './out/res_lulc_processed/res_lulc_{}.csv'.format(res_y)\n",
    "    lulc_df = pd.read_csv(csv).set_index('id_in_tile').replace(regroup_dict)\n",
    "    lulc_df.columns = list(lulc_df.columns[:-1].astype(int)) + [lulc_df.columns[-1]]\n",
    "    transition_df = get_transition_counts(lulc_df, res_y, only_to_next_transition=True,only_permanent_transition=True,\n",
    "                                          trans_area_df=lulc_transitions_area_simple_df, adjust_for_lulc_area=True)\n",
    "    trans_df_count = transition_df['count'].T\n",
    "    trans_df_count.index = (res_y+1) - trans_df_count.index\n",
    "    trans_df_sum = transition_df['sum'].T\n",
    "    trans_df_sum.index = (res_y+1) - trans_df_sum.index\n",
    "    trans_df_sum.name=res_y\n",
    "    trans_df_count.name=res_y\n",
    "    normalized_dfs_simple_sum.append(trans_df_sum)\n",
    "    normalized_dfs_simple_count.append(trans_df_count)\n"
   ]
  },
  {
   "cell_type": "code",
   "execution_count": null,
   "id": "6648a14e",
   "metadata": {},
   "outputs": [],
   "source": [
    "simple_full_normalized_df = pd.concat(normalized_dfs_simple_count)\n",
    "simple_mean_trajectories = simple_full_normalized_df.groupby(level=0).mean()\n",
    "simple_std_trajectories = simple_full_normalized_df.groupby(level=0).std()\n",
    "simple_count_trajectories = simple_full_normalized_df.groupby(level=0).count()\n",
    "simple_ci_low_df = simple_count_trajectories.copy()\n",
    "simple_ci_high_df = simple_count_trajectories.copy()"
   ]
  },
  {
   "cell_type": "code",
   "execution_count": null,
   "id": "f984a9ef",
   "metadata": {},
   "outputs": [],
   "source": [
    "for trans_type in simple_ci_low_df.columns:\n",
    "    simple_ci_low_df[trans_type] = simple_full_normalized_df[trans_type].groupby(level=0).apply(calc_interval_low)\n",
    "    simple_ci_high_df[trans_type] = simple_full_normalized_df[trans_type].groupby(level=0).apply(calc_interval_high)"
   ]
  },
  {
   "cell_type": "code",
   "execution_count": null,
   "id": "3a5b8355",
   "metadata": {},
   "outputs": [],
   "source": [
    "fig = plt.figure(figsize=(15, 5))\n",
    "ax = simple_mean_trajectories.plot(xlim=[-25, 25],ylim=[0,0.30])\n",
    "for cover_type in simple_mean_trajectories.columns:\n",
    "    ax.fill_between(simple_mean_trajectories.index,\n",
    "                    (simple_ci_low_df)[cover_type],\n",
    "                    (simple_ci_high_df)[cover_type],\n",
    "                    alpha=0.15)\n",
    "# colors=['C0','C1','C2']\n",
    "# for i,cover_type in enumerate(simple_mean_trajectories.columns):\n",
    "#     ax.scatter(simple_full_normalized_df.index, simple_full_normalized_df[cover_type],\n",
    "#                alpha=0.3,color=colors[i], edgecolors='none',s=18)\n",
    "ax.set_xlabel('Year')\n",
    "ax.set_ylabel('Reservoir Density (count per $km^2$)')\n",
    "ax.axvline(0,color='darkred', linestyle='--')\n",
    "fig.show()"
   ]
  },
  {
   "cell_type": "code",
   "execution_count": null,
   "id": "2ffe38bd",
   "metadata": {},
   "outputs": [],
   "source": [
    "ax = lulc_transitions_area_simple_df.plot()\n",
    "ax.set_xlabel('Year')\n",
    "ax.set_ylabel('Transition Area ($km^2$)')"
   ]
  },
  {
   "cell_type": "markdown",
   "id": "18dd65ba",
   "metadata": {},
   "source": [
    "# General LULC fig"
   ]
  },
  {
   "cell_type": "code",
   "execution_count": null,
   "id": "7155fd86",
   "metadata": {},
   "outputs": [],
   "source": [
    "annual_lulc = pd.read_csv('./csvs/lulc_summary_mt.csv').set_index('year')\n",
    "annual_lulc*= (900/1000000)\n",
    "annual_lulc['Total Agricultural'] = annual_lulc['pasture'] +  annual_lulc['crop']\n",
    "annual_lulc.rename(columns={'pasture': 'Pasture', 'crop': 'Crop'}, inplace=True)"
   ]
  },
  {
   "cell_type": "code",
   "execution_count": null,
   "id": "5e18de4f",
   "metadata": {},
   "outputs": [],
   "source": [
    "yearof_res_list = []\n",
    "for res_y in range(1985, 2022):\n",
    "    yearof_res_list.append(pd.read_csv('./out/res_lulc_processed/res_lulc_{}.csv'.format(res_y))[str(res_y)])"
   ]
  },
  {
   "cell_type": "code",
   "execution_count": null,
   "id": "99e0d1cd",
   "metadata": {},
   "outputs": [],
   "source": [
    "yearof_counts_by_lulc = [df.value_counts() for df in yearof_res_list]\n",
    "annual_res_lulc = pd.concat(yearof_counts_by_lulc, axis=1).T"
   ]
  },
  {
   "cell_type": "code",
   "execution_count": null,
   "id": "6d46f828",
   "metadata": {},
   "outputs": [],
   "source": [
    "\n",
    "annual_res_lulc = annual_res_lulc#.drop(columns=['other', 'forest'])\n",
    "annual_res_lulc = annual_res_lulc.rename(columns={'crop': 'Crop','pasture':'Pasture'})\n",
    "annual_res_lulc['Total Agricultural'] = annual_res_lulc['Crop'] + annual_res_lulc['Pasture']\n",
    "annual_res_lulc.columns.name = None\n",
    "annual_res_lulc_density = annual_res_lulc[['Total Agricultural', 'Pasture', 'Crop']]/annual_lulc[['Total Agricultural', 'Pasture', 'Crop']].loc[:2021].values"
   ]
  },
  {
   "cell_type": "code",
   "execution_count": null,
   "id": "00a85035",
   "metadata": {},
   "outputs": [],
   "source": [
    "\n",
    "# Together\n",
    "fig, axs = plt.subplots(1,3, figsize=(15,5))\n",
    "annual_res_lulc[['Total Agricultural', 'Pasture', 'Crop']].plot(ax=axs[1])\n",
    "annual_lulc[['Total Agricultural', 'Pasture', 'Crop']].plot(ax=axs[0])\n",
    "annual_res_lulc_density[['Total Agricultural', 'Pasture', 'Crop']].plot(ax=axs[2])\n",
    "axs[0].set_xlabel('Year')\n",
    "axs[1].set_xlabel('Year')\n",
    "axs[2].set_xlabel('Year')\n",
    "axs[0].set_ylabel('Area ($km^2$)')\n",
    "axs[1].set_ylabel('Reservoir Count')\n",
    "axs[2].set_ylabel('Reservoir Density (count per $km^2$)')\n",
    "axs[0].set_title('Total Agricultural Area')\n",
    "axs[1].set_title('Reservoir Count by LULC Class')\n",
    "axs[2].set_title('Reservoir Density by LULC Class')\n",
    "fig.tight_layout()\n",
    "plt.show()"
   ]
  },
  {
   "cell_type": "markdown",
   "id": "1191b264",
   "metadata": {},
   "source": [
    "# Single year plot"
   ]
  },
  {
   "cell_type": "code",
   "execution_count": null,
   "id": "e0f7b534",
   "metadata": {},
   "outputs": [],
   "source": [
    "# First some quick calcs used for the methods discussion\n",
    "# y=2000\n",
    "# print(lulc_transitions_area_simple_df.loc[y])\n",
    "# print(simple_full_normalized_df_wyears.loc[\n",
    "#     simple_full_normalized_df_wyears['trans_year']==y].drop(\n",
    "#         columns=['trans_year'])['Natural-Pasture']*lulc_transitions_area_simple_df.loc[y, 'Natural-Pasture'])\n",
    "# print(simple_full_normalized_df_wyears.loc[\n",
    "#     simple_full_normalized_df_wyears['trans_year']==y].drop(\n",
    "#         columns=['trans_year'])['Natural-Pasture'])"
   ]
  },
  {
   "cell_type": "code",
   "execution_count": null,
   "id": "f2152f26",
   "metadata": {},
   "outputs": [],
   "source": [
    "target_years = np.arange(1990, 2021, 5)\n",
    "print(target_years)"
   ]
  },
  {
   "cell_type": "code",
   "execution_count": null,
   "id": "acac43e5",
   "metadata": {},
   "outputs": [],
   "source": [
    "simple_full_normalized_df_wyears = simple_full_normalized_df.copy()\n",
    "simple_full_normalized_df_wyears['res_year'] = np.repeat(year_range, year_range.shape[0])\n",
    "simple_full_normalized_df_wyears['trans_year'] = (simple_full_normalized_df_wyears['res_year']-simple_full_normalized_df_wyears.index)+1"
   ]
  },
  {
   "cell_type": "code",
   "execution_count": null,
   "id": "b7f28b26",
   "metadata": {},
   "outputs": [],
   "source": [
    "\n",
    "def update_prop(handle, orig):\n",
    "    handle.update_from(orig)\n",
    "    x,y = handle.get_data()\n",
    "    handle.set_data([np.mean(x)]*2, [0, 2*y[0]])"
   ]
  },
  {
   "cell_type": "code",
   "execution_count": null,
   "id": "af00def4",
   "metadata": {},
   "outputs": [],
   "source": [
    "fig, axs = plt.subplots(4, 2, figsize=(15, 15))\n",
    "for i, ax in enumerate(axs.flatten()):\n",
    "    if i < (len(target_years)):\n",
    "        y = target_years[i]\n",
    "        simple_full_normalized_df_wyears.loc[\n",
    "            simple_full_normalized_df_wyears['trans_year']==y].drop(\n",
    "                columns=['trans_year']).plot(ax=ax, x='res_year', legend=False)\n",
    "        ax.axvline(y,color='darkred', linestyle='--')\n",
    "        ax.set_xlabel('Year')\n",
    "        ax.set_ylabel('Reservoir Density (count per $km^2$)')\n",
    "        ax.set_title(y) \n",
    "        prev_ax = ax\n",
    "    # Add legend\n",
    "    else:\n",
    "        ax.set_axis_off()\n",
    "        handles, labels = prev_ax.get_legend_handles_labels()\n",
    "        vert_line = matplotlib.lines.Line2D(\n",
    "            [0, 1],[1,1], color='darkred',lw=1.2, linestyle='--')\n",
    "        handles.append(vert_line)\n",
    "            \n",
    "        # handles.append(matplotlib.lines.Line2D(\n",
    "        #     [0, 1],[0.5,0.5], color='darkred',lw=1, linestyle='None', marker='|', markersize=10, markeredgewidth=1.2)\n",
    "        #     )\n",
    "\n",
    "        labels.append('Transition Year')\n",
    "\n",
    "        ax.legend(handles, labels,loc=10,\n",
    "                   fontsize=16, markerscale=2,\n",
    "                   handler_map={vert_line:HandlerLine2D(update_func=update_prop)}) \n",
    "\n",
    "fig.tight_layout()"
   ]
  },
  {
   "cell_type": "markdown",
   "id": "4c7576b5",
   "metadata": {},
   "source": [
    "# Generalized Additive Model"
   ]
  },
  {
   "cell_type": "code",
   "execution_count": null,
   "id": "82797c50",
   "metadata": {},
   "outputs": [],
   "source": [
    "import pygam"
   ]
  },
  {
   "cell_type": "code",
   "execution_count": null,
   "id": "d21f6d39",
   "metadata": {},
   "outputs": [],
   "source": [
    "gam_df = pd.DataFrame(columns=['years','trans_type','density'])"
   ]
  },
  {
   "cell_type": "code",
   "execution_count": null,
   "id": "b5507748",
   "metadata": {},
   "outputs": [],
   "source": [
    "gam_df['density'] = simple_full_normalized_df.values.flatten()"
   ]
  },
  {
   "cell_type": "code",
   "execution_count": null,
   "id": "164add22",
   "metadata": {},
   "outputs": [],
   "source": [
    "gam_df['trans_type'] = np.tile(simple_full_normalized_df.columns.values, simple_full_normalized_df.shape[0])\n",
    "gam_df['res_year'] = np.repeat(year_range, year_range.shape[0]*simple_full_normalized_df.shape[1])\n",
    "gam_df['years'] = np.repeat(simple_full_normalized_df.index.values, simple_full_normalized_df.shape[1])\n",
    "gam_df['trans_year'] = (gam_df['res_year']-gam_df['years'])+1"
   ]
  },
  {
   "cell_type": "code",
   "execution_count": null,
   "id": "982773c7",
   "metadata": {},
   "outputs": [],
   "source": [
    "cover_type_dict = {\n",
    "    'Natural-Pasture':0,\n",
    "    'Natural-Crop':1,\n",
    "    'Pasture-Crop':2\n",
    "}"
   ]
  },
  {
   "cell_type": "code",
   "execution_count": null,
   "id": "7cb2dab5",
   "metadata": {},
   "outputs": [],
   "source": [
    "gam_df['trans_type_int'] = gam_df['trans_type'].replace(cover_type_dict)"
   ]
  },
  {
   "cell_type": "code",
   "execution_count": null,
   "id": "9a5d91b5",
   "metadata": {},
   "outputs": [],
   "source": [
    "y = gam_df['density'].values\n",
    "x = gam_df[['years','trans_year','trans_type_int']].values"
   ]
  },
  {
   "cell_type": "code",
   "execution_count": null,
   "id": "d23f76ae",
   "metadata": {},
   "outputs": [],
   "source": [
    "lams = np.random.rand(100,3)\n",
    "lams = np.exp(lams)\n",
    "gam = pygam.LinearGAM(pygam.s(0) + pygam.s(1) + pygam.f(2)).gridsearch(x, y,lam=lams)\n",
    "gam.summary()"
   ]
  },
  {
   "cell_type": "code",
   "execution_count": null,
   "id": "ef101ecd",
   "metadata": {},
   "outputs": [],
   "source": [
    "for i, term in enumerate(gam.terms):\n",
    "    if term.isintercept:\n",
    "        continue\n",
    "\n",
    "    XX = gam.generate_X_grid(term=i)\n",
    "    pdep, confi = gam.partial_dependence(term=i, X=XX, width=0.95)\n",
    "\n",
    "    plt.figure()\n",
    "    plt.plot(XX[:, term.feature], pdep)\n",
    "    plt.plot(XX[:, term.feature], confi, c='r', ls='--')\n",
    "    plt.title(repr(term))\n",
    "    plt.show()\n"
   ]
  },
  {
   "cell_type": "code",
   "execution_count": null,
   "id": "4cdba22e",
   "metadata": {},
   "outputs": [],
   "source": [
    "# 3D Plot\n",
    "\n",
    "# import matplotlib.pyplot as plt\n",
    "# from mpl_toolkits import mplot3d\n",
    "# plt.ion()\n",
    "# plt.rcParams['figure.figsize'] = (12, 8)\n",
    "\n",
    "# XX = gam.generate_X_grid(term=3, meshgrid=True)\n",
    "# Z = gam.partial_dependence(term=3, X=XX, meshgrid=True)\n",
    "\n",
    "# ax = plt.axes(projection='3d')\n",
    "# ax.plot_surface(XX[0], XX[1], Z, cmap='viridis')\n",
    "\n"
   ]
  },
  {
   "cell_type": "markdown",
   "id": "6451b652",
   "metadata": {},
   "source": [
    "### GAM: Fit separate models"
   ]
  },
  {
   "cell_type": "code",
   "execution_count": null,
   "id": "f5938a04",
   "metadata": {},
   "outputs": [],
   "source": [
    "for cover_type in ['Natural-Pasture','Natural-Crop','Pasture-Crop']:\n",
    "    temp_df = gam_df.loc[gam_df.trans_type==cover_type]\n",
    "    y = temp_df['density'].values\n",
    "    x = temp_df[['years', 'trans_year']].values\n",
    "    # x = np.array([temp_df['years'].values]).T\n",
    "\n",
    "    # lams = np.random.rand(100,1)\n",
    "    # lams = np.exp(lams)\n",
    "    # single_gam = pygam.LinearGAM(pygam.s(0)).gridsearch(x, y,lam=lams, progress=False)\n",
    "    lams = np.random.rand(100,2)\n",
    "    lams = np.exp(lams)\n",
    "    single_gam = pygam.LinearGAM(pygam.s(0) + pygam.s(1)).gridsearch(x, y,lam=lams, progress=False)\n",
    "    print('~'*30)\n",
    "    print('~'*30)\n",
    "    print('GAM results for: ', cover_type)\n",
    "    print('~'*30)\n",
    "    print('~'*20)\n",
    "    single_gam.summary()\n",
    "    for i, term in enumerate(single_gam.terms):\n",
    "        if term.isintercept:\n",
    "            continue\n",
    "\n",
    "        XX = single_gam.generate_X_grid(term=i)\n",
    "        pdep, confi = single_gam.partial_dependence(term=i, X=XX, width=0.95)\n",
    "\n",
    "        plt.figure()\n",
    "        plt.plot(XX[:, term.feature], pdep)\n",
    "        plt.plot(XX[:, term.feature], confi, c='r', ls='--')\n",
    "        plt.title(repr(term))\n",
    "        plt.show()\n"
   ]
  },
  {
   "cell_type": "markdown",
   "id": "7e3c7c6d",
   "metadata": {},
   "source": [
    "# Simplest figure: Number and area of reservoirs over time in MT"
   ]
  },
  {
   "cell_type": "code",
   "execution_count": null,
   "id": "4f3e492b",
   "metadata": {},
   "outputs": [],
   "source": [
    "def read_process_basicstats(res_y):\n",
    "    csv = './out/res_lulc_processed/res_lulc_{}.csv'.format(res_y)\n",
    "    lulc_df = pd.read_csv(csv).set_index('id_in_tile')\n",
    "    lulc_df['area_ha'] = lulc_df['area']*100/10000\n",
    "    lulc_df = lulc_df.loc[lulc_df['area_ha']<100]\n",
    "    out_dict = {\n",
    "        'year': res_y,\n",
    "        'count': lulc_df.shape[0],\n",
    "        'area': lulc_df['area'].sum()\n",
    "    } \n",
    "    return out_dict\n",
    "\n",
    "all_dicts = [read_process_basicstats(res_y) for res_y in year_range]"
   ]
  },
  {
   "cell_type": "code",
   "execution_count": null,
   "id": "91fe33a6",
   "metadata": {},
   "outputs": [],
   "source": [
    "basic_stats_df = pd.DataFrame(all_dicts).set_index('year')\n",
    "basic_stats_df['area_ha'] = basic_stats_df['area']*100/10000 # HA\n",
    "basic_stats_df['area_km'] = basic_stats_df['area']*100/(1000*1000) # km2\n",
    "basic_stats_df['count_k'] = basic_stats_df['count']/1000"
   ]
  },
  {
   "cell_type": "code",
   "execution_count": null,
   "id": "4ecce175",
   "metadata": {},
   "outputs": [],
   "source": [
    "color_dict = {'ls5': '#66c2a5',\n",
    "              'ls7': '#fc8d62',\n",
    "              'ls8': '#8da0cb'}"
   ]
  },
  {
   "cell_type": "code",
   "execution_count": null,
   "id": "d3523c7d",
   "metadata": {},
   "outputs": [],
   "source": [
    "# Calculate which landsats for which years\n",
    "ls_year_dict = {\n",
    "    'ls5':np.concatenate([np.arange(1985, 2001), np.arange(2003, 2012)]),\n",
    "    'ls7': np.array([2001, 2002, 2012, 2013]),\n",
    "    'ls8': np.arange(2014, 2022)\n",
    "}\n",
    "\n",
    "ls_list = []\n",
    "for res_y in year_range:\n",
    "    for key, value in ls_year_dict.items():\n",
    "        if res_y in value:\n",
    "            ls_list.append(key)\n",
    "\n",
    "basic_stats_df['satellite'] = ls_list\n",
    "year_satellite = basic_stats_df.reset_index().set_index('year')[['satellite']]"
   ]
  },
  {
   "cell_type": "code",
   "execution_count": null,
   "id": "c7ac75c4",
   "metadata": {},
   "outputs": [],
   "source": [
    "\n",
    "def get_ls_color(y):\n",
    "    return color_dict[year_satellite.loc[y].values[0]]\n",
    "\n",
    "def color_by_ls(df, column, ax):\n",
    "    year_values = np.stack([basic_stats_df.index.get_level_values('year'),\n",
    "                        basic_stats_df[column]],\n",
    "                       axis=1)\n",
    "    for start, stop in zip(year_values[:-1],year_values[1:]):\n",
    "        x, y = zip(start, stop)\n",
    "        ls_shortname = year_satellite.loc[x[0]].values[0]\n",
    "        ls_name = 'Landsat {}'.format(ls_shortname[-1])\n",
    "        if ls_name not in ax.get_legend_handles_labels()[1]:\n",
    "            ax.plot(x, y, color=get_ls_color(x[0]), lw=2.5, label=ls_name,\n",
    "                   solid_capstyle='round')\n",
    "        else:\n",
    "            ax.plot(x, y, color=get_ls_color(x[0]), lw=2.5,\n",
    "                   solid_capstyle='round')"
   ]
  },
  {
   "cell_type": "code",
   "execution_count": null,
   "id": "0a1a86dc",
   "metadata": {},
   "outputs": [],
   "source": [
    "fig, axs = plt.subplots(1,2, figsize=(12,5))\n",
    "color_by_ls(basic_stats_df, 'count_k', axs[0])\n",
    "color_by_ls(basic_stats_df, 'area_km', axs[1])\n",
    "axs[0].set_ylabel('Total Reservoir Count (thousands)')\n",
    "axs[0].set_xlabel('Year')\n",
    "axs[1].set_ylabel('Total Reservoir Surface Area ($km^2$)')\n",
    "axs[1].set_xlabel('Year')\n",
    "axs[0].legend()\n",
    "fig.tight_layout()"
   ]
  },
  {
   "cell_type": "code",
   "execution_count": null,
   "id": "a4f41966",
   "metadata": {},
   "outputs": [],
   "source": []
  }
 ],
 "metadata": {
  "kernelspec": {
   "display_name": "Python 3 (ipykernel)",
   "language": "python",
   "name": "python3"
  },
  "language_info": {
   "codemirror_mode": {
    "name": "ipython",
    "version": 3
   },
   "file_extension": ".py",
   "mimetype": "text/x-python",
   "name": "python",
   "nbconvert_exporter": "python",
   "pygments_lexer": "ipython3",
   "version": "3.9.2"
  }
 },
 "nbformat": 4,
 "nbformat_minor": 5
}
