{
 "cells": [
  {
   "cell_type": "code",
   "execution_count": 1,
   "id": "6be1cd93",
   "metadata": {},
   "outputs": [],
   "source": [
    "import geopandas as gpd\n",
    "import glob\n",
    "import pandas as pd\n",
    "import os\n",
    "import matplotlib.pyplot as plt\n",
    "import matplotlib as mpl"
   ]
  },
  {
   "cell_type": "markdown",
   "id": "f7ec3cab",
   "metadata": {},
   "source": [
    "# Read in Data"
   ]
  },
  {
   "cell_type": "code",
   "execution_count": 2,
   "id": "3d1a7ed5",
   "metadata": {},
   "outputs": [],
   "source": [
    "def read_process_csv_to_gdf(csv):\n",
    "    temp_df = pd.read_csv(csv)\n",
    "    temp_df['satellite'] = os.path.basename(csv)[:3]\n",
    "    temp_df['year'] = int(os.path.basename(csv)[4:8])\n",
    "    temp_df = temp_df.loc[temp_df['hydropoly_max']<100]\n",
    "    temp_df['area_ha'] = temp_df['area']*100/10000 # HA\n",
    "    temp_df['area_km'] = temp_df['area']*100/(1000*1000) # km2\n",
    "    temp_df = temp_df.loc[temp_df['area_ha']<100] # Remove greater than 100 ha\n",
    "    temp_gdf = gpd.GeoDataFrame(\n",
    "        temp_df, geometry=gpd.points_from_xy(temp_df.center_lon, temp_df.center_lat),\n",
    "        crs='ESRI:102033'\n",
    "    )\n",
    "    return temp_gdf\n",
    "\n",
    "def read_process_region_csv(csv):\n",
    "    temp_df = pd.read_csv(csv)\n",
    "    temp_df['satellite'] = os.path.basename(csv)[:3]\n",
    "    temp_df['year'] = int(os.path.basename(csv)[4:8])\n",
    "\n",
    "    return temp_df"
   ]
  },
  {
   "cell_type": "code",
   "execution_count": 3,
   "id": "36929e67",
   "metadata": {},
   "outputs": [],
   "source": [
    "all_csvs = glob.glob('../clean_summarize/out/v3_cloudfilt/ls*v3_merged.csv')\n",
    "all_csvs.sort()"
   ]
  },
  {
   "cell_type": "code",
   "execution_count": 4,
   "id": "5557ccba",
   "metadata": {},
   "outputs": [],
   "source": [
    "def sjoin_summarize(points_gdf, poly_gdf, poly_field):\n",
    "    \n",
    "    joined_gdf = gpd.sjoin(points_gdf, poly_gdf, predicate='within', how='inner')\n",
    "    return joined_gdf[['area_ha', poly_field]].groupby(poly_field).agg(['sum', 'count', 'median'])['area_ha']\n",
    "    "
   ]
  },
  {
   "cell_type": "markdown",
   "id": "843b26eb",
   "metadata": {},
   "source": [
    "# River Basin/Hydrographic Region"
   ]
  },
  {
   "cell_type": "code",
   "execution_count": 5,
   "id": "55a58680",
   "metadata": {},
   "outputs": [],
   "source": [
    "basin_gdf = gpd.read_file('./data/macro_RH.shp').to_crs('ESRI:102033')"
   ]
  },
  {
   "cell_type": "markdown",
   "id": "e9930838",
   "metadata": {},
   "source": [
    "# Biome"
   ]
  },
  {
   "cell_type": "code",
   "execution_count": 6,
   "id": "85fa9f63",
   "metadata": {},
   "outputs": [],
   "source": [
    "\n",
    "biome_gdf = gpd.read_file('./data/lm_bioma_250.shp').to_crs('ESRI:102033')"
   ]
  },
  {
   "cell_type": "markdown",
   "id": "96ed79b1",
   "metadata": {},
   "source": [
    "# State"
   ]
  },
  {
   "cell_type": "code",
   "execution_count": 7,
   "id": "c54c5b33",
   "metadata": {},
   "outputs": [],
   "source": [
    "state_gdf = gpd.read_file('./data/Brazilian_States.shp').to_crs('ESRI:102033')"
   ]
  },
  {
   "cell_type": "markdown",
   "id": "8d430c84",
   "metadata": {},
   "source": [
    "# Run them all by year"
   ]
  },
  {
   "cell_type": "code",
   "execution_count": null,
   "id": "a771fb84",
   "metadata": {},
   "outputs": [],
   "source": [
    "for in_csv in all_csvs:\n",
    "    basin_out_csv = './out/{}'.format(os.path.basename(in_csv).replace('merged.csv', 'basin_stats.csv'))\n",
    "    state_out_csv = './out/{}'.format(os.path.basename(in_csv).replace('merged.csv', 'state_stats.csv'))\n",
    "    biome_out_csv = './out/{}'.format(os.path.basename(in_csv).replace('merged.csv', 'biome_stats.csv'))\n",
    "\n",
    "    if (not os.path.isfile(basin_out_csv)) or (not os.path.isfile(state_out_csv) or (not os.path.isfile(biome_out_csv))):\n",
    "        res_gdf = read_process_csv_to_gdf(in_csv)\n",
    "    if (not os.path.isfile(basin_out_csv)):\n",
    "        basin_results = sjoin_summarize(res_gdf, basin_gdf, 'nm_macroRH')\n",
    "        basin_results.to_csv(basin_out_csv)\n",
    "    if (not os.path.isfile(state_out_csv)):\n",
    "        state_results = sjoin_summarize(res_gdf, state_gdf, 'UF_05')\n",
    "        state_results.to_csv(state_out_csv)\n",
    "    if (not os.path.isfile(biome_out_csv)):\n",
    "        biome_results = sjoin_summarize(res_gdf, biome_gdf, 'Bioma')\n",
    "        biome_results.to_csv(biome_out_csv)\n",
    "    print(os.path.basename(in_csv), \"Done\")"
   ]
  },
  {
   "cell_type": "markdown",
   "id": "0a9b4610",
   "metadata": {},
   "source": [
    " # Make some figures"
   ]
  },
  {
   "cell_type": "markdown",
   "id": "6834db54",
   "metadata": {},
   "source": [
    "### Basin"
   ]
  },
  {
   "cell_type": "code",
   "execution_count": 9,
   "id": "f593d050",
   "metadata": {},
   "outputs": [],
   "source": [
    "basin_shortname_dict = {\n",
    "    'AMAZÔNICA':'AMZ',\n",
    "    'ATLÂNTICO LESTE': 'ALT',\n",
    "    'ATLÂNTICO NORDESTE OCIDENTAL': 'AOC',\n",
    "    'ATLÂNTICO NORDESTE ORIENTAL': 'AOR',\n",
    "    'ATLÂNTICO SUDESTE': 'ASD',\n",
    "    'ATLÂNTICO SUL':'ASU',\n",
    "    'PARAGUAI':'PRG',\n",
    "    'PARANÁ':'PRN',\n",
    "    'PARNAÍBA':'PNB',\n",
    "    'SÃO FRANCISCO':'SFO',\n",
    "    'TOCANTINS-ARAGUAIA':'TOC',\n",
    "    'URUGUAI':'URU'\n",
    "}"
   ]
  },
  {
   "cell_type": "code",
   "execution_count": null,
   "id": "e38cdefb",
   "metadata": {},
   "outputs": [],
   "source": [
    "# Read and process\n",
    "basin_csvs = glob.glob('./out/ls*cloudfilt*basin*.csv')\n",
    "basin_csvs.sort()\n",
    "basin_list = [read_process_region_csv(csv) for csv in basin_csvs]\n",
    "basin_df = pd.concat(basin_list).set_index('year')\n",
    "# Some filtering\n",
    "basin_df = basin_df.loc[~((basin_df.index>2019)&(basin_df.satellite=='ls7'))]\n",
    "basin_df = basin_df.groupby(['year', 'nm_macroRH']).mean().reset_index().set_index('year')\n",
    "# basin_df = basin_df.loc[~((basin_df.index>=2001)&(basin_df.satellite=='ls5'))]\n",
    "# basin_df = basin_df.loc[~((basin_df.index<2001)&(basin_df.satellite=='ls7'))]\n",
    "# basin_df = basin_df.sort_index()\n",
    "basin_df['hydro_region'] = basin_df['nm_macroRH'].map(basin_shortname_dict)\n",
    "basin_df_columns = basin_df.reset_index().set_index(['year','hydro_region']).unstack(level=1).drop(\n",
    "    columns=['nm_macroRH'])"
   ]
  },
  {
   "cell_type": "code",
   "execution_count": 11,
   "id": "9e05c0bf",
   "metadata": {},
   "outputs": [],
   "source": [
    "# Sort\n",
    "basin_columns_sorted = basin_df_columns.loc[1984, 'count'].sort_values().index\n",
    "basin_df_columns = basin_df_columns.reindex(basin_columns_sorted, axis=1, level=1)"
   ]
  },
  {
   "cell_type": "code",
   "execution_count": null,
   "id": "6b04eeb7",
   "metadata": {},
   "outputs": [],
   "source": [
    "fig, axs = plt.subplots(1,2, figsize=(16,6))\n",
    "basin_df_columns['count'].plot(ax=axs[0], kind='area', legend=False, colormap='tab20')\n",
    "basin_df_columns['sum'].plot(ax=axs[1], kind='area', legend=False, colormap='tab20')\n",
    "handles, labels = axs[0].get_legend_handles_labels()\n",
    "axs[1].legend(handles[::-1], labels[::-1], loc='center left',bbox_to_anchor=(1, 0.5),\n",
    "              ncol=1, title='Hydrographic Region')\n",
    "\n",
    "axs[0].set_ylabel('Count')\n",
    "axs[1].set_ylabel('Area (ha)')\n",
    "axs[0].set_title('Reservoir Count')\n",
    "axs[1].set_title('Reservoir Area')\n",
    "fig.tight_layout()"
   ]
  },
  {
   "cell_type": "markdown",
   "id": "dbc47ba1",
   "metadata": {},
   "source": [
    "## Biome"
   ]
  },
  {
   "cell_type": "code",
   "execution_count": null,
   "id": "e5051b74",
   "metadata": {},
   "outputs": [],
   "source": [
    "# Read and process\n",
    "biome_csvs = glob.glob('./out/ls*cloudfilt*biome*.csv')\n",
    "biome_csvs.sort()\n",
    "biome_list = [read_process_region_csv(csv) for csv in biome_csvs]\n",
    "biome_df = pd.concat(biome_list).set_index('year')\n",
    "# Some filtering\n",
    "# biome_df = biome_df.loc[~((biome_df.index==2002)&(biome_df.satellite=='ls5'))]\n",
    "# biome_df = biome_df.loc[~((biome_df.index<2001)&(biome_df.satellite=='ls7'))]\n",
    "biome_df = biome_df.loc[~((biome_df.index>2019)&(biome_df.satellite=='ls7'))]\n",
    "biome_df = biome_df.groupby(['year', 'Bioma']).mean().reset_index().set_index('year')\n",
    "# biome_df = biome_df.loc[:2019]\n",
    "biome_df = biome_df.sort_index()\n",
    "biome_df['biome'] = biome_df['Bioma']# .map(biome_shortname_dict)\n",
    "biome_df_columns = biome_df.reset_index().set_index(['year','biome']).unstack(level=1).drop(\n",
    "    columns=['Bioma'])\n",
    "biome_columns_sorted = ['Pampa','Pantanal', 'Amazônia', 'Cerrado',  'Mata Atlântica', 'Caatinga']\n",
    "biome_df_columns.loc[1984, 'count'].sort_values().index\n",
    "biome_df_columns = biome_df_columns.reindex(biome_columns_sorted, axis=1, level=1)\n",
    "biome_df_columns['count'] = biome_df_columns['count']/1000\n",
    "biome_df_columns['sum'] = biome_df_columns['sum']/100"
   ]
  },
  {
   "cell_type": "code",
   "execution_count": null,
   "id": "fd36e6d0",
   "metadata": {},
   "outputs": [],
   "source": [
    "\n",
    "fig, axs = plt.subplots(1,2, figsize=(16,6))\n",
    "color_list = [\"#bdcc99\",\"#ab9c97\",\"#b3c4b9\",\"#e0bc86\",\"#898b9e\",\"#adc0cc\"]\n",
    "biome_cmap = mpl.colors.ListedColormap(color_list)\n",
    "biome_df_columns['count'].plot(ax=axs[0], kind='line', legend=False, colormap=biome_cmap, lw=1.75)\n",
    "biome_df_columns['sum'].plot(ax=axs[1], kind='line', legend=False,colormap=biome_cmap, lw=1.75)\n",
    "handles, labels = axs[0].get_legend_handles_labels()\n",
    "# axs[1].legend(handles[::-1], labels[::-1], loc='center left',bbox_to_anchor=(1, 0.5),\n",
    "#               ncol=1, title='Biome')\n",
    "\n",
    "# Add labels next to biome\n",
    "count_sum = 0\n",
    "area_sum = 0\n",
    "for i, biome in enumerate(biome_columns_sorted):\n",
    "    cur_count = biome_df_columns[('count', biome)].loc[2023]\n",
    "    axs[0].text(2023.5, cur_count, biome.replace(' ', '\\n'), color=color_list[i], fontweight='bold', size=12, va='center')\n",
    "    count_sum += cur_count\n",
    "    cur_area = biome_df_columns[('sum', biome)].loc[2023]\n",
    "    axs[1].text(2023.5, cur_area, biome.replace(' ', '\\n'), color=color_list[i], fontweight='bold', size=12, va='center')\n",
    "    area_sum += cur_area\n",
    "\n",
    "for ax in axs:\n",
    "    ax.set_xlim(1984,2023)\n",
    "    ax.set_xlabel('Year', size=12)\n",
    "\n",
    "axs[0].set_ylabel('Count (thousands)', size=12)\n",
    "axs[1].set_ylabel('Area (km$^2$)', size=12)\n",
    "for i, label in enumerate(['$(a)$', '$(b)$']):\n",
    "    axs[i].annotate(\n",
    "            label,\n",
    "            xy=(0, 1), xycoords='axes fraction',\n",
    "            xytext=(0.3, -1.5), textcoords='offset fontsize',\n",
    "            fontsize=12, verticalalignment='bottom', fontfamily='serif')\n",
    "# axs[0].set_title('Reservoir Count')\n",
    "# axs[1].set_title('Reservoir Area')\n",
    "fig.tight_layout()"
   ]
  },
  {
   "cell_type": "code",
   "execution_count": null,
   "id": "de6a7f57",
   "metadata": {},
   "outputs": [],
   "source": [
    "fig, axs = plt.subplots(1,2, figsize=(16,6))\n",
    "color_list = [\"#bdcc99\",\"#ab9c97\",\"#b3c4b9\",\"#e0bc86\",\"#898b9e\",\"#adc0cc\"]\n",
    "biome_cmap = mpl.colors.ListedColormap(color_list)\n",
    "biome_df_columns['count'].plot(ax=axs[0], kind='area', legend=False, colormap=biome_cmap)\n",
    "biome_df_columns['sum'].plot(ax=axs[1], kind='area', legend=False,colormap=biome_cmap)\n",
    "handles, labels = axs[0].get_legend_handles_labels()\n",
    "\n",
    "# Add labels next to biome\n",
    "count_sum = 0\n",
    "area_sum = 0\n",
    "for i, biome in enumerate(biome_columns_sorted):\n",
    "    cur_count = biome_df_columns[('count', biome)].loc[2023]\n",
    "    axs[0].text(2023.5, count_sum + cur_count/2, biome.replace(' ', '\\n'), color=color_list[i], fontweight='bold', size=12, va='center')\n",
    "    count_sum += cur_count\n",
    "    cur_area = biome_df_columns[('sum', biome)].loc[2023]\n",
    "    axs[1].text(2023.5, area_sum + cur_area/2, biome.replace(' ', '\\n'), color=color_list[i], fontweight='bold', size=12, va='center')\n",
    "    area_sum += cur_area\n",
    "\n",
    "for ax in axs:\n",
    "    ax.set_xlim(1984,2023)\n",
    "    ax.set_xlabel('Year', size=12)\n",
    "\n",
    "axs[0].set_ylabel('Count (thousands)', size=12)\n",
    "axs[1].set_ylabel('Area (km$^2$)', size=12)\n",
    "for i, label in enumerate(['$(a)$', '$(b)$']):\n",
    "    axs[i].annotate(\n",
    "            label,\n",
    "            xy=(0, 1), xycoords='axes fraction',\n",
    "            xytext=(0.3, -1.5), textcoords='offset fontsize',\n",
    "            fontsize=12, verticalalignment='bottom', fontfamily='serif')\n",
    "# axs[0].set_title('Reservoir Count')\n",
    "# axs[1].set_title('Reservoir Area')\n",
    "fig.tight_layout()"
   ]
  },
  {
   "cell_type": "markdown",
   "id": "e74dd8b3",
   "metadata": {},
   "source": [
    "## State"
   ]
  },
  {
   "cell_type": "code",
   "execution_count": null,
   "id": "8f9460ec",
   "metadata": {},
   "outputs": [],
   "source": [
    "state_csvs = glob.glob('./out/ls*cloudfilt*state*.csv')\n",
    "state_csvs.sort()\n",
    "state_list = [read_process_region_csv(csv) for csv in state_csvs]\n",
    "state_df = pd.concat(state_list).set_index('year')\n",
    "# state_df = state_df.loc[~((state_df.index>2000)&(state_df.satellite=='ls5'))]\n",
    "# state_df = state_df.loc[~((state_df.index==2000)&(state_df.satellite=='ls7'))]\n",
    "state_df = state_df.loc[~((state_df.index>2019)&(state_df.satellite=='ls7'))]\n",
    "state_df = state_df.groupby(['year', 'UF_05']).mean().reset_index().set_index('year')\n",
    "state_df = state_df.loc[:2019]\n",
    "state_df = state_df.sort_index()\n",
    "state_df_columns = state_df.reset_index().set_index(['year','UF_05']).unstack(level=1)"
   ]
  },
  {
   "cell_type": "code",
   "execution_count": null,
   "id": "6c40eac2",
   "metadata": {},
   "outputs": [],
   "source": [
    "fig, axs = plt.subplots(1,2, figsize=(18,7))\n",
    "state_df_columns['count'].plot(ax=axs[0], kind='area', legend=False)\n",
    "state_df_columns['sum'].plot(ax=axs[1], kind='area', legend=False)\n",
    "axs[0].set_ylabel('Count')\n",
    "axs[1].set_ylabel('Area (ha)')\n",
    "handles, labels = axs[0].get_legend_handles_labels()\n",
    "axs[1].legend(handles[::-1], labels[::-1], loc='center left',bbox_to_anchor=(1, 0.5),\n",
    "              ncol=1, title='State')\n",
    "axs[0].set_title('Reservoir Count')\n",
    "axs[1].set_title('Reservoir Area')\n",
    "fig.tight_layout()"
   ]
  },
  {
   "cell_type": "markdown",
   "id": "764fba49",
   "metadata": {},
   "source": [
    "### Region"
   ]
  },
  {
   "cell_type": "code",
   "execution_count": 18,
   "id": "fdbb9bf1",
   "metadata": {},
   "outputs": [],
   "source": [
    "reg_dict = state_gdf[['UF_05', 'REGIAO']].set_index('UF_05').to_dict()['REGIAO']\n",
    "reg_shortname_dict = {\n",
    "    'Sul': 'S',\n",
    "    'Sudeste': 'SE',\n",
    "    'Nordeste': 'NE',\n",
    "    'Centro-Oeste': 'CO',\n",
    "    'Norte': 'N'\n",
    "}"
   ]
  },
  {
   "cell_type": "code",
   "execution_count": 19,
   "id": "d8c4a0ec",
   "metadata": {},
   "outputs": [],
   "source": [
    "state_df['region'] = state_df['UF_05'].map(reg_dict).map(reg_shortname_dict)"
   ]
  },
  {
   "cell_type": "code",
   "execution_count": 20,
   "id": "1c86f320",
   "metadata": {},
   "outputs": [],
   "source": [
    "reg_df = state_df.drop(columns=['UF_05']).groupby(['year','region']).sum()\n",
    "reg_df_columns = reg_df.unstack(level=1)\n",
    "# Sort\n",
    "reg_columns_sorted = reg_df_columns.loc[1984, 'count'].sort_values().index\n",
    "reg_df_columns = reg_df_columns.reindex(reg_columns_sorted, axis=1, level=1)"
   ]
  },
  {
   "cell_type": "code",
   "execution_count": null,
   "id": "c5d942f0",
   "metadata": {},
   "outputs": [],
   "source": [
    "fig, axs = plt.subplots(1,2, figsize=(18,7))\n",
    "reg_df_columns['count'].plot(ax=axs[0], kind='area', legend=False)\n",
    "reg_df_columns['sum'].plot(ax=axs[1], kind='area', legend=False)\n",
    "axs[0].set_ylabel('Count')\n",
    "axs[1].set_ylabel('Area (ha)')\n",
    "handles, labels = axs[0].get_legend_handles_labels()\n",
    "axs[1].legend(handles[::-1], labels[::-1], loc='center left',bbox_to_anchor=(1, 0.5),\n",
    "              ncol=1, title='Region')\n",
    "axs[0].set_title('Reservoir Count')\n",
    "axs[1].set_title('Reservoir Area')\n",
    "fig.tight_layout()"
   ]
  },
  {
   "cell_type": "markdown",
   "id": "bcef5f74",
   "metadata": {},
   "source": [
    "# Region and Basin"
   ]
  },
  {
   "cell_type": "code",
   "execution_count": null,
   "id": "8f0323b6",
   "metadata": {},
   "outputs": [],
   "source": [
    "# Region\n",
    "fig, axs = plt.subplots(2,2, figsize=(18,12))\n",
    "(reg_df_columns['count']/1000).plot(ax=axs[0,0], kind='area', legend=False)\n",
    "(reg_df_columns['sum']/100).plot(ax=axs[0,1], kind='area', legend=False)\n",
    "handles, labels = axs[0,0].get_legend_handles_labels()\n",
    "axs[0,1].legend(handles[::-1], labels[::-1], loc='center left',bbox_to_anchor=(1, 0.5),\n",
    "              ncol=1, title='Macro Region')\n",
    "axs[0,0].set_title('Reservoir Count')\n",
    "axs[0,1].set_title('Reservoir Area')\n",
    "(basin_df_columns['count']/1000).plot(ax=axs[1,0], kind='area', legend=False, colormap='tab20')\n",
    "(basin_df_columns['sum']/100).plot(ax=axs[1,1], kind='area', legend=False, colormap='tab20')\n",
    "handles, labels = axs[1,0].get_legend_handles_labels()\n",
    "axs[1,1].legend(handles[::-1], labels[::-1], loc='center left',bbox_to_anchor=(1, 0.5),\n",
    "              ncol=1, title='Hydrographic Region')\n",
    "\n",
    "for ax in axs[:,0]:\n",
    "    ax.set_ylabel('Count (thousands)')\n",
    "for ax in axs[:,1]:\n",
    "    ax.set_ylabel('Area ($km^2$)')\n",
    "for ax in axs.flatten():\n",
    "    ax.set_xlabel('Year')\n",
    "    ax.set_xlim(1984, 2019)\n",
    "# axs[1,0].set_title('Reservoir Count')\n",
    "# axs[1,1].set_title('Reservoir Area')\n",
    "fig.tight_layout()\n",
    "# Hydro\n",
    "fig.tight_layout()"
   ]
  }
 ],
 "metadata": {
  "kernelspec": {
   "display_name": "resgis",
   "language": "python",
   "name": "python3"
  },
  "language_info": {
   "codemirror_mode": {
    "name": "ipython",
    "version": 3
   },
   "file_extension": ".py",
   "mimetype": "text/x-python",
   "name": "python",
   "nbconvert_exporter": "python",
   "pygments_lexer": "ipython3",
   "version": "3.10.13"
  }
 },
 "nbformat": 4,
 "nbformat_minor": 5
}
