{
 "cells": [
  {
   "cell_type": "code",
   "execution_count": null,
   "id": "000f2812",
   "metadata": {},
   "outputs": [],
   "source": [
    "import pandas as pd\n",
    "import glob\n",
    "import numpy as np\n",
    "import os\n",
    "import matplotlib.pyplot as plt\n",
    "from matplotlib.patches import Patch"
   ]
  },
  {
   "cell_type": "code",
   "execution_count": null,
   "id": "31ad87db",
   "metadata": {},
   "outputs": [],
   "source": [
    "color_dict = {'ls5-ls7': '#66c2a5',\n",
    "              'ls7-ls8': '#fc8d62'}\n"
   ]
  },
  {
   "cell_type": "markdown",
   "id": "ffc14156",
   "metadata": {},
   "source": [
    "# Accuracy Stats"
   ]
  },
  {
   "cell_type": "code",
   "execution_count": null,
   "id": "909eb6fc",
   "metadata": {},
   "outputs": [],
   "source": [
    "def calc_all_stats(tp, fp, fn):\n",
    "    precision = tp/(tp+fp)\n",
    "    recall = tp/(tp+fn)\n",
    "    f1 = 2 * (precision * recall) / (precision + recall)\n",
    "    iou =  tp / (tp + fp + fn)\n",
    "    print('precision: {}, recall: {}, f1: {}, iou: {}'.format(\n",
    "        precision, recall, f1, iou))\n",
    "    return {\n",
    "        'precision': precision,\n",
    "        'recall': recall,\n",
    "        'f1': f1,\n",
    "        'iou': iou\n",
    "    }\n",
    "\n",
    "def read_process_stats(csv):\n",
    "    df = pd.read_csv(csv)\n",
    "    return df.sum(axis=0)"
   ]
  },
  {
   "cell_type": "code",
   "execution_count": null,
   "id": "229ba3d9",
   "metadata": {},
   "outputs": [],
   "source": [
    "# Valid pixel counts\n",
    "all_df_list = []\n",
    "for csv in sorted(glob.glob('./out/valid_counts/*.csv')):\n",
    "    df = read_process_stats(csv)\n",
    "    df['year'] = int(os.path.basename(csv)[4:8])\n",
    "    df['sat'] = os.path.basename(csv)[:3]\n",
    "    all_df_list.append(pd.DataFrame(df).T)\n"
   ]
  },
  {
   "cell_type": "code",
   "execution_count": null,
   "id": "b0c6bc35",
   "metadata": {},
   "outputs": [],
   "source": [
    "valid_df = pd.concat(all_df_list, axis=0).set_index(['sat', 'year'])"
   ]
  },
  {
   "cell_type": "code",
   "execution_count": null,
   "id": "06038ae4",
   "metadata": {},
   "outputs": [],
   "source": [
    "\n",
    "valid_df['valid_perc'] = 100*valid_df['valid']/ np.max(valid_df['valid'])"
   ]
  },
  {
   "cell_type": "code",
   "execution_count": null,
   "id": "9ace6f58",
   "metadata": {},
   "outputs": [],
   "source": [
    "single_color_dict = {'ls5': '#66c2a5',\n",
    "              'ls7': '#fc8d62',\n",
    "              'ls8': '#8da0cb'}"
   ]
  },
  {
   "cell_type": "code",
   "execution_count": null,
   "id": "cfce3b86",
   "metadata": {},
   "outputs": [],
   "source": [
    "valid_df.loc['ls5','valid_perc'].plot(color=single_color_dict['ls5'], lw=1.75, label='Landsat 5')\n",
    "valid_df.loc['ls7','valid_perc'].plot(color=single_color_dict['ls7'], lw=1.75, label='Landsat 7')\n",
    "valid_df.loc['ls8','valid_perc'].plot(color=single_color_dict['ls8'], lw=1.75, label='Landsat 8')\n",
    "plt.xlabel('Year')\n",
    "plt.legend()\n",
    "plt.ylabel('% Valid Pixels')"
   ]
  },
  {
   "cell_type": "code",
   "execution_count": null,
   "id": "d739f21c",
   "metadata": {},
   "outputs": [],
   "source": [
    "all_outs = []\n",
    "for csv in sorted(glob.glob('./out/*_compare.csv')):\n",
    "    print(csv)\n",
    "    df = read_process_stats(csv)\n",
    "    out_dict = calc_all_stats(df['tp'], df['fp'], df['fn'])\n",
    "    out_dict['year'] = int(os.path.basename(csv)[:4])\n",
    "    all_outs.append(out_dict)"
   ]
  },
  {
   "cell_type": "code",
   "execution_count": null,
   "id": "3aa5b036",
   "metadata": {},
   "outputs": [],
   "source": [
    "out_df = pd.DataFrame(all_outs).set_index('year')*100\n",
    "out_df['satellite'] = 'ls5-ls7'\n",
    "out_df.loc[2014:, 'satellite'] = 'ls7-ls8'"
   ]
  },
  {
   "cell_type": "code",
   "execution_count": null,
   "id": "8d9575e6",
   "metadata": {},
   "outputs": [],
   "source": [
    "out_df.groupby('satellite').mean()"
   ]
  },
  {
   "cell_type": "code",
   "execution_count": null,
   "id": "78a605ab",
   "metadata": {},
   "outputs": [],
   "source": [
    "\n",
    "out_df.loc[2003:].groupby('satellite').mean()"
   ]
  },
  {
   "cell_type": "code",
   "execution_count": null,
   "id": "353d8bed",
   "metadata": {},
   "outputs": [],
   "source": [
    "out_df.loc[:2019].groupby('satellite').mean()"
   ]
  },
  {
   "cell_type": "code",
   "execution_count": null,
   "id": "4e81d03b",
   "metadata": {},
   "outputs": [],
   "source": [
    "def plot_accuracy_stat(out_df, stat, ax=None, legend=True):\n",
    "    out_df.loc[out_df['satellite']=='ls5-ls7', stat].plot(c=color_dict['ls5-ls7'], ax=ax, label='LS5-7')\n",
    "    out_df.loc[2013:2017, stat].plot(c=color_dict['ls7-ls8'], ax=ax, label='LS7-8')\n",
    "    out_df.loc[2017:, stat].plot(c=color_dict['ls7-ls8'], style='--', ax=ax, label='LS7-8 (Orbit Drift)')\n",
    "    if ax is not None:\n",
    "        ax.set_title(stat.capitalize())\n",
    "        if legend:\n",
    "            ax.legend()\n",
    "        ax.set_ylim(30, 100)\n",
    "        ax.set_xlabel('Year')\n",
    "        ax.set_ylabel('Score')"
   ]
  },
  {
   "cell_type": "code",
   "execution_count": null,
   "id": "431eba46",
   "metadata": {},
   "outputs": [],
   "source": [
    "\n",
    "fig, axs = plt.subplots(2,2, figsize=(7,6))\n",
    "for i, acc_stat in enumerate(['precision','recall', 'f1', 'iou']):\n",
    "    if i == 0:\n",
    "        include_legend=True\n",
    "    else:\n",
    "        include_legend=False\n",
    "    plot_accuracy_stat(out_df, acc_stat, ax=axs.flatten()[i], legend=include_legend)\n",
    "for i, label in enumerate(['$(a)$', '$(b)$', '$(c)$', '$(d)$']):\n",
    "    axs.flatten()[i].annotate(\n",
    "            label,\n",
    "            xy=(0, 1), xycoords='axes fraction',\n",
    "            xytext=(0.2, -1.3), textcoords='offset fontsize',\n",
    "            fontsize=12, verticalalignment='bottom', fontfamily='serif')\n",
    "fig.tight_layout()"
   ]
  },
  {
   "cell_type": "markdown",
   "id": "c5a84d1d",
   "metadata": {},
   "source": [
    "# Count, Area, and Overlap comparisons"
   ]
  },
  {
   "cell_type": "code",
   "execution_count": null,
   "id": "21b50895",
   "metadata": {},
   "outputs": [],
   "source": [
    "def convert_to_array(string):\n",
    "    ar = np.fromstring(string.strip('[]'),sep=' ').astype(int)\n",
    "    return ar[ar!=0]\n",
    "\n",
    "def calc_overlap_stats(df1, df2, sat_comp, y):\n",
    "    df1_overlap = df1.loc[df1.overlap_count>0]\n",
    "    df2_overlap = df2.loc[df2.overlap_count>0]\n",
    "\n",
    "    df1_no_overlap = df1.loc[df1.overlap_count==0]\n",
    "    df2_no_overlap = df2.loc[df2.overlap_count==0]\n",
    "    out_dict = {\n",
    "        'year': y,\n",
    "        'satellites': sat_comp,\n",
    "        # Totals\n",
    "        'sat1_total_area': df1['size'].sum(),\n",
    "        'sat2_total_area': df2['size'].sum(),\n",
    "        'sat1_mean_size': df1['size'].mean(),\n",
    "        'sat2_mean_size': df2['size'].mean(),\n",
    "        'sat1_count': df1['size'].shape[0],\n",
    "        'sat2_count': df2['size'].shape[0],\n",
    "        # Overlap\n",
    "        'sat1_overlap_total_area': df1_overlap['size'].sum(),\n",
    "        'sat2_overlap_total_area': df2_overlap['size'].sum(),\n",
    "        'sat1_overlap_mean_size': df1_overlap['size'].mean(),\n",
    "        'sat2_overlap_mean_size': df2_overlap['size'].mean(),\n",
    "        'sat1_overlap_count': df1_overlap['size'].shape[0],\n",
    "        'sat2_overlap_count': df2_overlap['size'].shape[0],\n",
    "        # No Overlap\n",
    "        'sat1_no_overlap_total_area': df1_no_overlap['size'].sum(),\n",
    "        'sat2_no_overlap_total_area': df2_no_overlap['size'].sum(),\n",
    "        'sat1_no_overlap_mean_size': df1_no_overlap['size'].mean(),\n",
    "        'sat2_no_overlap_mean_size': df2_no_overlap['size'].mean(),\n",
    "        'sat1_no_overlap_count': df1_no_overlap['size'].shape[0],\n",
    "        'sat2_no_overlap_count': df2_no_overlap['size'].shape[0],\n",
    "    }\n",
    "    return out_dict"
   ]
  },
  {
   "cell_type": "code",
   "execution_count": null,
   "id": "01ec5daa",
   "metadata": {},
   "outputs": [],
   "source": [
    "all_outs = []\n",
    "for y in range(2000, 2024):\n",
    "    csv_list = glob.glob('./out/*{}*_overlaps.csv'.format(y))\n",
    "\n",
    "    if len(csv_list) == 2:\n",
    "        csv_list.sort()\n",
    "        sat1_name = os.path.basename(csv_list[0])[:3]\n",
    "        sat2_name = os.path.basename(csv_list[1])[:3]\n",
    "        df1 = pd.read_csv(csv_list[0], converters={'overlaps':convert_to_array})\n",
    "        df2 = pd.read_csv(csv_list[1], converters={'overlaps':convert_to_array})\n",
    "        df1['overlap_count'] = df1['overlaps'].apply(len)\n",
    "        df2['overlap_count'] = df2['overlaps'].apply(len)\n",
    "        out_dict = calc_overlap_stats(df1, df2, sat_comp='{}-{}'.format(sat1_name, sat2_name), y=y)\n",
    "        all_outs.append(out_dict)"
   ]
  },
  {
   "cell_type": "code",
   "execution_count": null,
   "id": "bf0ce460",
   "metadata": {},
   "outputs": [],
   "source": [
    "pd.DataFrame(all_outs).to_csv('./out/overlap_summaries.csv', index=False)"
   ]
  },
  {
   "cell_type": "code",
   "execution_count": null,
   "id": "1b5adb06",
   "metadata": {},
   "outputs": [],
   "source": [
    "overlap_stats = pd.read_csv('./out/overlap_summaries.csv').set_index('year')\n",
    "# Remove after 2020, ls7 degradation\n",
    "overlap_stats = overlap_stats.loc[:2019]"
   ]
  },
  {
   "cell_type": "code",
   "execution_count": null,
   "id": "ac978725",
   "metadata": {},
   "outputs": [],
   "source": [
    "# Full figure\n",
    "fig, axs = plt.subplots(1,2, figsize=(10,5))\n",
    "comparison_dict = {\n",
    "    'sat1': 'Old Total',\n",
    "    'sat2': 'Total',\n",
    "    'sat2_overlap': 'Overlap',\n",
    "    'sat2_no_overlap': 'No Overlap'\n",
    "}\n",
    "comparison_color_dict = {\n",
    "    'sat1': 'red',\n",
    "    'sat2': 'blue',\n",
    "    'sat2_overlap': 'purple',\n",
    "    'sat2_no_overlap': 'green'\n",
    "}\n",
    "lstyle_dict = {\n",
    "    'ls5-ls7': '-',\n",
    "    'ls7-ls8': '--'\n",
    "}\n",
    "for sat_comp in ['ls5-ls7', 'ls7-ls8']:\n",
    "    for comparison in ['sat1', 'sat2','sat2_overlap', 'sat2_no_overlap']:\n",
    "        comp_name = sat_comp[-3:] + ' ' + comparison_dict[comparison]\n",
    "\n",
    "        overlap_stats.loc[overlap_stats['satellites']==sat_comp, \n",
    "                          '{}_total_area'.format(comparison)\n",
    "                    ].plot(ax=axs[1],\n",
    "                           label=comp_name,\n",
    "                           color=comparison_color_dict[comparison],\n",
    "                           linestyle=lstyle_dict[sat_comp])\n",
    "        overlap_stats.loc[overlap_stats['satellites']==sat_comp, \n",
    "                          '{}_count'.format(comparison)\n",
    "                    ].plot(ax=axs[0],\n",
    "                           label=comp_name,\n",
    "                           color=comparison_color_dict[comparison],\n",
    "                           linestyle=lstyle_dict[sat_comp])\n",
    "        axs[1].legend()\n",
    "\n",
    "    axs[0].set_title('Count')\n",
    "    axs[1].set_title('Area')\n",
    "    axs[0].set_xlim(1999, 2021)\n",
    "    axs[1].set_xlim(1999, 2021)\n"
   ]
  },
  {
   "cell_type": "code",
   "execution_count": null,
   "id": "9601187d",
   "metadata": {},
   "outputs": [],
   "source": [
    "\n",
    "# Full figure\n",
    "fig, axs = plt.subplots(1,2, figsize=(10,5))\n",
    "comparison_dict = {\n",
    "    'sat1': 'Old Total',\n",
    "    'sat2': 'Total',\n",
    "    'sat2_overlap': 'Overlap',\n",
    "    'sat2_no_overlap': 'No Overlap'\n",
    "}\n",
    "comparison_color_dict = {\n",
    "    'sat1': 'red',\n",
    "    'sat2': 'blue',\n",
    "    'sat2_overlap': 'purple',\n",
    "    'sat2_no_overlap': 'green'\n",
    "}\n",
    "lstyle_dict = {\n",
    "    'ls5-ls7': '-',\n",
    "    'ls7-ls8': '--'\n",
    "}\n",
    "for sat_comp in ['ls7-ls8']:\n",
    "    for comparison in ['sat1', 'sat2','sat2_overlap', 'sat2_no_overlap']:\n",
    "        comp_name = sat_comp[-3:] + ' ' + comparison_dict[comparison]\n",
    "\n",
    "        overlap_stats.loc[overlap_stats['satellites']==sat_comp, \n",
    "                          '{}_total_area'.format(comparison)\n",
    "                    ].plot(ax=axs[1],\n",
    "                           label=comp_name,\n",
    "                           color=comparison_color_dict[comparison],\n",
    "                           linestyle=lstyle_dict[sat_comp])\n",
    "        overlap_stats.loc[overlap_stats['satellites']==sat_comp, \n",
    "                          '{}_count'.format(comparison)\n",
    "                    ].plot(ax=axs[0],\n",
    "                           label=comp_name,\n",
    "                           color=comparison_color_dict[comparison],\n",
    "                           linestyle=lstyle_dict[sat_comp])\n",
    "        axs[1].legend()\n",
    "\n",
    "    axs[0].set_title('Count')\n",
    "    axs[1].set_title('Area')\n",
    "    axs[0].set_xlim(2013, 2021)\n",
    "    axs[1].set_xlim(2013, 2021)\n"
   ]
  },
  {
   "cell_type": "code",
   "execution_count": null,
   "id": "ea2ac356",
   "metadata": {},
   "outputs": [],
   "source": [
    "overlap_stats_ls7_ls8 = overlap_stats.loc[2014:]"
   ]
  },
  {
   "cell_type": "code",
   "execution_count": null,
   "id": "357508b1",
   "metadata": {},
   "outputs": [],
   "source": [
    "overlap_stats_ls7 = overlap_stats_ls7_ls8[[col for col in overlap_stats_ls7_ls8.columns if col[:4]=='sat1']]\n",
    "overlap_stats_ls8 = overlap_stats_ls7_ls8[[col for col in overlap_stats_ls7_ls8.columns if col[:4]=='sat2']]\n",
    "overlap_stats_ls7.columns = [col[5:] for col in overlap_stats_ls7.columns]\n",
    "overlap_stats_ls8.columns = [col[5:] for col in overlap_stats_ls8.columns]\n",
    "overlap_stats_ls8['sat'] = 'LS8'\n",
    "overlap_stats_ls7['sat'] = 'LS7'"
   ]
  },
  {
   "cell_type": "code",
   "execution_count": null,
   "id": "b789f1fd",
   "metadata": {},
   "outputs": [],
   "source": [
    "overlap_stats_both = pd.concat([overlap_stats_ls7, overlap_stats_ls8]).reset_index()"
   ]
  },
  {
   "cell_type": "code",
   "execution_count": null,
   "id": "11f25523",
   "metadata": {},
   "outputs": [],
   "source": [
    "overlap_stats_both = overlap_stats_both.groupby('sat').mean().reset_index()"
   ]
  },
  {
   "cell_type": "code",
   "execution_count": null,
   "id": "bfe5b315",
   "metadata": {},
   "outputs": [],
   "source": [
    "hatch_dict = {\n",
    "    'overlap': None,\n",
    "    'no_overlap': 'xxx',\n",
    "}\n",
    "alpha_dict = {\n",
    "    'overlap': 1.0,\n",
    "    'no_overlap': 0.5,\n",
    "}\n",
    "bar_color_dict = {'LS5': '#66c2a5',\n",
    "              'LS7': '#fc8d62',\n",
    "              'LS8': '#8da0cb'}"
   ]
  },
  {
   "cell_type": "code",
   "execution_count": null,
   "id": "84e420ff",
   "metadata": {},
   "outputs": [],
   "source": [
    "labels=overlap_stats_both['year'].drop_duplicates()  # set the dates as labels\n",
    "x0 = np.arange(len(labels))  # create an array of values for the ticks that can perform arithmetic with width (w)\n",
    "\n",
    "\n",
    "# build the plots\n",
    "sats = ['LS7','LS8']\n",
    "stacks = len(sats)  # how many stacks in each group for a tick location\n",
    "\n",
    "# set the width\n",
    "w = 0.35\n",
    "\n",
    "# this needs to be adjusted based on the number of stacks; each location needs to be split into the proper number of locations\n",
    "x1 = [x0 - w/stacks, x0 + w/stacks]\n",
    "\n",
    "fig, axs = plt.subplots(1,2, figsize=(8,4))\n",
    "comps = ['overlap','no_overlap']\n",
    "for x, sat in zip(x1, sats):\n",
    "    bottom_count = 0\n",
    "    bottom_area = 0\n",
    "    for comparison in comps:\n",
    "        height_count = overlap_stats_both.loc[overlap_stats_both['sat']==sat, comparison + '_count'].values / 1000\n",
    "        axs[0].bar(x=x, height=height_count, width=w, bottom=bottom_count,\n",
    "               hatch=hatch_dict[comparison], \n",
    "               color=bar_color_dict[sat],\n",
    "               alpha=alpha_dict[comparison],\n",
    "               label=sat + ' ' + comparison)\n",
    "        bottom_count += height_count\n",
    "\n",
    "        height_area = overlap_stats_both.loc[overlap_stats_both['sat']==sat, comparison + '_total_area'].values / 10000\n",
    "        axs[1].bar(x=x, height=height_area, width=w, bottom=bottom_area,\n",
    "               hatch=hatch_dict[comparison], \n",
    "               color=bar_color_dict[sat],\n",
    "               alpha=alpha_dict[comparison],\n",
    "               label=sat + ' ' + comparison)\n",
    "        bottom_area += height_area\n",
    "for ax in axs:\n",
    "       ax.set_xticks([])\n",
    "       _ = ax.set_xticklabels('')\n",
    "legend_patches = [\n",
    "    Patch(facecolor=bar_color_dict['LS7'], label='Landsat 7'),\n",
    "    Patch(facecolor=bar_color_dict['LS8'],  label='Landsat 8'),\n",
    "    Patch(facecolor='grey',alpha=0.2, label='Shared Reservoirs'),\n",
    "    Patch(facecolor='grey',alpha=0.2, hatch='xxxx', label='Unshared Reservoirs')\n",
    "]\n",
    "axs[1].legend(handles=legend_patches)\n",
    "axs[0].set_ylabel('Count (thousands)')\n",
    "axs[1].set_ylabel('Area ($km^2$)')\n",
    "axs[0].text(\n",
    "    x=-0.375, y=axs[0].get_ylim()[1]*0.985,  # Relative position in axes coordinates (0,0 is bottom-left; 1,1 is top-right)\n",
    "    s='(a)',          # The label text\n",
    "    fontsize=10,\n",
    "    fontstyle='italic',      # Font size\n",
    "    verticalalignment='top',  # Align the text to the top\n",
    "    horizontalalignment='left'  # Align the text to the left\n",
    ")\n",
    "axs[1].text(\n",
    "    x=-0.375, y=axs[1].get_ylim()[1]*0.985,  # Relative position in axes coordinates (0,0 is bottom-left; 1,1 is top-right)\n",
    "    s='(b)',          # The label text\n",
    "    fontsize=10,      # Font size\n",
    "    fontstyle='italic',      # Font size\n",
    "    verticalalignment='top',  # Align the text to the top\n",
    "    horizontalalignment='left'  # Align the text to the left\n",
    ")\n",
    "fig.tight_layout()"
   ]
  }
 ],
 "metadata": {
  "kernelspec": {
   "display_name": "resgis",
   "language": "python",
   "name": "python3"
  },
  "language_info": {
   "codemirror_mode": {
    "name": "ipython",
    "version": 3
   },
   "file_extension": ".py",
   "mimetype": "text/x-python",
   "name": "python",
   "nbconvert_exporter": "python",
   "pygments_lexer": "ipython3",
   "version": "3.10.13"
  }
 },
 "nbformat": 4,
 "nbformat_minor": 5
}
