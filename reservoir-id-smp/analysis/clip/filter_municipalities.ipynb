{
 "cells": [
  {
   "cell_type": "code",
   "execution_count": 18,
   "id": "40568db5",
   "metadata": {},
   "outputs": [],
   "source": [
    "import geopandas as gpd\n",
    "import numpy as np"
   ]
  },
  {
   "cell_type": "code",
   "execution_count": 19,
   "id": "70c5bef6",
   "metadata": {},
   "outputs": [],
   "source": [
    "muni_cd_mun_list = ['5101803', '5106257', '5100201', '5102702', '5107065']"
   ]
  },
  {
   "cell_type": "code",
   "execution_count": 20,
   "id": "54b30b9a",
   "metadata": {},
   "outputs": [],
   "source": [
    "muni_gdf = gpd.read_file('/home/ksolvik/research/reservoirs/analysis/data/misc/municipal_units/BR_Municipios_2021.shp')"
   ]
  },
  {
   "cell_type": "code",
   "execution_count": 21,
   "id": "ed8d2b0c",
   "metadata": {},
   "outputs": [
    {
     "name": "stderr",
     "output_type": "stream",
     "text": [
      "/home/ksolvik/miniconda3/envs/resgis/lib/python3.10/site-packages/geopandas/geodataframe.py:1472: SettingWithCopyWarning: \n",
      "A value is trying to be set on a copy of a slice from a DataFrame.\n",
      "Try using .loc[row_indexer,col_indexer] = value instead\n",
      "\n",
      "See the caveats in the documentation: https://pandas.pydata.org/pandas-docs/stable/user_guide/indexing.html#returning-a-view-versus-a-copy\n",
      "  super().__setitem__(key, value)\n"
     ]
    }
   ],
   "source": [
    "muni_gdf_filtered = muni_gdf.loc[muni_gdf['CD_MUN'].isin(muni_cd_mun_list)]\n",
    "muni_gdf_filtered['ID'] = np.arange(muni_gdf_filtered.shape[0])\n",
    "muni_gdf_filtered = muni_gdf_filtered.to_crs('EPSG:4326')"
   ]
  },
  {
   "cell_type": "code",
   "execution_count": 22,
   "id": "37d3f305",
   "metadata": {},
   "outputs": [
    {
     "data": {
      "text/html": [
       "<div>\n",
       "<style scoped>\n",
       "    .dataframe tbody tr th:only-of-type {\n",
       "        vertical-align: middle;\n",
       "    }\n",
       "\n",
       "    .dataframe tbody tr th {\n",
       "        vertical-align: top;\n",
       "    }\n",
       "\n",
       "    .dataframe thead th {\n",
       "        text-align: right;\n",
       "    }\n",
       "</style>\n",
       "<table border=\"1\" class=\"dataframe\">\n",
       "  <thead>\n",
       "    <tr style=\"text-align: right;\">\n",
       "      <th></th>\n",
       "      <th>CD_MUN</th>\n",
       "      <th>NM_MUN</th>\n",
       "      <th>SIGLA</th>\n",
       "      <th>AREA_KM2</th>\n",
       "      <th>geometry</th>\n",
       "      <th>ID</th>\n",
       "    </tr>\n",
       "  </thead>\n",
       "  <tbody>\n",
       "    <tr>\n",
       "      <th>5185</th>\n",
       "      <td>5100201</td>\n",
       "      <td>Água Boa</td>\n",
       "      <td>MT</td>\n",
       "      <td>7549.308</td>\n",
       "      <td>POLYGON ((-53.09875 -13.63518, -52.93808 -13.6...</td>\n",
       "      <td>0</td>\n",
       "    </tr>\n",
       "    <tr>\n",
       "      <th>5200</th>\n",
       "      <td>5101803</td>\n",
       "      <td>Barra do Garças</td>\n",
       "      <td>MT</td>\n",
       "      <td>9117.301</td>\n",
       "      <td>POLYGON ((-52.01522 -14.80353, -52.01476 -14.8...</td>\n",
       "      <td>1</td>\n",
       "    </tr>\n",
       "    <tr>\n",
       "      <th>5209</th>\n",
       "      <td>5102702</td>\n",
       "      <td>Canarana</td>\n",
       "      <td>MT</td>\n",
       "      <td>10855.181</td>\n",
       "      <td>POLYGON ((-52.92228 -12.60815, -52.92206 -12.6...</td>\n",
       "      <td>2</td>\n",
       "    </tr>\n",
       "    <tr>\n",
       "      <th>5264</th>\n",
       "      <td>5106257</td>\n",
       "      <td>Nova Xavantina</td>\n",
       "      <td>MT</td>\n",
       "      <td>5520.460</td>\n",
       "      <td>POLYGON ((-52.42380 -14.18114, -52.42304 -14.1...</td>\n",
       "      <td>3</td>\n",
       "    </tr>\n",
       "    <tr>\n",
       "      <th>5284</th>\n",
       "      <td>5107065</td>\n",
       "      <td>Querência</td>\n",
       "      <td>MT</td>\n",
       "      <td>17799.989</td>\n",
       "      <td>POLYGON ((-53.22627 -11.25946, -53.22471 -11.2...</td>\n",
       "      <td>4</td>\n",
       "    </tr>\n",
       "  </tbody>\n",
       "</table>\n",
       "</div>"
      ],
      "text/plain": [
       "       CD_MUN           NM_MUN SIGLA   AREA_KM2  \\\n",
       "5185  5100201         Água Boa    MT   7549.308   \n",
       "5200  5101803  Barra do Garças    MT   9117.301   \n",
       "5209  5102702         Canarana    MT  10855.181   \n",
       "5264  5106257   Nova Xavantina    MT   5520.460   \n",
       "5284  5107065        Querência    MT  17799.989   \n",
       "\n",
       "                                               geometry  ID  \n",
       "5185  POLYGON ((-53.09875 -13.63518, -52.93808 -13.6...   0  \n",
       "5200  POLYGON ((-52.01522 -14.80353, -52.01476 -14.8...   1  \n",
       "5209  POLYGON ((-52.92228 -12.60815, -52.92206 -12.6...   2  \n",
       "5264  POLYGON ((-52.42380 -14.18114, -52.42304 -14.1...   3  \n",
       "5284  POLYGON ((-53.22627 -11.25946, -53.22471 -11.2...   4  "
      ]
     },
     "execution_count": 22,
     "metadata": {},
     "output_type": "execute_result"
    }
   ],
   "source": [
    "muni_gdf_filtered"
   ]
  },
  {
   "cell_type": "code",
   "execution_count": 10,
   "id": "918ec65e",
   "metadata": {},
   "outputs": [],
   "source": [
    "muni_gdf_filtered.to_file('./brazil_munis_interviews.geojson', driver='GeoJSON')"
   ]
  },
  {
   "cell_type": "code",
   "execution_count": 23,
   "id": "b2bc92fd",
   "metadata": {},
   "outputs": [],
   "source": [
    "# muni_gdf_aea = muni_gdf_filtered.to_crs('+proj=aea +lat_0=-32 +lon_0=-60 +lat_1=-5 +lat_2=-42 +x_0=0 +y_0=0 +ellps=aust_SA +units=m +no_defs +type=crs')\n",
    "muni_gdf_aea = muni_gdf_filtered.to_crs('ESRI:102033')\n",
    "\n",
    "muni_gdf_aea.to_file('./brazil_munis_interviews_aea.shp')"
   ]
  },
  {
   "cell_type": "code",
   "execution_count": 24,
   "id": "f9a5f436",
   "metadata": {},
   "outputs": [
    {
     "data": {
      "text/html": [
       "<div>\n",
       "<style scoped>\n",
       "    .dataframe tbody tr th:only-of-type {\n",
       "        vertical-align: middle;\n",
       "    }\n",
       "\n",
       "    .dataframe tbody tr th {\n",
       "        vertical-align: top;\n",
       "    }\n",
       "\n",
       "    .dataframe thead th {\n",
       "        text-align: right;\n",
       "    }\n",
       "</style>\n",
       "<table border=\"1\" class=\"dataframe\">\n",
       "  <thead>\n",
       "    <tr style=\"text-align: right;\">\n",
       "      <th></th>\n",
       "      <th>CD_MUN</th>\n",
       "      <th>NM_MUN</th>\n",
       "      <th>SIGLA</th>\n",
       "      <th>AREA_KM2</th>\n",
       "      <th>geometry</th>\n",
       "      <th>ID</th>\n",
       "    </tr>\n",
       "  </thead>\n",
       "  <tbody>\n",
       "    <tr>\n",
       "      <th>5185</th>\n",
       "      <td>5100201</td>\n",
       "      <td>Água Boa</td>\n",
       "      <td>MT</td>\n",
       "      <td>7549.308</td>\n",
       "      <td>POLYGON ((720771.527 2117660.259, 737498.910 2...</td>\n",
       "      <td>0</td>\n",
       "    </tr>\n",
       "    <tr>\n",
       "      <th>5200</th>\n",
       "      <td>5101803</td>\n",
       "      <td>Barra do Garças</td>\n",
       "      <td>MT</td>\n",
       "      <td>9117.301</td>\n",
       "      <td>POLYGON ((826759.381 1978167.563, 826806.980 1...</td>\n",
       "      <td>1</td>\n",
       "    </tr>\n",
       "    <tr>\n",
       "      <th>5209</th>\n",
       "      <td>5102702</td>\n",
       "      <td>Canarana</td>\n",
       "      <td>MT</td>\n",
       "      <td>10855.181</td>\n",
       "      <td>POLYGON ((744678.532 2234174.498, 744701.613 2...</td>\n",
       "      <td>2</td>\n",
       "    </tr>\n",
       "    <tr>\n",
       "      <th>5264</th>\n",
       "      <td>5106257</td>\n",
       "      <td>Nova Xavantina</td>\n",
       "      <td>MT</td>\n",
       "      <td>5520.460</td>\n",
       "      <td>POLYGON ((788069.921 2051755.863, 788147.460 2...</td>\n",
       "      <td>3</td>\n",
       "    </tr>\n",
       "    <tr>\n",
       "      <th>5284</th>\n",
       "      <td>5107065</td>\n",
       "      <td>Querência</td>\n",
       "      <td>MT</td>\n",
       "      <td>17799.989</td>\n",
       "      <td>POLYGON ((719591.519 2389156.878, 719738.985 2...</td>\n",
       "      <td>4</td>\n",
       "    </tr>\n",
       "  </tbody>\n",
       "</table>\n",
       "</div>"
      ],
      "text/plain": [
       "       CD_MUN           NM_MUN SIGLA   AREA_KM2  \\\n",
       "5185  5100201         Água Boa    MT   7549.308   \n",
       "5200  5101803  Barra do Garças    MT   9117.301   \n",
       "5209  5102702         Canarana    MT  10855.181   \n",
       "5264  5106257   Nova Xavantina    MT   5520.460   \n",
       "5284  5107065        Querência    MT  17799.989   \n",
       "\n",
       "                                               geometry  ID  \n",
       "5185  POLYGON ((720771.527 2117660.259, 737498.910 2...   0  \n",
       "5200  POLYGON ((826759.381 1978167.563, 826806.980 1...   1  \n",
       "5209  POLYGON ((744678.532 2234174.498, 744701.613 2...   2  \n",
       "5264  POLYGON ((788069.921 2051755.863, 788147.460 2...   3  \n",
       "5284  POLYGON ((719591.519 2389156.878, 719738.985 2...   4  "
      ]
     },
     "execution_count": 24,
     "metadata": {},
     "output_type": "execute_result"
    }
   ],
   "source": [
    "muni_gdf_aea"
   ]
  },
  {
   "cell_type": "code",
   "execution_count": null,
   "id": "ddabb38c",
   "metadata": {},
   "outputs": [],
   "source": [
    "    "
   ]
  }
 ],
 "metadata": {
  "kernelspec": {
   "display_name": "resgis",
   "language": "python",
   "name": "resgis"
  },
  "language_info": {
   "codemirror_mode": {
    "name": "ipython",
    "version": 3
   },
   "file_extension": ".py",
   "mimetype": "text/x-python",
   "name": "python",
   "nbconvert_exporter": "python",
   "pygments_lexer": "ipython3",
   "version": "3.10.10"
  }
 },
 "nbformat": 4,
 "nbformat_minor": 5
}
