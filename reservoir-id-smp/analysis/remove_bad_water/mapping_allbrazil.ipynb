{
 "cells": [
  {
   "cell_type": "code",
   "execution_count": null,
   "id": "4d936ee2",
   "metadata": {},
   "outputs": [],
   "source": [
    "import pandas as pd\n",
    "import glob\n",
    "import os\n",
    "import numpy as np\n",
    "import matplotlib.pyplot as plt\n",
    "from matplotlib.animation import FuncAnimation\n",
    "import geopandas as gpd\n",
    "import shapely"
   ]
  },
  {
   "cell_type": "code",
   "execution_count": null,
   "id": "525a9dc6",
   "metadata": {},
   "outputs": [],
   "source": [
    "brazil_gdf = gpd.read_file('/home/ksolvik/research/reservoirs/analysis/data/misc/general_borders/Brazilian_States_aea.shp')\n"
   ]
  },
  {
   "cell_type": "code",
   "execution_count": null,
   "id": "25cb824e",
   "metadata": {},
   "outputs": [],
   "source": [
    "brazil_gdf = gpd.read_file('/home/ksolvik/research/reservoirs/analysis/data/misc/general_borders/Brazilian_States_aea.shp')\n",
    "brazil_gdf = brazil_gdf.to_crs('EPSG:4326')"
   ]
  },
  {
   "cell_type": "code",
   "execution_count": null,
   "id": "e8bd24e2",
   "metadata": {},
   "outputs": [],
   "source": [
    "brazil_gdf = brazil_gdf.dissolve(by='REGIAO')"
   ]
  },
  {
   "cell_type": "code",
   "execution_count": null,
   "id": "306cb611",
   "metadata": {},
   "outputs": [],
   "source": [
    "all_csvs = glob.glob('./out/wgs84/ls*merged.csv')\n",
    "all_csvs.sort()"
   ]
  },
  {
   "cell_type": "code",
   "execution_count": null,
   "id": "84e620d5",
   "metadata": {},
   "outputs": [],
   "source": [
    "# # Temporary: Convert to lat/lon\n",
    "# for csv in all_csvs:\n",
    "#     out_path = csv.replace('aea', 'wgs84')\n",
    "#     temp_df = pd.read_csv(csv)\n",
    "#     temp_df = temp_df[['center_lat', 'center_lon', 'hydropoly_max', 'area']]\n",
    "#     gdf = gpd.GeoDataFrame(\n",
    "#         temp_df, geometry=gpd.points_from_xy(temp_df.center_lon, temp_df.center_lat),\n",
    "#         crs='ESRI:102033'\n",
    "#     )\n",
    "#     gdf_wgs84 = gdf.to_crs('EPSG:4326')\n",
    "#     gdf_wgs84['longitude'] = gdf_wgs84.geometry.x\n",
    "#     gdf_wgs84['latitude'] = gdf_wgs84.geometry.y\n",
    "#     gdf_wgs84.drop(columns=['geometry']).to_csv(out_path, index=False)"
   ]
  },
  {
   "cell_type": "code",
   "execution_count": null,
   "id": "cd894dce",
   "metadata": {},
   "outputs": [],
   "source": [
    "def read_process_csv(csv):\n",
    "    temp_df = pd.read_csv(csv)\n",
    "    temp_df['satellite'] = os.path.basename(csv)[:3]\n",
    "    temp_df['year'] = int(os.path.basename(csv)[4:8])\n",
    "    return temp_df"
   ]
  },
  {
   "cell_type": "code",
   "execution_count": null,
   "id": "72a69f44",
   "metadata": {},
   "outputs": [],
   "source": [
    "full_df = pd.concat([\n",
    "    read_process_csv(csv) for csv in all_csvs\n",
    "])"
   ]
  },
  {
   "cell_type": "code",
   "execution_count": null,
   "id": "3dac489b",
   "metadata": {},
   "outputs": [],
   "source": [
    "full_df = full_df.loc[full_df['hydropoly_max']<100]"
   ]
  },
  {
   "cell_type": "code",
   "execution_count": null,
   "id": "cf4ec03c",
   "metadata": {},
   "outputs": [],
   "source": [
    "full_df['area'] = full_df['area']*100/10000\n",
    "full_df = full_df.loc[full_df['area']<100]"
   ]
  },
  {
   "cell_type": "code",
   "execution_count": null,
   "id": "c2bec37a",
   "metadata": {},
   "outputs": [],
   "source": [
    "\n",
    "# xlims = brazil_gdf.bounds.min()['minx'], brazil_gdf.bounds.max()['maxx']\n",
    "# xlims = (xlims[0] - 1.5, xlims[1]-3)\n",
    "\n",
    "# ylims = brazil_gdf.bounds.min()['miny'], brazil_gdf.bounds.max()['maxy']\n",
    "# ylims = (ylims[0] - 1, ylims[1] + 1)\n",
    "# ylims_range = ylims[1] - ylims[0]\n",
    "# xlims_range = xlims[1] - xlims[0]"
   ]
  },
  {
   "cell_type": "code",
   "execution_count": null,
   "id": "fcd564b3",
   "metadata": {},
   "outputs": [],
   "source": [
    "xlims = brazil_gdf.bounds.min()['minx'], brazil_gdf.bounds.max()['maxx']\n",
    "xlims = (xlims[0] - 1.5, xlims[1]-4)\n",
    "ylims = brazil_gdf.bounds.min()['miny'], brazil_gdf.bounds.max()['maxy']\n",
    "ylims = (ylims[0] - 1, ylims[1] + 1)\n",
    "ylims_range = ylims[1] - ylims[0]\n",
    "xlims_range = xlims[1] - xlims[0]"
   ]
  },
  {
   "cell_type": "code",
   "execution_count": null,
   "id": "0b659825",
   "metadata": {},
   "outputs": [],
   "source": [
    "# Plot area in degrees lat\n",
    "xlims_range*ylims_range"
   ]
  },
  {
   "cell_type": "code",
   "execution_count": null,
   "id": "d6f19f2b",
   "metadata": {},
   "outputs": [],
   "source": [
    "%matplotlib inline\n",
    "\n",
    "axes_height_ratios=[1, 0.05]\n",
    "fig, axs = plt.subplots(2, 2, figsize = (24, 16),\n",
    "                       gridspec_kw={\"height_ratios\":axes_height_ratios})\n",
    "\n",
    "# Plot 1984 first\n",
    "brazil_gdf.boundary.plot(ax=axs[0, 0], color='red', alpha=0.3)\n",
    "\n",
    "\n",
    "outline_gdf = gpd.GeoDataFrame(\n",
    "    geometry=gpd.GeoSeries(shapely.geometry.Polygon(\n",
    "        [[xlims[0], ylims[0]],\n",
    "         [xlims[0], ylims[1]],\n",
    "         [xlims[1], ylims[1]],\n",
    "         [xlims[1], ylims[0]],\n",
    "         [xlims[0], ylims[0]]])),\n",
    "    crs='EPSG:4326')\n",
    "nonbrazil_poly = outline_gdf.overlay(brazil_gdf, how='difference')\n",
    "\n",
    "\n",
    "year_1984_df = full_df.loc[full_df['year']==1984]\n",
    "axs[0,0].hexbin(year_1984_df['longitude'], year_1984_df['latitude'],\n",
    "              gridsize=(60, int(60*ylims_range/xlims_range)),\n",
    "             vmin=0, vmax=3000,\n",
    "             extent=xlims + ylims)\n",
    "\n",
    "# Plot 2022\n",
    "brazil_gdf.boundary.plot(ax=axs[0, 1], color='red', alpha=0.3)\n",
    "year_2022_df = full_df.loc[full_df['year']==2022]\n",
    "im = axs[0, 1].hexbin(year_2022_df['longitude'], year_2022_df['latitude'],\n",
    "              gridsize=(60, int(60*ylims_range/xlims_range)),\n",
    "             vmin=0, vmax=3000,\n",
    "             extent=xlims + ylims)\n",
    "\n",
    "# fig.colorbar(im)\n",
    "\n",
    "for cur_ax in axs[0]:\n",
    "    cur_ax.set_xlabel('Longitude (deg)')\n",
    "    cur_ax.set_ylabel('Latitude (deg)')\n",
    "    cur_ax.set_xlim(xlims)\n",
    "    cur_ax.set_ylim(ylims)\n",
    "axs[0,0].set_title('1984', size=20)\n",
    "axs[0,1].set_title('2022', size=20)\n",
    "\n",
    "# Remove outside of Brazil\n",
    "nonbrazil_poly.plot(ax=axs[0,1],color='white')\n",
    "nonbrazil_poly.plot(ax=axs[0,0],color='white')\n",
    "\n",
    "# Set up colorbar\n",
    "gs = axs[0, 0].get_gridspec()\n",
    "for ax in axs[-1]:\n",
    "    ax.remove()\n",
    "axbig = fig.add_subplot(gs[-1, :])\n",
    "axbig.set_title('Reservoir Count')\n",
    "fig.colorbar(im, cax=axbig, orientation='horizontal')\n",
    "fig.tight_layout()"
   ]
  },
  {
   "cell_type": "code",
   "execution_count": null,
   "id": "6b962e3b",
   "metadata": {},
   "outputs": [],
   "source": [
    "# %matplotlib notebook\n",
    "\n",
    "# fig, ax = plt.subplots(figsize=(8,16))\n",
    "# ax.set_xlim(xlims)\n",
    "# ax.set_ylim(ylims)\n",
    "\n",
    "# year_start = 1985\n",
    "# year_end = 2021\n",
    "\n",
    "# def animate(i):\n",
    "#     df = full_df.loc[full_df['year']==i]\n",
    "#     x = df['center_lon'].values\n",
    "#     y = df['center_lat'].values\n",
    "#     if i != year_start:\n",
    "#         ax.collections[-1].remove()\n",
    "#     hexlayer = ax.hexbin(x,y, gridsize=grid_size,\n",
    "#                          alpha=1.0,\n",
    "#                         vmin=0, vmax=1000,\n",
    "#                         extent=(xlims[0], xlims[1], ylims[0], ylims[1]))\n",
    "#     ax.set_title(i)\n",
    "#     return hexlayer,\n",
    "\n",
    "# ani = FuncAnimation(fig, animate, frames=np.arange(year_start, year_end, 5), interval=500)\n",
    "# ani.save('test_animation_nols7.gif')"
   ]
  },
  {
   "cell_type": "code",
   "execution_count": null,
   "id": "33786999",
   "metadata": {},
   "outputs": [],
   "source": []
  }
 ],
 "metadata": {
  "kernelspec": {
   "display_name": "resgis",
   "language": "python",
   "name": "resgis"
  },
  "language_info": {
   "codemirror_mode": {
    "name": "ipython",
    "version": 3
   },
   "file_extension": ".py",
   "mimetype": "text/x-python",
   "name": "python",
   "nbconvert_exporter": "python",
   "pygments_lexer": "ipython3",
   "version": "3.10.13"
  }
 },
 "nbformat": 4,
 "nbformat_minor": 5
}
