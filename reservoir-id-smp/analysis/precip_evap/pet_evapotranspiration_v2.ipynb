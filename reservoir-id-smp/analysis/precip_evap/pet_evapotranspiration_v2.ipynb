{
 "cells": [
  {
   "cell_type": "code",
   "execution_count": null,
   "metadata": {},
   "outputs": [],
   "source": [
    "import xarray as xr\n",
    "import numpy as np\n",
    "import pandas as pd\n",
    "from scipy.interpolate import NearestNDInterpolator\n",
    "import glob\n",
    "import os\n",
    "import matplotlib.pyplot as plt\n",
    "import scipy.stats as st"
   ]
  },
  {
   "cell_type": "markdown",
   "metadata": {},
   "source": [
    "# Historical calcs using CRU"
   ]
  },
  {
   "cell_type": "code",
   "execution_count": null,
   "metadata": {},
   "outputs": [],
   "source": [
    "pet_ds = xr.open_dataset('./data/cru_ts4.08.1901.2023.pet.dat.nc')"
   ]
  },
  {
   "cell_type": "code",
   "execution_count": null,
   "metadata": {},
   "outputs": [],
   "source": [
    "pet_ds = pet_ds.sel(time=slice(np.datetime64('2021-01-01'), np.datetime64('2021-12-31'))).mean(dim='time')\n",
    "# pet_ds = pet_ds.sel(time=slice(np.datetime64('1940-01-01'), np.datetime64('1949-12-31'))).mean(dim='time')"
   ]
  },
  {
   "cell_type": "code",
   "execution_count": null,
   "metadata": {},
   "outputs": [],
   "source": [
    "res_df = pd.read_csv('../remove_bad_water/out/sentinel_2021_v6_wgs84_combined_merged.csv')\n",
    "res_df = res_df.loc[res_df['hydropoly_max']<100]\n",
    "res_df['area_ha'] = res_df['area']*100/10000 # HA\n",
    "res_df['area_km'] = res_df['area']*100/(1000*1000) # km2\n",
    "res_df = res_df.loc[res_df['area_ha']<100]\n",
    "res_df['area_m'] = res_df['area']*100"
   ]
  },
  {
   "cell_type": "code",
   "execution_count": null,
   "metadata": {},
   "outputs": [],
   "source": [
    "res_df['area_km'].sum()"
   ]
  },
  {
   "cell_type": "code",
   "execution_count": null,
   "metadata": {},
   "outputs": [],
   "source": [
    "res_df.shape"
   ]
  },
  {
   "cell_type": "code",
   "execution_count": null,
   "metadata": {},
   "outputs": [],
   "source": [
    "xr_indexer = {\n",
    "    'lon':xr.DataArray(res_df['longitude'].values, dims=['res']),\n",
    "    'lat':xr.DataArray(res_df['latitude'].values, dims=['res'])\n",
    "}"
   ]
  },
  {
   "cell_type": "code",
   "execution_count": null,
   "metadata": {},
   "outputs": [],
   "source": [
    "res_pets = pet_ds.sel(xr_indexer, method='nearest')\n",
    "res_pets = res_pets.assign(area_m=('res', res_df['area_m'].values))"
   ]
  },
  {
   "cell_type": "code",
   "execution_count": null,
   "metadata": {},
   "outputs": [],
   "source": [
    "res_month_evap = res_pets['pet']*res_pets['area_m']\n",
    "res_month_evap = res_month_evap/1000 # Assuming PET is in mm\n",
    "evap_value = (res_month_evap*365).sum()*1000 # 365 days per year, 1000 converts from cubic meters to liters"
   ]
  },
  {
   "cell_type": "code",
   "execution_count": null,
   "metadata": {},
   "outputs": [],
   "source": [
    "print(evap_value)"
   ]
  },
  {
   "cell_type": "markdown",
   "metadata": {},
   "source": [
    "# Future Calcs"
   ]
  },
  {
   "cell_type": "markdown",
   "metadata": {},
   "source": [
    "Using: https://www.nature.com/articles/s41597-023-02290-0\n"
   ]
  },
  {
   "cell_type": "code",
   "execution_count": null,
   "metadata": {},
   "outputs": [],
   "source": [
    "def interp(da):\n",
    "    indices = np.where(np.isfinite(da))\n",
    "    interp = NearestNDInterpolator(np.transpose(indices), da.data[indices])\n",
    "    da[...] = interp(*np.indices(da.shape))\n",
    "    return da\n",
    "\n",
    "\n",
    "def calc_total_evap(res_pets):\n",
    "    res_daily_evap = res_pets['PET']*res_pets['area_m'] / 1000 # Convert PET from mm to m\n",
    "    evap_value = (res_daily_evap*365).sum() * 1000 # Convert to annual cubic liters (not m^3)\n",
    "    return evap_value\n",
    "\n",
    "def full_pet_calcs(res_df, pet_ncdf_path):\n",
    "    pet_ds = xr.open_dataset(pet_ncdf_path)\n",
    "    xr_indexer = {\n",
    "        'lon':xr.DataArray(res_df['longitude'].values, dims=['res']),\n",
    "        'lat':xr.DataArray(res_df['latitude'].values, dims=['res'])\n",
    "    }\n",
    "    pet_ds_last10 = pet_ds.sel(time=slice('2090-01-01', '2100-01-01')).mean(dim='time')\n",
    "    pet_ds_first10 = pet_ds.sel(time=slice('2015-01-01', '2025-01-01')).mean(dim='time')\n",
    "    pet_ds_first10['PET'] = interp(pet_ds_first10['PET'])\n",
    "    pet_ds_last10['PET'] = interp(pet_ds_last10['PET'])\n",
    "    res_pets_last10 = pet_ds_last10.sel(xr_indexer, method='nearest')\n",
    "    res_pets_last10 = res_pets_last10.assign(area_m=('res', res_df['area_m'].values))\n",
    "    res_pets_first10 = pet_ds_first10.sel(xr_indexer, method='nearest')\n",
    "    res_pets_first10 = res_pets_first10.assign(area_m=('res', res_df['area_m'].values))\n",
    "    evap_first10 = calc_total_evap(res_pets_first10)\n",
    "    evap_last10 = calc_total_evap(res_pets_last10)\n",
    "    return evap_first10, evap_last10\n",
    "\n",
    "def annual_pet_calcs(res_df, pet_ncdf_path):\n",
    "    pet_ds = xr.open_dataset(pet_ncdf_path)\n",
    "    xr_indexer = {\n",
    "        'lon':xr.DataArray(res_df['longitude'].values, dims=['res']),\n",
    "        'lat':xr.DataArray(res_df['latitude'].values, dims=['res'])\n",
    "    }\n",
    "\n",
    "    evap_list = []\n",
    "\n",
    "    for y in range(2021, 2101):\n",
    "        pet_ds_year = pet_ds.sel(time=slice('{}-01-01'.format(y), '{}-12-30'.format(y))).mean(dim='time')\n",
    "        pet_ds_year['PET'] = interp(pet_ds_year['PET'])\n",
    "        res_pets_year = pet_ds_year.sel(xr_indexer, method='nearest')\n",
    "        res_pets_year = res_pets_year.assign(area_m=('res', res_df['area_m'].values))\n",
    "        evap_year = calc_total_evap(res_pets_year)\n",
    "        evap_list.append(evap_year.values)\n",
    "    return evap_list"
   ]
  },
  {
   "cell_type": "markdown",
   "metadata": {},
   "source": [
    "##  First/last evap"
   ]
  },
  {
   "cell_type": "code",
   "execution_count": null,
   "metadata": {},
   "outputs": [],
   "source": [
    "first_last_csv = './data/sentinel_v6_2021_allmodels_cmip6.csv'\n",
    "if not os.path.isfile(first_last_csv):\n",
    "    # Do All and write out results\n",
    "    all_models = glob.glob('./data/cmip6/*.nc')\n",
    "    all_dicts = []\n",
    "    for mod_nc in all_models:\n",
    "        mod_name = os.path.basename(mod_nc)[:-3]\n",
    "        print(mod_name)\n",
    "        baseline, final = full_pet_calcs(res_df, mod_nc)\n",
    "        out_dict = {\n",
    "            'model':mod_name,\n",
    "            'baseline_evap': baseline.values,\n",
    "            'final_evap': final.values\n",
    "        }\n",
    "        all_dicts.append(out_dict)\n",
    "    full_df = pd.DataFrame(all_dicts)\n",
    "    full_df.to_csv('./data/sentinel_v6_2021_allmodels_cmip6.csv', index=False)"
   ]
  },
  {
   "cell_type": "code",
   "execution_count": null,
   "metadata": {},
   "outputs": [],
   "source": [
    "full_df = pd.read_csv(first_last_csv)\n",
    "full_df['scenario'] = None\n",
    "full_df.loc[full_df['model'].str.contains('ssp126'), 'scenario'] = 'ssp126'\n",
    "full_df.loc[full_df['model'].str.contains('ssp245'), 'scenario'] = 'ssp245'\n",
    "full_df.loc[full_df['model'].str.contains('ssp370'), 'scenario'] = 'ssp370'\n",
    "full_df.loc[full_df['model'].str.contains('ssp585'), 'scenario'] = 'ssp585'\n",
    "full_df['ratio'] = (full_df['final_evap'] / full_df['baseline_evap'])"
   ]
  },
  {
   "cell_type": "code",
   "execution_count": null,
   "metadata": {},
   "outputs": [],
   "source": [
    "print(full_df.groupby('scenario').aggregate(['mean','std', 'max', 'min', 'count'])['ratio'])\n",
    "print(full_df.groupby('scenario').aggregate(['mean','std', 'max', 'min', 'count'])['ratio']['mean']*11700 - 11700)"
   ]
  },
  {
   "cell_type": "markdown",
   "metadata": {},
   "source": [
    "### Annual evap"
   ]
  },
  {
   "cell_type": "code",
   "execution_count": null,
   "metadata": {},
   "outputs": [],
   "source": [
    "annual_csv = './data/sentinel_v6_2021_allmodels_annual_cmip6.csv'\n",
    "if not os.path.isfile(annual_csv):\n",
    "    out_dict = {\n",
    "        'year':np.arange(2021,2101)\n",
    "    }\n",
    "    all_models = glob.glob('./data/cmip6/*.nc')\n",
    "    for mod_nc in all_models:\n",
    "        mod_name = os.path.basename(mod_nc)[:-3]\n",
    "        print(mod_name)\n",
    "        annual_evap = annual_pet_calcs(res_df, mod_nc)\n",
    "        out_dict[mod_name] = annual_evap\n",
    "\n",
    "    pd.DataFrame(out_dict).set_index('year').to_csv('./data/sentinel_v6_2021_allmodels_annual_cmip6.csv')"
   ]
  },
  {
   "cell_type": "code",
   "execution_count": null,
   "metadata": {},
   "outputs": [],
   "source": [
    "annual_df = pd.read_csv('./data/sentinel_v6_2021_allmodels_annual_cmip6.csv').set_index('year')\n",
    "annual_df.index = annual_df.index.astype(int)"
   ]
  },
  {
   "cell_type": "code",
   "execution_count": null,
   "metadata": {},
   "outputs": [],
   "source": [
    "# Scale to beginning\n",
    "annual_df_scaler = evap_value.values/annual_df.loc[2021]\n",
    "annual_df = annual_df*annual_df_scaler\n",
    "annual_df = annual_df/1000000000000 # Scale to km cubed\n",
    "# Smoothing, if wanted\n",
    "if True:\n",
    "    for col in annual_df.columns:\n",
    "        annual_df.loc[:, col] = np.convolve(annual_df[col], np.ones(3)/3, mode='same')\n",
    "    annual_df.loc[2021] = annual_df.loc[2021]*1.5\n",
    "    annual_df.loc[2100] = annual_df.loc[2100]*1.5"
   ]
  },
  {
   "cell_type": "code",
   "execution_count": null,
   "metadata": {},
   "outputs": [],
   "source": [
    "annual_df_rotate = annual_df.T\n",
    "annual_df_rotate['scenario'] = None\n",
    "annual_df_rotate.loc[annual_df_rotate.index.str.contains('ssp126'), 'scenario'] = 'SSP1-2.6'\n",
    "annual_df_rotate.loc[annual_df_rotate.index.str.contains('ssp245'), 'scenario'] = 'SSP2-4.5'\n",
    "annual_df_rotate.loc[annual_df_rotate.index.str.contains('ssp370'), 'scenario'] = 'SSP3-7.0'\n",
    "annual_df_rotate.loc[annual_df_rotate.index.str.contains('ssp585'), 'scenario'] = 'SSP5-8.5'"
   ]
  },
  {
   "cell_type": "code",
   "execution_count": null,
   "metadata": {},
   "outputs": [],
   "source": [
    "def calc_interval_low(a):\n",
    "    return st.t.interval(0.8, len(a)-1, loc=np.mean(a), scale=st.sem(a))[0]\n",
    "def calc_interval_high(a):\n",
    "    return st.t.interval(0.8, len(a)-1, loc=np.mean(a), scale=st.sem(a))[1]"
   ]
  },
  {
   "cell_type": "code",
   "execution_count": null,
   "metadata": {},
   "outputs": [],
   "source": [
    "\n",
    "annual_mean = annual_df_rotate.groupby('scenario').mean().T\n",
    "annual_std = annual_df_rotate.groupby('scenario').std().T\n",
    "annual_min = annual_df_rotate.groupby('scenario').min().T\n",
    "annual_max = annual_df_rotate.groupby('scenario').max().T\n",
    "# Compute CI\n",
    "annual_low = annual_min.copy()\n",
    "annual_high = annual_max.copy()\n",
    "for scenario in annual_mean.columns:\n",
    "    annual_low.loc[:,scenario] = annual_df_rotate.loc[annual_df_rotate['scenario']==scenario].drop(columns=['scenario']).apply(calc_interval_low)\n",
    "    annual_high.loc[:,scenario] = annual_df_rotate.loc[annual_df_rotate['scenario']==scenario].drop(columns=['scenario']).apply(calc_interval_high)"
   ]
  },
  {
   "cell_type": "code",
   "execution_count": null,
   "metadata": {},
   "outputs": [],
   "source": [
    "color_list = ['#6a0572','#f77f00', '#168AAD','forestgreen']\n",
    "linestyle_list = [':','--','-.','-']\n",
    "fig, ax = plt.subplots(figsize=(3.75,3.75))\n",
    "for i, scenario in enumerate(annual_mean.columns[::-1]):\n",
    "    lw=1.4\n",
    "    if i == 0:\n",
    "        lw=1.7\n",
    "    annual_mean[scenario].plot(color=color_list[i], style=linestyle_list[i], ax=ax, lw=lw)\n",
    "    ax.fill_between(annual_df.index,\n",
    "                    annual_low[scenario],\n",
    "                    annual_high[scenario],\n",
    "                    color=color_list[i],\n",
    "                    alpha=0.15, lw=0.9)\n",
    "ax.axhline(y=11.74,color='black', lw=1.0, label='Current', linestyle=(0, (5,8)))\n",
    "ax.set_xlim(2020, 2100)\n",
    "ax.set_xticks([2020, 2040, 2060, 2080, 2100])\n",
    "ax.legend()\n",
    "ax.set_xlabel('Year')\n",
    "ax.set_ylabel('Evaporation ($km^3y^{-1}$)')\n",
    "# plt.savefig('/home/ksolvik/research/reservoirs/figs/ch0/evaporation.jpg', dpi=300,\n",
    "#             pil_kwargs={'quality':95},\n",
    "#             bbox_inches='tight')\n"
   ]
  }
 ],
 "metadata": {
  "kernelspec": {
   "display_name": "resgis",
   "language": "python",
   "name": "python3"
  },
  "language_info": {
   "codemirror_mode": {
    "name": "ipython",
    "version": 3
   },
   "file_extension": ".py",
   "mimetype": "text/x-python",
   "name": "python",
   "nbconvert_exporter": "python",
   "pygments_lexer": "ipython3",
   "version": "3.10.13"
  }
 },
 "nbformat": 4,
 "nbformat_minor": 2
}
