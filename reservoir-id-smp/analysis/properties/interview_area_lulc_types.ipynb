{
 "cells": [
  {
   "cell_type": "code",
   "execution_count": 1,
   "metadata": {},
   "outputs": [],
   "source": [
    "import pandas as pd\n",
    "import geopandas as gpd\n",
    "import numpy as np\n",
    "import glob\n",
    "import matplotlib.pyplot as plt\n",
    "import matplotlib as mpl"
   ]
  },
  {
   "cell_type": "code",
   "execution_count": 2,
   "metadata": {},
   "outputs": [],
   "source": [
    "prop_gpkg = './data/pa_br_landtenure_studyarea_only.gpkg'\n",
    "area_col = 'area_ha'\n",
    "prop_gdf = gpd.read_file(prop_gpkg)\n",
    "prop_gdf = prop_gdf.rename(columns={area_col:'prop_area'})\n",
    "prop_gdf.loc[:,'fid'] = prop_gdf.index + 1\n",
    "prop_gdf = prop_gdf.to_crs('EPSG:4326')"
   ]
  },
  {
   "cell_type": "code",
   "execution_count": 3,
   "metadata": {},
   "outputs": [],
   "source": [
    "\n",
    "mb_keys_dict = {\n",
    "    'crop': np.array([18,19,39,20,40,62,41,36,46,47,35,48]),\n",
    "    'forest': np.array([3]),\n",
    "    'savanna': np.array([4]),\n",
    "    'grassland':np.array([12]),\n",
    "    'pasture': np.array([15])\n",
    "}\n",
    "\n",
    "muni_names_dict = {\n",
    "\n",
    "    5101803: 'Barra do Garças',\n",
    "    5102702: 'Canarana',\n",
    "    5106257: 'Nova Xavantina',\n",
    "    5107065: 'Querência',\n",
    "}\n",
    "muni_order = ['Barra do Garças', 'Nova Xavantina', 'Canarana', 'Querência']"
   ]
  },
  {
   "cell_type": "code",
   "execution_count": 4,
   "metadata": {},
   "outputs": [],
   "source": [
    "def assign_lulc_classes(in_df):\n",
    "    out_df = pd.DataFrame()\n",
    "    for lulc_class in mb_keys_dict.keys():\n",
    "        sum_of_class = in_df.loc[:, np.in1d(in_df.columns.astype(int), mb_keys_dict[lulc_class])].sum(axis=1)\n",
    "        out_df[lulc_class] = sum_of_class\n",
    "    # out_df = out_df.div((out_df.sum(axis=1)), axis=0)*100\n",
    "    out_df = out_df*90000/(1000*1000)\n",
    "    out_df['natural'] = out_df[['forest','savanna','grassland']].sum(axis=1)\n",
    "    out_df = out_df.drop(columns=['forest','savanna','grassland'])\n",
    "    out_df.columns = pd.MultiIndex.from_product([[y],out_df.columns])\n",
    "    return out_df\n",
    "\n",
    "def assign_property_lulc(row):\n",
    "    per_df = row/row.sum()\n",
    "    if np.sum(per_df['crop'] + per_df['pasture']) > 0.1:\n",
    "        if per_df['crop'] > per_df['pasture']:\n",
    "            return 'crop'\n",
    "        else:\n",
    "            return 'pasture'\n",
    "    else:\n",
    "        return per_df.idxmax()\n",
    "\n",
    "\n",
    "\n"
   ]
  },
  {
   "cell_type": "code",
   "execution_count": null,
   "metadata": {},
   "outputs": [],
   "source": [
    "prop_gdf = prop_gdf.drop_duplicates(['fid'])\n",
    "prop_gdf = prop_gdf.set_index('fid')\n",
    "prop_gdf.columns = pd.MultiIndex.from_product([[0], prop_gdf.columns])\n",
    "for y in np.arange(1985, 2024):\n",
    "    year_csv_path = './out/mb_stats/prop_mb_stats{}.csv'.format(y)\n",
    "    year_df = pd.read_csv(year_csv_path, index_col=0)\n",
    "    year_df.index = year_df.index.astype(int)\n",
    "    lulc_df = assign_lulc_classes(year_df)\n",
    "    lulc_df\n",
    "    prop_gdf = prop_gdf.join(lulc_df)\n",
    "    prop_gdf[(y, 'other')] = prop_gdf[(0, 'prop_area')] - lulc_df.loc[:,pd.IndexSlice[y, ['crop','natural','pasture']]].sum(axis=1)\n",
    "    prop_gdf.loc[prop_gdf[(y, 'other')]<0, (y, 'other')] = 0\n",
    "\n",
    "prop_gdf = prop_gdf.copy()\n",
    "prop_gdf[(0, 'new_size_class')] = 'Small'\n",
    "prop_gdf.loc[prop_gdf[(0, 'prop_area')] > 100, (0, 'new_size_class')] = 'Medium'\n",
    "prop_gdf.loc[prop_gdf[(0, 'prop_area')] > 1000, (0, 'new_size_class')] = 'Large'\n",
    "prop_gdf.loc[prop_gdf[(0, 'prop_area')] > 10000, (0, 'new_size_class')] = 'Super'\n",
    "\n",
    "prop_gdf[(0, 'lulc_class')] = lulc_df[2023].apply(assign_property_lulc, axis=1)\n",
    "# Only our 4 munis\n",
    "prop_gdf = prop_gdf.loc[prop_gdf[(0, 'cd_mun')].isin(muni_names_dict.keys())]\n",
    "prop_gdf = prop_gdf.loc[prop_gdf[(0, 'nm_class')] == 'PL']"
   ]
  },
  {
   "cell_type": "code",
   "execution_count": 6,
   "metadata": {},
   "outputs": [],
   "source": [
    "\n",
    "type_counts = prop_gdf[0][['cd_mun', 'lulc_class']].groupby(['cd_mun', 'lulc_class']).value_counts()\n",
    "type_counts_unstacked = type_counts.loc[muni_names_dict.keys()].unstack(level=0).rename(columns=muni_names_dict)\n",
    "type_counts_unstacked.index = [s.capitalize() for s in type_counts_unstacked.index]\n"
   ]
  },
  {
   "cell_type": "code",
   "execution_count": 7,
   "metadata": {},
   "outputs": [],
   "source": [
    "\n",
    "pie_color_list = [\"#7A9E43\", \"#2F4F2F\",'#D4A76A']"
   ]
  },
  {
   "cell_type": "code",
   "execution_count": null,
   "metadata": {},
   "outputs": [],
   "source": [
    "print(type_counts_unstacked[muni_order])"
   ]
  },
  {
   "cell_type": "code",
   "execution_count": null,
   "metadata": {},
   "outputs": [],
   "source": [
    "fig, axs = plt.subplots(2,2, figsize=(6.35, 5.35))\n",
    "for i, muni in enumerate(muni_order):\n",
    "    type_counts_unstacked.plot.pie(\n",
    "        y=muni, colors=pie_color_list, legend=False, autopct='%1.0f%%', ax=axs.flatten()[i])\n",
    "fig.tight_layout()\n",
    "plt.savefig('/home/ksolvik/research/reservoirs/figs/ch3/lulc_dist.jpg', dpi=150,\n",
    "            pil_kwargs={'quality':80},\n",
    "            bbox_inches='tight')"
   ]
  },
  {
   "cell_type": "code",
   "execution_count": 10,
   "metadata": {},
   "outputs": [],
   "source": [
    "# Get reservoir info\n",
    "prop_gdf_res = prop_gdf.copy()\n",
    "for y in np.arange(1984, 2024): \n",
    "    df_list = []\n",
    "    for ls_csv in glob.glob('./out/res_stats_buffer/prop_res_stats_*{}.csv'.format(y)):\n",
    "        res_df = pd.read_csv(ls_csv).set_index('fid')\n",
    "        df_list.append(res_df.fillna(0))\n",
    "    # Calc mean if multiple satellites\n",
    "    year_res_df = pd.concat(df_list, axis=1).groupby(axis=1, level=0).mean()\n",
    "    year_res_df.columns = pd.MultiIndex.from_arrays([[y]*3, year_res_df.columns])\n",
    "    prop_gdf_res = prop_gdf_res.join(year_res_df,how='left')"
   ]
  },
  {
   "cell_type": "code",
   "execution_count": 11,
   "metadata": {},
   "outputs": [],
   "source": [
    "prop_gdf_res[(0,'lulc_class')] = prop_gdf_res[(0, 'lulc_class')].str.capitalize()"
   ]
  },
  {
   "cell_type": "code",
   "execution_count": null,
   "metadata": {},
   "outputs": [],
   "source": [
    "size_colors = [ '#748A9E','#e88f43','#BCCDA5', '#C75D4D']\n",
    "# Single, just numbers\n",
    "cmap = mpl.colormaps.get_cmap('Set2')\n",
    "fig, axs = plt.subplots(1,2, figsize=(7.35, 7.35))\n",
    "prop_gdf_res[[(0, 'lulc_class'),(2023, 'count')]].groupby([(0, 'lulc_class')]).sum()[(2023, 'count')].plot.pie(\n",
    "    ax=axs[0], colors=pie_color_list, autopct='%1.0f%%')\n",
    "prop_gdf_res[[(0, 'new_size_class'),(2023, 'count')]].groupby([(0, 'new_size_class')]).sum()[(2023, 'count')].plot.pie(\n",
    "    ax=axs[1], colors=size_colors, autopct='%1.0f%%')\n",
    "axs[0].set_title ('Reservoirs by LULC')\n",
    "axs[1].set_title ('Reservoirs by property size')\n",
    "axs[0].set_ylabel('')\n",
    "axs[1].set_ylabel('')\n",
    "fig.tight_layout()\n",
    "plt.savefig('/home/ksolvik/research/reservoirs/figs/ch3/res_dist.jpg', dpi=150,\n",
    "            pil_kwargs={'quality':80},\n",
    "            bbox_inches='tight')"
   ]
  },
  {
   "cell_type": "code",
   "execution_count": null,
   "metadata": {},
   "outputs": [],
   "source": [
    "cmap = mpl.colormaps.get_cmap('Set2')\n",
    "fig, axs = plt.subplots(2,2, figsize=(7.35, 7.35))\n",
    "prop_gdf_res[[(0, 'lulc_class'),(2023, 'count')]].groupby([(0, 'lulc_class')]).sum()[(2023, 'count')].plot.pie(\n",
    "    ax=axs[0, 0], colors=pie_color_list, autopct='%1.0f%%')\n",
    "prop_gdf_res[[(0, 'lulc_class'),(2023, 'sum')]].groupby([(0, 'lulc_class')]).sum()[(2023, 'sum')].plot.pie(\n",
    "    ax=axs[0, 1], colors=pie_color_list, autopct='%1.0f%%')\n",
    "axs[0, 0].set_title ('Res Count by LULC')\n",
    "axs[0, 1].set_title ('Res Area by LULC') \n",
    "axs[0, 0].set_ylabel('')\n",
    "axs[0, 1].set_ylabel('')\n",
    "prop_gdf_res[[(0, 'new_size_class'),(2023, 'count')]].groupby([(0, 'new_size_class')]).sum()[(2023, 'count')].plot.pie(\n",
    "    ax=axs[1, 0], colors=cmap([0, 1, 2, 3]), autopct='%1.0f%%')\n",
    "prop_gdf_res[[(0, 'new_size_class'),(2023, 'sum')]].groupby([(0, 'new_size_class')]).sum()[(2023, 'sum')].plot.pie(\n",
    "    ax=axs[1, 1], colors=cmap([0, 1, 2, 3]), autopct='%1.0f%%')\n",
    "axs[1, 0].set_title ('Count by size class')\n",
    "axs[1, 1].set_title ('Area by size class')\n",
    "axs[1, 0].set_ylabel('')\n",
    "axs[1, 1].set_ylabel('')\n",
    "fig.tight_layout()"
   ]
  },
  {
   "cell_type": "code",
   "execution_count": null,
   "metadata": {},
   "outputs": [],
   "source": [
    "print(prop_gdf_res[(0,'new_size_class')].value_counts())"
   ]
  },
  {
   "cell_type": "code",
   "execution_count": 15,
   "metadata": {},
   "outputs": [],
   "source": [
    "# Rename portuguese\n",
    "port_rename_dict = {\n",
    "    'Crop': 'Colheitas',\n",
    "    'Pasture': 'Pastagem',\n",
    "    'Natural': 'Floresta'\n",
    "    }"
   ]
  },
  {
   "cell_type": "code",
   "execution_count": 16,
   "metadata": {},
   "outputs": [],
   "source": [
    "prop_gdf_res_port = prop_gdf_res.copy()\n",
    "prop_gdf_res_port[(0, 'lulc_class')] = prop_gdf_res_port[(0, 'lulc_class')].map(port_rename_dict)"
   ]
  },
  {
   "cell_type": "code",
   "execution_count": 17,
   "metadata": {},
   "outputs": [],
   "source": [
    "pie_colors_port = ['lightgreen','forestgreen','peru']\n",
    "grayscale_colors = plt.cm.gray([0.8, 0.4, 0.6])"
   ]
  },
  {
   "cell_type": "code",
   "execution_count": null,
   "metadata": {},
   "outputs": [],
   "source": [
    "# Portuguese\n",
    "fig, ax = plt.subplots(1,1, figsize=(3.5, 3.5))\n",
    "prop_gdf_res_port[[(0, 'lulc_class'),(2023, 'count')]].groupby([(0, 'lulc_class')]).sum()[(2023, 'count')].plot.pie(\n",
    "    ax=ax, colors=grayscale_colors, autopct='%1.0f%%')\n",
    "ax.set_title ('Distribuição das Represas')\n",
    "ax.set_ylabel('')"
   ]
  }
 ],
 "metadata": {
  "kernelspec": {
   "display_name": "resgis",
   "language": "python",
   "name": "python3"
  },
  "language_info": {
   "codemirror_mode": {
    "name": "ipython",
    "version": 3
   },
   "file_extension": ".py",
   "mimetype": "text/x-python",
   "name": "python",
   "nbconvert_exporter": "python",
   "pygments_lexer": "ipython3",
   "version": "3.10.13"
  }
 },
 "nbformat": 4,
 "nbformat_minor": 2
}
