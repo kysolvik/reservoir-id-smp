{
 "cells": [
  {
   "cell_type": "code",
   "execution_count": null,
   "id": "045b4938",
   "metadata": {},
   "outputs": [],
   "source": [
    "import pandas as pd\n",
    "import numpy as np\n",
    "import geopandas as gpd\n",
    "import matplotlib.pyplot as plt"
   ]
  },
  {
   "cell_type": "code",
   "execution_count": null,
   "id": "06988e23",
   "metadata": {},
   "outputs": [],
   "source": [
    "tmax = 500\n",
    "tmin = 10"
   ]
  },
  {
   "cell_type": "code",
   "execution_count": null,
   "id": "1e67aa53",
   "metadata": {},
   "outputs": [],
   "source": [
    "full_df = pd.read_csv('./data/ls8_2019_v2_wgs84_merged_climate_extracted.csv')\n",
    "# full_df = pd.read_csv('./data/ls5_14809735246949.708984_v2_wgs84_merged_climate_extracted.csv')"
   ]
  },
  {
   "cell_type": "code",
   "execution_count": null,
   "id": "0d946db6",
   "metadata": {},
   "outputs": [],
   "source": [
    "# Temporary: Convert to lat/lon\n",
    "def get_lat_lon(temp_df): \n",
    "    temp_df = temp_df[['center_lat', 'center_lon']]\n",
    "    gdf = gpd.GeoDataFrame(\n",
    "        temp_df, geometry=gpd.points_from_xy(temp_df.center_lon, temp_df.center_lat),\n",
    "        crs='ESRI:102033'\n",
    "    )\n",
    "    gdf_wgs84 = gdf.to_crs('EPSG:4326')\n",
    "    \n",
    "    return gdf_wgs84.geometry.x, gdf_wgs84.geometry.y\n"
   ]
  },
  {
   "cell_type": "code",
   "execution_count": null,
   "id": "89f847ba",
   "metadata": {},
   "outputs": [],
   "source": [
    "full_df['longitude'], full_df['latitude'] = get_lat_lon(full_df)"
   ]
  },
  {
   "cell_type": "code",
   "execution_count": null,
   "id": "0e339066",
   "metadata": {},
   "outputs": [],
   "source": [
    "full_df = full_df.loc[full_df['hydropoly_max']<100]\n",
    "full_df['area_ha'] = full_df['area']*100/10000 # HA\n",
    "full_df['area_km'] = full_df['area']*100/(1000*1000) # km2\n",
    "full_df = full_df.loc[full_df['area_ha']<100] # Remove less than 100 ha\n",
    "full_df['area_m'] = full_df['area']*100\n"
   ]
  },
  {
   "cell_type": "markdown",
   "id": "967b5831",
   "metadata": {},
   "source": [
    "|Variable|Variable name      |Units     |Offset|Scale      |\n",
    "|--------|-------------------|----------|------|-----------|\n",
    "|pr      |Precipitation      |mm        |225   |0.006866665|\n",
    "|Eto     |evapotranspiration |mm        |0     |0.051181102|\n",
    "|Tmax    |maximum temperature|C         |15    |0.001068148|\n",
    "|Tmin    |minimum temperature|C         |15    |0.001068148|\n",
    "|RH      |Relative humidity  |Percentage|0     |0.393700787|\n",
    "|RS      |Solar radiation    |MJ/m2     |0     |0.157086614|\n",
    "|U2      |Wind speed         |m/s       |0     |0.059055118|"
   ]
  },
  {
   "cell_type": "markdown",
   "id": "0dc6b316",
   "metadata": {},
   "source": [
    "alpha is reflection coefficient or albedo. A typical\n",
    "value of the albedo for a grass cover is a = 0.23, whereas\n",
    "for open water surfaces a = 0.08 (Shuttleworth, 1993; Allen\n",
    "et al., 1998)."
   ]
  },
  {
   "cell_type": "markdown",
   "id": "d15151a8",
   "metadata": {},
   "source": [
    "# Method 1: Multiply by evapotranspiration\n",
    "In the 2019 paper, we just multiplied ETo by area, but I think there should be a scale factor applied (0.6-0.8 maybe) to get lake evaporation from reference Eto.\n",
    "\n",
    "Actually, not as sure based on this: https://ag.arizona.edu/azmet/et1.htm\n",
    "\"     ETo is a Reference Evapotranspiration.\n",
    "              ---------\n",
    "\n",
    "     This is NOT equal to a Pan Evaporation value.\n",
    "\n",
    "     ETo values can be considered equal to evaporation from a large body \n",
    "     of water, such as a pond or lake.  However, for smaller, shallower \n",
    "     bodies of water this relationship does not apply.\n",
    "     Many factors affect lake/pond evaporation including surface area,\n",
    "     depth, water temperature, and turbidity.\n",
    "     To date, not enough research has been done to determine the\n",
    "     minimum body of water size at which ETo is still equal.\"\n",
    "     \n",
    "     \n",
    "Ok but now this distinguishes betweeen reference ET (a crop) and potential ET (example given as \"such as a lake\"): https://www.usgs.gov/centers/cfwsc/science/reference-and-potential-evapotranspiration\n",
    "\n",
    "Another possible ET dataset: https://www.sciencebase.gov/catalog/item/6515cb7ad34e469cabfcdccd\n",
    "https://www.nature.com/articles/s41597-023-02648-4#Sec6"
   ]
  },
  {
   "cell_type": "code",
   "execution_count": null,
   "id": "b77e936b",
   "metadata": {},
   "outputs": [],
   "source": [
    "evap_scale = 1.0"
   ]
  },
  {
   "cell_type": "code",
   "execution_count": null,
   "id": "ff6e3790",
   "metadata": {},
   "outputs": [],
   "source": [
    "# Equation:\n",
    "# scaling_factor * ETo/1000 = evapotranspiration in m\n",
    "# Multiply by area_m to get evapotranspiration in m^3\n",
    "# Multiply by evaporation scaling factor (maybe 0.6 - 0.8, need to find reference) to get evaporation of lake\n",
    "# Multiply by 1000 to get \n",
    "# Multiply by 365 to get annual number? ETo is provided as daily average.\n",
    "evap_value = ((full_df['et']/1000)*full_df['area_m']*0.051181102).sum()*evap_scale*1000*365"
   ]
  },
  {
   "cell_type": "code",
   "execution_count": null,
   "id": "3db477e1",
   "metadata": {},
   "outputs": [],
   "source": [
    "print(evap_value)"
   ]
  },
  {
   "cell_type": "code",
   "execution_count": null,
   "id": "8cb5c47d",
   "metadata": {},
   "outputs": [],
   "source": [
    "# Scientific notation\n",
    "\"{:.2E}\".format(evap_value)"
   ]
  },
  {
   "cell_type": "code",
   "execution_count": null,
   "id": "a9379c27",
   "metadata": {},
   "outputs": [],
   "source": [
    "evap_value_1984 = 4809735246949.708"
   ]
  },
  {
   "cell_type": "code",
   "execution_count": null,
   "id": "db734c47",
   "metadata": {},
   "outputs": [],
   "source": [
    "evap_value_2019 = 10701271544365.17"
   ]
  },
  {
   "cell_type": "code",
   "execution_count": null,
   "id": "6cdfc1f7",
   "metadata": {},
   "outputs": [],
   "source": [
    "evap_value_2019/evap_value_1984"
   ]
  },
  {
   "cell_type": "code",
   "execution_count": null,
   "id": "016a32eb",
   "metadata": {},
   "outputs": [],
   "source": [
    "lat_2014_evap = 7.31E11\n",
    "lat_2014_impoundment_area_ha = 51000\n"
   ]
  },
  {
   "cell_type": "code",
   "execution_count": null,
   "id": "e180d260",
   "metadata": {},
   "outputs": [],
   "source": [
    "full_df['area_ha'].sum()/51000"
   ]
  },
  {
   "cell_type": "code",
   "execution_count": null,
   "id": "6478d516",
   "metadata": {},
   "outputs": [],
   "source": [
    "evap_value/(7.31E11)"
   ]
  },
  {
   "cell_type": "code",
   "execution_count": null,
   "id": "f6d75802",
   "metadata": {},
   "outputs": [],
   "source": [
    "per_capita_daily_use_liters = 841\n",
    "total_annual_use_liters =(63500000000)*1000"
   ]
  },
  {
   "cell_type": "code",
   "execution_count": null,
   "id": "15130d8d",
   "metadata": {},
   "outputs": [],
   "source": [
    "evap_value/(total_annual_use_liters) # Equivalent to 10% of Brazil's total annual water use? Seems too high"
   ]
  },
  {
   "cell_type": "code",
   "execution_count": null,
   "id": "b02aa5d5",
   "metadata": {},
   "outputs": [],
   "source": [
    "lat_2014_evap/total_annual_use_liters # Just in Mato Grosso says evaporation is 1%, also seems too high"
   ]
  },
  {
   "cell_type": "markdown",
   "id": "9726c702",
   "metadata": {},
   "source": [
    "# Method 2: Use modified Penman Equations\n",
    "\n",
    "See Valiantzas papers, mainly the first on ewhich ahs an open water calculation. Problem is that that needs to be monthly. Using the new one that is not monthly to start out.1\n",
    "\n"
   ]
  },
  {
   "cell_type": "code",
   "execution_count": null,
   "id": "7d82e1d4",
   "metadata": {},
   "outputs": [],
   "source": [
    "Rs = full_df['rs']*0.157086614\n",
    "tmax_scaled = full_df['tmax']*0.001068148 + 15\n",
    "tmin_scaled = full_df['tmin']*0.001068148 + 15\n",
    "Tmean = (tmax_scaled + tmin_scaled)/2\n",
    "RH = full_df['rh']*0.393700787\n",
    "u2 = full_df['u2']*0.059055118\n",
    "lat_radians = np.radians(full_df['latitude']+90)"
   ]
  },
  {
   "cell_type": "code",
   "execution_count": null,
   "id": "72e3e707",
   "metadata": {},
   "outputs": [],
   "source": [
    "vali_et_o = (0.0393*Rs*np.sqrt(Tmean + 9.5)\n",
    "        - 0.19*(Rs**0.6)*(lat_radians**0.15)\n",
    "        + 0.048*(Tmean+20)*(1-(RH/100))*(u2**0.7)\n",
    "       )."
   ]
  },
  {
   "cell_type": "code",
   "execution_count": null,
   "id": "cfdc6e4b",
   "metadata": {},
   "outputs": [],
   "source": [
    "plt.scatter(vali_et_o, full_df['et']*0.051181102)\n",
    "plt.plot([2, 6], [2, 6], 'k-', lw=2)"
   ]
  },
  {
   "cell_type": "markdown",
   "id": "ad37dead",
   "metadata": {},
   "source": [
    "### Method 2B: Adapting simplified equations to open water\n",
    "\n",
    "Replace alpha (albedo) with open water one (0.08 instead of 0.23)\n",
    "\n",
    "Replace 0.048 factor with 0.052 because of correction (se equations 21 and 25 in Valiantzas paper)\n",
    "\n",
    "Replace wind simplification with full factor, but may  not be needed. a_u - 0.38 * 0.54u \n",
    "\n",
    "a_u is 1 for full Penman wind factor, 0.5 for reduced. \n",
    "But in another place this is just listed as 0.5 + 0.54u"
   ]
  },
  {
   "cell_type": "code",
   "execution_count": null,
   "id": "23b1a777",
   "metadata": {},
   "outputs": [],
   "source": [
    "alpha = 0.08\n",
    "wind_factor = 1 "
   ]
  },
  {
   "cell_type": "code",
   "execution_count": null,
   "id": "78859643",
   "metadata": {},
   "outputs": [],
   "source": [
    "vali_e_open = (\n",
    "    0.051*(1-alpha)*Rs*np.sqrt(Tmean + 9.5)\n",
    "    - 0.19*(Rs**0.6)*(lat_radians**0.15)\n",
    "    + 0.052*(Tmean+20)*(1-(RH/100))*(u2**0.7)\n",
    ")"
   ]
  },
  {
   "cell_type": "code",
   "execution_count": null,
   "id": "2dda853c",
   "metadata": {},
   "outputs": [],
   "source": [
    "# vali_e_open = (\n",
    "#     0.051*(1-alpha)*Rs*np.sqrt(Tmean + 9.5)\n",
    "#     - 0.19*(Rs**0.6)*(lat_radians**0.15)\n",
    "#     + 0.052*(Tmean+20)*(1-(RH/100))*(wind_factor - 0.38 + 0.54*u2)\n",
    "# )"
   ]
  },
  {
   "cell_type": "code",
   "execution_count": null,
   "id": "1725232d",
   "metadata": {},
   "outputs": [],
   "source": [
    "evap_value_vali_e_open = (\n",
    "    ((vali_e_open/1000)*full_df['area_m']).sum()\n",
    "    * evap_scale * 1000 * 365)"
   ]
  },
  {
   "cell_type": "code",
   "execution_count": null,
   "id": "77e498cd",
   "metadata": {},
   "outputs": [],
   "source": [
    "evap_value_vali_e_open"
   ]
  },
  {
   "cell_type": "code",
   "execution_count": null,
   "id": "ffad445f",
   "metadata": {},
   "outputs": [],
   "source": [
    "1169665.00*1000000"
   ]
  },
  {
   "cell_type": "code",
   "execution_count": null,
   "id": "8f7db9ed",
   "metadata": {},
   "outputs": [],
   "source": [
    "1.1E12"
   ]
  },
  {
   "cell_type": "code",
   "execution_count": null,
   "id": "88b0edd9",
   "metadata": {},
   "outputs": [],
   "source": [
    "1169665000000"
   ]
  },
  {
   "cell_type": "code",
   "execution_count": null,
   "id": "0dbcb7b6",
   "metadata": {},
   "outputs": [],
   "source": [
    "# Scientific notation\n",
    "\"{:.2E}\".format(evap_value_vali_e_open)"
   ]
  },
  {
   "cell_type": "code",
   "execution_count": null,
   "id": "ce38ed66",
   "metadata": {},
   "outputs": [],
   "source": [
    "evap_value/0.85"
   ]
  },
  {
   "cell_type": "markdown",
   "id": "dfa489cd",
   "metadata": {},
   "source": [
    "# Sanity check: Lake Mead and Powell combined evaporation: \n",
    "\n",
    "Surface area: https://en.wikipedia.org/wiki/Lake_Powell and https://en.wikipedia.org/wiki/Lake_Mead\n",
    "Evaporation: https://coloradoriverscience.org/Reservoir_evaporation"
   ]
  },
  {
   "cell_type": "code",
   "execution_count": null,
   "id": "41596c86",
   "metadata": {},
   "outputs": [],
   "source": [
    "mead_powell = 1400001885616 # In liters"
   ]
  },
  {
   "cell_type": "code",
   "execution_count": null,
   "id": "1faba87c",
   "metadata": {},
   "outputs": [],
   "source": [
    "mead_powell_area_ha = 65310 + 64000"
   ]
  },
  {
   "cell_type": "code",
   "execution_count": null,
   "id": "13f22e5a",
   "metadata": {},
   "outputs": [],
   "source": [
    "mead_powell/mead_powell_area_ha"
   ]
  },
  {
   "cell_type": "code",
   "execution_count": null,
   "id": "3c521f3f",
   "metadata": {},
   "outputs": [],
   "source": [
    "evap_value_2019/full_df['area_ha'].sum()"
   ]
  },
  {
   "cell_type": "markdown",
   "id": "3f3a4651",
   "metadata": {},
   "source": [
    "# Comparisons: \n"
   ]
  },
  {
   "cell_type": "code",
   "execution_count": null,
   "id": "65c67843",
   "metadata": {},
   "outputs": [],
   "source": []
  },
  {
   "cell_type": "code",
   "execution_count": null,
   "id": "bf8f3f06",
   "metadata": {},
   "outputs": [],
   "source": [
    "acre_feet_to_liters = 1233481.8375"
   ]
  },
  {
   "cell_type": "code",
   "execution_count": null,
   "id": "27d104b6",
   "metadata": {},
   "outputs": [],
   "source": [
    "# US ag irrigation: \n",
    "# https://www.nass.usda.gov/Publications/Highlights/2019/2017Census_Irrigation_and_WaterManagement.pdf\n",
    "us_ag_irrigation = 83400000*acre_feet_to_liters # 83.4 million acre-feet"
   ]
  },
  {
   "cell_type": "code",
   "execution_count": null,
   "id": "ac8af6d3",
   "metadata": {},
   "outputs": [],
   "source": [
    "\"{:.2E}\".format(us_ag_irrigation)"
   ]
  },
  {
   "cell_type": "code",
   "execution_count": null,
   "id": "dee43d1c",
   "metadata": {},
   "outputs": [],
   "source": [
    "evap_value_vali_e_open/us_ag_irrigation"
   ]
  },
  {
   "cell_type": "code",
   "execution_count": null,
   "id": "bb4bbf09",
   "metadata": {},
   "outputs": [],
   "source": []
  }
 ],
 "metadata": {
  "kernelspec": {
   "display_name": "resgis",
   "language": "python",
   "name": "resgis"
  },
  "language_info": {
   "codemirror_mode": {
    "name": "ipython",
    "version": 3
   },
   "file_extension": ".py",
   "mimetype": "text/x-python",
   "name": "python",
   "nbconvert_exporter": "python",
   "pygments_lexer": "ipython3",
   "version": "3.10.13"
  }
 },
 "nbformat": 4,
 "nbformat_minor": 5
}
