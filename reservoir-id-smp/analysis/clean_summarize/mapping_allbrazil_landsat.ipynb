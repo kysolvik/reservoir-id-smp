{
 "cells": [
  {
   "cell_type": "code",
   "execution_count": null,
   "id": "4d936ee2",
   "metadata": {},
   "outputs": [],
   "source": [
    "import pandas as pd\n",
    "import glob\n",
    "import os\n",
    "import numpy as np\n",
    "import matplotlib.pyplot as plt\n",
    "from matplotlib.animation import FuncAnimation\n",
    "import geopandas as gpd\n",
    "import shapely"
   ]
  },
  {
   "cell_type": "markdown",
   "id": "9cbfa3e7",
   "metadata": {},
   "source": [
    "# Setup"
   ]
  },
  {
   "cell_type": "code",
   "execution_count": null,
   "id": "25cb824e",
   "metadata": {},
   "outputs": [],
   "source": [
    "brazil_gdf = gpd.read_file('../regions/data/lm_bioma_250.shp')\n",
    "brazil_gdf = brazil_gdf.to_crs('EPSG:4326')"
   ]
  },
  {
   "cell_type": "code",
   "execution_count": null,
   "id": "ff3f57b5",
   "metadata": {},
   "outputs": [],
   "source": [
    "if not os.path.isfile('../regions/data/lm_bioma_250_DISSOLVED.shp'):\n",
    "    brazil_gdf_dissolved = brazil_gdf.copy()\n",
    "    brazil_gdf_dissolved['geometry'] = brazil_gdf_dissolved.buffer(0.001)\n",
    "    brazil_gdf_dissolved = brazil_gdf.dissolve()\n",
    "    brazil_gdf_dissolved.to_file('../regions/data/lm_bioma_250_DISSOLVED.shp')\n",
    "else:\n",
    "    brazil_gdf_dissolved = gpd.read_file('../regions/data/lm_bioma_250_DISSOLVED.shp')"
   ]
  },
  {
   "cell_type": "code",
   "execution_count": null,
   "id": "306cb611",
   "metadata": {},
   "outputs": [],
   "source": [
    "all_csvs = glob.glob('./out/v3_cloudfilt/ls*merged.csv')\n",
    "all_csvs.sort()"
   ]
  },
  {
   "cell_type": "code",
   "execution_count": null,
   "id": "84e620d5",
   "metadata": {},
   "outputs": [],
   "source": [
    "# Temporary: Convert to lat/lon\n",
    "for csv in all_csvs:\n",
    "    out_path = csv.replace('aea', 'wgs84')\n",
    "    if not os.path.isfile(out_path):\n",
    "        temp_df = pd.read_csv(csv)\n",
    "        temp_df = temp_df[['center_lat', 'center_lon', 'hydropoly_max', 'area']]\n",
    "        gdf = gpd.GeoDataFrame(\n",
    "            temp_df, geometry=gpd.points_from_xy(temp_df.center_lon, temp_df.center_lat),\n",
    "            crs='ESRI:102033'\n",
    "        )\n",
    "        gdf_wgs84 = gdf.to_crs('EPSG:4326')\n",
    "        gdf_wgs84['longitude'] = gdf_wgs84.geometry.x\n",
    "        gdf_wgs84['latitude'] = gdf_wgs84.geometry.y\n",
    "        gdf_wgs84.drop(columns=['geometry']).to_csv(out_path, index=False)"
   ]
  },
  {
   "cell_type": "code",
   "execution_count": null,
   "id": "cd894dce",
   "metadata": {},
   "outputs": [],
   "source": [
    "def read_process_csv(csv):\n",
    "    temp_df = pd.read_csv(csv)\n",
    "    temp_df['satellite'] = os.path.basename(csv)[:3]\n",
    "    temp_df['year'] = int(os.path.basename(csv)[4:8])\n",
    "    return temp_df"
   ]
  },
  {
   "cell_type": "markdown",
   "id": "30772ce2",
   "metadata": {},
   "source": [
    "# Start/end plot"
   ]
  },
  {
   "cell_type": "code",
   "execution_count": null,
   "id": "267d1820",
   "metadata": {},
   "outputs": [],
   "source": [
    "all_csvs = ['./out/v3_cloudfilt/ls5_1984_cloudfilt_v3_wgs84_merged.csv', './out/v3_cloudfilt/ls7_2019_cloudfilt_v3_wgs84_merged.csv']"
   ]
  },
  {
   "cell_type": "code",
   "execution_count": null,
   "id": "72a69f44",
   "metadata": {},
   "outputs": [],
   "source": [
    "full_df = pd.concat([\n",
    "    read_process_csv(csv) for csv in all_csvs\n",
    "])\n",
    "full_df = full_df.loc[full_df['hydropoly_max']<100]\n",
    "full_df['area'] = full_df['area']*100/10000\n",
    "full_df = full_df.loc[full_df['area']<100]"
   ]
  },
  {
   "cell_type": "code",
   "execution_count": null,
   "id": "fcd564b3",
   "metadata": {},
   "outputs": [],
   "source": [
    "xlims = brazil_gdf.bounds.min()['minx'], brazil_gdf.bounds.max()['maxx']\n",
    "xlims = (xlims[0] - 1.5, xlims[1]-4)\n",
    "ylims = brazil_gdf.bounds.min()['miny'], brazil_gdf.bounds.max()['maxy']\n",
    "ylims = (ylims[0] - 1, ylims[1] + 1)\n",
    "ylims_range = ylims[1] - ylims[0]\n",
    "xlims_range = xlims[1] - xlims[0]\n",
    "\n",
    "outline_gdf = gpd.GeoDataFrame(\n",
    "    geometry=gpd.GeoSeries(shapely.geometry.Polygon(\n",
    "        [[xlims[0], ylims[0]],\n",
    "         [xlims[0], ylims[1]],\n",
    "         [xlims[1], ylims[1]],\n",
    "         [xlims[1], ylims[0]],\n",
    "         [xlims[0], ylims[0]]])),\n",
    "    crs='EPSG:4326')\n",
    "nonbrazil_poly = outline_gdf.overlay(brazil_gdf, how='difference')"
   ]
  },
  {
   "cell_type": "code",
   "execution_count": null,
   "id": "fcd564b3",
   "metadata": {},
   "outputs": [],
   "source": [
    "ha_dict = {\n",
    "    'Amazônia': 'center',\n",
    "    'Caatinga': 'center',\n",
    "    'Cerrado': 'center',\n",
    "    'Mata Atlântica': 'center',\n",
    "    'Pampa': 'right',\n",
    "    'Pantanal': 'right'\n",
    "}\n",
    "text_colordict = {\n",
    "    'Amazônia': 'black',\n",
    "    'Caatinga': 'black',\n",
    "    'Cerrado': 'black',\n",
    "    'Mata Atlântica': 'black',\n",
    "    'Pampa': 'black',\n",
    "    'Pantanal': 'black'\n",
    "}\n",
    "offset_dict = {\n",
    "    'Amazônia': 0,\n",
    "    'Caatinga': np.array([2.5,7]),\n",
    "    'Cerrado': np.array([0, -1]),\n",
    "    'Mata Atlântica': np.array([4, -6.2]),\n",
    "    'Pampa': np.array([-2, -2.2]),\n",
    "    'Pantanal': np.array([-2, -1])\n",
    "}\n"
   ]
  },
  {
   "cell_type": "code",
   "execution_count": null,
   "id": "d6f19f2b",
   "metadata": {},
   "outputs": [],
   "source": [
    "axes_height_ratios=[1, 0.04]\n",
    "fig, axs = plt.subplots(2, 2, figsize = (7.5, 4.5),\n",
    "                       gridspec_kw={\"height_ratios\":axes_height_ratios})\n",
    "\n",
    "# Plot 1984 first\n",
    "year_1984_df = full_df.loc[full_df['year']==1984]\n",
    "axs[0,0].hexbin(year_1984_df['longitude'], year_1984_df['latitude'],\n",
    "             gridsize=32,\n",
    "             vmin=0, vmax=10000,\n",
    "             extent=xlims + ylims,\n",
    "             cmap='GnBu',\n",
    "             linewidths=0.2,\n",
    "             edgecolor='none')\n",
    "\n",
    "\n",
    "# Plot 2022\n",
    "year_2022_df = full_df.loc[full_df['year']==2019]\n",
    "im = axs[0, 1].hexbin(year_2022_df['longitude'], year_2022_df['latitude'],\n",
    "              gridsize=32,\n",
    "             vmin=0, vmax=10000,\n",
    "             extent=xlims + ylims,\n",
    "             cmap='GnBu',\n",
    "             linewidths=0.1,\n",
    "             edgecolor='none')\n",
    "\n",
    "\n",
    "for cur_ax in axs[0]:\n",
    "    cur_ax.set_xlabel('Lon (deg)')\n",
    "    cur_ax.set_ylabel('Lat (deg)')\n",
    "    cur_ax.set_xlim(xlims)\n",
    "    cur_ax.set_ylim(ylims)\n",
    "axs[0,0].set_title('1984')\n",
    "axs[0,1].set_title('2019')\n",
    "\n",
    "# Set up boundaries and labels\n",
    "for ax in axs[0]:\n",
    "    brazil_gdf.boundary.plot(ax=ax, color='black', alpha=0.3, lw=0.3)\n",
    "    brazil_gdf_dissolved.boundary.plot(ax=ax, color='black', alpha=0.7, lw=0.5)\n",
    "brazil_gdf.apply(lambda x: axs[0, 0].annotate(text=x['Bioma'].replace(' ','\\n'), \n",
    "                                                xy=np.array(x.geometry.centroid.coords[0]) + offset_dict[x['Bioma']],\n",
    "                                                ha=ha_dict[x['Bioma']],\n",
    "                                                color=text_colordict[x['Bioma']]), axis=1)\n",
    "\n",
    "# Remove outside of Brazil\n",
    "nonbrazil_poly.plot(ax=axs[0,1],color='white')\n",
    "nonbrazil_poly.plot(ax=axs[0,0],color='white')\n",
    "\n",
    "# Set up colorbar\n",
    "gs = axs[0, 0].get_gridspec()\n",
    "for ax in axs[-1]:\n",
    "    ax.remove()\n",
    "axbig = fig.add_subplot(gs[-1, :])\n",
    "axbig.set_title('Reservoir Count (per km$^2$)')\n",
    "for i, label in enumerate(['$(a)$', '$(b)$']):\n",
    "    axs[0, i].annotate(\n",
    "            label,\n",
    "            xy=(0, 1), xycoords='axes fraction',\n",
    "            xytext=(0.3, -1.5), textcoords='offset fontsize',\n",
    "            fontsize=12, verticalalignment='bottom', fontfamily='serif')\n",
    "\n",
    "# Make colorbar per-km2\n",
    "print('Max value:',im.get_array().data.max())\n",
    "vmax = im.get_clim()[1]\n",
    "tick_increment = vmax/3\n",
    "hex_area = (outline_gdf.to_crs('ESRI:102033').area.values[0]/len(im.get_array()))/(1000*1000)\n",
    "print('Hex area:', hex_area)\n",
    "print('Max cbar density:', vmax/hex_area)\n",
    "cb = fig.colorbar(im, cax=axbig, orientation='horizontal',\n",
    "                  ticks=[0,tick_increment, 2*tick_increment,vmax])\n",
    "# Adjust based on max density                  \n",
    "cb.ax.set_xticklabels([0, 0.2, 0.4, 0.6])\n",
    "fig.tight_layout()\n",
    "plt.savefig('/home/ksolvik/research/reservoirs/figs/ch1/all_brazil_map.jpg', dpi=300)"
   ]
  },
  {
   "cell_type": "markdown",
   "id": "5e2cd638",
   "metadata": {},
   "source": [
    "# Animation"
   ]
  },
  {
   "cell_type": "code",
   "execution_count": null,
   "id": "64c0c6ff",
   "metadata": {},
   "outputs": [],
   "source": [
    "year_dict = {\n",
    "   'ls5': np.arange(1984, 2002),\n",
    "   'ls7': np.arange(2002, 2020),\n",
    "   'ls8': np.arange(2020, 2024) \n",
    "}"
   ]
  },
  {
   "cell_type": "code",
   "execution_count": null,
   "id": "78b0501b",
   "metadata": {},
   "outputs": [],
   "source": [
    "all_csvs = []\n",
    "for ls in year_dict.keys():\n",
    "    for y in year_dict[ls]:\n",
    "        all_csvs.append('./out/v3_cloudfilt/{}_{}_cloudfilt_v3_wgs84_merged.csv'.format(ls, y))"
   ]
  },
  {
   "cell_type": "code",
   "execution_count": null,
   "id": "26d7ef1e",
   "metadata": {},
   "outputs": [],
   "source": [
    "full_df = pd.concat([\n",
    "    read_process_csv(csv) for csv in all_csvs\n",
    "])\n",
    "full_df = full_df.loc[full_df['hydropoly_max']<100]\n",
    "full_df['area'] = full_df['area']*100/10000\n",
    "full_df = full_df.loc[full_df['area']<100]"
   ]
  },
  {
   "cell_type": "code",
   "execution_count": null,
   "id": "6b962e3b",
   "metadata": {},
   "outputs": [],
   "source": [
    "%matplotlib notebook\n",
    "\n",
    "fig, ax = plt.subplots(figsize=(12,12))\n",
    "ax.set_xlim(xlims)\n",
    "ax.set_ylim(ylims)\n",
    "ax.set_xlabel('Lon (deg)')\n",
    "ax.set_ylabel('Lat (deg)')\n",
    "\n",
    "# Remove outside of Brazil\n",
    "year_start = 1984\n",
    "year_end = 2019\n",
    "frame_list = np.concatenate([[year_start]*5, np.arange(year_start, year_end+1), [year_end]*5])\n",
    "brazil_gdf.boundary.plot(ax=ax, color='black', alpha=0.3, lw=0.3)\n",
    "brazil_gdf_dissolved.boundary.plot(ax=ax, color='black', alpha=0.7, lw=0.5)\n",
    "\n",
    "def animate(y):\n",
    "    year_df = full_df.loc[full_df['year']==y]\n",
    "    if y != year_start:\n",
    "        ax.collections[-1].remove()\n",
    "    hexlayer=ax.hexbin(year_df['longitude'], year_df['latitude'],\n",
    "                # gridsize=32,\n",
    "                # vmin=0, vmax=10000,\n",
    "                gridsize=80,\n",
    "                vmin=0, vmax=2000,\n",
    "                extent=xlims + ylims,\n",
    "                cmap='GnBu',\n",
    "                linewidths=0.1,\n",
    "                edgecolor='none')\n",
    "    nonbrazil_poly.plot(ax=ax,color='white')\n",
    "    ax.set_title(y)\n",
    "    return hexlayer,\n",
    "\n",
    "ani = FuncAnimation(fig, animate, frames=frame_list, interval=500)\n",
    "ani.save('../../../../../figs/ch2/frontier_really_small.gif')"
   ]
  }
 ],
 "metadata": {
  "kernelspec": {
   "display_name": "resgis",
   "language": "python",
   "name": "python3"
  },
  "language_info": {
   "codemirror_mode": {
    "name": "ipython",
    "version": 3
   },
   "file_extension": ".py",
   "mimetype": "text/x-python",
   "name": "python",
   "nbconvert_exporter": "python",
   "pygments_lexer": "ipython3",
   "version": "3.10.13"
  }
 },
 "nbformat": 4,
 "nbformat_minor": 5
}
