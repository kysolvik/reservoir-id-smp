{
 "cells": [
  {
   "cell_type": "code",
   "execution_count": null,
   "id": "4d936ee2",
   "metadata": {},
   "outputs": [],
   "source": [
    "import pandas as pd\n",
    "import geopandas as gpd\n",
    "import glob\n",
    "import os\n",
    "import numpy as np\n",
    "import matplotlib.pyplot as plt\n",
    "import scipy"
   ]
  },
  {
   "cell_type": "markdown",
   "id": "8daf84b5",
   "metadata": {},
   "source": [
    "# Read in reservoir info"
   ]
  },
  {
   "cell_type": "code",
   "execution_count": null,
   "id": "306cb611",
   "metadata": {},
   "outputs": [],
   "source": [
    "all_csvs = glob.glob('./out/*.csv')\n",
    "all_csvs.sort()"
   ]
  },
  {
   "cell_type": "code",
   "execution_count": null,
   "id": "cd894dce",
   "metadata": {},
   "outputs": [],
   "source": [
    "def read_process_csv(csv):\n",
    "    temp_df = pd.read_csv(csv)\n",
    "    temp_df['satellite'] = os.path.basename(csv)[:8]\n",
    "    temp_df['year'] = int(os.path.basename(csv)[9:13])\n",
    "    return temp_df"
   ]
  },
  {
   "cell_type": "code",
   "execution_count": null,
   "id": "72a69f44",
   "metadata": {},
   "outputs": [],
   "source": [
    "full_df = pd.concat([\n",
    "    read_process_csv(csv) for csv in all_csvs\n",
    "])"
   ]
  },
  {
   "cell_type": "code",
   "execution_count": null,
   "id": "1607327b",
   "metadata": {},
   "outputs": [],
   "source": [
    "# Remove Agua Boa\n",
    "full_df = full_df.loc[full_df['reg']!=0]\n",
    "# Remove 2024, not a full set of data yet\n",
    "full_df = full_df.loc[full_df['year']<2024]\n",
    "# Remove property 0, which is NA\n",
    "full_df = full_df.loc[full_df['property_mode']!=0]\n",
    "# Remove \"property_all\", which contains all properties that each water object touches\n",
    "full_df.drop(columns=['property_all'], inplace=True)\n",
    "# Get surface area in ha\n",
    "full_df['area'] = full_df['area']*100/10000"
   ]
  },
  {
   "cell_type": "markdown",
   "id": "9e122e96",
   "metadata": {},
   "source": [
    "# Read in property data"
   ]
  },
  {
   "cell_type": "code",
   "execution_count": null,
   "id": "439c5fef",
   "metadata": {},
   "outputs": [],
   "source": [
    "prop_gdf = gpd.read_file('../properties/data/pa_br_landtenure_studyarea_only_aea.shp')\n",
    "prop_gdf.rename(columns={'area_ha': 'prop_area_ha'}, inplace=True)"
   ]
  },
  {
   "cell_type": "code",
   "execution_count": null,
   "id": "6cd54f58",
   "metadata": {},
   "outputs": [],
   "source": [
    "size_list = [2000, 500, 100]\n",
    "size_names = ['Large', 'Medium', 'Small']\n",
    "prop_gdf['prop_size_class'] = 'NA'\n",
    "\n",
    "prop_gdf.loc[prop_gdf['prop_area_ha']>size_list[0], 'prop_size_class'] = 'Mega'\n",
    "for i in range(len(size_list)):\n",
    "    prop_gdf.loc[prop_gdf['prop_area_ha']<size_list[i], 'prop_size_class'] = size_names[i]"
   ]
  },
  {
   "cell_type": "code",
   "execution_count": null,
   "id": "57083ca5",
   "metadata": {},
   "outputs": [],
   "source": [
    "full_df_prop_details = full_df.merge(prop_gdf.loc[:, ['fid','nm_class','prop_size_class', 'prop_area_ha']],\n",
    "                                     left_on = 'property_mode', right_on = 'fid')\n",
    "full_df_prop_details_2023 = full_df_prop_details.loc[full_df_prop_details['year']==2023].drop(columns=['year','satellite'])"
   ]
  },
  {
   "cell_type": "code",
   "execution_count": null,
   "id": "df2f8b71",
   "metadata": {},
   "outputs": [],
   "source": [
    "muni_list = [5101803, 5106257, 5102702, 5107065]\n",
    "muni_name_list = ['Barra do Garças', 'Nova Xavantina', 'Canarana', 'Querência']\n",
    "muni_dict = {\n",
    "    5101803: 'Barra do Garças',\n",
    "    5106257: 'Nova Xavantina',\n",
    "    5102702: 'Canarana',\n",
    "    5107065: 'Querência'\n",
    "}"
   ]
  },
  {
   "cell_type": "code",
   "execution_count": null,
   "id": "0af10b7b",
   "metadata": {},
   "outputs": [],
   "source": [
    "filt_prop_gdf = prop_gdf.loc[prop_gdf['cd_mun'].isin(muni_list)]"
   ]
  },
  {
   "cell_type": "code",
   "execution_count": null,
   "id": "7de4cd31",
   "metadata": {},
   "outputs": [],
   "source": [
    "filt_prop_gdf = filt_prop_gdf.loc[filt_prop_gdf['nm_class']=='PL']"
   ]
  },
  {
   "cell_type": "markdown",
   "id": "3b6d231f",
   "metadata": {},
   "source": [
    "# Basic property plots"
   ]
  },
  {
   "cell_type": "code",
   "execution_count": null,
   "id": "5f54b762",
   "metadata": {},
   "outputs": [],
   "source": [
    "groupby_muni = filt_prop_gdf.groupby('nm_mun').median()"
   ]
  },
  {
   "cell_type": "code",
   "execution_count": null,
   "id": "c233d1e0",
   "metadata": {},
   "outputs": [],
   "source": [
    "fig, axs = plt.subplots(1,2, figsize=(13,5))\n",
    "filt_prop_gdf.loc[(filt_prop_gdf['prop_area_ha']<2000)&(filt_prop_gdf['prop_area_ha']>0.5),\n",
    "                  'prop_area_ha'].hist(bins=20, ax=axs[0])\n",
    "groupby_muni.loc[muni_name_list,'prop_area_ha'].plot.bar(ax=axs[1])\n",
    "axs[0].set_xlabel('Property Size (ha)')\n",
    "axs[0].set_ylabel('Count')\n",
    "axs[1].set_xlabel('Municipality')\n",
    "axs[1].set_ylabel('Median Property Size (ha)')\n",
    "# axs[1].tick_params(axis='x', labelrotation=45)\n",
    "axs[1].set_xticks(axs[1].get_xticks(), axs[1].get_xticklabels(), rotation=45, ha='right')"
   ]
  },
  {
   "cell_type": "code",
   "execution_count": null,
   "id": "fe0e043c",
   "metadata": {},
   "outputs": [],
   "source": [
    "filt_prop_gdf.loc[(filt_prop_gdf['prop_area_ha']<2000)&(filt_prop_gdf['prop_area_ha']>0.5),\n",
    "                  'prop_area_ha'].hist(bins=20)"
   ]
  },
  {
   "cell_type": "code",
   "execution_count": null,
   "id": "225b5cdd",
   "metadata": {},
   "outputs": [],
   "source": []
  },
  {
   "cell_type": "code",
   "execution_count": null,
   "id": "3d20761d",
   "metadata": {},
   "outputs": [],
   "source": []
  },
  {
   "cell_type": "markdown",
   "id": "2c0df1be",
   "metadata": {},
   "source": [
    "# Plot property size vs reservoirs"
   ]
  },
  {
   "cell_type": "code",
   "execution_count": null,
   "id": "75fb4b2a",
   "metadata": {},
   "outputs": [],
   "source": [
    "groupby_prop_id = full_df_prop_details_2023.loc[full_df_prop_details_2023['nm_class']=='PL',\n",
    "                                                ['fid', 'area', 'prop_area_ha']].groupby('fid').agg({\n",
    "    'area':['min','max','mean','median','sum','count'],\n",
    "    'prop_area_ha':['first']})"
   ]
  },
  {
   "cell_type": "code",
   "execution_count": null,
   "id": "ec4e032d",
   "metadata": {},
   "outputs": [],
   "source": [
    "groupby_prop_id = groupby_prop_id.loc[groupby_prop_id[('prop_area_ha','first')] < 5000]"
   ]
  },
  {
   "cell_type": "code",
   "execution_count": null,
   "id": "17990043",
   "metadata": {},
   "outputs": [],
   "source": [
    "groupby_prop_id[('area', 'sum')] = 0.01*groupby_prop_id[('area','sum')]/groupby_prop_id[('prop_area_ha', 'first')]"
   ]
  },
  {
   "cell_type": "code",
   "execution_count": null,
   "id": "62efe756",
   "metadata": {},
   "outputs": [],
   "source": [
    "plt.hist(groupby_prop_id[('area','sum')])"
   ]
  },
  {
   "cell_type": "code",
   "execution_count": null,
   "id": "f73c4ebc",
   "metadata": {},
   "outputs": [],
   "source": [
    "groupby_prop_id.plot.scatter(x=('prop_area_ha','first'),y=('area','max'))"
   ]
  },
  {
   "cell_type": "code",
   "execution_count": null,
   "id": "789f9ad4",
   "metadata": {},
   "outputs": [],
   "source": [
    "groupby_prop_id.plot.scatter(x=('prop_area_ha','first'),y=('area','sum'))"
   ]
  },
  {
   "cell_type": "code",
   "execution_count": null,
   "id": "a12cdf89",
   "metadata": {},
   "outputs": [],
   "source": [
    "groupby_prop_id.plot.scatter(x=('prop_area_ha','first'),y=('area','count'))"
   ]
  },
  {
   "cell_type": "code",
   "execution_count": null,
   "id": "d879cbc6",
   "metadata": {},
   "outputs": [],
   "source": [
    "fig, ax = plt.subplots(1, 2, figsize=(16,6))\n",
    "groupby_prop_id.plot.scatter(x=('prop_area_ha','first'),y=('area','sum'), ax=ax[0], alpha=0.5)\n",
    "groupby_prop_id.plot.scatter(x=('prop_area_ha','first'),y=('area','count'), ax=ax[1], alpha=0.5)"
   ]
  },
  {
   "cell_type": "code",
   "execution_count": null,
   "id": "da55ad9d",
   "metadata": {},
   "outputs": [],
   "source": [
    "scipy.stats.spearmanr(groupby_prop_id[('prop_area_ha','first')], groupby_prop_id[('area', 'sum')])"
   ]
  },
  {
   "cell_type": "code",
   "execution_count": null,
   "id": "37898bd4",
   "metadata": {},
   "outputs": [],
   "source": [
    "scipy.stats.spearmanr(groupby_prop_id[('prop_area_ha','first')], groupby_prop_id[('area', 'count')])"
   ]
  },
  {
   "cell_type": "code",
   "execution_count": null,
   "id": "758fa7ea",
   "metadata": {},
   "outputs": [],
   "source": [
    "groupby_prop_id['area_density_sum'] = groupby_prop_id[('area', 'sum')]/groupby_prop_id[('prop_area_ha','first')]"
   ]
  },
  {
   "cell_type": "code",
   "execution_count": null,
   "id": "5d8259f5",
   "metadata": {},
   "outputs": [],
   "source": [
    "groupby_prop_id['area_density_count'] = groupby_prop_id[('area', 'count')]/groupby_prop_id[('prop_area_ha','first')]"
   ]
  },
  {
   "cell_type": "code",
   "execution_count": null,
   "id": "b64cd394",
   "metadata": {},
   "outputs": [],
   "source": [
    "scipy.stats.spearmanr(groupby_prop_id[('prop_area_ha','first')], groupby_prop_id['area_density_sum'])"
   ]
  },
  {
   "cell_type": "code",
   "execution_count": null,
   "id": "9c494609",
   "metadata": {},
   "outputs": [],
   "source": [
    "scipy.stats.spearmanr(groupby_prop_id[('prop_area_ha','first')], groupby_prop_id['area_density_count'])"
   ]
  },
  {
   "cell_type": "code",
   "execution_count": null,
   "id": "98cbd28d",
   "metadata": {},
   "outputs": [],
   "source": [
    "fig, ax = plt.subplots(1, 2, figsize=(16,6))\n",
    "groupby_prop_id.plot.scatter(x=('prop_area_ha','first'),y='area_density_sum', ax=ax[0], alpha=0.5)\n",
    "groupby_prop_id.plot.scatter(x=('prop_area_ha','first'),y='area_density_count', ax=ax[1], alpha=0.5)\n",
    "ax[0].set_xlim(-50, 2000)\n",
    "ax[1].set_xlim(-50, 2000)"
   ]
  },
  {
   "cell_type": "markdown",
   "id": "8bebc59c",
   "metadata": {},
   "source": [
    "# Groupby property type"
   ]
  },
  {
   "cell_type": "code",
   "execution_count": null,
   "id": "5ac0dfe4",
   "metadata": {},
   "outputs": [],
   "source": [
    "groupby_prop_id = full_df_prop_details_2023.loc[full_df_prop_details_2023['nm_class']=='PL',\n",
    "                                                ['fid', 'area', 'prop_area_ha']].groupby('fid').agg({\n",
    "    'area':['mean','median','sum','count']})"
   ]
  },
  {
   "cell_type": "code",
   "execution_count": null,
   "id": "ed8a4796",
   "metadata": {},
   "outputs": [],
   "source": [
    "prop_deets = full_df_prop_details_2023.loc[full_df_prop_details_2023['nm_class']=='PL',\n",
    "                                           ['prop_area_ha', 'prop_size_class', 'fid']].groupby('fid').first()"
   ]
  },
  {
   "cell_type": "code",
   "execution_count": null,
   "id": "0f131bc9",
   "metadata": {},
   "outputs": [],
   "source": [
    "prop_deets_resstats = groupby_prop_id['area'].join(prop_deets)"
   ]
  },
  {
   "cell_type": "code",
   "execution_count": null,
   "id": "534b146a",
   "metadata": {},
   "outputs": [],
   "source": [
    "prop_deets_resstats['area_density_sum'] = prop_deets_resstats['sum']/prop_deets_resstats['prop_area_ha']\n",
    "prop_deets_resstats['area_density_count'] = prop_deets_resstats['count']/prop_deets_resstats['prop_area_ha']"
   ]
  },
  {
   "cell_type": "code",
   "execution_count": null,
   "id": "ef9c2f1f",
   "metadata": {},
   "outputs": [],
   "source": [
    "fig, ax = plt.subplots(1, 2, figsize=(16,6))\n",
    "prop_deets_resstats.loc[prop_deets_resstats['prop_size_class']!='H', ['sum', 'prop_size_class']\n",
    "                       ].boxplot(by='prop_size_class', ax=ax[0])\n",
    "prop_deets_resstats.loc[prop_deets_resstats['prop_size_class']!='H', ['count', 'prop_size_class']\n",
    "                       ].boxplot(by='prop_size_class', ax=ax[1])\n"
   ]
  },
  {
   "cell_type": "code",
   "execution_count": null,
   "id": "123d4423",
   "metadata": {},
   "outputs": [],
   "source": [
    "fig, ax = plt.subplots(1, 2, figsize=(16,6))\n",
    "prop_deets_resstats.loc[:, ['area_density_sum', 'prop_size_class']\n",
    "                       ].boxplot(by='prop_size_class', ax=ax[0])\n",
    "prop_deets_resstats.loc[:, ['area_density_count', 'prop_size_class']\n",
    "                       ].boxplot(by='prop_size_class', ax=ax[1])\n"
   ]
  },
  {
   "cell_type": "code",
   "execution_count": null,
   "id": "0085cbbb",
   "metadata": {},
   "outputs": [],
   "source": [
    "groupby_prop_type = prop_deets_resstats.groupby(['prop_size_class']).agg([\n",
    "    'mean','median','sum','count'\n",
    "]).loc[['Small', 'Medium', 'Large','Mega']]"
   ]
  },
  {
   "cell_type": "code",
   "execution_count": null,
   "id": "bdc9c5b0",
   "metadata": {},
   "outputs": [],
   "source": [
    "fig, axs = plt.subplots(1, 2, figsize=(13,5))\n",
    "groupby_prop_type[('count','mean')].plot.bar(ax=axs[0])\n",
    "groupby_prop_type[('sum','mean')].plot.bar(ax=axs[1])\n",
    "axs[0].set_xlabel('Property Size Class')\n",
    "axs[1].set_xlabel('Property Size Class')\n",
    "axs[1].set_ylabel('Mean Total Reservoir Area (ha)')\n",
    "axs[0].set_ylabel('Mean Reservoir Count (ha)')\n",
    "axs[0].tick_params(axis='x', labelrotation=0)\n",
    "axs[1].tick_params(axis='x', labelrotation=0)"
   ]
  },
  {
   "cell_type": "code",
   "execution_count": null,
   "id": "c552a72b",
   "metadata": {},
   "outputs": [],
   "source": [
    "fig, axs = plt.subplots(1, 2, figsize=(13,5))\n",
    "groupby_prop_type[('area_density_count','mean')].plot.bar(ax=axs[0])\n",
    "groupby_prop_type[('area_density_sum','mean')].plot.bar(ax=axs[1])\n",
    "axs[0].set_xlabel('Property Size Class')\n",
    "axs[1].set_xlabel('Property Size Class')\n",
    "axs[0].set_ylabel('Mean Reservoir Density (count per ha)')\n",
    "axs[1].set_ylabel('Mean Reservoir Area Density\\n(reservoir ha per property ha)')\n",
    "axs[0].tick_params(axis='x', labelrotation=0)\n",
    "axs[1].tick_params(axis='x', labelrotation=0)"
   ]
  },
  {
   "cell_type": "code",
   "execution_count": null,
   "id": "7de02edf",
   "metadata": {},
   "outputs": [],
   "source": [
    "fig, axs = plt.subplots(2, 2, figsize=(13,10))\n",
    "groupby_prop_type[('count','mean')].plot.bar(ax=axs[0])\n",
    "groupby_prop_type[('sum','mean')].plot.bar(ax=axs[1])\n",
    "groupby_prop_type[('area_density_count','mean')].plot.bar(ax=axs[1, 0])\n",
    "groupby_prop_type[('area_density_sum','mean')].plot.bar(ax=axs[1, 1])\n",
    "axs[0].set_xlabel('Property Size Class')\n",
    "axs[1].set_xlabel('Property Size Class')\n",
    "axs[0].set_ylabel('Mean Reservoir Density (count per ha)')\n",
    "axs[1].set_ylabel('Mean Reservoir Area Density\\n(reservoir ha per property ha)')\n",
    "axs[0].tick_params(axis='x', labelrotation=0)\n",
    "axs[1].tick_params(axis='x', labelrotation=0)"
   ]
  },
  {
   "cell_type": "code",
   "execution_count": null,
   "id": "65cb9a42",
   "metadata": {},
   "outputs": [],
   "source": [
    "groupby_prop_type['count', 'sum'].sum()"
   ]
  },
  {
   "cell_type": "code",
   "execution_count": null,
   "id": "06fb1370",
   "metadata": {},
   "outputs": [],
   "source": [
    "984/2431"
   ]
  },
  {
   "cell_type": "code",
   "execution_count": null,
   "id": "73cee791",
   "metadata": {},
   "outputs": [],
   "source": [
    "(filt_prop_gdf['prop_area_ha'] > 2000).mean()"
   ]
  },
  {
   "cell_type": "code",
   "execution_count": null,
   "id": "c071c0a0",
   "metadata": {},
   "outputs": [],
   "source": []
  }
 ],
 "metadata": {
  "kernelspec": {
   "display_name": "resgis",
   "language": "python",
   "name": "resgis"
  },
  "language_info": {
   "codemirror_mode": {
    "name": "ipython",
    "version": 3
   },
   "file_extension": ".py",
   "mimetype": "text/x-python",
   "name": "python",
   "nbconvert_exporter": "python",
   "pygments_lexer": "ipython3",
   "version": "3.10.13"
  }
 },
 "nbformat": 4,
 "nbformat_minor": 5
}
