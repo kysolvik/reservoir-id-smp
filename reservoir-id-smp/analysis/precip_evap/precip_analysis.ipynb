{
 "cells": [
  {
   "cell_type": "code",
   "execution_count": null,
   "metadata": {},
   "outputs": [],
   "source": [
    "import geopandas\n",
    "import numpy\n",
    "import rioxarray\n",
    "import xarray as xr\n",
    "import os\n",
    "import cftime\n",
    "import matplotlib.pyplot as plt\n",
    "from datetime import timedelta\n",
    "from dateutil.relativedelta import relativedelta\n",
    "from geocube.api.core import make_geocube\n",
    "import pandas as pd\n",
    "import glob"
   ]
  },
  {
   "cell_type": "code",
   "execution_count": null,
   "metadata": {},
   "outputs": [],
   "source": [
    "muni_data = geopandas.read_file(\"../clip/brazil_munis_interviews.geojson\").to_crs('EPSG:4326')\n",
    "muni_data['CD_MUN'] = muni_data['CD_MUN'].astype(int)"
   ]
  },
  {
   "cell_type": "code",
   "execution_count": null,
   "metadata": {},
   "outputs": [],
   "source": [
    "if not os.path.isfile('./data/chirps-v2.0.monthly_muni.nc'):\n",
    "    muni_bounds = muni_data.total_bounds\n",
    "    precip_ds = xr.open_dataset('./data/chirps-v2.0.monthly.nc')\n",
    "    precip_ds_muni = precip_ds.sel(latitude=slice(muni_bounds[1], muni_bounds[3]),\n",
    "                longitude=slice(muni_bounds[0], muni_bounds[2]))\n",
    "    precip_ds_muni.to_netcdf('./data/chirps-v2.0.monthly_muni.nc')"
   ]
  },
  {
   "cell_type": "code",
   "execution_count": null,
   "metadata": {},
   "outputs": [],
   "source": [
    "muni_rio_ds = rioxarray.open_rasterio('./data/chirps-v2.0.monthly_muni.nc')\n",
    "muni_rio_ds.rio.write_crs(4326, inplace=True)\n",
    "\n",
    "#Not clipping, not necessary\n",
    "precip_clip=muni_rio_ds\n",
    "# precip_clip = muni_rio_ds.rio.clip(\n",
    "#     muni_data.geometry.values, muni_data.crs, from_disk=True\n",
    "# )"
   ]
  },
  {
   "cell_type": "code",
   "execution_count": null,
   "metadata": {},
   "outputs": [],
   "source": [
    "\n",
    "muni_out_grid = make_geocube(\n",
    "    vector_data=muni_data,\n",
    "    measurements=[\"CD_MUN\"],\n",
    "    like=precip_clip, # ensure the data are on the same grid\n",
    ")"
   ]
  },
  {
   "cell_type": "code",
   "execution_count": null,
   "metadata": {},
   "outputs": [],
   "source": [
    "\n",
    "muni_out_grid[\"tp\"] = (precip_clip.dims, precip_clip.values, precip_clip.attrs, precip_clip.encoding)"
   ]
  },
  {
   "cell_type": "code",
   "execution_count": null,
   "metadata": {},
   "outputs": [],
   "source": [
    "out_grid = make_geocube(\n",
    "    vector_data=muni_data,\n",
    "    measurements=[\"CD_MUN\"],\n",
    "    like=precip_clip, # ensure the data are on the same grid\n",
    ")"
   ]
  },
  {
   "cell_type": "code",
   "execution_count": null,
   "metadata": {},
   "outputs": [],
   "source": [
    "out_grid[\"tp\"] = (precip_clip.dims, precip_clip.values, precip_clip.attrs, precip_clip.encoding)"
   ]
  },
  {
   "cell_type": "code",
   "execution_count": null,
   "metadata": {},
   "outputs": [],
   "source": [
    "grouped_tp = muni_out_grid.drop(\"spatial_ref\").groupby(muni_out_grid.CD_MUN)"
   ]
  },
  {
   "cell_type": "code",
   "execution_count": null,
   "metadata": {},
   "outputs": [],
   "source": [
    "tp_mean =grouped_tp.mean()"
   ]
  },
  {
   "cell_type": "code",
   "execution_count": null,
   "metadata": {},
   "outputs": [],
   "source": [
    "precip_clip.mean(dim=['y','x']).isel(time=slice(-280,-1)).plot.line(x='time')"
   ]
  },
  {
   "cell_type": "code",
   "execution_count": null,
   "metadata": {},
   "outputs": [],
   "source": [
    "tp_mean['time'] = precip_clip['time']\n",
    "tp_mean = tp_mean.sortby('time')\n",
    "tp_mean_rainy_offset = tp_mean.copy()\n",
    "tp_mean_rainy_offset['time'] = (tp_mean.indexes['time'].to_datetimeindex() + pd.DateOffset(months=+8)).values"
   ]
  },
  {
   "cell_type": "code",
   "execution_count": null,
   "metadata": {},
   "outputs": [],
   "source": [
    "# First print annual precip by muni\n",
    "muni_annual_tp = tp_mean['tp'].groupby('time.year').sum('time').sel(year=slice(1984,2024)).groupby('CD_MUN').mean(dim='year')\n",
    "\n",
    "muni_names_dict = {\n",
    "    5101803: 'Barra do Garças',\n",
    "    5102702: 'Canarana',\n",
    "    5106257: 'Nova Xavantina',\n",
    "    5107065: 'Querência',\n",
    "}\n",
    "\n",
    "for muni in muni_names_dict.keys():\n",
    "    print(muni_names_dict[muni])\n",
    "    print(muni_annual_tp.sel(CD_MUN=muni).values)"
   ]
  },
  {
   "cell_type": "code",
   "execution_count": null,
   "metadata": {},
   "outputs": [],
   "source": [
    "tp_mean_rainy_offset['tp'].mean(dim='CD_MUN').groupby('time.year').sum('time').sel(year=slice(1982,2024)).plot.line(x='year')"
   ]
  },
  {
   "cell_type": "code",
   "execution_count": null,
   "metadata": {},
   "outputs": [],
   "source": [
    "monthly_start =cftime.DatetimeProlepticGregorian(2019, 9, 1, 0, 0, 0, 0, has_year_zero=True)\n",
    "monthly_end =cftime.DatetimeProlepticGregorian(2024, 9, 1, 0, 0, 0, 0, has_year_zero=True)\n",
    "monthly_start_inset = 2020\n",
    "monthly_end_inset = 2024\n",
    "interview_time_start = cftime.DatetimeProlepticGregorian(2023, 8, 1, 0, 0, 0, 0, has_year_zero=True)\n",
    "interview_time_end = cftime.DatetimeProlepticGregorian(2023, 10, 1, 0, 0, 0, 0, has_year_zero=True)\n"
   ]
  },
  {
   "cell_type": "code",
   "execution_count": null,
   "metadata": {},
   "outputs": [],
   "source": [
    "ax = tp_mean['tp'].mean(dim='CD_MUN').sel(time=slice(monthly_start,monthly_end)).plot.line(x='time')\n",
    "monthly_end =cftime.DatetimeProlepticGregorian(2024, 9, 1, 0, 0, 0, 0, has_year_zero=True)\n",
    "\n",
    "# Create data for the plot\n",
    "y_lower = [0, 0]  # y-values for the lower boundary of shading\n",
    "y_upper = [600, 600]  # y-values for the upper boundary of shading\n",
    "\n",
    "# Plot the shading between the two vertical lines\n",
    "plt.fill_between([interview_time_start, interview_time_end], y_lower, y_upper, color='green', alpha=0.25)\n",
    "plt.axvline(interview_time_start,color='darkgreen')\n",
    "plt.axvline(interview_time_end,color='darkgreen')\n",
    "plt.ylim(0,y_upper[0])"
   ]
  },
  {
   "cell_type": "code",
   "execution_count": null,
   "metadata": {},
   "outputs": [],
   "source": [
    "\n",
    "def read_process_region_csv(csv):\n",
    "    temp_df = pd.read_csv(csv)\n",
    "    temp_df['satellite'] = os.path.basename(csv)[:3]\n",
    "    temp_df['year'] = int(os.path.basename(csv)[4:8])\n",
    "\n",
    "    return temp_df\n",
    "\n",
    "muni_csvs = glob.glob('../clean_summarize/out/v3_interviews_only/*.csv')\n",
    "muni_csvs.sort()\n",
    "muni_list = [read_process_region_csv(csv) for csv in muni_csvs]\n",
    "muni_df = pd.concat(muni_list)\n",
    "# muni_df = muni_df.sort_index()\n",
    "muni_df = muni_df.loc[~((muni_df.satellite=='ls7')&(muni_df.year>2019))]"
   ]
  },
  {
   "cell_type": "code",
   "execution_count": null,
   "metadata": {},
   "outputs": [],
   "source": [
    "# Full Image\n",
    "plt.rcParams.update({'font.size': 18})\n",
    "fig, axs = plt.subplots(1, 2, figsize = (16, 8))\n",
    "\n",
    "tp_mean_rainy_offset['tp'].mean(dim='CD_MUN'\n",
    "                   ).groupby('time.year'\n",
    "                             ).sum('time'\n",
    "                                   ).sel(year=slice(1984,2024)\n",
    "                                         ).plot.line(x='year', ax=axs[0])\n",
    "axs[0].set_ylim(0, 2200)\n",
    "# Creating inset\n",
    "x1, x2, y1, y2 = monthly_start_inset, monthly_end_inset, 1000, 2000   # Subregion of the original image\n",
    "axins = axs[0].inset_axes(\n",
    "    [0.2, 0.12, 0.65, 0.4],\n",
    "    xlim=[monthly_start, monthly_end],ylim=[0,600])\n",
    "tp_mean['tp'].mean(dim='CD_MUN'\n",
    "                        ).sel(time=slice(monthly_start,monthly_end)\n",
    "                              ).plot.line(x='time', ax=axins, linestyle='--')\n",
    "axins.axvline(interview_time_start,linestyle='--',color='darkgreen')\n",
    "axins.axvline(interview_time_end,linestyle='--',color='darkgreen')\n",
    "axins.fill_between([interview_time_start, interview_time_end], y_lower, y_upper, color='green', alpha=0.25)\n",
    "axs[0].indicate_inset((x1, y1, x2-x1, y2-y1), axins)\n",
    "axs[0].set_xlabel('Year')\n",
    "axs[0].set_ylabel('Annual Precipitation (mm)')\n",
    "axins.set_ylabel('Monthly Precip (mm)', size=14, style='italic')\n",
    "axins.set_xlabel('Month', size=14, style='italic')\n",
    "axins.set_title('')\n",
    "axs[0].set_title('')\n",
    "\n",
    "\n",
    "# Reservoir area\n",
    "grouped_df = muni_df.groupby(['satellite','year']).sum()[['sum']]\n",
    "for sat in ['ls5','ls7','ls8']:\n",
    "    grouped_df.loc[sat].plot(ax=axs[1])\n",
    "axs[1].legend(['Landsat 5','Landsat 7','Landsat 8'])\n",
    "\n",
    "axs[1].set_xlabel('Year')\n",
    "axs[1].set_ylabel('Total Reservoir Area (ha)')"
   ]
  },
  {
   "cell_type": "code",
   "execution_count": null,
   "metadata": {},
   "outputs": [],
   "source": [
    "\n",
    "# Full Image\n",
    "plt.rcParams.update({'font.size': 12})\n",
    "axes_width_ratios=[1, 0.5]\n",
    "fig, axs = plt.subplots(1, 2, figsize = (7.5, 4.5),\n",
    "                       gridspec_kw={\"width_ratios\":axes_width_ratios})\n",
    "\n",
    "# tp_mean_rainy_offset['tp'].mean(dim='CD_MUN'\n",
    "tp_mean['tp'].mean(dim='CD_MUN'\n",
    "                   ).groupby('time.year'\n",
    "                             ).sum('time'\n",
    "                                   ).sel(year=slice(1984,2024)\n",
    "                                         ).plot.line(x='year', ax=axs[0], label='Annual precip.', marker='+')\n",
    "axs[0].set_ylim(0, 2300)\n",
    "# Creating inset\n",
    "x1, x2, y1, y2 = monthly_start_inset, monthly_end_inset, 1000, 2000   # Subregion of the original image\n",
    "axins = axs[0].inset_axes(\n",
    "    [0.2, 0.14, 0.65, 0.4],\n",
    "    xlim=[monthly_start, monthly_end],ylim=[0,600])\n",
    "tp_mean['tp'].mean(dim='CD_MUN'\n",
    "                        ).sel(time=slice(monthly_start,monthly_end)\n",
    "                              ).plot.line(x='time', ax=axins, linestyle='--', label='Monthly precip.')\n",
    "axins.axvline(interview_time_start,linestyle='--',color='darkgreen')\n",
    "axins.axvline(interview_time_end,linestyle='--',color='darkgreen')\n",
    "axins.fill_between([interview_time_start, interview_time_end], y_lower, y_upper, color='green', alpha=0.25, label='Interview period')\n",
    "axs[0].indicate_inset((x1, y1, x2-x1, y2-y1), axins)\n",
    "axs[0].set_xlabel('Year')\n",
    "axs[0].set_ylabel('Annual Precipitation (mm)')\n",
    "axins.set_ylabel('Monthly Precip (mm)', size=14, style='italic')\n",
    "axins.set_xlabel('Month', size=14, style='italic')\n",
    "axins.set_title('')\n",
    "axs[0].set_title('')\n",
    "\n",
    "\n",
    "# Reservoir area\n",
    "handles, labels = axs[0].get_legend_handles_labels()\n",
    "handles2, labels2 = axins.get_legend_handles_labels()\n",
    "handles = handles + handles2\n",
    "labels = labels + labels2\n",
    "\n",
    "axs[1].set_axis_off()\n",
    "axs[1].legend(handles, labels, loc=10)\n",
    "fig.tight_layout()\n",
    "plt.savefig('/home/ksolvik/research/reservoirs/figs/ch3/precip.jpg', dpi=300,\n",
    "            pil_kwargs={'quality':95},\n",
    "            bbox_inches='tight')"
   ]
  },
  {
   "cell_type": "code",
   "execution_count": null,
   "metadata": {},
   "outputs": [],
   "source": []
  }
 ],
 "metadata": {
  "kernelspec": {
   "display_name": "resgis",
   "language": "python",
   "name": "python3"
  },
  "language_info": {
   "codemirror_mode": {
    "name": "ipython",
    "version": 3
   },
   "file_extension": ".py",
   "mimetype": "text/x-python",
   "name": "python",
   "nbconvert_exporter": "python",
   "pygments_lexer": "ipython3",
   "version": "3.10.13"
  }
 },
 "nbformat": 4,
 "nbformat_minor": 2
}
