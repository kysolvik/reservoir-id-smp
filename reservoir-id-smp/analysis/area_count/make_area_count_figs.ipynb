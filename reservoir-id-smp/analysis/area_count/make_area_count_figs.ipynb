{
 "cells": [
  {
   "cell_type": "code",
   "execution_count": null,
   "id": "4d936ee2",
   "metadata": {},
   "outputs": [],
   "source": [
    "import pandas as pd\n",
    "import glob\n",
    "import os\n",
    "import numpy as np\n",
    "import matplotlib.pyplot as plt"
   ]
  },
  {
   "cell_type": "code",
   "execution_count": null,
   "id": "727e73da",
   "metadata": {},
   "outputs": [],
   "source": [
    "np.concatenate([np.arange(1984, 2001), np.arange(2003, 2012)])"
   ]
  },
  {
   "cell_type": "code",
   "execution_count": null,
   "id": "84e49883",
   "metadata": {},
   "outputs": [],
   "source": [
    "# Year/Landsat combinations for final product\n",
    "landsat_year_dict = {\n",
    "     # 1984 to 2011, excluding 2001 and 2002\n",
    "    'landsat5': np.concatenate([np.arange(1984, 2001), np.arange(2003, 2012)]),\n",
    "    # 2001 and 2002 (bad LS5 data) and plugging gap between Landsat 5 and 7\n",
    "    'landsat7': np.array([2001, 2002, 2012, 2013]),\n",
    "    # 2014 to 2022\n",
    "    'landsat8': np.arange(2014, 2023)\n",
    "}"
   ]
  },
  {
   "cell_type": "code",
   "execution_count": null,
   "id": "b7f840f4",
   "metadata": {},
   "outputs": [],
   "source": [
    "region_dict = {\n",
    " 0: 'Agua Boa',\n",
    " 1: 'Barra do Garcas',\n",
    " 2: 'Canarana',\n",
    " 3: 'Nova Xavantina',\n",
    " 4: 'Querencia'\n",
    "}\n",
    " "
   ]
  },
  {
   "cell_type": "code",
   "execution_count": null,
   "id": "306cb611",
   "metadata": {},
   "outputs": [],
   "source": [
    "all_csvs = glob.glob('./out/*.csv')\n",
    "all_csvs.sort()"
   ]
  },
  {
   "cell_type": "code",
   "execution_count": null,
   "id": "cd894dce",
   "metadata": {},
   "outputs": [],
   "source": [
    "def read_process_csv(csv):\n",
    "    temp_df = pd.read_csv(csv)\n",
    "    temp_df['satellite'] = os.path.basename(csv)[:8]\n",
    "    temp_df['year'] = int(os.path.basename(csv)[9:13])\n",
    "    return temp_df"
   ]
  },
  {
   "cell_type": "code",
   "execution_count": null,
   "id": "72a69f44",
   "metadata": {},
   "outputs": [],
   "source": [
    "full_df = pd.concat([\n",
    "    read_process_csv(csv) for csv in all_csvs\n",
    "])"
   ]
  },
  {
   "cell_type": "code",
   "execution_count": null,
   "id": "1607327b",
   "metadata": {},
   "outputs": [],
   "source": [
    "# Remove Agua Boa\n",
    "full_df = full_df.loc[full_df['reg']!=0]\n",
    "# Remove 2024, not a full set of data yet\n",
    "full_df = full_df.loc[full_df['year']<2024]\n",
    "# Remove last year of Landsat5\n",
    "full_df = full_df.loc[~((full_df['satellite']=='landsat5')&(full_df['year']==2011))]"
   ]
  },
  {
   "cell_type": "code",
   "execution_count": null,
   "id": "cf4ec03c",
   "metadata": {},
   "outputs": [],
   "source": [
    "full_df['area'] = full_df['area']*100/10000"
   ]
  },
  {
   "cell_type": "code",
   "execution_count": null,
   "id": "4801616e",
   "metadata": {},
   "outputs": [],
   "source": [
    "groupby_reg = full_df.groupby(['satellite', 'year', 'reg']).agg([\n",
    "    'min','max','mean','median','sum','count'\n",
    "])['area']"
   ]
  },
  {
   "cell_type": "code",
   "execution_count": null,
   "id": "1bfe54c0",
   "metadata": {},
   "outputs": [],
   "source": [
    "groupby_noreg = full_df.drop(columns=['reg']).groupby(['satellite', 'year']).agg([\n",
    "    'max','mean','median','sum','count'\n",
    "])['area']"
   ]
  },
  {
   "cell_type": "code",
   "execution_count": null,
   "id": "745569a0",
   "metadata": {},
   "outputs": [],
   "source": [
    "ax = groupby_noreg.loc['landsat5'].plot(y = 'count', use_index=True, label=\"Landsat 5\")\n",
    "groupby_noreg.loc['landsat7'].plot(ax = ax, y = 'count', use_index=True, label=\"Landsat 7\")\n",
    "groupby_noreg.loc['landsat8'].plot(ax = ax,  y = 'count', use_index=True, label=\"Landsat 8\")\n",
    "ax.set_ylabel('Reservoir Count')\n",
    "ax.set_xlabel('Year')"
   ]
  },
  {
   "cell_type": "code",
   "execution_count": null,
   "id": "e7c99680",
   "metadata": {},
   "outputs": [],
   "source": [
    "ax = groupby_noreg.loc['landsat5'].plot(y = 'sum', use_index=True, label=\"Landsat 5\")\n",
    "groupby_noreg.loc['landsat7'].plot(ax = ax, y = 'sum', use_index=True, label=\"Landsat 7\")\n",
    "groupby_noreg.loc['landsat8'].plot(ax = ax,  y = 'sum', use_index=True, label=\"Landsat 8\")\n",
    "ax.set_ylabel('Total Reservoir Area (ha)')\n",
    "ax.set_xlabel('Year')\n",
    "ax.set_title('Reservoir Area in Interview Study Area \\n (Barra do Garcas, Canarana, Querencia, & Nova Xavantina)')"
   ]
  },
  {
   "cell_type": "code",
   "execution_count": null,
   "id": "754a9d99",
   "metadata": {},
   "outputs": [],
   "source": [
    "ax = groupby_noreg.loc['landsat5'].plot(y = 'median', use_index=True, label=\"Landsat 5\")\n",
    "groupby_noreg.loc['landsat7'].plot(ax = ax, y = 'median', use_index=True, label=\"Landsat 7\")\n",
    "groupby_noreg.loc['landsat8'].plot(ax = ax,  y = 'median', use_index=True, label=\"Landsat 8\")"
   ]
  },
  {
   "cell_type": "markdown",
   "id": "b5715f99",
   "metadata": {},
   "source": [
    "# Regional plots, using harmonized record of satellites"
   ]
  },
  {
   "cell_type": "code",
   "execution_count": null,
   "id": "42e3a61d",
   "metadata": {},
   "outputs": [],
   "source": [
    "df_list = []\n",
    "for sat_name, year_list in landsat_year_dict.items():\n",
    "    df_list.append(groupby_reg.loc[pd.IndexSlice[sat_name, year_list, :]])"
   ]
  },
  {
   "cell_type": "code",
   "execution_count": null,
   "id": "17ffe839",
   "metadata": {},
   "outputs": [],
   "source": [
    "groupby_reg_continuous = pd.concat(df_list)"
   ]
  },
  {
   "cell_type": "code",
   "execution_count": null,
   "id": "84a2eeee",
   "metadata": {},
   "outputs": [],
   "source": [
    "groupby_reg_continuous.index = groupby_reg_continuous.index.droplevel(0)\n",
    "groupby_reg_continuous = groupby_reg_continuous.sort_index()"
   ]
  },
  {
   "cell_type": "code",
   "execution_count": null,
   "id": "21c4949d",
   "metadata": {},
   "outputs": [],
   "source": [
    "all_reg_sum_vals = [groupby_reg_continuous.loc[pd.IndexSlice[:, i], :][('sum')].values for i in range(1, 5)]\n",
    "all_reg_count_vals = [groupby_reg_continuous.loc[pd.IndexSlice[:, i], :][('count')].values for i in range(1, 5)]\n",
    "all_reg_median_vals = [groupby_reg_continuous.loc[pd.IndexSlice[:, i], :][('median')].values for i in range(1, 5)]"
   ]
  },
  {
   "cell_type": "code",
   "execution_count": null,
   "id": "7fa53b7d",
   "metadata": {},
   "outputs": [],
   "source": [
    "groupby_reg_median= pd.DataFrame({\n",
    "    'year': groupby_reg_continuous.index.get_level_values(0).unique(),\n",
    "})\n",
    "for i in range(1, 5):\n",
    "    groupby_reg_median[region_dict[i]] = all_reg_median_vals[i-1]"
   ]
  },
  {
   "cell_type": "code",
   "execution_count": null,
   "id": "0ca55433",
   "metadata": {},
   "outputs": [],
   "source": [
    "groupby_reg_median.plot(x='year')"
   ]
  },
  {
   "cell_type": "code",
   "execution_count": null,
   "id": "9498f10e",
   "metadata": {},
   "outputs": [],
   "source": [
    "groupby_reg_sum = pd.DataFrame({\n",
    "    'year': groupby_reg_continuous.index.get_level_values(0).unique(),\n",
    "})\n",
    "for i in range(1, 5):\n",
    "    groupby_reg_sum[region_dict[i]] = all_reg_sum_vals[i-1]"
   ]
  },
  {
   "cell_type": "code",
   "execution_count": null,
   "id": "2a0ce36d",
   "metadata": {},
   "outputs": [],
   "source": [
    "groupby_reg_sum.plot(x='year')"
   ]
  },
  {
   "cell_type": "code",
   "execution_count": null,
   "id": "267e128a",
   "metadata": {},
   "outputs": [],
   "source": [
    "groupby_reg_sum.plot.area(x='year')"
   ]
  },
  {
   "cell_type": "code",
   "execution_count": null,
   "id": "5a0df01c",
   "metadata": {},
   "outputs": [],
   "source": [
    "groupby_reg_count = pd.DataFrame({\n",
    "    'year': groupby_reg_continuous.index.get_level_values(0).unique(),\n",
    "})\n",
    "for i in range(1, 5):\n",
    "    groupby_reg_count[region_dict[i]] = all_reg_count_vals[i-1]"
   ]
  },
  {
   "cell_type": "code",
   "execution_count": null,
   "id": "273c982f",
   "metadata": {},
   "outputs": [],
   "source": [
    "groupby_reg_count.plot(x='year')"
   ]
  },
  {
   "cell_type": "code",
   "execution_count": null,
   "id": "0afedfc1",
   "metadata": {},
   "outputs": [],
   "source": [
    "groupby_reg_count.plot.area(x='year')"
   ]
  },
  {
   "cell_type": "markdown",
   "id": "f108975b",
   "metadata": {},
   "source": [
    "# Plot that puts it all together"
   ]
  },
  {
   "cell_type": "code",
   "execution_count": null,
   "id": "439aed7d",
   "metadata": {},
   "outputs": [],
   "source": [
    "groupby_reg_count[['year','Querencia', 'Canarana', 'Nova Xavantina', 'Barra do Garcas']]"
   ]
  },
  {
   "cell_type": "code",
   "execution_count": null,
   "id": "9d121948",
   "metadata": {},
   "outputs": [],
   "source": [
    "region_order = "
   ]
  },
  {
   "cell_type": "code",
   "execution_count": null,
   "id": "d232fb7b",
   "metadata": {},
   "outputs": [],
   "source": [
    "# Together\n",
    "fig, axs = plt.subplots(1,2, figsize=(10,4))\n",
    "groupby_noreg.loc['landsat5'].plot(ax = axs[0], y = 'count', use_index=True,\n",
    "                                   label=\"Landsat 5\", color='darkcyan')\n",
    "groupby_noreg.loc['landsat7'].plot(ax = axs[0], y = 'count', use_index=True,\n",
    "                                   label=\"Landsat 7\", color='darkmagenta', style='--')\n",
    "groupby_noreg.loc['landsat8'].plot(ax = axs[0],  y = 'count', use_index=True,\n",
    "                                   label=\"Landsat 8\", color='darkgreen')\n",
    "\n",
    "# Regional, reorder first\n",
    "groupby_reg_count[['year', 'Querencia', 'Canarana', 'Nova Xavantina', 'Barra do Garcas']].plot(\n",
    "    x='year', ax=axs[1])\n",
    "axs[0].set_xlabel('Year')\n",
    "axs[1].set_xlabel('Year')\n",
    "axs[0].set_ylabel('Reservour Count')\n",
    "axs[1].set_ylabel('Reservoir Count')\n",
    "plt.show()"
   ]
  },
  {
   "cell_type": "code",
   "execution_count": null,
   "id": "c65070d4",
   "metadata": {},
   "outputs": [],
   "source": []
  }
 ],
 "metadata": {
  "kernelspec": {
   "display_name": "resgis",
   "language": "python",
   "name": "resgis"
  },
  "language_info": {
   "codemirror_mode": {
    "name": "ipython",
    "version": 3
   },
   "file_extension": ".py",
   "mimetype": "text/x-python",
   "name": "python",
   "nbconvert_exporter": "python",
   "pygments_lexer": "ipython3",
   "version": "3.10.13"
  }
 },
 "nbformat": 4,
 "nbformat_minor": 5
}
