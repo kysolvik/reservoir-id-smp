{
 "cells": [
  {
   "cell_type": "code",
   "execution_count": null,
   "id": "000f2812",
   "metadata": {},
   "outputs": [],
   "source": [
    "import pandas as pd\n",
    "import glob\n",
    "import numpy as np\n",
    "import os\n",
    "import matplotlib.pyplot as plt\n",
    "from matplotlib.patches import Patch"
   ]
  },
  {
   "cell_type": "markdown",
   "id": "ffc14156",
   "metadata": {},
   "source": [
    "# Accuracy Stats"
   ]
  },
  {
   "cell_type": "code",
   "execution_count": null,
   "id": "909eb6fc",
   "metadata": {},
   "outputs": [],
   "source": [
    "def calc_all_stats(tp, fp, fn):\n",
    "    precision = tp/(tp+fp)\n",
    "    recall = tp/(tp+fn)\n",
    "    f1 = 2 * (precision * recall) / (precision + recall)\n",
    "    iou =  tp / (tp + fp + fn)\n",
    "    print('precision: {}, recall: {}, f1: {}, iou: {}'.format(\n",
    "        precision, recall, f1, iou))\n",
    "    return {\n",
    "        'precision': precision,\n",
    "        'recall': recall,\n",
    "        'f1': f1,\n",
    "        'iou': iou\n",
    "    }\n",
    "\n",
    "def read_process_stats(csv):\n",
    "    df = pd.read_csv(csv)\n",
    "    return df.sum(axis=0)"
   ]
  },
  {
   "cell_type": "code",
   "execution_count": null,
   "id": "d739f21c",
   "metadata": {},
   "outputs": [],
   "source": [
    "all_outs = []\n",
    "compare_df = read_process_stats('./out/landsat_sentinel/ls8_sentinel_2021_compare.csv')\n",
    "calc_all_stats(compare_df['tp'], compare_df['fp'], compare_df['fn'])"
   ]
  },
  {
   "cell_type": "markdown",
   "id": "c5a84d1d",
   "metadata": {},
   "source": [
    "# Count, Area, and Overlap comparisons"
   ]
  },
  {
   "cell_type": "code",
   "execution_count": null,
   "id": "21b50895",
   "metadata": {},
   "outputs": [],
   "source": [
    "def convert_to_array(string):\n",
    "    ar = np.fromstring(string.strip('[]'),sep=' ').astype(int)\n",
    "    return ar[ar!=0]\n",
    "\n",
    "def calc_overlap_stats(df1, df2, sat_comp, y):\n",
    "    df1_overlap = df1.loc[df1.overlap_count>0]\n",
    "    df2_overlap = df2.loc[df2.overlap_count>0]\n",
    "\n",
    "    df1_no_overlap = df1.loc[df1.overlap_count==0]\n",
    "    df2_no_overlap = df2.loc[df2.overlap_count==0]\n",
    "    out_dict = {\n",
    "        'year': y,\n",
    "        'satellites': sat_comp,\n",
    "        # Totals\n",
    "        'sat1_total_area': df1['size'].sum(),\n",
    "        'sat2_total_area': df2['size'].sum(),\n",
    "        'sat1_mean_size': df1['size'].mean(),\n",
    "        'sat2_mean_size': df2['size'].mean(),\n",
    "        'sat1_count': df1['size'].shape[0],\n",
    "        'sat2_count': df2['size'].shape[0],\n",
    "        # Overlap\n",
    "        'sat1_overlap_total_area': df1_overlap['size'].sum(),\n",
    "        'sat2_overlap_total_area': df2_overlap['size'].sum(),\n",
    "        'sat1_overlap_mean_size': df1_overlap['size'].mean(),\n",
    "        'sat2_overlap_mean_size': df2_overlap['size'].mean(),\n",
    "        'sat1_overlap_count': df1_overlap['size'].shape[0],\n",
    "        'sat2_overlap_count': df2_overlap['size'].shape[0],\n",
    "        # No Overlap\n",
    "        'sat1_no_overlap_total_area': df1_no_overlap['size'].sum(),\n",
    "        'sat2_no_overlap_total_area': df2_no_overlap['size'].sum(),\n",
    "        'sat1_no_overlap_mean_size': df1_no_overlap['size'].mean(),\n",
    "        'sat2_no_overlap_mean_size': df2_no_overlap['size'].mean(),\n",
    "        'sat1_no_overlap_count': df1_no_overlap['size'].shape[0],\n",
    "        'sat2_no_overlap_count': df2_no_overlap['size'].shape[0],\n",
    "    }\n",
    "    return out_dict"
   ]
  },
  {
   "cell_type": "code",
   "execution_count": null,
   "id": "01ec5daa",
   "metadata": {},
   "outputs": [],
   "source": [
    "all_outs = []\n",
    "\n",
    "sent_csv = './out/landsat_sentinel/sentinel_2021_v6_combined_overlaps.csv'\n",
    "ls8_csv = './out/landsat_sentinel/ls8_2021_cloudfilt_v3_overlaps.csv'\n",
    "df1 = pd.read_csv(sent_csv, converters={'overlaps':convert_to_array})\n",
    "df2 = pd.read_csv(ls8_csv, converters={'overlaps':convert_to_array})\n",
    "df1['overlap_count'] = df1['overlaps'].apply(len)\n",
    "df2['overlap_count'] = df2['overlaps'].apply(len)\n",
    "out_dict = calc_overlap_stats(df1, df2, sat_comp='sentinel-landsat', y=2021)"
   ]
  },
  {
   "cell_type": "code",
   "execution_count": null,
   "id": "bf0ce460",
   "metadata": {},
   "outputs": [],
   "source": [
    "pd.DataFrame(out_dict, index=[0]).to_csv('./out/landsat_sentinel/overlap_summaries.csv', index=False)"
   ]
  },
  {
   "cell_type": "code",
   "execution_count": null,
   "id": "1b5adb06",
   "metadata": {},
   "outputs": [],
   "source": [
    "overlap_stats = pd.read_csv('./out/landsat_sentinel/overlap_summaries.csv').set_index('year')"
   ]
  },
  {
   "cell_type": "code",
   "execution_count": null,
   "id": "c38dc5dc",
   "metadata": {},
   "outputs": [],
   "source": [
    "print(overlap_stats)"
   ]
  },
  {
   "cell_type": "code",
   "execution_count": null,
   "id": "6a97fd92",
   "metadata": {},
   "outputs": [],
   "source": [
    "overlap_stats_sent = overlap_stats[[col for col in overlap_stats.columns if col[:4]=='sat1']]\n",
    "overlap_stats_ls8 = overlap_stats[[col for col in overlap_stats.columns if col[:4]=='sat2']]\n",
    "overlap_stats_sent.columns = [col[5:] for col in overlap_stats_sent.columns]\n",
    "overlap_stats_ls8.columns = [col[5:] for col in overlap_stats_ls8.columns]\n",
    "overlap_stats_ls8['sat'] = 'LS8'\n",
    "overlap_stats_sent['sat'] = 'Sent'"
   ]
  },
  {
   "cell_type": "code",
   "execution_count": null,
   "id": "bfe5b315",
   "metadata": {},
   "outputs": [],
   "source": [
    "hatch_dict = {\n",
    "    'overlap': None,\n",
    "    'no_overlap': 'xxx',\n",
    "}\n",
    "alpha_dict = {\n",
    "    'overlap': 1.0,\n",
    "    'no_overlap': 0.5,\n",
    "}\n",
    "bar_color_dict = {'Sent': '#fc8d62',\n",
    "               'LS8': '#8da0cb'}"
   ]
  },
  {
   "cell_type": "code",
   "execution_count": null,
   "id": "c6452c90",
   "metadata": {},
   "outputs": [],
   "source": [
    "overlap_stats_both = pd.concat([overlap_stats_ls8, overlap_stats_sent]).reset_index()"
   ]
  },
  {
   "cell_type": "code",
   "execution_count": null,
   "id": "168d7b5d",
   "metadata": {},
   "outputs": [],
   "source": [
    "\n",
    "overlap_stats_both"
   ]
  },
  {
   "cell_type": "code",
   "execution_count": null,
   "id": "84e420ff",
   "metadata": {},
   "outputs": [],
   "source": [
    "\n",
    "# build the plots\n",
    "sats = ['Sent','LS8']\n",
    "stacks = len(sats)  # how many stacks in each group for a tick location\n",
    "x0 = np.arange(1)  # create an array of values for the ticks that can perform arithmetic with width (w)\n",
    "\n",
    "# set the width\n",
    "w = 0.35\n",
    "\n",
    "# this needs to be adjusted based on the number of stacks; each location needs to be split into the proper number of locations\n",
    "x1 = [x0 - w/stacks, x0 + w/stacks]\n",
    "\n",
    "fig, axs = plt.subplots(1,2, figsize=(8,4))\n",
    "comps = ['overlap','no_overlap']\n",
    "for x, sat in zip(x1, sats):\n",
    "    bottom_count = 0\n",
    "    bottom_area = 0\n",
    "    for comparison in comps:\n",
    "        height_count = overlap_stats_both.loc[overlap_stats_both['sat']==sat, comparison + '_count'].values / 1000\n",
    "        axs[0].bar(x=x, height=height_count, width=w, bottom=bottom_count,\n",
    "               hatch=hatch_dict[comparison], \n",
    "               color=bar_color_dict[sat],\n",
    "               alpha=alpha_dict[comparison],\n",
    "               label=sat + ' ' + comparison)\n",
    "        bottom_count += height_count\n",
    "\n",
    "        height_area = overlap_stats_both.loc[overlap_stats_both['sat']==sat, comparison + '_total_area'].values / 10000\n",
    "        axs[1].bar(x=x, height=height_area, width=w, bottom=bottom_area,\n",
    "               hatch=hatch_dict[comparison], \n",
    "               color=bar_color_dict[sat],\n",
    "               alpha=alpha_dict[comparison],\n",
    "               label=sat + ' ' + comparison)\n",
    "        bottom_area += height_area\n",
    "for ax in axs:\n",
    "       ax.set_xticks([])\n",
    "       _ = ax.set_xticklabels('')\n",
    "legend_patches = [\n",
    "    Patch(facecolor=bar_color_dict['Sent'], label='Sentinel'),\n",
    "    Patch(facecolor=bar_color_dict['LS8'],  label='Landsat 8'),\n",
    "    Patch(facecolor='grey',alpha=0.2, label='Shared Reservoirs'),\n",
    "    Patch(facecolor='grey',alpha=0.2, hatch='xxxx', label='Unshared Reservoirs')\n",
    "]\n",
    "axs[1].legend(handles=legend_patches)\n",
    "axs[0].set_ylabel('Count (thousands)')\n",
    "axs[1].set_ylabel('Area ($km^2$)')\n",
    "axs[0].text(\n",
    "    x=-0.375, y=axs[0].get_ylim()[1]*0.985,  # Relative position in axes coordinates (0,0 is bottom-left; 1,1 is top-right)\n",
    "    s='(a)',          # The label text\n",
    "    fontsize=10,\n",
    "    fontstyle='italic',      # Font size\n",
    "    verticalalignment='top',  # Align the text to the top\n",
    "    horizontalalignment='left'  # Align the text to the left\n",
    ")\n",
    "axs[1].text(\n",
    "    x=-0.375, y=axs[1].get_ylim()[1]*0.985,  # Relative position in axes coordinates (0,0 is bottom-left; 1,1 is top-right)\n",
    "    s='(b)',          # The label text\n",
    "    fontsize=10,      # Font size\n",
    "    fontstyle='italic',      # Font size\n",
    "    verticalalignment='top',  # Align the text to the top\n",
    "    horizontalalignment='left'  # Align the text to the left\n",
    ")\n",
    "fig.tight_layout()"
   ]
  }
 ],
 "metadata": {
  "kernelspec": {
   "display_name": "resgis",
   "language": "python",
   "name": "python3"
  },
  "language_info": {
   "codemirror_mode": {
    "name": "ipython",
    "version": 3
   },
   "file_extension": ".py",
   "mimetype": "text/x-python",
   "name": "python",
   "nbconvert_exporter": "python",
   "pygments_lexer": "ipython3",
   "version": "3.10.13"
  }
 },
 "nbformat": 4,
 "nbformat_minor": 5
}
