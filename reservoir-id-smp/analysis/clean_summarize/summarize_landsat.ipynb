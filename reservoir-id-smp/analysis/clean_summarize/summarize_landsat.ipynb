{
 "cells": [
  {
   "cell_type": "code",
   "execution_count": null,
   "id": "4d936ee2",
   "metadata": {},
   "outputs": [],
   "source": [
    "import pandas as pd\n",
    "import glob\n",
    "import os\n",
    "import numpy as np\n",
    "import matplotlib.pyplot as plt\n",
    "import seaborn as sns"
   ]
  },
  {
   "cell_type": "code",
   "execution_count": null,
   "id": "306cb611",
   "metadata": {},
   "outputs": [],
   "source": [
    "all_csvs = glob.glob('./out/v3_cloudfilt/ls*_v3_merged.csv')\n",
    "all_csvs.sort()"
   ]
  },
  {
   "cell_type": "code",
   "execution_count": null,
   "id": "cd894dce",
   "metadata": {},
   "outputs": [],
   "source": [
    "def read_process_csv(csv):\n",
    "    temp_df = pd.read_csv(csv)\n",
    "    temp_df['satellite'] = os.path.basename(csv)[:3]\n",
    "    temp_df['year'] = int(os.path.basename(csv)[4:8])\n",
    "    return temp_df"
   ]
  },
  {
   "cell_type": "code",
   "execution_count": null,
   "id": "72a69f44",
   "metadata": {},
   "outputs": [],
   "source": [
    "full_df = pd.concat([\n",
    "    read_process_csv(csv) for csv in all_csvs\n",
    "])"
   ]
  },
  {
   "cell_type": "code",
   "execution_count": null,
   "id": "3dac489b",
   "metadata": {},
   "outputs": [],
   "source": [
    "full_df = full_df.loc[full_df['hydropoly_max']<100]\n",
    "full_df['area_ha'] = full_df['area']*100/10000 # HA\n",
    "full_df['area_km'] = full_df['area']*100/(1000*1000) # km2\n",
    "full_df = full_df.loc[full_df['area_ha']<100] # Remove less than 100 ha\n",
    "\n"
   ]
  },
  {
   "cell_type": "code",
   "execution_count": null,
   "id": "9c7f2d26",
   "metadata": {},
   "outputs": [],
   "source": [
    "groupby_year_sat = full_df.groupby(['year', 'satellite']).agg([\n",
    "    'mean','median','sum','count'\n",
    "])[['area', 'area_ha','area_km']]"
   ]
  },
  {
   "cell_type": "code",
   "execution_count": null,
   "id": "3ac5c45a",
   "metadata": {},
   "outputs": [],
   "source": [
    "year_satellite = groupby_year_sat.reset_index().set_index('year')[['satellite']]\n",
    "\n",
    "# All colors from colorbrewer, these are a few options: \n",
    "# color_dict = {'ls5': '#1b9e77',\n",
    "#               'ls7': '#d95f02',\n",
    "#               'ls8': '#7570b3'}\n",
    "\n",
    "color_dict = {'ls5': '#66c2a5',\n",
    "              'ls7': '#fc8d62',\n",
    "              'ls8': '#8da0cb'}\n",
    "\n",
    "# color_dict = {'ls5': '#a6cee3',\n",
    "#               'ls7': '#1f78b4',\n",
    "#               'ls8': '#b2df8a'}"
   ]
  },
  {
   "cell_type": "code",
   "execution_count": null,
   "id": "b7e9418e",
   "metadata": {},
   "outputs": [],
   "source": [
    "def get_ls_color(y):\n",
    "    return color_dict[year_satellite.loc[y].values[0]]\n",
    "\n",
    "def color_by_ls(df, column, ax):\n",
    "    year_values = np.stack([groupby_year_sat.index.get_level_values('year'),\n",
    "                        groupby_year_sat[column]],\n",
    "                       axis=1)\n",
    "    for start, stop in zip(year_values[:-1],year_values[1:]):\n",
    "        x, y = zip(start, stop)\n",
    "        ls_shortname = year_satellite.loc[x[0]].values[0]\n",
    "        ls_name = 'Landsat {}'.format(ls_shortname[-1])\n",
    "        if ls_name not in ax.get_legend_handles_labels()[1]:\n",
    "            ax.plot(x, y, color=get_ls_color(x[0]), lw=2.5, label=ls_name,\n",
    "                   solid_capstyle='round')\n",
    "        else:\n",
    "            ax.plot(x, y, color=get_ls_color(x[0]), lw=2.5,\n",
    "                   solid_capstyle='round')"
   ]
  },
  {
   "cell_type": "code",
   "execution_count": null,
   "id": "27bf794b",
   "metadata": {},
   "outputs": [],
   "source": [
    "groupby_year_sat['count_k'] = groupby_year_sat[('area','count')]/1000"
   ]
  },
  {
   "cell_type": "code",
   "execution_count": null,
   "id": "49b649e2",
   "metadata": {},
   "outputs": [],
   "source": [
    "groupby_year_sat.reset_index().set_index('year').loc[2000:2011].groupby('satellite').mean()"
   ]
  },
  {
   "cell_type": "code",
   "execution_count": null,
   "id": "dd0efb65",
   "metadata": {},
   "outputs": [],
   "source": [
    "\n",
    "groupby_year_sat.reset_index().set_index('year').loc[2014:2019].groupby('satellite').mean()"
   ]
  },
  {
   "cell_type": "code",
   "execution_count": null,
   "id": "186dea29",
   "metadata": {},
   "outputs": [],
   "source": [
    "fig, axs = plt.subplots(1,2, figsize=(12,5))\n",
    "for sat in ['ls5','ls7','ls8']:\n",
    "    ls_name = 'Landsat {}'.format(sat[-1])\n",
    "    if sat != 'ls7':\n",
    "        groupby_year_sat.xs(sat,level=1, drop_level=True).loc[:, 'count_k'].plot(\n",
    "            ax=axs[0], label=ls_name,c=color_dict[sat], lw=1.75)\n",
    "        groupby_year_sat.xs(sat,level=1, drop_level=True).loc[:, ('area_km','sum')].plot(\n",
    "            ax=axs[1], c=color_dict[sat], lw=1.75)\n",
    "    else:\n",
    "        groupby_year_sat.xs(sat,level=1, drop_level=True).loc[:2017, 'count_k'].plot(\n",
    "            ax=axs[0], label=ls_name,c=color_dict[sat])\n",
    "        groupby_year_sat.xs(sat,level=1, drop_level=True).loc[:2017, ('area_km','sum')].plot(\n",
    "            ax=axs[1], c=color_dict[sat], lw=1.75)\n",
    "        groupby_year_sat.xs(sat,level=1, drop_level=True).loc[2017:, 'count_k'].plot(\n",
    "            ax=axs[0], label='LS7 - Orbit Drift',c=color_dict[sat], style='--', lw=1.75)\n",
    "        groupby_year_sat.xs(sat,level=1, drop_level=True).loc[2017:, ('area_km','sum')].plot(\n",
    "            ax=axs[1], c=color_dict[sat], style='--', lw=1.75)\n",
    "# color_by_ls(groupby_year_sat, 'count_k', axs[0])\n",
    "# color_by_ls(groupby_year_sat, ('area_km','sum'), axs[1])\n",
    "for i, label in enumerate(['$(a)$', '$(b)$']):\n",
    "    axs[i].annotate(\n",
    "            label,\n",
    "            xy=(0, 1), xycoords='axes fraction',\n",
    "            xytext=(0.3, -1.5), textcoords='offset fontsize',\n",
    "            fontsize=12, verticalalignment='bottom', fontfamily='serif')\n",
    "axs[0].set_ylabel('Total Reservoir Count (thousands)')\n",
    "axs[0].set_xlabel('Year')\n",
    "axs[1].set_ylabel('Total Reservoir Surface Area ($km^2$)')\n",
    "axs[1].set_xlabel('Year')\n",
    "axs[0].legend(loc=(0.015, 0.72))\n",
    "fig.tight_layout()"
   ]
  }
 ],
 "metadata": {
  "kernelspec": {
   "display_name": "resgis",
   "language": "python",
   "name": "python3"
  },
  "language_info": {
   "codemirror_mode": {
    "name": "ipython",
    "version": 3
   },
   "file_extension": ".py",
   "mimetype": "text/x-python",
   "name": "python",
   "nbconvert_exporter": "python",
   "pygments_lexer": "ipython3",
   "version": "3.10.13"
  }
 },
 "nbformat": 4,
 "nbformat_minor": 5
}
