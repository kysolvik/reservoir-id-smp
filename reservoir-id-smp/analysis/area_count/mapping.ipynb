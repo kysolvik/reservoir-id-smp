{
 "cells": [
  {
   "cell_type": "code",
   "execution_count": null,
   "id": "b7b18065",
   "metadata": {},
   "outputs": [],
   "source": [
    "import geopandas as gpd\n",
    "import pandas as pd\n",
    "import matplotlib.pyplot as plt\n",
    "from matplotlib.animation import FuncAnimation\n",
    "import glob\n",
    "import os\n",
    "import numpy as np"
   ]
  },
  {
   "cell_type": "code",
   "execution_count": null,
   "id": "e35230ac",
   "metadata": {},
   "outputs": [],
   "source": [
    "region_gdf = gpd.read_file('../clip/brazil_munis_interviews_aea.shp')"
   ]
  },
  {
   "cell_type": "code",
   "execution_count": null,
   "id": "89c79d4a",
   "metadata": {},
   "outputs": [],
   "source": [
    "all_csvs = glob.glob('./out/*.csv')\n",
    "all_csvs.sort()"
   ]
  },
  {
   "cell_type": "code",
   "execution_count": null,
   "id": "daac6371",
   "metadata": {},
   "outputs": [],
   "source": [
    "def read_process_csv(csv):\n",
    "    temp_df = pd.read_csv(csv)\n",
    "    temp_df['satellite'] = os.path.basename(csv)[:8]\n",
    "    temp_df['year'] = int(os.path.basename(csv)[9:13])\n",
    "    return temp_df"
   ]
  },
  {
   "cell_type": "code",
   "execution_count": null,
   "id": "4216ac87",
   "metadata": {},
   "outputs": [],
   "source": [
    "full_df = pd.concat([\n",
    "    read_process_csv(csv) for csv in all_csvs\n",
    "])"
   ]
  },
  {
   "cell_type": "code",
   "execution_count": null,
   "id": "98e31d72",
   "metadata": {},
   "outputs": [],
   "source": [
    "full_df['geometry'] = gpd.points_from_xy(full_df['center_x'], full_df['center_y'], crs='ESRI:102033')"
   ]
  },
  {
   "cell_type": "code",
   "execution_count": null,
   "id": "684404ad",
   "metadata": {},
   "outputs": [],
   "source": [
    "    full_gdf = gpd.GeoDataFrame(full_df, geometry = full_df['geometry'])"
   ]
  },
  {
   "cell_type": "code",
   "execution_count": null,
   "id": "181ca161",
   "metadata": {},
   "outputs": [],
   "source": [
    "# full_gdf = full_gdf.loc[~((full_gdf['satellite'] != 'landsat8') & (full_gdf['year']>=2014))]\n",
    "# full_gdf = full_gdf.loc[~((full_gdf['satellite']=='landsat5') & (full_gdf['year']>=2000))]"
   ]
  },
  {
   "cell_type": "code",
   "execution_count": null,
   "id": "263752de",
   "metadata": {},
   "outputs": [],
   "source": [
    "full_gdf = full_gdf.loc[(full_gdf['satellite'] != 'landsat8')]\n",
    "full_gdf = full_gdf.loc[~((full_gdf['satellite']=='landsat5') & (full_gdf['year']>=2000))]"
   ]
  },
  {
   "cell_type": "code",
   "execution_count": null,
   "id": "5b3d84cd",
   "metadata": {},
   "outputs": [],
   "source": [
    "%matplotlib inline\n",
    "\n",
    "fig, ax = plt.subplots(figsize=(15,15))\n",
    "region_gdf.boundary.plot(ax=ax)\n",
    "xlims = ax.get_xlim()\n",
    "ylims = ax.get_ylim()\n",
    "ylims_range = ylims[1] - ylims[0]\n",
    "xlims_range = xlims[1] - xlims[0]\n",
    "full_gdf.loc[full_gdf['year']==2011].plot(kind='hexbin',\n",
    "                                          x='center_x', \n",
    "                                          y='center_y', \n",
    "                                          gridsize=(10, int(10*ylims_range/xlims_range)),  \n",
    "                                          cmap='viridis', ax=ax)\n"
   ]
  },
  {
   "cell_type": "code",
   "execution_count": null,
   "id": "d7252a42",
   "metadata": {},
   "outputs": [],
   "source": [
    "xlims = region_gdf.bounds.min()['minx'], region_gdf.bounds.max()['maxx']\n",
    "ylims = region_gdf.bounds.min()['miny'], region_gdf.bounds.max()['maxy']\n",
    "ylims_range = ylims[1] - ylims[0]\n",
    "xlims_range = xlims[1] - xlims[0]\n",
    "grid_size = (12, int(12*ylims_range/xlims_range))"
   ]
  },
  {
   "cell_type": "code",
   "execution_count": null,
   "id": "5f1b88ea",
   "metadata": {},
   "outputs": [],
   "source": [
    "# xlims = np.min(full_df['center_x']), np.max(full_df['center_x'])\n",
    "# ylims =  np.min(full_df['center_y']), np.max(full_df['center_y'])\n",
    "# ylims_range = ylims[1] - ylims[0]\n",
    "# xlims_range = xlims[1] - xlims[0]\n",
    "# grid_size = (10, int(10*ylims_range/xlims_range))"
   ]
  },
  {
   "cell_type": "code",
   "execution_count": null,
   "id": "a8fa2b3a",
   "metadata": {},
   "outputs": [],
   "source": [
    "%matplotlib notebook\n",
    "\n",
    "fig, ax = plt.subplots(figsize=(8,16))\n",
    "ax.set_xlim(xlims)\n",
    "ax.set_ylim(ylims)\n",
    "ax.tick_params(\n",
    "    axis='x',          # changes apply to the x-axis\n",
    "    which='both',      # both major and minor ticks are affected\n",
    "    bottom=False,      # ticks along the bottom edge are off\n",
    "    top=False,         # ticks along the top edge are off\n",
    "    labelbottom=False) # labels along the bottom edge are offregion_gdf.boundary.plot(ax=ax, color='red')\n",
    "\n",
    "ax.tick_params(\n",
    "    axis='y',          # changes apply to the x-axis\n",
    "    which='both',      # both major and minor ticks are affected\n",
    "    right=False,      # ticks along the bottom edge are off\n",
    "    left=False,         # ticks along the top edge are off\n",
    "    labelleft=False) # labels along the bottom edge are offregion_gdf.boundary.plot(ax=ax, color='red')\n",
    "\n",
    "region_gdf.boundary.plot(ax=ax, color='red')\n",
    "\n",
    "year_start = 1984\n",
    "year_end = 2020\n",
    "\n",
    "def animate(i):\n",
    "    df = full_gdf.loc[full_gdf['year']==i]\n",
    "    x = df['center_x'].values\n",
    "    y = df['center_y'].values\n",
    "    if i != year_start:\n",
    "        ax.collections[-1].remove()\n",
    "    hexlayer = ax.hexbin(x,y, gridsize=grid_size,\n",
    "                         alpha=1.0,\n",
    "                        vmin=0, vmax=50,\n",
    "                        extent=(xlims[0], xlims[1], ylims[0], ylims[1]))\n",
    "    ax.set_title(i)\n",
    "    return hexlayer,\n",
    "\n",
    "ani = FuncAnimation(fig, animate, frames=np.arange(year_start, year_end), interval=500)\n",
    "ani.save('test_animation_count.gif')"
   ]
  },
  {
   "cell_type": "code",
   "execution_count": null,
   "id": "fabe4547",
   "metadata": {},
   "outputs": [],
   "source": [
    "%matplotlib notebook\n",
    "\n",
    "fig, ax = plt.subplots(figsize=(8,16))\n",
    "ax.set_xlim(xlims)\n",
    "ax.set_ylim(ylims)\n",
    "region_gdf.boundary.plot(ax=ax, color='red')\n",
    "\n",
    "year_start = 1984\n",
    "year_end = 2023\n",
    "\n",
    "def animate(i):\n",
    "    df = full_gdf.loc[full_gdf['year']==i]\n",
    "    x = df['center_x'].values\n",
    "    y = df['center_y'].values\n",
    "    c = df['area'].values\n",
    "    if i != year_start:\n",
    "        ax.collections[-1].remove()\n",
    "    hexlayer = ax.hexbin(x,y, c,reduce_C_function=np.sum, gridsize=grid_size,\n",
    "                         alpha=1.0,\n",
    "                        vmin=0, vmax=10000,\n",
    "                        extent=(xlims[0], xlims[1], ylims[0], ylims[1]))\n",
    "    ax.set_title(i)\n",
    "    return hexlayer,\n",
    "\n",
    "ani = FuncAnimation(fig, animate, frames=np.arange(year_start, year_end), interval=500)\n",
    "ani.save('test_animation_area.gif')"
   ]
  },
  {
   "cell_type": "code",
   "execution_count": null,
   "id": "b5d8e469",
   "metadata": {},
   "outputs": [],
   "source": [
    "# %matplotlib notebook\n",
    "# import numpy as np\n",
    "# import matplotlib.pyplot as plt\n",
    "# from matplotlib.animation import FuncAnimation\n",
    "\n",
    "# fig, ax = plt.subplots()\n",
    "# xdata, ydata = [], []\n",
    "# ln, = ax.plot([], [], 'ro')\n",
    "# time_text = ax.text(1, 1, '', fontsize=15)\n",
    "\n",
    "# def init():\n",
    "#     ax.set_xlim(full_gdf['center_x'].min(), full_gdf['center_x'].max())\n",
    "#     ax.set_ylim(full_gdf['center_y'].min(), full_gdf['center_y'].max())\n",
    "#     return ln,\n",
    "\n",
    "# def update(frame):\n",
    "#     df = full_gdf.loc[full_gdf['year']==frame]\n",
    "#     xdata = df['center_x'].values\n",
    "#     ydata = df['center_y'].values\n",
    "#     zdata = df['area'].values\n",
    "#     ln.set_data(xdata, ydata)\n",
    "#     time_text.set_text(frame)\n",
    "#     print(frame)\n",
    "#     ln.set_ms(5)\n",
    "#     return ln, time_text\n",
    "\n",
    "# ani = FuncAnimation(fig, update, frames=full_gdf['year'].unique(),\n",
    "#                     init_func=init, blit=False)\n",
    "# plt.show()\n"
   ]
  },
  {
   "cell_type": "markdown",
   "id": "0a1b023f",
   "metadata": {},
   "source": [
    "# Try making gif of landcover"
   ]
  },
  {
   "cell_type": "code",
   "execution_count": null,
   "id": "96fd6d93",
   "metadata": {},
   "outputs": [],
   "source": [
    "all_lc_tifs = glob.glob('../clip/out/')"
   ]
  }
 ],
 "metadata": {
  "kernelspec": {
   "display_name": "resgis",
   "language": "python",
   "name": "resgis"
  },
  "language_info": {
   "codemirror_mode": {
    "name": "ipython",
    "version": 3
   },
   "file_extension": ".py",
   "mimetype": "text/x-python",
   "name": "python",
   "nbconvert_exporter": "python",
   "pygments_lexer": "ipython3",
   "version": "3.10.13"
  }
 },
 "nbformat": 4,
 "nbformat_minor": 5
}
