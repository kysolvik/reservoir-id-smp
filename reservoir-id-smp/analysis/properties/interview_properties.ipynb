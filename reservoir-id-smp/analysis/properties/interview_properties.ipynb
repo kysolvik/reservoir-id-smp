{
 "cells": [
  {
   "cell_type": "code",
   "execution_count": null,
   "metadata": {},
   "outputs": [],
   "source": [
    "import geopandas as gpd\n",
    "import pandas as pd\n",
    "import numpy as np\n",
    "import matplotlib.pyplot as plt"
   ]
  },
  {
   "cell_type": "code",
   "execution_count": null,
   "metadata": {},
   "outputs": [],
   "source": [
    "prop_gpkg = './data/pa_br_landtenure_studyarea_only.gpkg'\n",
    "area_col = 'area_ha'"
   ]
  },
  {
   "cell_type": "code",
   "execution_count": null,
   "metadata": {},
   "outputs": [],
   "source": [
    "prop_gdf = gpd.read_file(prop_gpkg)\n",
    "prop_gdf = prop_gdf.rename(columns={area_col:'prop_area'})\n",
    "prop_gdf.loc[:,'fid'] = prop_gdf.index + 1\n",
    "prop_gdf = prop_gdf.to_crs('EPSG:4326')"
   ]
  },
  {
   "cell_type": "code",
   "execution_count": null,
   "metadata": {},
   "outputs": [],
   "source": [
    "interview_df = pd.read_csv('/home/ksolvik/research/reservoirs/interviews/summer_2023/locs/fazendas_cleaned.csv')\n",
    "interview_df['int_index'] = interview_df.index + 1\n",
    "interview_gdf = gpd.GeoDataFrame(\n",
    "    interview_df, geometry=gpd.points_from_xy(interview_df.lon, interview_df.lat),\n",
    "    crs='EPSG:4326'\n",
    ")"
   ]
  },
  {
   "cell_type": "code",
   "execution_count": null,
   "metadata": {},
   "outputs": [],
   "source": [
    "# Spatial join\n",
    "int_prop_gdf = gpd.sjoin(interview_gdf, prop_gdf, predicate='within', how='left')"
   ]
  },
  {
   "cell_type": "markdown",
   "metadata": {},
   "source": [
    "# Reservoir info"
   ]
  },
  {
   "cell_type": "code",
   "execution_count": null,
   "metadata": {},
   "outputs": [],
   "source": [
    "prop_gdf_res = int_prop_gdf.loc[~int_prop_gdf['fid'].isna()]\n",
    "prop_gdf_res = prop_gdf_res.drop_duplicates(['fid'])\n",
    "prop_gdf_res = prop_gdf_res.set_index('fid')\n",
    "prop_gdf_res.columns = pd.MultiIndex.from_product([[2024], prop_gdf_res.columns])"
   ]
  },
  {
   "cell_type": "code",
   "execution_count": null,
   "metadata": {},
   "outputs": [],
   "source": [
    "# Get reservoir info\n",
    "for y in np.arange(1984, 2023): \n",
    "    res_df = pd.read_csv('./out/res_stats/prop_res_stats_{}.csv'.format(y)).set_index('fid')\n",
    "    res_df.columns = pd.MultiIndex.from_arrays([[y]*3, res_df.columns])\n",
    "    prop_gdf_res = prop_gdf_res.join(res_df,how='left')"
   ]
  },
  {
   "cell_type": "code",
   "execution_count": null,
   "metadata": {},
   "outputs": [],
   "source": [
    "# Set index to interview id\n",
    "prop_gdf_res[(2024, 'fid')] = prop_gdf_res.index.astype(int)\n",
    "prop_gdf_res.index = prop_gdf_res[(2024, 'int_index')]"
   ]
  },
  {
   "cell_type": "code",
   "execution_count": null,
   "metadata": {},
   "outputs": [],
   "source": [
    "def plot_prop_res_history(id):\n",
    "    print('Property Info:')\n",
    "    temp_df = prop_gdf_res.loc[id]\n",
    "    print(temp_df[2024])\n",
    "    ax =temp_df.drop(2024)[:, 'sum'].plot()\n",
    "    temp_df.drop(2024)[:, 'count'].plot(ax=ax)"
   ]
  },
  {
   "cell_type": "code",
   "execution_count": null,
   "metadata": {},
   "outputs": [],
   "source": [
    "print(prop_gdf_res.drop(columns=2024).sum(axis=1))"
   ]
  },
  {
   "cell_type": "code",
   "execution_count": null,
   "metadata": {},
   "outputs": [],
   "source": [
    "plot_prop_res_history(45) "
   ]
  },
  {
   "cell_type": "markdown",
   "metadata": {},
   "source": [
    "# MapBiomas Data"
   ]
  },
  {
   "cell_type": "code",
   "execution_count": null,
   "metadata": {},
   "outputs": [],
   "source": [
    "\n",
    "mb_keys_dict = {\n",
    "    'crop': np.array([18,19,39,20,40,62,41,36,46,47,35,48]),\n",
    "    'forest': np.array([3]),\n",
    "    'savanna': np.array([4]),\n",
    "    'grassland':np.array([12]),\n",
    "    'pasture': np.array([15])\n",
    "}"
   ]
  },
  {
   "cell_type": "code",
   "execution_count": null,
   "metadata": {},
   "outputs": [],
   "source": [
    "def assign_lulc_classes(in_df):\n",
    "    out_df = pd.DataFrame()\n",
    "    for lulc_class in mb_keys_dict.keys():\n",
    "        sum_of_class = in_df.loc[:, np.in1d(in_df.columns.astype(int), mb_keys_dict[lulc_class])].sum(axis=1)\n",
    "        out_df[lulc_class] = sum_of_class\n",
    "    out_df = out_df.div((out_df.sum(axis=1)), axis=0)*100\n",
    "    out_df['natural'] = out_df[['forest','savanna','grassland']].sum(axis=1)\n",
    "    out_df.columns = pd.MultiIndex.from_product([[y],out_df.columns])\n",
    "    return out_df"
   ]
  },
  {
   "cell_type": "code",
   "execution_count": null,
   "metadata": {},
   "outputs": [],
   "source": [
    "prop_gdf_lulc = int_prop_gdf.loc[~int_prop_gdf['fid'].isna()]\n",
    "prop_gdf_lulc = prop_gdf_lulc.drop_duplicates(['fid'])\n",
    "prop_gdf_lulc = prop_gdf_lulc.set_index('fid')\n",
    "prop_gdf_lulc.columns = pd.MultiIndex.from_product([[2024], prop_gdf_lulc.columns])"
   ]
  },
  {
   "cell_type": "code",
   "execution_count": null,
   "metadata": {},
   "outputs": [],
   "source": [
    "for y in np.arange(1985, 2023):\n",
    "    year_csv_path = './out/mb_stats/prop_mb_stats{}.csv'.format(y)\n",
    "    year_df = pd.read_csv(year_csv_path, index_col=0)\n",
    "    year_df.index = year_df.index.astype(int)\n",
    "    lulc_df = assign_lulc_classes(year_df)\n",
    "    prop_gdf_lulc = prop_gdf_lulc.join(lulc_df)\n",
    "\n",
    "# Set index to interview id\n",
    "prop_gdf_lulc[(2024, 'fid')] = prop_gdf_lulc.index.astype(int)\n",
    "prop_gdf_lulc.index = prop_gdf_lulc[(2024, 'int_index')]"
   ]
  },
  {
   "cell_type": "code",
   "execution_count": null,
   "metadata": {},
   "outputs": [],
   "source": [
    "\n",
    "def plot_prop_lulc_history(fid, combine_natural=True):\n",
    "    print('Property Info:')\n",
    "    temp_df = prop_gdf_lulc.loc[fid]\n",
    "    print(temp_df[2024])\n",
    "    if combine_natural:\n",
    "        df_to_plot = temp_df.drop(2024).unstack(level=1).drop(columns=['forest','savanna','grassland'])\n",
    "    else:\n",
    "        df_to_plot = temp_df.drop(2024).unstack(level=1).drop(columns=['natural'])\n",
    "    df_to_plot.plot.area()\n",
    "    "
   ]
  },
  {
   "cell_type": "code",
   "execution_count": null,
   "metadata": {},
   "outputs": [],
   "source": [
    "plot_prop_lulc_history(45)"
   ]
  },
  {
   "cell_type": "markdown",
   "metadata": {},
   "source": [
    "# Plot both"
   ]
  },
  {
   "cell_type": "code",
   "execution_count": null,
   "metadata": {},
   "outputs": [],
   "source": [
    "\n",
    "def plot_prop_all(fid, combine_natural=True, print_info=True, include_note=False):\n",
    "    fig, axs = plt.subplots(2,1)\n",
    "    lulc_temp_df = prop_gdf_lulc.loc[fid]\n",
    "    if print_info:\n",
    "        print('Property Info:')\n",
    "        print(lulc_temp_df[2024])\n",
    "\n",
    "    # LULC\n",
    "    if combine_natural:\n",
    "        lulc_df_to_plot = lulc_temp_df.drop(2024,level=0).unstack(level=1).drop(columns=['forest','savanna','grassland'])\n",
    "    else:\n",
    "        lulc_df_to_plot = lulc_temp_df.drop(2024,level=0).unstack(level=1).drop(columns=['natural'])\n",
    "    lulc_df_to_plot.plot.area(ax=axs[0])\n",
    "    # Reservoirs\n",
    "    prop_df_to_plot = prop_gdf_res.loc[fid].drop(2024,level=0).fillna(0)\n",
    "    prop_df_to_plot.unstack(level=1).plot(ax=axs[1])\n",
    "    if include_note:\n",
    "        axs[0].set_title(lulc_temp_df[(2024,'Note')])"
   ]
  },
  {
   "cell_type": "code",
   "execution_count": null,
   "metadata": {},
   "outputs": [],
   "source": [
    "prop_gdf_res"
   ]
  },
  {
   "cell_type": "code",
   "execution_count": null,
   "metadata": {},
   "outputs": [],
   "source": [
    "plot_prop_all(45)"
   ]
  },
  {
   "cell_type": "code",
   "execution_count": null,
   "metadata": {},
   "outputs": [],
   "source": [
    "# View the all\n",
    "# for fid in prop_gdf_res.index:\n",
    "#     plot_prop_all(fid, print_info=False, include_note=True)"
   ]
  },
  {
   "cell_type": "code",
   "execution_count": null,
   "metadata": {},
   "outputs": [],
   "source": [
    "\n",
    "# Construction store\n",
    "plot_prop_all(10255.0)"
   ]
  },
  {
   "cell_type": "code",
   "execution_count": null,
   "metadata": {},
   "outputs": [],
   "source": [
    "# Neighboring farm\n",
    "plot_prop_all(10118.0)"
   ]
  },
  {
   "cell_type": "code",
   "execution_count": null,
   "metadata": {},
   "outputs": [],
   "source": [
    "# ???\n",
    "plot_prop_all(10142.0)"
   ]
  },
  {
   "cell_type": "code",
   "execution_count": null,
   "metadata": {},
   "outputs": [],
   "source": [
    "# Tree property\n",
    "plot_prop_all(6069.0)"
   ]
  },
  {
   "cell_type": "code",
   "execution_count": null,
   "metadata": {},
   "outputs": [],
   "source": [
    "# Nelore Vera Cruz\n",
    "plot_prop_all(14603.0)"
   ]
  },
  {
   "cell_type": "code",
   "execution_count": null,
   "metadata": {},
   "outputs": [],
   "source": [
    "# Sindacato Rural Officer\n",
    "plot_prop_all(6524.0)"
   ]
  },
  {
   "cell_type": "code",
   "execution_count": null,
   "metadata": {},
   "outputs": [],
   "source": [
    "# Big reservoir farm we visited\n",
    "plot_prop_all(7957.0)"
   ]
  },
  {
   "cell_type": "code",
   "execution_count": null,
   "metadata": {},
   "outputs": [],
   "source": [
    "# Fish farm\n",
    "plot_prop_all(12011.0)"
   ]
  }
 ],
 "metadata": {
  "kernelspec": {
   "display_name": "resgis",
   "language": "python",
   "name": "python3"
  },
  "language_info": {
   "codemirror_mode": {
    "name": "ipython",
    "version": 3
   },
   "file_extension": ".py",
   "mimetype": "text/x-python",
   "name": "python",
   "nbconvert_exporter": "python",
   "pygments_lexer": "ipython3",
   "version": "3.10.13"
  }
 },
 "nbformat": 4,
 "nbformat_minor": 2
}
