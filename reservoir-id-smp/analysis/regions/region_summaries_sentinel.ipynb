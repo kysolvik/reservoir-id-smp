{
 "cells": [
  {
   "cell_type": "code",
   "execution_count": 1,
   "id": "6be1cd93",
   "metadata": {},
   "outputs": [],
   "source": [
    "import geopandas as gpd\n",
    "import glob\n",
    "import pandas as pd\n",
    "import os\n",
    "import matplotlib.pyplot as plt\n",
    "from matplotlib.colors import Normalize\n",
    "import matplotlib\n",
    "import numpy as np\n",
    "from matplotlib.patches import Patch\n"
   ]
  },
  {
   "cell_type": "markdown",
   "id": "f7ec3cab",
   "metadata": {},
   "source": [
    "# Read in DAta"
   ]
  },
  {
   "cell_type": "code",
   "execution_count": 2,
   "id": "3d1a7ed5",
   "metadata": {},
   "outputs": [],
   "source": [
    "def read_process_csv_to_gdf(csv):\n",
    "    temp_df = pd.read_csv(csv)\n",
    "    temp_df['satellite'] = os.path.basename(csv)[:8]\n",
    "    temp_df['year'] = int(os.path.basename(csv)[9:13])\n",
    "    # temp_df = temp_df.loc[temp_df['hydropoly_max']<100]\n",
    "    temp_df['area_ha'] = temp_df['area']*100/10000 # HA\n",
    "    temp_df['area_km'] = temp_df['area']*100/(1000*1000) # km2\n",
    "    # temp_df = temp_df.loc[temp_df['area_ha']<100] # Remove greater than 100 ha\n",
    "    temp_gdf = gpd.GeoDataFrame(\n",
    "        temp_df, geometry=gpd.points_from_xy(temp_df.longitude, temp_df.latitude),\n",
    "        crs='EPSG:4326'\n",
    "    )\n",
    "    return temp_gdf\n",
    "\n",
    "def read_process_region_csv(csv):\n",
    "    temp_df = pd.read_csv(csv)\n",
    "    temp_df['satellite'] = os.path.basename(csv)[:8]\n",
    "    temp_df['year'] = int(os.path.basename(csv)[9:13])\n",
    "\n",
    "    return temp_df\n",
    "\n",
    "def sjoin_summarize(points_gdf, poly_gdf, poly_field):\n",
    "    \n",
    "    joined_gdf = gpd.sjoin(points_gdf, poly_gdf, predicate='within', how='inner')\n",
    "    return joined_gdf[['area_ha', poly_field]].groupby(poly_field).agg(['sum', 'count', 'median'])['area_ha']\n",
    "\n",
    "def sjoin_summarize_nogroup(points_gdf, poly_gdf):\n",
    "    joined_gdf = gpd.sjoin(points_gdf, poly_gdf, predicate='within', how='inner')\n",
    "    return joined_gdf[['area_ha']].agg(['sum', 'count', 'median'])"
   ]
  },
  {
   "cell_type": "code",
   "execution_count": 3,
   "id": "36929e67",
   "metadata": {},
   "outputs": [],
   "source": [
    "all_csvs = glob.glob('../remove_bad_water/out/sentinel*v6*wgs84*combined_merged.csv')\n",
    "all_csvs.sort()"
   ]
  },
  {
   "cell_type": "markdown",
   "id": "843b26eb",
   "metadata": {},
   "source": [
    "# River Basin/Hydrographic Region"
   ]
  },
  {
   "cell_type": "code",
   "execution_count": 4,
   "id": "55a58680",
   "metadata": {},
   "outputs": [],
   "source": [
    "basin_gdf = gpd.read_file('./data/macro_RH.shp').to_crs('EPSG:4326')"
   ]
  },
  {
   "cell_type": "markdown",
   "id": "96ed79b1",
   "metadata": {},
   "source": [
    "# State"
   ]
  },
  {
   "cell_type": "code",
   "execution_count": 5,
   "id": "c54c5b33",
   "metadata": {},
   "outputs": [],
   "source": [
    "state_gdf = gpd.read_file('./data/Brazilian_States.shp').to_crs('EPSG:4326')"
   ]
  },
  {
   "cell_type": "markdown",
   "id": "a8298fb9",
   "metadata": {},
   "source": [
    "# Biome"
   ]
  },
  {
   "cell_type": "code",
   "execution_count": 6,
   "id": "aa36b13e",
   "metadata": {},
   "outputs": [],
   "source": [
    "biome_gdf = gpd.read_file('./data/lm_bioma_250.shp').to_crs('EPSG:4326')"
   ]
  },
  {
   "cell_type": "markdown",
   "id": "492cde69",
   "metadata": {},
   "source": [
    "# Watershed"
   ]
  },
  {
   "cell_type": "code",
   "execution_count": 7,
   "id": "fd8ad7fa",
   "metadata": {},
   "outputs": [],
   "source": [
    "# level_name = 'NUNIVOTTO6'\n",
    "level_name = 'nunivotto6'"
   ]
  },
  {
   "cell_type": "code",
   "execution_count": 8,
   "id": "87c07362",
   "metadata": {},
   "outputs": [],
   "source": [
    "dissolved_wgs84_path = './data/watersheds_2017_{}.shp'.format(level_name)\n",
    "\n",
    "# if not os.path.isfile(dissolved_wgs84_path):\n",
    "#     watershed_gdf = gpd.read_file('./data/watersheds.shp'\n",
    "#                                  ).to_crs('EPSG:4326'\n",
    "#                                          ).dissolve(by=level_name\n",
    "#                                                    ).clip(state_gdf)\n",
    "#     watershed_gdf['area_km2'] = watershed_gdf.to_crs('ESRI:102033').area/(1000*1000)\n",
    "#     watershed_gdf.to_file(dissolved_wgs84_path)\n",
    "# else:\n",
    "#     watershed_gdf = gpd.read_file(dissolved_wgs84_path)\n",
    "if not os.path.isfile(dissolved_wgs84_path):\n",
    "    watershed_gdf = gpd.read_file('~/Downloads/bho_2017_v_01_05_50k.gpkg', layer='pgh_output.geoft_bho_area_drenagem'\n",
    "                                    ).to_crs('EPSG:4326'\n",
    "                                            ).dissolve(by=level_name\n",
    "                                                    ).clip(state_gdf)\n",
    "    watershed_gdf['area_km2'] = watershed_gdf.to_crs('ESRI:102033').area/(1000*1000)\n",
    "    watershed_gdf.to_file(dissolved_wgs84_path)\n",
    "    watershed_gdf = watershed_gdf.reset_index()\n",
    "else:\n",
    "    watershed_gdf = gpd.read_file(dissolved_wgs84_path)"
   ]
  },
  {
   "cell_type": "markdown",
   "id": "8d430c84",
   "metadata": {},
   "source": [
    "# Run them all by year"
   ]
  },
  {
   "cell_type": "code",
   "execution_count": 9,
   "id": "a771fb84",
   "metadata": {},
   "outputs": [
    {
     "name": "stdout",
     "output_type": "stream",
     "text": [
      "sentinel_2021_v6_wgs84_combined_merged.csv Done\n"
     ]
    }
   ],
   "source": [
    "for in_csv in all_csvs:\n",
    "    basin_out_csv = './out/{}'.format(os.path.basename(in_csv).replace('merged.csv', 'basin_stats.csv'))\n",
    "    state_out_csv = './out/{}'.format(os.path.basename(in_csv).replace('merged.csv', 'state_stats.csv'))\n",
    "    watershed_out_csv = './out/{}'.format(os.path.basename(in_csv).replace('merged.csv', 'watershed_stats_{}.csv'.format(level_name)))\n",
    "    biome_out_csv = './out/{}'.format(os.path.basename(in_csv).replace('merged.csv', 'biome_stats.csv'))\n",
    "    if ((not os.path.isfile(basin_out_csv))\n",
    "        or (not os.path.isfile(state_out_csv))\n",
    "        or (not os.path.isfile(watershed_out_csv))):\n",
    "        res_gdf = read_process_csv_to_gdf(in_csv)\n",
    "    if (not os.path.isfile(basin_out_csv)):\n",
    "        basin_results = sjoin_summarize(res_gdf, basin_gdf, 'nm_macroRH')\n",
    "        basin_results.to_csv(basin_out_csv)\n",
    "    if (not os.path.isfile(state_out_csv)):\n",
    "        state_results = sjoin_summarize(res_gdf, state_gdf, 'UF_05')\n",
    "        state_results.to_csv(state_out_csv)\n",
    "    if (not os.path.isfile(watershed_out_csv)):\n",
    "        watershed_results = sjoin_summarize(res_gdf, watershed_gdf, level_name)\n",
    "        watershed_results.to_csv(watershed_out_csv)\n",
    "    if (not os.path.isfile(biome_out_csv)):\n",
    "        biome_results = sjoin_summarize(res_gdf, biome_gdf, 'CD_Bioma')\n",
    "        biome_results.to_csv(biome_out_csv)\n",
    "    print(os.path.basename(in_csv), \"Done\")"
   ]
  },
  {
   "cell_type": "markdown",
   "id": "0a9b4610",
   "metadata": {},
   "source": [
    " # Make some figures"
   ]
  },
  {
   "cell_type": "markdown",
   "id": "6834db54",
   "metadata": {},
   "source": [
    "### Basin"
   ]
  },
  {
   "cell_type": "code",
   "execution_count": 10,
   "id": "bed56ec0",
   "metadata": {},
   "outputs": [],
   "source": [
    "# Map\n",
    "basin_csvs = glob.glob('./out/sentinel*v6*basin*.csv')\n",
    "basin_csvs.sort()\n",
    "basin_list = [read_process_region_csv(csv) for csv in basin_csvs]\n",
    "basin_df = pd.concat(basin_list).set_index('year')\n",
    "basin_df = basin_df.sort_index()\n",
    "# 2021 only\n",
    "basin_df = basin_df.loc[2021]\n",
    "basin_df = basin_df.drop(columns='satellite')\n",
    "basin_gdf['area_km2'] = basin_gdf.to_crs('ESRI:102033').area/(1000*1000)\n",
    "basin_gdf_merged = basin_gdf.copy()\n",
    "for y in basin_df.index.unique():\n",
    "    basin_stats_to_merge = basin_df.loc[y].set_index('nm_macroRH').add_suffix('_{}'.format(y))\n",
    "    basin_gdf_merged = basin_gdf_merged.merge(basin_stats_to_merge, left_on='nm_macroRH', right_index=True)\n",
    "basin_gdf_merged = basin_gdf_merged.fillna(0)\n",
    "# basin_gdf_merged['count_diff']  = basin_gdf_merged['count_2021'] - basin_gdf_merged['count_2017']\n",
    "# for suffix in ['2017','2021','diff']:\n",
    "for suffix in ['2021']:\n",
    "    basin_gdf_merged['density_{}'.format(suffix)] = (basin_gdf_merged['count_{}'.format(suffix)]\n",
    "                                                     /basin_gdf_merged['area_km2'])\n"
   ]
  },
  {
   "cell_type": "markdown",
   "id": "e74dd8b3",
   "metadata": {},
   "source": [
    "## State"
   ]
  },
  {
   "cell_type": "code",
   "execution_count": 11,
   "id": "8f9460ec",
   "metadata": {},
   "outputs": [],
   "source": [
    "# Map\n",
    "state_csvs = glob.glob('./out/sentinel*v6*state*.csv')\n",
    "state_csvs.sort()\n",
    "state_list = [read_process_region_csv(csv) for csv in state_csvs]\n",
    "state_df = pd.concat(state_list).set_index('year')\n",
    "state_df = state_df.sort_index()\n",
    "# 2021 only\n",
    "state_df = state_df.loc[2021]\n",
    "state_df = state_df.drop(columns='satellite')\n",
    "state_gdf['area_km2'] = state_gdf.to_crs('ESRI:102033').area/(1000*1000)\n",
    "state_gdf_merged = state_gdf.copy()\n",
    "for y in state_df.index.unique():\n",
    "    state_stats_to_merge = state_df.loc[y].set_index('UF_05').add_suffix('_{}'.format(y))\n",
    "    state_gdf_merged = state_gdf_merged.merge(state_stats_to_merge, left_on='UF_05', right_index=True)\n",
    "state_gdf_merged = state_gdf_merged.fillna(0)\n",
    "# state_gdf_merged['count_diff']  = state_gdf_merged['count_2021'] - state_gdf_merged['count_2017']\n",
    "# for suffix in ['2017','2021','diff']:\n",
    "for suffix in ['2021']:\n",
    "    state_gdf_merged['density_{}'.format(suffix)] = (state_gdf_merged['count_{}'.format(suffix)]\n",
    "                                                     /state_gdf_merged['area_km2'])\n"
   ]
  },
  {
   "cell_type": "markdown",
   "id": "764fba49",
   "metadata": {},
   "source": [
    "### Watershed"
   ]
  },
  {
   "cell_type": "code",
   "execution_count": 12,
   "id": "b4c94c1a",
   "metadata": {},
   "outputs": [],
   "source": [
    "   # Map\n",
    "watershed_csvs = glob.glob('./out/sentinel*watershed*{}.csv'.format(level_name))\n",
    "watershed_csvs.sort()\n",
    "watershed_list = [read_process_region_csv(csv) for csv in watershed_csvs]\n",
    "watershed_df = pd.concat(watershed_list).set_index('year')\n",
    "watershed_df = watershed_df.sort_index()\n",
    "# 2021 only\n",
    "watershed_df = watershed_df.loc[2021]\n",
    "watershed_df = watershed_df.drop(columns='satellite')\n",
    "watershed_gdf[level_name] = watershed_gdf[level_name].astype(int)\n",
    "# watershed_gdf.index = watershed_gdf.index.astype(int)\n",
    "watershed_gdf_merged = watershed_gdf.copy()\n",
    "for y in watershed_df.index.unique():\n",
    "    watershed_stats_to_merge = watershed_df.loc[y].set_index(level_name).add_suffix('_{}'.format(y))\n",
    "    watershed_gdf_merged = watershed_gdf_merged.merge(watershed_stats_to_merge,\n",
    "                                                      left_on=level_name, right_index=True,\n",
    "                                                     how='left')\n",
    "watershed_gdf_merged = watershed_gdf_merged.fillna(0)\n",
    "# watershed_gdf_merged['count_diff']  = watershed_gdf_merged['count_2021'] - watershed_gdf_merged['count_2017']\n",
    "# for suffix in ['2017','2021','diff']:\n",
    "for suffix in ['2021']:\n",
    "    watershed_gdf_merged['density_{}'.format(suffix)] = (watershed_gdf_merged['count_{}'.format(suffix)]\n",
    "                                                     /watershed_gdf_merged['area_km2'])\n",
    "\n"
   ]
  },
  {
   "cell_type": "markdown",
   "id": "dd433fa9",
   "metadata": {},
   "source": [
    "### Biome"
   ]
  },
  {
   "cell_type": "code",
   "execution_count": 13,
   "id": "114a5501",
   "metadata": {},
   "outputs": [],
   "source": [
    "   # Map\n",
    "biome_csvs = glob.glob('./out/sentinel*biome*.csv')\n",
    "biome_csvs.sort()\n",
    "biome_list = [read_process_region_csv(csv) for csv in biome_csvs]\n",
    "biome_df = pd.concat(biome_list).set_index('year')\n",
    "biome_df = biome_df.sort_index()\n",
    "# 2021 only\n",
    "biome_df = biome_df.loc[2021]\n",
    "biome_df = biome_df.drop(columns='satellite')\n",
    "biome_gdf['CD_Bioma'] = biome_gdf['CD_Bioma'].astype(int)\n",
    "biome_gdf['area_km2'] = biome_gdf.to_crs('ESRI:102033').area/(1000*1000)\n",
    "# biome_gdf.index = biome_gdf.index.astype(int)\n",
    "biome_gdf_merged = biome_gdf.copy()\n",
    "for y in biome_df.index.unique():\n",
    "    biome_stats_to_merge = biome_df.loc[y].set_index('CD_Bioma').add_suffix('_{}'.format(y))\n",
    "    biome_gdf_merged = biome_gdf_merged.merge(biome_stats_to_merge,\n",
    "                                                      left_on='CD_Bioma', right_index=True,\n",
    "                                                     how='left')\n",
    "biome_gdf_merged = biome_gdf_merged.fillna(0)\n",
    "# watershed_gdf_merged['count_diff']  = watershed_gdf_merged['count_2021'] - watershed_gdf_merged['count_2017']\n",
    "# for suffix in ['2017','2021','diff']:\n",
    "for suffix in ['2021']:\n",
    "    biome_gdf_merged['density_{}'.format(suffix)] = (biome_gdf_merged['count_{}'.format(suffix)]\n",
    "                                                     /biome_gdf_merged['area_km2'])\n",
    "\n"
   ]
  },
  {
   "cell_type": "code",
   "execution_count": 14,
   "id": "cf96a1bf",
   "metadata": {},
   "outputs": [
    {
     "data": {
      "image/png": "[encoded data removed]",
      "text/plain": [
       "<Figure size 724x350 with 4 Axes>"
      ]
     },
     "metadata": {},
     "output_type": "display_data"
    }
   ],
   "source": [
    "\n",
    "fig, axs = plt.subplots(1,3, figsize=(7.24,3.5), constrained_layout=True)\n",
    "\n",
    "state_gdf_merged.clip([-74, -34, -34, 5]).plot(column='density_2021',\n",
    "              ax=axs[0], legend=False, vmax=0.5)\n",
    "biome_gdf_merged.clip([-74, -34, -34, 5]).plot(column='density_2021',\n",
    "              ax=axs[1], legend=False, vmax=0.5)\n",
    "basin_gdf_merged.clip([-74, -34, -34, 5]).plot(column='density_2021',\n",
    "              ax=axs[2], legend=False, vmax=0.5)\n",
    "\n",
    "# watershed_gdf_merged.plot(column='density_2021',\n",
    "#               ax=axs[1,1], legend=True,vmax=1.0)\n",
    "axs[0].set_title('State')\n",
    "axs[1].set_title('Biome')\n",
    "axs[2].set_title('HydroRegion')\n",
    "\n",
    "for ax in axs.flatten():\n",
    "    ax.set_xlabel('Lat (deg)')\n",
    "    ax.set_ylabel('Lon (deg)')\n",
    "\n",
    "# Define the colormap and normalization\n",
    "cmap = plt.cm.viridis  # Choose the colormap\n",
    "norm = Normalize(vmin=0, vmax=0.5)  # Set the range from 0 to 0.5\n",
    "\n",
    "# Create a ScalarMappable and add the colorbar\n",
    "sm = plt.cm.ScalarMappable(cmap=cmap, norm=norm)\n",
    "sm.set_array([])  # Required for the ScalarMappable\n",
    "cbar = fig.colorbar(sm, cax=fig.add_axes([0.025, 0.01, 0.95, 0.05]), orientation='horizontal')\n",
    "cbar.set_label('Reservoirs per $km^2$')\n",
    "# Add annotations\n",
    "for i, label in enumerate(['$(a)$', '$(b)$', '$(c)$']):\n",
    "    axs[i].annotate(\n",
    "            label,\n",
    "            xy=(1, 1), xycoords='axes fraction',\n",
    "            xytext=(-1.5, -1.3), textcoords='offset fontsize',\n",
    "            fontsize=10, verticalalignment='bottom', fontfamily='serif')\n",
    "plt.savefig('/home/ksolvik/research/reservoirs/figs/ch0/res_dist.svg', dpi=300)\n",
    "# plt.savefig('/home/ksolvik/research/reservoirs/figs/ch0/res_dist.eps', dpi=300)\n",
    "plt.savefig('/home/ksolvik/research/reservoirs/figs/ch0/res_dist.jpg', dpi=300,\n",
    "            pil_kwargs={'quality':95},\n",
    "            bbox_inches='tight')\n",
    "# fig.tight_layout()"
   ]
  },
  {
   "cell_type": "code",
   "execution_count": 15,
   "id": "ee225927",
   "metadata": {},
   "outputs": [
    {
     "data": {
      "text/plain": [
       "6.997059801979103"
      ]
     },
     "execution_count": 15,
     "metadata": {},
     "output_type": "execute_result"
    }
   ],
   "source": [
    "watershed_gdf_merged['density_2021'].max()"
   ]
  },
  {
   "cell_type": "code",
   "execution_count": 16,
   "id": "3852ad7b",
   "metadata": {},
   "outputs": [
    {
     "data": {
      "image/png": "[encoded data removed]",
      "text/plain": [
       "<Figure size 1200x1000 with 8 Axes>"
      ]
     },
     "metadata": {},
     "output_type": "display_data"
    }
   ],
   "source": [
    "\n",
    "fig, axs = plt.subplots(2,2, figsize=(12,10))\n",
    "\n",
    "state_gdf_merged.plot(column='density_2021',\n",
    "              ax=axs[0,0], legend=True, vmax=0.5)\n",
    "\n",
    "biome_gdf_merged.plot(column='density_2021',\n",
    "              ax=axs[0,1], legend=True, vmax=0.5)\n",
    "basin_gdf_merged.plot(column='density_2021',\n",
    "              ax=axs[1,0], legend=True, vmax=0.5)\n",
    "\n",
    "watershed_gdf_merged.plot(column='density_2021',\n",
    "              ax=axs[1,1], legend=True,vmax=1.0, linewidth=0.0, edgecolor=None)\n",
    "axs[0,0].set_title('State')\n",
    "axs[0,1].set_title('Biome')\n",
    "axs[1,0].set_title('Macro HydroRegions')\n",
    "axs[1,1].set_title('Watersheds')\n",
    "\n",
    "for ax in axs.flatten():\n",
    "    ax.set_xlabel('Lat (deg)')\n",
    "    ax.set_ylabel('Lon (deg)')\n",
    "\n",
    "fig.tight_layout()"
   ]
  },
  {
   "cell_type": "markdown",
   "id": "46161d83",
   "metadata": {},
   "source": [
    "# Misc Others for Comparisons"
   ]
  },
  {
   "cell_type": "code",
   "execution_count": 17,
   "id": "02b751d3",
   "metadata": {},
   "outputs": [],
   "source": [
    "res_gdf = read_process_csv_to_gdf('../remove_bad_water/out/sentinel_2021_v6_wgs84_combined_merged.csv')"
   ]
  },
  {
   "cell_type": "code",
   "execution_count": 18,
   "id": "d6e367d7",
   "metadata": {},
   "outputs": [],
   "source": [
    "res_gdf = res_gdf.loc[res_gdf['area_ha']<100]"
   ]
  },
  {
   "cell_type": "markdown",
   "id": "26aeb3e3",
   "metadata": {},
   "source": [
    "### Upper Xingu"
   ]
  },
  {
   "cell_type": "code",
   "execution_count": 19,
   "id": "94931a92",
   "metadata": {},
   "outputs": [
    {
     "name": "stdout",
     "output_type": "stream",
     "text": [
      "         area_ha\n",
      "sum     13042.19\n",
      "count   11149.00\n",
      "median      0.30\n"
     ]
    }
   ],
   "source": [
    "xingu_shp_path = '../../../../../analysis/data/misc/general_borders/UpperXingu.shp'\n",
    "xingu_gdf = gpd.read_file(xingu_shp_path).to_crs('EPSG:4326')\n",
    "xingu_stats = sjoin_summarize_nogroup(res_gdf, xingu_gdf)\n",
    "print(xingu_stats)"
   ]
  },
  {
   "cell_type": "markdown",
   "id": "711ecdfa",
   "metadata": {},
   "source": [
    "### Sorrisio Muni"
   ]
  },
  {
   "cell_type": "code",
   "execution_count": 20,
   "id": "8384b706",
   "metadata": {},
   "outputs": [
    {
     "name": "stdout",
     "output_type": "stream",
     "text": [
      "        area_ha\n",
      "sum     1565.03\n",
      "count    764.00\n",
      "median     0.40\n"
     ]
    }
   ],
   "source": [
    "sorriso_shp_path = '../../../../../analysis/data/misc/municipal_units/sorriso_only.shp'\n",
    "sorriso_gdf = gpd.read_file(sorriso_shp_path).to_crs('EPSG:4326')\n",
    "sorriso_stats = sjoin_summarize_nogroup(res_gdf, sorriso_gdf)\n",
    "print(sorriso_stats)"
   ]
  },
  {
   "cell_type": "markdown",
   "id": "8feec524",
   "metadata": {},
   "source": [
    "### Mato Grosso Only"
   ]
  },
  {
   "cell_type": "code",
   "execution_count": 21,
   "id": "011b1e67",
   "metadata": {},
   "outputs": [
    {
     "name": "stdout",
     "output_type": "stream",
     "text": [
      "         area_ha\n",
      "sum     59532.59\n",
      "count   89275.00\n",
      "median      0.18\n"
     ]
    }
   ],
   "source": [
    "state_gdf = gpd.read_file('./data/Brazilian_States.shp').to_crs('EPSG:4326')\n",
    "mt_gdf = state_gdf.loc[state_gdf['UF_05']=='MT']\n",
    "mt_stats = sjoin_summarize_nogroup(res_gdf, mt_gdf)\n",
    "# mt_stats = sjoin_summarize(res_gdf, state_gdf, 'UF_05')# \n",
    "print(mt_stats)"
   ]
  },
  {
   "cell_type": "markdown",
   "id": "cd815f72",
   "metadata": {},
   "source": [
    "### Amazonia Only"
   ]
  },
  {
   "cell_type": "code",
   "execution_count": 22,
   "id": "a4c1502a",
   "metadata": {},
   "outputs": [
    {
     "name": "stdout",
     "output_type": "stream",
     "text": [
      "          area_ha\n",
      "sum     136374.84\n",
      "count   317207.00\n",
      "median       0.16\n"
     ]
    }
   ],
   "source": [
    "biome_gdf = gpd.read_file('./data/lm_bioma_250.shp').to_crs('EPSG:4326')\n",
    "amz_gdf = biome_gdf.loc[biome_gdf['CD_Bioma']==1]\n",
    "amz_stats = sjoin_summarize_nogroup(res_gdf, amz_gdf)\n",
    "print(amz_stats)"
   ]
  },
  {
   "cell_type": "markdown",
   "id": "42ba1101",
   "metadata": {},
   "source": [
    "# Global Dam Watch Calcs"
   ]
  },
  {
   "cell_type": "code",
   "execution_count": 23,
   "id": "0744fb61",
   "metadata": {},
   "outputs": [],
   "source": [
    "gdw_df = gpd.read_file('../../../../reservoir-id-cnn/reservoir-id-cnn/analysis/other_dams/gdw/GDW_v1_0_shp/GDW_barriers_v1_0.shp')"
   ]
  },
  {
   "cell_type": "code",
   "execution_count": 24,
   "id": "aefeb46d",
   "metadata": {},
   "outputs": [
    {
     "data": {
      "text/plain": [
       "66866.692"
      ]
     },
     "execution_count": 24,
     "metadata": {},
     "output_type": "execute_result"
    }
   ],
   "source": [
    "gdw_df.loc[gdw_df['AREA_POLY']>0]['AREA_POLY'].max()"
   ]
  },
  {
   "cell_type": "code",
   "execution_count": 25,
   "id": "705303ec",
   "metadata": {},
   "outputs": [],
   "source": [
    "gdw_brazil = gdw_df.loc[gdw_df.COUNTRY=='Brazil']\n",
    "gdw_brazil = gdw_brazil.loc[gdw_brazil.AREA_POLY>0]"
   ]
  },
  {
   "cell_type": "code",
   "execution_count": 26,
   "id": "e5812ba4",
   "metadata": {},
   "outputs": [
    {
     "data": {
      "text/plain": [
       "0.234"
      ]
     },
     "execution_count": 26,
     "metadata": {},
     "output_type": "execute_result"
    }
   ],
   "source": [
    "gdw_brazil['AREA_POLY'].median()"
   ]
  },
  {
   "cell_type": "code",
   "execution_count": 27,
   "id": "67acbe05",
   "metadata": {},
   "outputs": [
    {
     "data": {
      "text/plain": [
       "151"
      ]
     },
     "execution_count": 27,
     "metadata": {},
     "output_type": "execute_result"
    }
   ],
   "source": [
    "(gdw_brazil['AREA_POLY']<0.01).sum()"
   ]
  },
  {
   "cell_type": "code",
   "execution_count": 28,
   "id": "6ca663a5",
   "metadata": {},
   "outputs": [
    {
     "data": {
      "text/plain": [
       "1121.5539999999999"
      ]
     },
     "execution_count": 28,
     "metadata": {},
     "output_type": "execute_result"
    }
   ],
   "source": [
    "\n",
    "gdw_brazil.loc[gdw_brazil['AREA_POLY'] <1, 'AREA_POLY'].sum()"
   ]
  },
  {
   "cell_type": "code",
   "execution_count": 29,
   "id": "c5102459",
   "metadata": {},
   "outputs": [
    {
     "data": {
      "text/plain": [
       "7238.0599999999995"
      ]
     },
     "execution_count": 29,
     "metadata": {},
     "output_type": "execute_result"
    }
   ],
   "source": [
    "\n",
    "gdw_brazil.sort_values('AREA_POLY', ascending=False)['AREA_POLY'].iloc[:3].sum()"
   ]
  },
  {
   "cell_type": "code",
   "execution_count": 30,
   "id": "047dffcf",
   "metadata": {},
   "outputs": [
    {
     "data": {
      "text/plain": [
       "2"
      ]
     },
     "execution_count": 30,
     "metadata": {},
     "output_type": "execute_result"
    }
   ],
   "source": [
    "\n",
    "gdw_brazil['AREA_POLY'].argmax()"
   ]
  },
  {
   "cell_type": "code",
   "execution_count": 31,
   "id": "0cd9000d",
   "metadata": {},
   "outputs": [
    {
     "data": {
      "text/plain": [
       "9514.043"
      ]
     },
     "execution_count": 31,
     "metadata": {},
     "output_type": "execute_result"
    }
   ],
   "source": [
    "gdw_brazil.sort_values('AREA_POLY',ascending=False ).iloc[:5]['AREA_POLY'].sum()"
   ]
  },
  {
   "cell_type": "markdown",
   "id": "438d943e",
   "metadata": {},
   "source": [
    "# Compare with ANA"
   ]
  },
  {
   "cell_type": "code",
   "execution_count": 32,
   "id": "dc03214f",
   "metadata": {},
   "outputs": [],
   "source": [
    "\n",
    "ana_gdf = gpd.read_file('../compare_other_methods/data/ana/Massas_d_Agua.shp')\n",
    "ana_gdf = ana_gdf.loc[ana_gdf['detipomass']=='Artificial']\n",
    "ana_gdf = ana_gdf.loc[ana_gdf['nuareakm2']<1]\n"
   ]
  },
  {
   "cell_type": "code",
   "execution_count": 33,
   "id": "5697544f",
   "metadata": {},
   "outputs": [],
   "source": [
    "\n",
    "biome_gdf = gpd.read_file('./data/lm_bioma_250.shp').to_crs('EPSG:3857')"
   ]
  },
  {
   "cell_type": "code",
   "execution_count": 34,
   "id": "f39d2ebb",
   "metadata": {},
   "outputs": [],
   "source": [
    "ana_gdf['geometry'] = ana_gdf['geometry'].centroid"
   ]
  },
  {
   "cell_type": "code",
   "execution_count": 35,
   "id": "f0b681cb",
   "metadata": {},
   "outputs": [],
   "source": [
    "joined_gdf = gpd.sjoin(ana_gdf, biome_gdf, predicate='within', how='inner')\n",
    "joined_gdf['area_ha'] = joined_gdf['nuareakm2']*100\n",
    "ana_gdf_biome = joined_gdf[['area_ha', 'Bioma']].groupby('Bioma').agg(['sum', 'count', 'median'])['area_ha']"
   ]
  },
  {
   "cell_type": "code",
   "execution_count": 36,
   "id": "aca27ef9",
   "metadata": {},
   "outputs": [],
   "source": [
    "\n",
    "biome_gdf = gpd.read_file('../regions/data/lm_bioma_250.shp').to_crs('EPSG:4326')\n",
    "full_df = pd.read_csv('../remove_bad_water/data/sentinel_2021_v6_cleaned.csv')\n",
    "full_gdf = gpd.GeoDataFrame(\n",
    "    full_df, geometry=gpd.points_from_xy(full_df.longitude, full_df.latitude),\n",
    "    crs='EPSG:4326'\n",
    ")\n",
    "joined_gdf = gpd.sjoin(full_gdf, biome_gdf, predicate='within', how='inner')\n",
    "count_area_df = joined_gdf[['Bioma','area_ha']].groupby(['Bioma']).agg(['sum','count', 'median'])\n",
    "# count_df = joined_gdf.groupby(['Bioma']).count()\n",
    "# count_df_complete = count_df[['CD_Bioma']].rename(columns={'CD_Bioma':'Count'})\n",
    "# count_df_complete = count_df[['CD_Bioma']].rename(columns={'':'Count'})"
   ]
  },
  {
   "cell_type": "code",
   "execution_count": 37,
   "id": "0be03e4b",
   "metadata": {},
   "outputs": [],
   "source": [
    "combined_df = count_area_df['area_ha'].merge(ana_gdf_biome[['count', 'sum']], left_index=True, right_index=True, suffixes=['_our', '_ana'])"
   ]
  },
  {
   "cell_type": "code",
   "execution_count": 38,
   "id": "bff744cb",
   "metadata": {},
   "outputs": [],
   "source": [
    "bar_colordict = {\n",
    "    'Amazônia': '#b3c4b9',\n",
    "    'Caatinga': '#adc0cc',\n",
    "    'Cerrado': '#e0bc86',\n",
    "    'Mata Atlântica': '#898b9e',\n",
    "    'Pampa': '#bdcc99',\n",
    "    'Pantanal': '#ab9c97'\n",
    "}\n",
    "bar_grayscaledict = {\n",
    "    'Amazônia': '#666666',\n",
    "    'Caatinga': '#4d4d4d',\n",
    "    'Cerrado': '#d9d9d9',\n",
    "    'Mata Atlântica': '#b3b3b3',\n",
    "    'Pampa': '#8c8c8c',\n",
    "    'Pantanal': '#1a1a1a'\n",
    "}\n",
    "hatch_dict = {\n",
    "    'our': None,\n",
    "    'ana': '///',\n",
    "}\n",
    "alpha_dict = {\n",
    "    'our': 1.0,\n",
    "    'ana': 0.5,\n",
    "}"
   ]
  },
  {
   "cell_type": "code",
   "execution_count": 39,
   "id": "16800823",
   "metadata": {},
   "outputs": [
    {
     "data": {
      "text/plain": [
       "<matplotlib.legend.Legend at 0x7f4590a4d120>"
      ]
     },
     "execution_count": 39,
     "metadata": {},
     "output_type": "execute_result"
    },
    {
     "data": {
      "image/png": "[encoded data removed]",
      "text/plain": [
       "<Figure size 640x480 with 2 Axes>"
      ]
     },
     "metadata": {},
     "output_type": "display_data"
    }
   ],
   "source": [
    "matplotlib.rcParams['hatch.linewidth'] = 0.2 \n",
    "labels=combined_df.index\n",
    "x0 = np.arange(len(labels))  # create an array of values for the ticks that can perform arithmetic with width (w)\n",
    "\n",
    "fig, axs = plt.subplots(1,2)\n",
    "\n",
    "# Count\n",
    "ax=axs[0]\n",
    "# build the plots\n",
    "groups = ['count_our','count_ana']\n",
    "stacks = len(groups)  # how many stacks in each group for a tick location\n",
    "\n",
    "# set the width\n",
    "w = 0.35\n",
    "\n",
    "# this needs to be adjusted based on the number of stacks; each location needs to be split into the proper number of locations\n",
    "x1 = [x0 - w/stacks, x0 + w/stacks]\n",
    "\n",
    "for i, label in enumerate(labels):\n",
    "    for x, dataset in zip(x1, groups):\n",
    "        bar_height = combined_df.loc[label, dataset]/1000\n",
    "        if dataset == 'sum_our':\n",
    "            leg_label=label\n",
    "        else:\n",
    "            leg_label=None\n",
    "        ax.bar(x=x[i], height=bar_height, width=w,\n",
    "                hatch=hatch_dict[dataset[-3:]], \n",
    "                color=bar_colordict[label],\n",
    "                alpha=alpha_dict[dataset[-3:]],\n",
    "                label=leg_label)\n",
    "leg_patches = [\n",
    "    Patch(facecolor='grey',alpha=1.0, label='This Study'),\n",
    "    Patch(facecolor='grey',hatch='///', alpha=0.5, label='ANA Data')\n",
    "]\n",
    "ax.set_xticks(np.arange(0,6))\n",
    "ax.set_xticklabels(labels)\n",
    "ax.set_ylabel('Reservoir Count (thousands)')\n",
    "ax.set_xlabel('Biome')\n",
    "plt.xticks(rotation=45, ha='right')\n",
    "ax.legend(handles=leg_patches)\n",
    "\n",
    "# Total Area\n",
    "ax=axs[1]\n",
    "# build the plots\n",
    "groups = ['sum_our','sum_ana']\n",
    "stacks = len(groups)  # how many stacks in each group for a tick location\n",
    "\n",
    "# set the width\n",
    "w = 0.35\n",
    "\n",
    "# this needs to be adjusted based on the number of stacks; each location needs to be split into the proper number of locations\n",
    "x1 = [x0 - w/stacks, x0 + w/stacks]\n",
    "\n",
    "for i, label in enumerate(labels):\n",
    "    for x, dataset in zip(x1, groups):\n",
    "        bar_height = combined_df.loc[label, dataset]/1000\n",
    "        if dataset == 'sum_our':\n",
    "            leg_label=label\n",
    "        else:\n",
    "            leg_label=None\n",
    "        ax.bar(x=x[i], height=bar_height, width=w,\n",
    "                hatch=hatch_dict[dataset[-3:]], \n",
    "                color=bar_colordict[label],\n",
    "                alpha=alpha_dict[dataset[-3:]],\n",
    "                label=leg_label)\n",
    "leg_patches = [\n",
    "    Patch(facecolor='grey',alpha=1.0, label='This Study'),\n",
    "    Patch(facecolor='grey',hatch='///', alpha=0.5, label='ANA Data')\n",
    "]\n",
    "ax.set_xticks(np.arange(0,6))\n",
    "ax.set_xticklabels(labels)\n",
    "ax.set_ylabel('Reservoir Count (thousands)')\n",
    "ax.set_xlabel('Biome')\n",
    "plt.xticks(rotation=45, ha='right')\n",
    "ax.legend(handles=leg_patches)\n"
   ]
  },
  {
   "cell_type": "code",
   "execution_count": 40,
   "id": "9b3f69bb",
   "metadata": {},
   "outputs": [],
   "source": [
    "\n",
    "   # Map\n",
    "biome_csvs = glob.glob('./out/sentinel*biome*.csv')\n",
    "biome_csvs.sort()\n",
    "biome_list = [read_process_region_csv(csv) for csv in biome_csvs]\n",
    "biome_df = pd.concat(biome_list).set_index('year')\n",
    "biome_df = biome_df.sort_index()\n",
    "# 2021 only\n",
    "biome_df = biome_df.loc[2021]\n",
    "biome_df = biome_df.drop(columns='satellite')\n",
    "biome_gdf['CD_Bioma'] = biome_gdf['CD_Bioma'].astype(int)\n",
    "biome_gdf['area_km2'] = biome_gdf.to_crs('ESRI:102033').area/(1000*1000)\n",
    "# biome_gdf.index = biome_gdf.index.astype(int)\n",
    "biome_gdf_merged = biome_gdf.copy()\n",
    "for y in biome_df.index.unique():\n",
    "    biome_stats_to_merge = biome_df.loc[y].set_index('CD_Bioma').add_suffix('_{}'.format(y))\n",
    "    biome_gdf_merged = biome_gdf_merged.merge(biome_stats_to_merge,\n",
    "                                                      left_on='CD_Bioma', right_index=True,\n",
    "                                                     how='left')\n",
    "biome_gdf_merged = biome_gdf_merged.fillna(0)\n",
    "# watershed_gdf_merged['count_diff']  = watershed_gdf_merged['count_2021'] - watershed_gdf_merged['count_2017']\n",
    "# for suffix in ['2017','2021','diff']:\n",
    "for suffix in ['2021']:\n",
    "    biome_gdf_merged['density_{}'.format(suffix)] = (biome_gdf_merged['count_{}'.format(suffix)]\n",
    "                                                     /biome_gdf_merged['area_km2'])\n",
    "\n",
    "\n",
    "biome_rename_dict = {\n",
    "    'Amazônia': 'Amazon',\n",
    "    'Caatinga': 'Caatinga',\n",
    "    'Cerrado': 'Cerrado',\n",
    "    'Pampa': 'Pampa',\n",
    "    'Mata Atlântica': 'Mata\\nAtlântica',\n",
    "    'Pantanal': 'Pantanal'\n",
    "}\n",
    "biome_gdf_merged['Bioma'] = biome_gdf_merged['Bioma'].map(biome_rename_dict)\n"
   ]
  },
  {
   "cell_type": "code",
   "execution_count": 41,
   "id": "c1d8bed9",
   "metadata": {},
   "outputs": [
    {
     "data": {
      "image/png": "[encoded data removed]",
      "text/plain": [
       "<Figure size 375x375 with 2 Axes>"
      ]
     },
     "metadata": {},
     "output_type": "display_data"
    }
   ],
   "source": [
    "\n",
    "fig, ax = plt.subplots(1,1, figsize=(3.75,3.75), constrained_layout=True)\n",
    "\n",
    "biome_gdf_merged.clip([-74, -33, -33, 4]).plot(column='density_2021',\n",
    "              ax=ax, cmap='GnBu', legend=False, vmax=0.5,\n",
    "              edgecolor='grey', linewidth=0.025)\n",
    "\n",
    "ha_dict = {\n",
    "    'Amazon': 'center',\n",
    "    'Caatinga': 'center',\n",
    "    'Cerrado': 'center',\n",
    "    'Mata\\nAtlântica': 'center',\n",
    "    'Pampa': 'center',\n",
    "    'Pantanal': 'center'\n",
    "}\n",
    "text_colordict = {\n",
    "    'Amazon': 'black',\n",
    "    'Caatinga': 'black',\n",
    "    'Cerrado': 'black',\n",
    "    'Mata\\nAtlântica': 'black',\n",
    "    'Pampa': 'black',\n",
    "    'Pantanal': 'black'\n",
    "}\n",
    "offset_dict = {\n",
    "    'Amazon': 0,\n",
    "    'Caatinga': np.array([2,1]),\n",
    "    'Cerrado': np.array([0, -2]),\n",
    "    'Mata\\nAtlântica': np.array([6.25, -8]),\n",
    "    'Pampa': np.array([-8, -2]),\n",
    "    'Pantanal': np.array([-7, -3])\n",
    "}\n",
    "\n",
    "\n",
    "\n",
    "biome_gdf_merged.apply(lambda x: ax.annotate(text='{}\\n({:,})'.format(x['Bioma'], x['count_2021']), \n",
    "                                                 xy=np.array(x.geometry.centroid.coords[0]) + offset_dict[x['Bioma']],\n",
    "                                                 ha=ha_dict[x['Bioma']],\n",
    "                                                 color=text_colordict[x['Bioma']]), axis=1)\n",
    "\n",
    "ax.set_xlabel('Lon (deg)')\n",
    "ax.set_ylabel('Lat (deg)')\n",
    "\n",
    "# # Define the colormap and normalization\n",
    "cmap = plt.cm.GnBu  # Choose the colormap\n",
    "norm = Normalize(vmin=0, vmax=0.5)  # Set the range from 0 to 0.5\n",
    "\n",
    "# Create a ScalarMappable and add the colorbar\n",
    "sm = plt.cm.ScalarMappable(cmap=cmap, norm=norm)\n",
    "sm.set_array([])  # Required for the ScalarMappable\n",
    "cbar = fig.colorbar(sm, orientation='horizontal', ax=ax,\n",
    "                    fraction=0.045, pad=0.03)#cax=fig.add_axes([0.2, 0.001, 0.6, 0.03]), orientation='horizontal')\n",
    "cbar.set_label('Reservoirs per km$^2$')\n",
    "# plt.colorbar(ax.collections[0], orientation=\"horizontal\")\n",
    "plt.savefig('/home/ksolvik/research/reservoirs/figs/ch0/res_dist_biome.svg', dpi=300)\n",
    "plt.savefig('/home/ksolvik/research/reservoirs/figs/ch0/res_dist_biome.jpg', dpi=300,\n",
    "            pil_kwargs={'quality':95},\n",
    "            bbox_inches='tight')\n",
    "# plt.savefig('/home/ksolvik/research/reservoirs/figs/ch0/res_dist_vs_ana_lowquality.jpg', dpi=150,\n",
    "#             bbox_inches='tight')"
   ]
  },
  {
   "cell_type": "code",
   "execution_count": 42,
   "id": "3cc95803",
   "metadata": {},
   "outputs": [
    {
     "name": "stdout",
     "output_type": "stream",
     "text": [
      "(44295,)\n"
     ]
    },
    {
     "data": {
      "text/plain": [
       "26248"
      ]
     },
     "execution_count": 42,
     "metadata": {},
     "output_type": "execute_result"
    }
   ],
   "source": [
    "print(watershed_gdf_merged['nunivotto6'].unique().shape)\n",
    "(watershed_gdf_merged['count_2021']>0).sum()"
   ]
  },
  {
   "cell_type": "code",
   "execution_count": 43,
   "id": "80609ef0",
   "metadata": {},
   "outputs": [
    {
     "data": {
      "image/png": "[encoded data removed]",
      "text/plain": [
       "<Figure size 735x400 with 3 Axes>"
      ]
     },
     "metadata": {},
     "output_type": "display_data"
    }
   ],
   "source": [
    "\n",
    "axes_height_ratios=[1, 0.05]\n",
    "fig, axs = plt.subplots(2,2, figsize=(7.35,4.00), constrained_layout=True,\n",
    "                       gridspec_kw={\"height_ratios\":axes_height_ratios})\n",
    "\n",
    "ax=axs[0, 0]\n",
    "biome_gdf_merged.clip([-74, -33, -33, 4]).plot(column='density_2021',\n",
    "              ax=ax, cmap='gist_yarg', legend=False, vmax=0.5,\n",
    "              edgecolor='grey', linewidth=0.025)\n",
    "\n",
    "ha_dict = {\n",
    "    'Amazon': 'center',\n",
    "    'Caatinga': 'center',\n",
    "    'Cerrado': 'center',\n",
    "    'Mata\\nAtlântica': 'center',\n",
    "    'Pampa': 'center',\n",
    "    'Pantanal': 'center'\n",
    "}\n",
    "text_colordict = {\n",
    "    'Amazon': 'black',\n",
    "    'Caatinga': 'black',\n",
    "    'Cerrado': 'black',\n",
    "    'Mata\\nAtlântica': 'black',\n",
    "    'Pampa': 'black',\n",
    "    'Pantanal': 'black'\n",
    "}\n",
    "offset_dict = {\n",
    "    'Amazon': 0,\n",
    "    'Caatinga': np.array([2,1]),\n",
    "    'Cerrado': np.array([0, -2]),\n",
    "    'Mata\\nAtlântica': np.array([6.25, -8]),\n",
    "    'Pampa': np.array([-8, -2]),\n",
    "    'Pantanal': np.array([-7, -3])\n",
    "}\n",
    "\n",
    "\n",
    "\n",
    "biome_gdf_merged.apply(lambda x: ax.annotate(text='{}\\n({:,})'.format(x['Bioma'], x['count_2021']), \n",
    "                                                 xy=np.array(x.geometry.centroid.coords[0]) + offset_dict[x['Bioma']],\n",
    "                                                 ha=ha_dict[x['Bioma']],\n",
    "                                                 color=text_colordict[x['Bioma']]), axis=1)\n",
    "\n",
    "ax.set_xlabel('Lon (deg)')\n",
    "ax.set_ylabel('Lat (deg)')\n",
    "\n",
    "\n",
    "\n",
    "# Watersheds\n",
    "ax=axs[0, 1]\n",
    "watershed_gdf_merged.clip([-74, -33, -33, 4]).plot(column='density_2021',\n",
    "              ax=ax, cmap='gist_yarg', legend=False, vmax=0.5,\n",
    "              edgecolor='grey', linewidth=0.02)\n",
    "ax.set_xlabel('Lon (deg)')\n",
    "ax.set_ylabel('Lat (deg)')\n",
    "\n",
    "# Combined colorbar\n",
    "# Define the colormap and normalization\n",
    "cmap = plt.cm.gist_yarg  # Choose the colormap\n",
    "norm = Normalize(vmin=0, vmax=0.5)  # Set the rtnge from 0 to 0.5\n",
    "sm = plt.cm.ScalarMappable(cmap=cmap, norm=norm)\n",
    "sm.set_array([])  # Required for the ScalarMappable\n",
    "gs = axs[1, 0].get_gridspec()\n",
    "for ax in axs[-1]:\n",
    "    ax.remove()\n",
    "axbig = fig.add_subplot(gs[-1, :])\n",
    "axbig.set_title('Reservoir density (# per km$^2)$')\n",
    "cb = fig.colorbar(sm, cax=axbig, orientation='horizontal',\n",
    "                  ticks=np.arange(0, 0.51, 0.1))\n",
    "cb.ax.set_xticklabels([0, 0.1, 0.2, 0.3, 0.4, '$\\geq$0.5'])\n",
    "\n",
    "for i, label in enumerate(['(a)', '(b)']):\n",
    "    axs[0].flatten()[i].annotate(\n",
    "            label,\n",
    "            xy=(0, 1), xycoords='axes fraction',\n",
    "            xytext=(0.25, -1.3), textcoords='offset fontsize',\n",
    "            fontsize=12, verticalalignment='bottom', fontfamily='serif')\n",
    "\n",
    "\n",
    "# plt.savefig('/home/ksolvik/research/reservoirs/figs/ch0/res_dist_biome_watershed.svg', dpi=300)\n",
    "# plt.savefig('/home/ksolvik/research/reservoirs/figs/ch0/res_dist_biome_watershed.jpg', dpi=300,\n",
    "#             pil_kwargs={'quality':95},\n",
    "#             bbox_inches='tight')\n",
    "# plt.savefig('/home/ksolvik/research/reservoirs/figs/ch0/res_dist_vs_ana_lowquality.jpg', dpi=150,\n",
    "#             bbox_inches='tight')"
   ]
  },
  {
   "cell_type": "code",
   "execution_count": 44,
   "id": "0086de1a",
   "metadata": {},
   "outputs": [],
   "source": [
    "\n",
    "\n",
    "# fig, axs = plt.subplots(1,2, figsize=(7.24,3.5), constrained_layout=True)\n",
    "\n",
    "# biome_gdf_merged.clip([-74, -33, -33, 4]).plot(column='density_2021',\n",
    "#               ax=axs[0], cmap='GnBu', legend=False, vmax=0.5,\n",
    "#               edgecolor='grey', linewidth=0.025)\n",
    "\n",
    "# ha_dict = {\n",
    "#     'Amazon': 'center',\n",
    "#     'Caatinga': 'center',\n",
    "#     'Cerrado': 'center',\n",
    "#     'Mata\\nAtlântica': 'center',\n",
    "#     'Pampa': 'center',\n",
    "#     'Pantanal': 'center'\n",
    "# }\n",
    "# text_colordict = {\n",
    "#     'Amazon': 'black',\n",
    "#     'Caatinga': 'black',\n",
    "#     'Cerrado': 'black',\n",
    "#     'Mata\\nAtlântica': 'black',\n",
    "#     'Pampa': 'black',\n",
    "#     'Pantanal': 'black'\n",
    "# }\n",
    "# offset_dict = {\n",
    "#     'Amazon': 0,\n",
    "#     'Caatinga': np.array([2,1]),\n",
    "#     'Cerrado': np.array([0, -2]),\n",
    "#     'Mata\\nAtlântica': np.array([6.25, -8]),\n",
    "#     'Pampa': np.array([-8, -2]),\n",
    "#     'Pantanal': np.array([-7, -3])\n",
    "# }\n",
    "\n",
    "\n",
    "\n",
    "# biome_gdf_merged.apply(lambda x: axs[0].annotate(text='{}\\n({:,})'.format(x['Bioma'], x['count_2021']), \n",
    "#                                                  xy=np.array(x.geometry.centroid.coords[0]) + offset_dict[x['Bioma']],\n",
    "#                                                  ha=ha_dict[x['Bioma']],\n",
    "#                                                  color=text_colordict[x['Bioma']]), axis=1)\n",
    "\n",
    "# axs[0].set_xlabel('Lat (deg)')\n",
    "# axs[0].set_ylabel('Lon (deg)')\n",
    "\n",
    "# # # Define the colormap and normalization\n",
    "# cmap = plt.cm.GnBu  # Choose the colormap\n",
    "# norm = Normalize(vmin=0, vmax=0.5)  # Set the range from 0 to 0.5\n",
    "\n",
    "# # Create a ScalarMappable and add the colorbar\n",
    "# sm = plt.cm.ScalarMappable(cmap=cmap, norm=norm)\n",
    "# sm.set_array([])  # Required for the ScalarMappable\n",
    "# cbar = fig.colorbar(sm, cax=fig.add_axes([0.1, 0.06, 0.36, 0.03]), orientation='horizontal')\n",
    "# cbar.set_label('Reservoirs per km$^2$')\n",
    "# # plt.colorbar(axs[0].collections[0], orientation=\"horizontal\")\n",
    "\n",
    "# # Plot 2\n",
    "# matplotlib.rcParams['hatch.linewidth'] = 0.2 \n",
    "# labels=combined_df.index\n",
    "# x0 = np.arange(len(labels))  # create an array of values for the ticks that can perform arithmetic with width (w)\n",
    "\n",
    "# ax=axs[1]\n",
    "\n",
    "# # build the plots\n",
    "# groups = ['Our Data','ANA']\n",
    "# stacks = len(groups)  # how many stacks in each group for a tick location\n",
    "\n",
    "# # set the width\n",
    "# w = 0.35\n",
    "\n",
    "# # this needs to be adjusted based on the number of stacks; each location needs to be split into the proper number of locations\n",
    "# x1 = [x0 - w/stacks, x0 + w/stacks]\n",
    "\n",
    "# for i, label in enumerate(labels):\n",
    "#     for x, dataset in zip(x1, groups):\n",
    "#         bar_height = combined_df.loc[label, dataset]/1000\n",
    "#         if dataset == 'Our Data':\n",
    "#             leg_label=label\n",
    "#         else:\n",
    "#             leg_label=None\n",
    "#         ax.bar(x=x[i], height=bar_height, width=w,\n",
    "#                 hatch=hatch_dict[dataset], \n",
    "#                 color=bar_colordict[label],\n",
    "#                 alpha=alpha_dict[dataset],\n",
    "#                 label=leg_label)\n",
    "# leg_patches = [\n",
    "#     Patch(facecolor='grey',alpha=1.0, label='This Study'),\n",
    "#     Patch(facecolor='grey',hatch='///', alpha=0.5, label='ANA Data')\n",
    "# ]\n",
    "# ax.set_xticks(np.arange(0,6))\n",
    "# label_xticks = list(labels.copy())\n",
    "# label_xticks[0] = 'Amazon'\n",
    "# label_xticks[3] = 'Mata\\nAtlântica'\n",
    "# ax.set_xticklabels(label_xticks, rotation=45, ha='center')\n",
    "# ax.set_ylabel('Reservoir Count (thousands)')\n",
    "# # ax.set_xlabel('Biome')\n",
    "\n",
    "# # Add annotations\n",
    "# for i, label in enumerate(['$(a)$', '$(b)$']):\n",
    "#     axs[i].annotate(\n",
    "#             label,\n",
    "#             xy=(0, 1), xycoords='axes fraction',\n",
    "#             xytext=(0.25, -1.3), textcoords='offset fontsize',\n",
    "#             fontsize=10, verticalalignment='bottom', fontfamily='serif')\n",
    "# ax.legend(handles=leg_patches, loc='best')\n",
    "# plt.savefig('/home/ksolvik/research/reservoirs/figs/ch0/res_dist_vs_ana.svg', dpi=300)\n",
    "# plt.savefig('/home/ksolvik/research/reservoirs/figs/ch1/res_dist_vs_ana.jpg', dpi=300,\n",
    "#             pil_kwargs={'quality':95},\n",
    "#             bbox_inches='tight')\n",
    "# plt.savefig('/home/ksolvik/research/reservoirs/figs/ch0/res_dist_vs_ana_lowquality.jpg', dpi=150,\n",
    "#             bbox_inches='tight')\n",
    "# # fig.tight_layout()"
   ]
  },
  {
   "cell_type": "markdown",
   "id": "491b08c8",
   "metadata": {},
   "source": [
    "# Sunburst\n"
   ]
  },
  {
   "cell_type": "code",
   "execution_count": 45,
   "id": "76cfe296",
   "metadata": {},
   "outputs": [],
   "source": [
    "import pandas as pd\n",
    "import geopandas as gpd\n",
    "import plotly.express as px"
   ]
  },
  {
   "cell_type": "code",
   "execution_count": 46,
   "id": "2478834b",
   "metadata": {},
   "outputs": [],
   "source": [
    "\n",
    "biome_gdf = gpd.read_file('../regions/data/lm_bioma_250.shp').to_crs('EPSG:4326')"
   ]
  },
  {
   "cell_type": "code",
   "execution_count": 47,
   "id": "f0ee1a18",
   "metadata": {},
   "outputs": [],
   "source": [
    "full_df = pd.read_csv('../remove_bad_water/data/sentinel_2021_v6_cleaned.csv')\n",
    "full_gdf = gpd.GeoDataFrame(\n",
    "    full_df, geometry=gpd.points_from_xy(full_df.longitude, full_df.latitude),\n",
    "    crs='EPSG:4326'\n",
    ")"
   ]
  },
  {
   "cell_type": "code",
   "execution_count": 48,
   "id": "570f86b1",
   "metadata": {},
   "outputs": [],
   "source": [
    "joined_gdf = gpd.sjoin(full_gdf, biome_gdf, predicate='within', how='inner')"
   ]
  },
  {
   "cell_type": "code",
   "execution_count": 49,
   "id": "82d70f23",
   "metadata": {},
   "outputs": [],
   "source": [
    "count_df = joined_gdf.groupby(['Bioma', 'lulc_class']).count()"
   ]
  },
  {
   "cell_type": "code",
   "execution_count": 50,
   "id": "e26dd2fb",
   "metadata": {},
   "outputs": [],
   "source": [
    "rename_dict = {\n",
    "    'crop':'Crop',\n",
    "    'pasture': 'Pasture',\n",
    "    'grassland': 'Grassland',\n",
    "    'other': 'Other',\n",
    "    'forest': 'Forest',\n",
    "    'savanna':'Savanna'\n",
    "}"
   ]
  },
  {
   "cell_type": "code",
   "execution_count": 51,
   "id": "ef079345",
   "metadata": {},
   "outputs": [],
   "source": [
    "count_df_complete = count_df[['CD_Bioma']].rename(columns={'CD_Bioma':'Count'}).reset_index()\n",
    "count_df_complete['lulc_class'] = count_df_complete['lulc_class'].replace(rename_dict)\n",
    "count_df_complete = count_df_complete.loc[count_df_complete['Bioma']!='Pantanal']\n",
    "count_df_complete = count_df_complete.loc[count_df_complete['lulc_class']!='Other']"
   ]
  },
  {
   "cell_type": "code",
   "execution_count": 52,
   "id": "f0730f9e",
   "metadata": {},
   "outputs": [],
   "source": [
    "silly_rename_dict = {\n",
    "    'Crop':'',\n",
    "    'Pasture':' ',\n",
    "    'Grassland':'  ',\n",
    "    'Other':'   ',\n",
    "    'Forest':'    ',\n",
    "    'Savanna':'     ',\n",
    "}"
   ]
  },
  {
   "cell_type": "code",
   "execution_count": 53,
   "id": "a77f7d5a",
   "metadata": {},
   "outputs": [],
   "source": [
    "count_df_complete['lulc_class_name'] = count_df_complete['lulc_class']\n",
    "# count_df_complete.loc[count_df_complete['Count']<15000,'lulc_class_name'] = count_df_complete.loc[count_df_complete['Count']<15000,'lulc_class_name'].replace(silly_rename_dict)\n",
    "count_df_complete.loc[count_df_complete['Count']<15000,'lulc_class_name'] = 'Other'\n",
    "# count_df_complete.loc[count_df_complete['Count']<10000,'lulc_class_name'] = ''\n",
    "# count_df_complete.loc[count_df_complete['Count']<10000,'lulc_class_name'] = count_df_complete.loc[count_df_complete['Count']<10000,'lulc_class_name'].replace(silly_rename_dict)"
   ]
  },
  {
   "cell_type": "code",
   "execution_count": 54,
   "id": "4790eeba",
   "metadata": {},
   "outputs": [],
   "source": [
    "# grouped_df = count_df_complete[['Bioma','Count', 'lulc_class_name']].groupby(['Bioma','lulc_class_name']).sum()\n",
    "# label_text = []\n",
    "# # Biomas first\n",
    "# percentages_biomas = (100*count_df_complete[['Bioma','Count']].groupby('Bioma').sum()/count_df_complete['Count'].sum())\n",
    "\n",
    "# percentages_lulc = (100*count_df_complete[['Bioma','Count', 'lulc_class_name']].groupby(['Bioma','lulc_class_name']).sum()\n",
    "#                / (count_df_complete[['Bioma', 'Count']].groupby('Bioma').sum())).astype(int)\n",
    "# for bioma in percentages_biomas.index:\n",
    "#     for lulc in percentages_lulc.loc[bioma].sort_values('Count', ascending=True).index:\n",
    "#     # for lulc in percentages_lulc.loc[bioma].index:\n",
    "#         percentage = percentages_lulc.loc[bioma].loc[lulc]['Count']\n",
    "#         if percentage < 10:\n",
    "#             label_text.append(lulc)\n",
    "#         else:\n",
    "#             label_text.append(f\"{lulc}: {percentage:.0f}%\")\n",
    "# for bioma in percentages_biomas.index:\n",
    "#     percentage = percentages_biomas.loc[bioma].values[0]\n",
    "#     label_text.append(f\"{bioma}: {percentage:.0f}%\")"
   ]
  },
  {
   "cell_type": "code",
   "execution_count": 55,
   "id": "bfb14658",
   "metadata": {},
   "outputs": [],
   "source": [
    "biome_rename_dict = {\n",
    "    'Amazônia': 'Amazon',\n",
    "    'Caatinga': 'Caatinga',\n",
    "    'Cerrado': 'Cerrado',\n",
    "    'Pampa': 'Pampa',\n",
    "    'Pantanal': 'Pantanal',\n",
    "    'Mata Atlântica': 'Mata<br>Atlântica'\n",
    "}\n",
    "count_df_complete['Bioma'] = count_df_complete['Bioma'].map(biome_rename_dict)"
   ]
  },
  {
   "cell_type": "code",
   "execution_count": 56,
   "id": "2e6869ef",
   "metadata": {},
   "outputs": [
    {
     "data": {
      "application/vnd.plotly.v1+json": {
       "config": {
        "plotlyServerURL": "https://plot.ly"
       },
       "data": [
        {
         "branchvalues": "total",
         "customdata": [
          [
           "Cerrado"
          ],
          [
           "Mata<br>Atlântica"
          ],
          [
           "Pampa"
          ],
          [
           "Pampa"
          ],
          [
           "Amazon"
          ],
          [
           "Pampa"
          ],
          [
           "Mata<br>Atlântica"
          ],
          [
           "Amazon"
          ],
          [
           "Caatinga"
          ],
          [
           "Cerrado"
          ],
          [
           "Caatinga"
          ],
          [
           "Cerrado"
          ],
          [
           "Mata<br>Atlântica"
          ],
          [
           "Caatinga"
          ],
          [
           "Amazon"
          ],
          [
           "Mata<br>Atlântica"
          ],
          [
           "Caatinga"
          ],
          [
           "Cerrado"
          ],
          [
           "Pampa"
          ]
         ],
         "domain": {
          "x": [
           0,
           1
          ],
          "y": [
           0,
           1
          ]
         },
         "hovertemplate": "labels=%{label}<br>Count=%{value}<br>parent=%{parent}<br>id=%{id}<br>Bioma=%{customdata[0]}<extra></extra>",
         "ids": [
          "Cerrado/Crop",
          "Mata<br>Atlântica/Crop",
          "Pampa/Crop",
          "Pampa/Grassland",
          "Amazon/Other",
          "Pampa/Other",
          "Mata<br>Atlântica/Other",
          "Amazon/Pasture",
          "Caatinga/Other",
          "Cerrado/Other",
          "Caatinga/Pasture",
          "Cerrado/Pasture",
          "Mata<br>Atlântica/Pasture",
          "Caatinga/Savanna",
          "Amazon",
          "Mata<br>Atlântica",
          "Caatinga",
          "Cerrado",
          "Pampa"
         ],
         "insidetextorientation": "radial",
         "labels": [
          "Crop",
          "Crop",
          "Crop",
          "Grassland",
          "Other",
          "Other",
          "Other",
          "Pasture",
          "Other",
          "Other",
          "Pasture",
          "Pasture",
          "Pasture",
          "Savanna",
          "Amazon",
          "Mata<br>Atlântica",
          "Caatinga",
          "Cerrado",
          "Pampa"
         ],
         "marker": {
          "colors": [
           "#e0bc86",
           "#898b9e",
           "#bdcc99",
           "#bdcc99",
           "#b3c4b9",
           "#bdcc99",
           "#898b9e",
           "#b3c4b9",
           "#adc0cc",
           "#e0bc86",
           "#adc0cc",
           "#e0bc86",
           "#898b9e",
           "#adc0cc",
           "#b3c4b9",
           "#898b9e",
           "#adc0cc",
           "#e0bc86",
           "#bdcc99"
          ]
         },
         "name": "",
         "parents": [
          "Cerrado",
          "Mata<br>Atlântica",
          "Pampa",
          "Pampa",
          "Amazon",
          "Pampa",
          "Mata<br>Atlântica",
          "Amazon",
          "Caatinga",
          "Cerrado",
          "Caatinga",
          "Cerrado",
          "Mata<br>Atlântica",
          "Caatinga",
          "",
          "",
          "",
          "",
          ""
         ],
         "textfont": {
          "color": "black"
         },
         "texttemplate": "<b>%{label}: %{percentParent}</b>",
         "type": "sunburst",
         "values": [
          45734,
          123316,
          80641,
          29424,
          17734,
          4593,
          18235,
          297939,
          9007,
          9296,
          164354,
          236394,
          185225,
          25483,
          315673,
          326776,
          198844,
          291424,
          114658
         ]
        }
       ],
       "layout": {
        "annotations": [
         {
          "ax": -100,
          "ay": 90,
          "font": {
           "color": "black",
           "size": 15
          },
          "text": "<b>Other</b>",
          "x": 0.41,
          "xanchor": "right",
          "y": 0.21
         }
        ],
        "height": 800,
        "legend": {
         "tracegroupgap": 0
        },
        "margin": {
         "t": 60
        },
        "sunburstcolorway": [
         "#e0bc86",
         "#898b9e",
         "#bdcc99",
         "#b3c4b9",
         "#adc0cc"
        ],
        "template": {
         "data": {
          "bar": [
           {
            "error_x": {
             "color": "#2a3f5f"
            },
            "error_y": {
             "color": "#2a3f5f"
            },
            "marker": {
             "line": {
              "color": "#E5ECF6",
              "width": 0.5
             },
             "pattern": {
              "fillmode": "overlay",
              "size": 10,
              "solidity": 0.2
             }
            },
            "type": "bar"
           }
          ],
          "barpolar": [
           {
            "marker": {
             "line": {
              "color": "#E5ECF6",
              "width": 0.5
             },
             "pattern": {
              "fillmode": "overlay",
              "size": 10,
              "solidity": 0.2
             }
            },
            "type": "barpolar"
           }
          ],
          "carpet": [
           {
            "aaxis": {
             "endlinecolor": "#2a3f5f",
             "gridcolor": "white",
             "linecolor": "white",
             "minorgridcolor": "white",
             "startlinecolor": "#2a3f5f"
            },
            "baxis": {
             "endlinecolor": "#2a3f5f",
             "gridcolor": "white",
             "linecolor": "white",
             "minorgridcolor": "white",
             "startlinecolor": "#2a3f5f"
            },
            "type": "carpet"
           }
          ],
          "choropleth": [
           {
            "colorbar": {
             "outlinewidth": 0,
             "ticks": ""
            },
            "type": "choropleth"
           }
          ],
          "contour": [
           {
            "colorbar": {
             "outlinewidth": 0,
             "ticks": ""
            },
            "colorscale": [
             [
              0,
              "#0d0887"
             ],
             [
              0.1111111111111111,
              "#46039f"
             ],
             [
              0.2222222222222222,
              "#7201a8"
             ],
             [
              0.3333333333333333,
              "#9c179e"
             ],
             [
              0.4444444444444444,
              "#bd3786"
             ],
             [
              0.5555555555555556,
              "#d8576b"
             ],
             [
              0.6666666666666666,
              "#ed7953"
             ],
             [
              0.7777777777777778,
              "#fb9f3a"
             ],
             [
              0.8888888888888888,
              "#fdca26"
             ],
             [
              1,
              "#f0f921"
             ]
            ],
            "type": "contour"
           }
          ],
          "contourcarpet": [
           {
            "colorbar": {
             "outlinewidth": 0,
             "ticks": ""
            },
            "type": "contourcarpet"
           }
          ],
          "heatmap": [
           {
            "colorbar": {
             "outlinewidth": 0,
             "ticks": ""
            },
            "colorscale": [
             [
              0,
              "#0d0887"
             ],
             [
              0.1111111111111111,
              "#46039f"
             ],
             [
              0.2222222222222222,
              "#7201a8"
             ],
             [
              0.3333333333333333,
              "#9c179e"
             ],
             [
              0.4444444444444444,
              "#bd3786"
             ],
             [
              0.5555555555555556,
              "#d8576b"
             ],
             [
              0.6666666666666666,
              "#ed7953"
             ],
             [
              0.7777777777777778,
              "#fb9f3a"
             ],
             [
              0.8888888888888888,
              "#fdca26"
             ],
             [
              1,
              "#f0f921"
             ]
            ],
            "type": "heatmap"
           }
          ],
          "heatmapgl": [
           {
            "colorbar": {
             "outlinewidth": 0,
             "ticks": ""
            },
            "colorscale": [
             [
              0,
              "#0d0887"
             ],
             [
              0.1111111111111111,
              "#46039f"
             ],
             [
              0.2222222222222222,
              "#7201a8"
             ],
             [
              0.3333333333333333,
              "#9c179e"
             ],
             [
              0.4444444444444444,
              "#bd3786"
             ],
             [
              0.5555555555555556,
              "#d8576b"
             ],
             [
              0.6666666666666666,
              "#ed7953"
             ],
             [
              0.7777777777777778,
              "#fb9f3a"
             ],
             [
              0.8888888888888888,
              "#fdca26"
             ],
             [
              1,
              "#f0f921"
             ]
            ],
            "type": "heatmapgl"
           }
          ],
          "histogram": [
           {
            "marker": {
             "pattern": {
              "fillmode": "overlay",
              "size": 10,
              "solidity": 0.2
             }
            },
            "type": "histogram"
           }
          ],
          "histogram2d": [
           {
            "colorbar": {
             "outlinewidth": 0,
             "ticks": ""
            },
            "colorscale": [
             [
              0,
              "#0d0887"
             ],
             [
              0.1111111111111111,
              "#46039f"
             ],
             [
              0.2222222222222222,
              "#7201a8"
             ],
             [
              0.3333333333333333,
              "#9c179e"
             ],
             [
              0.4444444444444444,
              "#bd3786"
             ],
             [
              0.5555555555555556,
              "#d8576b"
             ],
             [
              0.6666666666666666,
              "#ed7953"
             ],
             [
              0.7777777777777778,
              "#fb9f3a"
             ],
             [
              0.8888888888888888,
              "#fdca26"
             ],
             [
              1,
              "#f0f921"
             ]
            ],
            "type": "histogram2d"
           }
          ],
          "histogram2dcontour": [
           {
            "colorbar": {
             "outlinewidth": 0,
             "ticks": ""
            },
            "colorscale": [
             [
              0,
              "#0d0887"
             ],
             [
              0.1111111111111111,
              "#46039f"
             ],
             [
              0.2222222222222222,
              "#7201a8"
             ],
             [
              0.3333333333333333,
              "#9c179e"
             ],
             [
              0.4444444444444444,
              "#bd3786"
             ],
             [
              0.5555555555555556,
              "#d8576b"
             ],
             [
              0.6666666666666666,
              "#ed7953"
             ],
             [
              0.7777777777777778,
              "#fb9f3a"
             ],
             [
              0.8888888888888888,
              "#fdca26"
             ],
             [
              1,
              "#f0f921"
             ]
            ],
            "type": "histogram2dcontour"
           }
          ],
          "mesh3d": [
           {
            "colorbar": {
             "outlinewidth": 0,
             "ticks": ""
            },
            "type": "mesh3d"
           }
          ],
          "parcoords": [
           {
            "line": {
             "colorbar": {
              "outlinewidth": 0,
              "ticks": ""
             }
            },
            "type": "parcoords"
           }
          ],
          "pie": [
           {
            "automargin": true,
            "type": "pie"
           }
          ],
          "scatter": [
           {
            "fillpattern": {
             "fillmode": "overlay",
             "size": 10,
             "solidity": 0.2
            },
            "type": "scatter"
           }
          ],
          "scatter3d": [
           {
            "line": {
             "colorbar": {
              "outlinewidth": 0,
              "ticks": ""
             }
            },
            "marker": {
             "colorbar": {
              "outlinewidth": 0,
              "ticks": ""
             }
            },
            "type": "scatter3d"
           }
          ],
          "scattercarpet": [
           {
            "marker": {
             "colorbar": {
              "outlinewidth": 0,
              "ticks": ""
             }
            },
            "type": "scattercarpet"
           }
          ],
          "scattergeo": [
           {
            "marker": {
             "colorbar": {
              "outlinewidth": 0,
              "ticks": ""
             }
            },
            "type": "scattergeo"
           }
          ],
          "scattergl": [
           {
            "marker": {
             "colorbar": {
              "outlinewidth": 0,
              "ticks": ""
             }
            },
            "type": "scattergl"
           }
          ],
          "scattermapbox": [
           {
            "marker": {
             "colorbar": {
              "outlinewidth": 0,
              "ticks": ""
             }
            },
            "type": "scattermapbox"
           }
          ],
          "scatterpolar": [
           {
            "marker": {
             "colorbar": {
              "outlinewidth": 0,
              "ticks": ""
             }
            },
            "type": "scatterpolar"
           }
          ],
          "scatterpolargl": [
           {
            "marker": {
             "colorbar": {
              "outlinewidth": 0,
              "ticks": ""
             }
            },
            "type": "scatterpolargl"
           }
          ],
          "scatterternary": [
           {
            "marker": {
             "colorbar": {
              "outlinewidth": 0,
              "ticks": ""
             }
            },
            "type": "scatterternary"
           }
          ],
          "surface": [
           {
            "colorbar": {
             "outlinewidth": 0,
             "ticks": ""
            },
            "colorscale": [
             [
              0,
              "#0d0887"
             ],
             [
              0.1111111111111111,
              "#46039f"
             ],
             [
              0.2222222222222222,
              "#7201a8"
             ],
             [
              0.3333333333333333,
              "#9c179e"
             ],
             [
              0.4444444444444444,
              "#bd3786"
             ],
             [
              0.5555555555555556,
              "#d8576b"
             ],
             [
              0.6666666666666666,
              "#ed7953"
             ],
             [
              0.7777777777777778,
              "#fb9f3a"
             ],
             [
              0.8888888888888888,
              "#fdca26"
             ],
             [
              1,
              "#f0f921"
             ]
            ],
            "type": "surface"
           }
          ],
          "table": [
           {
            "cells": {
             "fill": {
              "color": "#EBF0F8"
             },
             "line": {
              "color": "white"
             }
            },
            "header": {
             "fill": {
              "color": "#C8D4E3"
             },
             "line": {
              "color": "white"
             }
            },
            "type": "table"
           }
          ]
         },
         "layout": {
          "annotationdefaults": {
           "arrowcolor": "#2a3f5f",
           "arrowhead": 0,
           "arrowwidth": 1
          },
          "autotypenumbers": "strict",
          "coloraxis": {
           "colorbar": {
            "outlinewidth": 0,
            "ticks": ""
           }
          },
          "colorscale": {
           "diverging": [
            [
             0,
             "#8e0152"
            ],
            [
             0.1,
             "#c51b7d"
            ],
            [
             0.2,
             "#de77ae"
            ],
            [
             0.3,
             "#f1b6da"
            ],
            [
             0.4,
             "#fde0ef"
            ],
            [
             0.5,
             "#f7f7f7"
            ],
            [
             0.6,
             "#e6f5d0"
            ],
            [
             0.7,
             "#b8e186"
            ],
            [
             0.8,
             "#7fbc41"
            ],
            [
             0.9,
             "#4d9221"
            ],
            [
             1,
             "#276419"
            ]
           ],
           "sequential": [
            [
             0,
             "#0d0887"
            ],
            [
             0.1111111111111111,
             "#46039f"
            ],
            [
             0.2222222222222222,
             "#7201a8"
            ],
            [
             0.3333333333333333,
             "#9c179e"
            ],
            [
             0.4444444444444444,
             "#bd3786"
            ],
            [
             0.5555555555555556,
             "#d8576b"
            ],
            [
             0.6666666666666666,
             "#ed7953"
            ],
            [
             0.7777777777777778,
             "#fb9f3a"
            ],
            [
             0.8888888888888888,
             "#fdca26"
            ],
            [
             1,
             "#f0f921"
            ]
           ],
           "sequentialminus": [
            [
             0,
             "#0d0887"
            ],
            [
             0.1111111111111111,
             "#46039f"
            ],
            [
             0.2222222222222222,
             "#7201a8"
            ],
            [
             0.3333333333333333,
             "#9c179e"
            ],
            [
             0.4444444444444444,
             "#bd3786"
            ],
            [
             0.5555555555555556,
             "#d8576b"
            ],
            [
             0.6666666666666666,
             "#ed7953"
            ],
            [
             0.7777777777777778,
             "#fb9f3a"
            ],
            [
             0.8888888888888888,
             "#fdca26"
            ],
            [
             1,
             "#f0f921"
            ]
           ]
          },
          "colorway": [
           "#636efa",
           "#EF553B",
           "#00cc96",
           "#ab63fa",
           "#FFA15A",
           "#19d3f3",
           "#FF6692",
           "#B6E880",
           "#FF97FF",
           "#FECB52"
          ],
          "font": {
           "color": "#2a3f5f"
          },
          "geo": {
           "bgcolor": "white",
           "lakecolor": "white",
           "landcolor": "#E5ECF6",
           "showlakes": true,
           "showland": true,
           "subunitcolor": "white"
          },
          "hoverlabel": {
           "align": "left"
          },
          "hovermode": "closest",
          "mapbox": {
           "style": "light"
          },
          "paper_bgcolor": "white",
          "plot_bgcolor": "#E5ECF6",
          "polar": {
           "angularaxis": {
            "gridcolor": "white",
            "linecolor": "white",
            "ticks": ""
           },
           "bgcolor": "#E5ECF6",
           "radialaxis": {
            "gridcolor": "white",
            "linecolor": "white",
            "ticks": ""
           }
          },
          "scene": {
           "xaxis": {
            "backgroundcolor": "#E5ECF6",
            "gridcolor": "white",
            "gridwidth": 2,
            "linecolor": "white",
            "showbackground": true,
            "ticks": "",
            "zerolinecolor": "white"
           },
           "yaxis": {
            "backgroundcolor": "#E5ECF6",
            "gridcolor": "white",
            "gridwidth": 2,
            "linecolor": "white",
            "showbackground": true,
            "ticks": "",
            "zerolinecolor": "white"
           },
           "zaxis": {
            "backgroundcolor": "#E5ECF6",
            "gridcolor": "white",
            "gridwidth": 2,
            "linecolor": "white",
            "showbackground": true,
            "ticks": "",
            "zerolinecolor": "white"
           }
          },
          "shapedefaults": {
           "line": {
            "color": "#2a3f5f"
           }
          },
          "ternary": {
           "aaxis": {
            "gridcolor": "white",
            "linecolor": "white",
            "ticks": ""
           },
           "baxis": {
            "gridcolor": "white",
            "linecolor": "white",
            "ticks": ""
           },
           "bgcolor": "#E5ECF6",
           "caxis": {
            "gridcolor": "white",
            "linecolor": "white",
            "ticks": ""
           }
          },
          "title": {
           "x": 0.05
          },
          "xaxis": {
           "automargin": true,
           "gridcolor": "white",
           "linecolor": "white",
           "ticks": "",
           "title": {
            "standoff": 15
           },
           "zerolinecolor": "white",
           "zerolinewidth": 2
          },
          "yaxis": {
           "automargin": true,
           "gridcolor": "white",
           "linecolor": "white",
           "ticks": "",
           "title": {
            "standoff": 15
           },
           "zerolinecolor": "white",
           "zerolinewidth": 2
          }
         }
        },
        "uniformtext": {
         "minsize": 15,
         "mode": "hide"
        },
        "width": 800
       }
      }
     },
     "metadata": {},
     "output_type": "display_data"
    }
   ],
   "source": [
    "# df = px.data.tips()\n",
    "fig = px.sunburst(count_df_complete, path=['Bioma', 'lulc_class_name'], values='Count',\n",
    "                color='Bioma',\n",
    "                color_discrete_sequence=[\"#e0bc86\",\"#898b9e\", \"#bdcc99\", '#b3c4b9',\"#adc0cc\" ],\n",
    "                  width=800, height=800)\n",
    "fig.update_layout(uniformtext=dict(minsize=15, mode='hide'))\n",
    "\n",
    "fig.add_annotation(\n",
    "    text='<b>Other</b>',\n",
    "    xanchor='right',\n",
    "    x=0.41, y=0.21,\n",
    "    ax=-100, ay=90,\n",
    "    font_color='black',\n",
    "    font_size=15)\n",
    "\n",
    "fig.update_traces(\n",
    "    texttemplate='<b>%{label}: %{percentParent}</b>', \n",
    "    textfont_color='black',\n",
    "    insidetextorientation='radial'\n",
    "    # textinfo=\"label+percent parent\"\n",
    ")\n",
    "\n",
    "fig.show()\n",
    "# fig.write_image('/home/ksolvik/research/reservoirs/figs/ch0/sunburst.svg')\n",
    "# fig.write_image('/home/ksolvik/research/reservoirs/figs/ch0/sunburst.png')\n"
   ]
  },
  {
   "cell_type": "code",
   "execution_count": 57,
   "id": "1403866f",
   "metadata": {},
   "outputs": [
    {
     "name": "stdout",
     "output_type": "stream",
     "text": [
      "                    Count\n",
      "lulc_class_name          \n",
      "Crop             0.156933\n",
      "Other            0.031899\n",
      "Pasture          0.811169\n",
      "                    Count\n",
      "lulc_class_name          \n",
      "Other            0.045297\n",
      "Pasture          0.826547\n",
      "Savanna          0.128156\n",
      "                    Count\n",
      "lulc_class_name          \n",
      "Crop             0.703318\n",
      "Grassland        0.256624\n",
      "Other            0.040058\n"
     ]
    }
   ],
   "source": [
    "# Other percentages\n",
    "print(count_df_complete.loc[count_df_complete['Bioma']=='Cerrado'].groupby('lulc_class_name').sum(numeric_only=True)\n",
    "      / count_df_complete.loc[count_df_complete['Bioma']=='Cerrado']['Count'].sum())\n",
    "print(count_df_complete.loc[count_df_complete['Bioma']=='Caatinga'].groupby('lulc_class_name').sum(numeric_only=True)\n",
    "      / count_df_complete.loc[count_df_complete['Bioma']=='Caatinga']['Count'].sum())\n",
    "print(count_df_complete.loc[count_df_complete['Bioma']=='Pampa'].groupby('lulc_class_name').sum(numeric_only=True)\n",
    "      / count_df_complete.loc[count_df_complete['Bioma']=='Pampa']['Count'].sum())"
   ]
  },
  {
   "cell_type": "code",
   "execution_count": 58,
   "id": "3b2eb5d1",
   "metadata": {},
   "outputs": [
    {
     "data": {
      "application/vnd.plotly.v1+json": {
       "config": {
        "plotlyServerURL": "https://plot.ly"
       },
       "data": [
        {
         "marker": {
          "color": [
           "#898b9e",
           "#b3c4b9",
           "#e0bc86",
           "#adc0cc",
           "#bdcc99",
           "#ab9c97"
          ]
         },
         "name": "This Study",
         "type": "bar",
         "x": [
          "Mata<br>Atlântica",
          "Amazon",
          "Cerrado",
          "Caatinga",
          "Pampa",
          "Pantanal"
         ],
         "xaxis": "x",
         "y": [
          328201,
          317157,
          292131,
          199309,
          117829,
          5251
         ],
         "yaxis": "y"
        },
        {
         "marker": {
          "color": [
           "#898b9e",
           "#b3c4b9",
           "#e0bc86",
           "#adc0cc",
           "#bdcc99",
           "#ab9c97"
          ],
          "pattern": {
           "shape": "/"
          }
         },
         "name": "ANA",
         "type": "bar",
         "x": [
          "Mata<br>Atlântica",
          "Amazon",
          "Cerrado",
          "Caatinga",
          "Pampa",
          "Pantanal"
         ],
         "xaxis": "x",
         "y": [
          76496,
          5752,
          53552,
          17179,
          19789,
          315
         ],
         "yaxis": "y"
        },
        {
         "branchvalues": "total",
         "customdata": [
          [
           "Cerrado"
          ],
          [
           "Mata<br>Atlântica"
          ],
          [
           "Pampa"
          ],
          [
           "Pampa"
          ],
          [
           "Amazon"
          ],
          [
           "Pampa"
          ],
          [
           "Mata<br>Atlântica"
          ],
          [
           "Amazon"
          ],
          [
           "Caatinga"
          ],
          [
           "Cerrado"
          ],
          [
           "Caatinga"
          ],
          [
           "Cerrado"
          ],
          [
           "Mata<br>Atlântica"
          ],
          [
           "Caatinga"
          ],
          [
           "Amazon"
          ],
          [
           "Mata<br>Atlântica"
          ],
          [
           "Caatinga"
          ],
          [
           "Cerrado"
          ],
          [
           "Pampa"
          ]
         ],
         "domain": {
          "x": [
           0,
           0.8999999999999999
          ],
          "y": [
           0,
           0.66
          ]
         },
         "hovertemplate": "labels=%{label}<br>Count=%{value}<br>parent=%{parent}<br>id=%{id}<br>Bioma=%{customdata[0]}<extra></extra>",
         "ids": [
          "Cerrado/Crop",
          "Mata<br>Atlântica/Crop",
          "Pampa/Crop",
          "Pampa/Grassland",
          "Amazon/Other",
          "Pampa/Other",
          "Mata<br>Atlântica/Other",
          "Amazon/Pasture",
          "Caatinga/Other",
          "Cerrado/Other",
          "Caatinga/Pasture",
          "Cerrado/Pasture",
          "Mata<br>Atlântica/Pasture",
          "Caatinga/Savanna",
          "Amazon",
          "Mata<br>Atlântica",
          "Caatinga",
          "Cerrado",
          "Pampa"
         ],
         "insidetextorientation": "radial",
         "labels": [
          "Crop",
          "Crop",
          "Crop",
          "Grassland",
          "Other",
          "Other",
          "Other",
          "Pasture",
          "Other",
          "Other",
          "Pasture",
          "Pasture",
          "Pasture",
          "Savanna",
          "Amazon",
          "Mata<br>Atlântica",
          "Caatinga",
          "Cerrado",
          "Pampa"
         ],
         "marker": {
          "colors": [
           "#e0bc86",
           "#898b9e",
           "#bdcc99",
           "#bdcc99",
           "#b3c4b9",
           "#bdcc99",
           "#898b9e",
           "#b3c4b9",
           "#adc0cc",
           "#e0bc86",
           "#adc0cc",
           "#e0bc86",
           "#898b9e",
           "#adc0cc",
           "#b3c4b9",
           "#898b9e",
           "#adc0cc",
           "#e0bc86",
           "#bdcc99"
          ]
         },
         "name": "",
         "parents": [
          "Cerrado",
          "Mata<br>Atlântica",
          "Pampa",
          "Pampa",
          "Amazon",
          "Pampa",
          "Mata<br>Atlântica",
          "Amazon",
          "Caatinga",
          "Cerrado",
          "Caatinga",
          "Cerrado",
          "Mata<br>Atlântica",
          "Caatinga",
          "",
          "",
          "",
          "",
          ""
         ],
         "sort": true,
         "textfont": {
          "color": "black"
         },
         "texttemplate": "<b>%{label}: %{percentParent}</b>",
         "type": "sunburst",
         "values": [
          45734,
          123316,
          80641,
          29424,
          17734,
          4593,
          18235,
          297939,
          9007,
          9296,
          164354,
          236394,
          185225,
          25483,
          315673,
          326776,
          198844,
          291424,
          114658
         ]
        }
       ],
       "layout": {
        "annotations": [
         {
          "align": "left",
          "ax": 20,
          "ay": -20,
          "font": {
           "color": "black",
           "size": 18
          },
          "showarrow": false,
          "text": "<i>(a)</i>",
          "x": 0.005,
          "xref": "paper",
          "y": 1,
          "yref": "paper"
         },
         {
          "align": "left",
          "ax": 40,
          "ay": -20,
          "font": {
           "color": "black",
           "size": 18
          },
          "showarrow": false,
          "text": "<i>(b)</i>",
          "x": 0.005,
          "xref": "paper",
          "y": 0.6,
          "yref": "paper"
         },
         {
          "ax": 0,
          "ay": 20,
          "font": {
           "color": "black",
           "size": 14
          },
          "text": "<b>Other: 3%</b>",
          "x": 0.438,
          "xanchor": "auto",
          "xref": "paper",
          "y": 0.068,
          "yref": "paper"
         },
         {
          "ax": 35,
          "ay": 0,
          "font": {
           "color": "black",
           "size": 14
          },
          "text": "<b>Other:<br>4%</b>",
          "x": 0.905,
          "xanchor": "auto",
          "xref": "paper",
          "y": 0.3265,
          "yref": "paper"
         },
         {
          "ax": 33,
          "ay": 24,
          "font": {
           "color": "black",
           "size": 14
          },
          "text": "<b>Other:<br>5%</b>",
          "x": 0.822,
          "xanchor": "auto",
          "xref": "paper",
          "y": 0.182,
          "yref": "paper"
         }
        ],
        "font": {
         "color": "black",
         "size": 15
        },
        "height": 1210,
        "legend": {
         "font": {
          "size": 20
         },
         "orientation": "v",
         "x": 0.77,
         "y": 0.99
        },
        "margin": {
         "b": 10,
         "l": 10,
         "r": 10,
         "t": 10
        },
        "paper_bgcolor": "white",
        "plot_bgcolor": "rgba(0, 0, 0, 0)",
        "showlegend": true,
        "template": {
         "data": {
          "bar": [
           {
            "error_x": {
             "color": "#2a3f5f"
            },
            "error_y": {
             "color": "#2a3f5f"
            },
            "marker": {
             "line": {
              "color": "#E5ECF6",
              "width": 0.5
             },
             "pattern": {
              "fillmode": "overlay",
              "size": 10,
              "solidity": 0.2
             }
            },
            "type": "bar"
           }
          ],
          "barpolar": [
           {
            "marker": {
             "line": {
              "color": "#E5ECF6",
              "width": 0.5
             },
             "pattern": {
              "fillmode": "overlay",
              "size": 10,
              "solidity": 0.2
             }
            },
            "type": "barpolar"
           }
          ],
          "carpet": [
           {
            "aaxis": {
             "endlinecolor": "#2a3f5f",
             "gridcolor": "white",
             "linecolor": "white",
             "minorgridcolor": "white",
             "startlinecolor": "#2a3f5f"
            },
            "baxis": {
             "endlinecolor": "#2a3f5f",
             "gridcolor": "white",
             "linecolor": "white",
             "minorgridcolor": "white",
             "startlinecolor": "#2a3f5f"
            },
            "type": "carpet"
           }
          ],
          "choropleth": [
           {
            "colorbar": {
             "outlinewidth": 0,
             "ticks": ""
            },
            "type": "choropleth"
           }
          ],
          "contour": [
           {
            "colorbar": {
             "outlinewidth": 0,
             "ticks": ""
            },
            "colorscale": [
             [
              0,
              "#0d0887"
             ],
             [
              0.1111111111111111,
              "#46039f"
             ],
             [
              0.2222222222222222,
              "#7201a8"
             ],
             [
              0.3333333333333333,
              "#9c179e"
             ],
             [
              0.4444444444444444,
              "#bd3786"
             ],
             [
              0.5555555555555556,
              "#d8576b"
             ],
             [
              0.6666666666666666,
              "#ed7953"
             ],
             [
              0.7777777777777778,
              "#fb9f3a"
             ],
             [
              0.8888888888888888,
              "#fdca26"
             ],
             [
              1,
              "#f0f921"
             ]
            ],
            "type": "contour"
           }
          ],
          "contourcarpet": [
           {
            "colorbar": {
             "outlinewidth": 0,
             "ticks": ""
            },
            "type": "contourcarpet"
           }
          ],
          "heatmap": [
           {
            "colorbar": {
             "outlinewidth": 0,
             "ticks": ""
            },
            "colorscale": [
             [
              0,
              "#0d0887"
             ],
             [
              0.1111111111111111,
              "#46039f"
             ],
             [
              0.2222222222222222,
              "#7201a8"
             ],
             [
              0.3333333333333333,
              "#9c179e"
             ],
             [
              0.4444444444444444,
              "#bd3786"
             ],
             [
              0.5555555555555556,
              "#d8576b"
             ],
             [
              0.6666666666666666,
              "#ed7953"
             ],
             [
              0.7777777777777778,
              "#fb9f3a"
             ],
             [
              0.8888888888888888,
              "#fdca26"
             ],
             [
              1,
              "#f0f921"
             ]
            ],
            "type": "heatmap"
           }
          ],
          "heatmapgl": [
           {
            "colorbar": {
             "outlinewidth": 0,
             "ticks": ""
            },
            "colorscale": [
             [
              0,
              "#0d0887"
             ],
             [
              0.1111111111111111,
              "#46039f"
             ],
             [
              0.2222222222222222,
              "#7201a8"
             ],
             [
              0.3333333333333333,
              "#9c179e"
             ],
             [
              0.4444444444444444,
              "#bd3786"
             ],
             [
              0.5555555555555556,
              "#d8576b"
             ],
             [
              0.6666666666666666,
              "#ed7953"
             ],
             [
              0.7777777777777778,
              "#fb9f3a"
             ],
             [
              0.8888888888888888,
              "#fdca26"
             ],
             [
              1,
              "#f0f921"
             ]
            ],
            "type": "heatmapgl"
           }
          ],
          "histogram": [
           {
            "marker": {
             "pattern": {
              "fillmode": "overlay",
              "size": 10,
              "solidity": 0.2
             }
            },
            "type": "histogram"
           }
          ],
          "histogram2d": [
           {
            "colorbar": {
             "outlinewidth": 0,
             "ticks": ""
            },
            "colorscale": [
             [
              0,
              "#0d0887"
             ],
             [
              0.1111111111111111,
              "#46039f"
             ],
             [
              0.2222222222222222,
              "#7201a8"
             ],
             [
              0.3333333333333333,
              "#9c179e"
             ],
             [
              0.4444444444444444,
              "#bd3786"
             ],
             [
              0.5555555555555556,
              "#d8576b"
             ],
             [
              0.6666666666666666,
              "#ed7953"
             ],
             [
              0.7777777777777778,
              "#fb9f3a"
             ],
             [
              0.8888888888888888,
              "#fdca26"
             ],
             [
              1,
              "#f0f921"
             ]
            ],
            "type": "histogram2d"
           }
          ],
          "histogram2dcontour": [
           {
            "colorbar": {
             "outlinewidth": 0,
             "ticks": ""
            },
            "colorscale": [
             [
              0,
              "#0d0887"
             ],
             [
              0.1111111111111111,
              "#46039f"
             ],
             [
              0.2222222222222222,
              "#7201a8"
             ],
             [
              0.3333333333333333,
              "#9c179e"
             ],
             [
              0.4444444444444444,
              "#bd3786"
             ],
             [
              0.5555555555555556,
              "#d8576b"
             ],
             [
              0.6666666666666666,
              "#ed7953"
             ],
             [
              0.7777777777777778,
              "#fb9f3a"
             ],
             [
              0.8888888888888888,
              "#fdca26"
             ],
             [
              1,
              "#f0f921"
             ]
            ],
            "type": "histogram2dcontour"
           }
          ],
          "mesh3d": [
           {
            "colorbar": {
             "outlinewidth": 0,
             "ticks": ""
            },
            "type": "mesh3d"
           }
          ],
          "parcoords": [
           {
            "line": {
             "colorbar": {
              "outlinewidth": 0,
              "ticks": ""
             }
            },
            "type": "parcoords"
           }
          ],
          "pie": [
           {
            "automargin": true,
            "type": "pie"
           }
          ],
          "scatter": [
           {
            "fillpattern": {
             "fillmode": "overlay",
             "size": 10,
             "solidity": 0.2
            },
            "type": "scatter"
           }
          ],
          "scatter3d": [
           {
            "line": {
             "colorbar": {
              "outlinewidth": 0,
              "ticks": ""
             }
            },
            "marker": {
             "colorbar": {
              "outlinewidth": 0,
              "ticks": ""
             }
            },
            "type": "scatter3d"
           }
          ],
          "scattercarpet": [
           {
            "marker": {
             "colorbar": {
              "outlinewidth": 0,
              "ticks": ""
             }
            },
            "type": "scattercarpet"
           }
          ],
          "scattergeo": [
           {
            "marker": {
             "colorbar": {
              "outlinewidth": 0,
              "ticks": ""
             }
            },
            "type": "scattergeo"
           }
          ],
          "scattergl": [
           {
            "marker": {
             "colorbar": {
              "outlinewidth": 0,
              "ticks": ""
             }
            },
            "type": "scattergl"
           }
          ],
          "scattermapbox": [
           {
            "marker": {
             "colorbar": {
              "outlinewidth": 0,
              "ticks": ""
             }
            },
            "type": "scattermapbox"
           }
          ],
          "scatterpolar": [
           {
            "marker": {
             "colorbar": {
              "outlinewidth": 0,
              "ticks": ""
             }
            },
            "type": "scatterpolar"
           }
          ],
          "scatterpolargl": [
           {
            "marker": {
             "colorbar": {
              "outlinewidth": 0,
              "ticks": ""
             }
            },
            "type": "scatterpolargl"
           }
          ],
          "scatterternary": [
           {
            "marker": {
             "colorbar": {
              "outlinewidth": 0,
              "ticks": ""
             }
            },
            "type": "scatterternary"
           }
          ],
          "surface": [
           {
            "colorbar": {
             "outlinewidth": 0,
             "ticks": ""
            },
            "colorscale": [
             [
              0,
              "#0d0887"
             ],
             [
              0.1111111111111111,
              "#46039f"
             ],
             [
              0.2222222222222222,
              "#7201a8"
             ],
             [
              0.3333333333333333,
              "#9c179e"
             ],
             [
              0.4444444444444444,
              "#bd3786"
             ],
             [
              0.5555555555555556,
              "#d8576b"
             ],
             [
              0.6666666666666666,
              "#ed7953"
             ],
             [
              0.7777777777777778,
              "#fb9f3a"
             ],
             [
              0.8888888888888888,
              "#fdca26"
             ],
             [
              1,
              "#f0f921"
             ]
            ],
            "type": "surface"
           }
          ],
          "table": [
           {
            "cells": {
             "fill": {
              "color": "#EBF0F8"
             },
             "line": {
              "color": "white"
             }
            },
            "header": {
             "fill": {
              "color": "#C8D4E3"
             },
             "line": {
              "color": "white"
             }
            },
            "type": "table"
           }
          ]
         },
         "layout": {
          "annotationdefaults": {
           "arrowcolor": "#2a3f5f",
           "arrowhead": 0,
           "arrowwidth": 1
          },
          "autotypenumbers": "strict",
          "coloraxis": {
           "colorbar": {
            "outlinewidth": 0,
            "ticks": ""
           }
          },
          "colorscale": {
           "diverging": [
            [
             0,
             "#8e0152"
            ],
            [
             0.1,
             "#c51b7d"
            ],
            [
             0.2,
             "#de77ae"
            ],
            [
             0.3,
             "#f1b6da"
            ],
            [
             0.4,
             "#fde0ef"
            ],
            [
             0.5,
             "#f7f7f7"
            ],
            [
             0.6,
             "#e6f5d0"
            ],
            [
             0.7,
             "#b8e186"
            ],
            [
             0.8,
             "#7fbc41"
            ],
            [
             0.9,
             "#4d9221"
            ],
            [
             1,
             "#276419"
            ]
           ],
           "sequential": [
            [
             0,
             "#0d0887"
            ],
            [
             0.1111111111111111,
             "#46039f"
            ],
            [
             0.2222222222222222,
             "#7201a8"
            ],
            [
             0.3333333333333333,
             "#9c179e"
            ],
            [
             0.4444444444444444,
             "#bd3786"
            ],
            [
             0.5555555555555556,
             "#d8576b"
            ],
            [
             0.6666666666666666,
             "#ed7953"
            ],
            [
             0.7777777777777778,
             "#fb9f3a"
            ],
            [
             0.8888888888888888,
             "#fdca26"
            ],
            [
             1,
             "#f0f921"
            ]
           ],
           "sequentialminus": [
            [
             0,
             "#0d0887"
            ],
            [
             0.1111111111111111,
             "#46039f"
            ],
            [
             0.2222222222222222,
             "#7201a8"
            ],
            [
             0.3333333333333333,
             "#9c179e"
            ],
            [
             0.4444444444444444,
             "#bd3786"
            ],
            [
             0.5555555555555556,
             "#d8576b"
            ],
            [
             0.6666666666666666,
             "#ed7953"
            ],
            [
             0.7777777777777778,
             "#fb9f3a"
            ],
            [
             0.8888888888888888,
             "#fdca26"
            ],
            [
             1,
             "#f0f921"
            ]
           ]
          },
          "colorway": [
           "#636efa",
           "#EF553B",
           "#00cc96",
           "#ab63fa",
           "#FFA15A",
           "#19d3f3",
           "#FF6692",
           "#B6E880",
           "#FF97FF",
           "#FECB52"
          ],
          "font": {
           "color": "#2a3f5f"
          },
          "geo": {
           "bgcolor": "white",
           "lakecolor": "white",
           "landcolor": "#E5ECF6",
           "showlakes": true,
           "showland": true,
           "subunitcolor": "white"
          },
          "hoverlabel": {
           "align": "left"
          },
          "hovermode": "closest",
          "mapbox": {
           "style": "light"
          },
          "paper_bgcolor": "white",
          "plot_bgcolor": "#E5ECF6",
          "polar": {
           "angularaxis": {
            "gridcolor": "white",
            "linecolor": "white",
            "ticks": ""
           },
           "bgcolor": "#E5ECF6",
           "radialaxis": {
            "gridcolor": "white",
            "linecolor": "white",
            "ticks": ""
           }
          },
          "scene": {
           "xaxis": {
            "backgroundcolor": "#E5ECF6",
            "gridcolor": "white",
            "gridwidth": 2,
            "linecolor": "white",
            "showbackground": true,
            "ticks": "",
            "zerolinecolor": "white"
           },
           "yaxis": {
            "backgroundcolor": "#E5ECF6",
            "gridcolor": "white",
            "gridwidth": 2,
            "linecolor": "white",
            "showbackground": true,
            "ticks": "",
            "zerolinecolor": "white"
           },
           "zaxis": {
            "backgroundcolor": "#E5ECF6",
            "gridcolor": "white",
            "gridwidth": 2,
            "linecolor": "white",
            "showbackground": true,
            "ticks": "",
            "zerolinecolor": "white"
           }
          },
          "shapedefaults": {
           "line": {
            "color": "#2a3f5f"
           }
          },
          "ternary": {
           "aaxis": {
            "gridcolor": "white",
            "linecolor": "white",
            "ticks": ""
           },
           "baxis": {
            "gridcolor": "white",
            "linecolor": "white",
            "ticks": ""
           },
           "bgcolor": "#E5ECF6",
           "caxis": {
            "gridcolor": "white",
            "linecolor": "white",
            "ticks": ""
           }
          },
          "title": {
           "x": 0.05
          },
          "xaxis": {
           "automargin": true,
           "gridcolor": "white",
           "linecolor": "white",
           "ticks": "",
           "title": {
            "standoff": 15
           },
           "zerolinecolor": "white",
           "zerolinewidth": 2
          },
          "yaxis": {
           "automargin": true,
           "gridcolor": "white",
           "linecolor": "white",
           "ticks": "",
           "title": {
            "standoff": 15
           },
           "zerolinecolor": "white",
           "zerolinewidth": 2
          }
         }
        },
        "uniformtext": {
         "minsize": 14,
         "mode": "hide"
        },
        "width": 770,
        "xaxis": {
         "anchor": "y",
         "domain": [
          0,
          0.9999999999999999
         ],
         "gridcolor": "white",
         "linecolor": "black",
         "mirror": true,
         "showline": true,
         "ticks": "outside"
        },
        "xaxis10": {
         "anchor": "y10",
         "domain": [
          0.8999999999999999,
          0.8999999999999999
         ],
         "gridcolor": "white",
         "linecolor": "black",
         "mirror": true,
         "showline": true,
         "ticks": "outside"
        },
        "xaxis11": {
         "anchor": "y11",
         "domain": [
          0.1,
          0.1
         ],
         "gridcolor": "white",
         "linecolor": "black",
         "mirror": true,
         "showline": true,
         "ticks": "outside"
        },
        "xaxis12": {
         "anchor": "y12",
         "domain": [
          0.2,
          0.2
         ],
         "gridcolor": "white",
         "linecolor": "black",
         "mirror": true,
         "showline": true,
         "ticks": "outside"
        },
        "xaxis13": {
         "anchor": "y13",
         "domain": [
          0.30000000000000004,
          0.30000000000000004
         ],
         "gridcolor": "white",
         "linecolor": "black",
         "mirror": true,
         "showline": true,
         "ticks": "outside"
        },
        "xaxis14": {
         "anchor": "y14",
         "domain": [
          0.4,
          0.4
         ],
         "gridcolor": "white",
         "linecolor": "black",
         "mirror": true,
         "showline": true,
         "ticks": "outside"
        },
        "xaxis15": {
         "anchor": "y15",
         "domain": [
          0.5,
          0.5
         ],
         "gridcolor": "white",
         "linecolor": "black",
         "mirror": true,
         "showline": true,
         "ticks": "outside"
        },
        "xaxis16": {
         "anchor": "y16",
         "domain": [
          0.6,
          0.6
         ],
         "gridcolor": "white",
         "linecolor": "black",
         "mirror": true,
         "showline": true,
         "ticks": "outside"
        },
        "xaxis17": {
         "anchor": "y17",
         "domain": [
          0.7,
          0.7
         ],
         "gridcolor": "white",
         "linecolor": "black",
         "mirror": true,
         "showline": true,
         "ticks": "outside"
        },
        "xaxis18": {
         "anchor": "y18",
         "domain": [
          0.7999999999999999,
          0.7999999999999999
         ],
         "gridcolor": "white",
         "linecolor": "black",
         "mirror": true,
         "showline": true,
         "ticks": "outside"
        },
        "xaxis19": {
         "anchor": "y19",
         "domain": [
          0.8999999999999999,
          0.8999999999999999
         ],
         "gridcolor": "white",
         "linecolor": "black",
         "mirror": true,
         "showline": true,
         "ticks": "outside"
        },
        "xaxis2": {
         "anchor": "y2",
         "domain": [
          0,
          0.9
         ],
         "gridcolor": "white",
         "linecolor": "black",
         "mirror": true,
         "showline": true,
         "ticks": "outside"
        },
        "xaxis20": {
         "anchor": "y20",
         "domain": [
          0,
          0.1
         ],
         "gridcolor": "white",
         "linecolor": "black",
         "mirror": true,
         "showline": true,
         "ticks": "outside"
        },
        "xaxis21": {
         "anchor": "y21",
         "domain": [
          0.1,
          0.2
         ],
         "gridcolor": "white",
         "linecolor": "black",
         "mirror": true,
         "showline": true,
         "ticks": "outside"
        },
        "xaxis22": {
         "anchor": "y22",
         "domain": [
          0.2,
          0.30000000000000004
         ],
         "gridcolor": "white",
         "linecolor": "black",
         "mirror": true,
         "showline": true,
         "ticks": "outside"
        },
        "xaxis23": {
         "anchor": "y23",
         "domain": [
          0.30000000000000004,
          0.4
         ],
         "gridcolor": "white",
         "linecolor": "black",
         "mirror": true,
         "showline": true,
         "ticks": "outside"
        },
        "xaxis24": {
         "anchor": "y24",
         "domain": [
          0.4,
          0.5
         ],
         "gridcolor": "white",
         "linecolor": "black",
         "mirror": true,
         "showline": true,
         "ticks": "outside"
        },
        "xaxis25": {
         "anchor": "y25",
         "domain": [
          0.5,
          0.6
         ],
         "gridcolor": "white",
         "linecolor": "black",
         "mirror": true,
         "showline": true,
         "ticks": "outside"
        },
        "xaxis26": {
         "anchor": "y26",
         "domain": [
          0.6,
          0.7
         ],
         "gridcolor": "white",
         "linecolor": "black",
         "mirror": true,
         "showline": true,
         "ticks": "outside"
        },
        "xaxis27": {
         "anchor": "y27",
         "domain": [
          0.7,
          0.7999999999999999
         ],
         "gridcolor": "white",
         "linecolor": "black",
         "mirror": true,
         "showline": true,
         "ticks": "outside"
        },
        "xaxis28": {
         "anchor": "y28",
         "domain": [
          0.7999999999999999,
          0.8999999999999999
         ],
         "gridcolor": "white",
         "linecolor": "black",
         "mirror": true,
         "showline": true,
         "ticks": "outside"
        },
        "xaxis29": {
         "anchor": "y29",
         "domain": [
          0.8999999999999999,
          0.9999999999999999
         ],
         "gridcolor": "white",
         "linecolor": "black",
         "mirror": true,
         "showline": true,
         "ticks": "outside"
        },
        "xaxis3": {
         "anchor": "y3",
         "domain": [
          0.2,
          0.2
         ],
         "gridcolor": "white",
         "linecolor": "black",
         "mirror": true,
         "showline": true,
         "ticks": "outside"
        },
        "xaxis4": {
         "anchor": "y4",
         "domain": [
          0.30000000000000004,
          0.30000000000000004
         ],
         "gridcolor": "white",
         "linecolor": "black",
         "mirror": true,
         "showline": true,
         "ticks": "outside"
        },
        "xaxis5": {
         "anchor": "y5",
         "domain": [
          0.4,
          0.4
         ],
         "gridcolor": "white",
         "linecolor": "black",
         "mirror": true,
         "showline": true,
         "ticks": "outside"
        },
        "xaxis6": {
         "anchor": "y6",
         "domain": [
          0.5,
          0.5
         ],
         "gridcolor": "white",
         "linecolor": "black",
         "mirror": true,
         "showline": true,
         "ticks": "outside"
        },
        "xaxis7": {
         "anchor": "y7",
         "domain": [
          0.6,
          0.6
         ],
         "gridcolor": "white",
         "linecolor": "black",
         "mirror": true,
         "showline": true,
         "ticks": "outside"
        },
        "xaxis8": {
         "anchor": "y8",
         "domain": [
          0.7,
          0.7
         ],
         "gridcolor": "white",
         "linecolor": "black",
         "mirror": true,
         "showline": true,
         "ticks": "outside"
        },
        "xaxis9": {
         "anchor": "y9",
         "domain": [
          0.7999999999999999,
          0.7999999999999999
         ],
         "gridcolor": "white",
         "linecolor": "black",
         "mirror": true,
         "showline": true,
         "ticks": "outside"
        },
        "yaxis": {
         "anchor": "x",
         "domain": [
          0.68,
          1
         ],
         "gridcolor": "lightgrey",
         "linecolor": "black",
         "mirror": true,
         "showline": true,
         "ticks": "outside",
         "title": {
          "text": "Reservoir Count"
         }
        },
        "yaxis10": {
         "anchor": "x10",
         "domain": [
          0.68,
          1
         ],
         "gridcolor": "lightgrey",
         "linecolor": "black",
         "mirror": true,
         "showline": true,
         "ticks": "outside"
        },
        "yaxis11": {
         "anchor": "x11",
         "domain": [
          0.34,
          0.66
         ],
         "gridcolor": "lightgrey",
         "linecolor": "black",
         "mirror": true,
         "showline": true,
         "ticks": "outside"
        },
        "yaxis12": {
         "anchor": "x12",
         "domain": [
          0.34,
          0.66
         ],
         "gridcolor": "lightgrey",
         "linecolor": "black",
         "mirror": true,
         "showline": true,
         "ticks": "outside"
        },
        "yaxis13": {
         "anchor": "x13",
         "domain": [
          0.34,
          0.66
         ],
         "gridcolor": "lightgrey",
         "linecolor": "black",
         "mirror": true,
         "showline": true,
         "ticks": "outside"
        },
        "yaxis14": {
         "anchor": "x14",
         "domain": [
          0.34,
          0.66
         ],
         "gridcolor": "lightgrey",
         "linecolor": "black",
         "mirror": true,
         "showline": true,
         "ticks": "outside"
        },
        "yaxis15": {
         "anchor": "x15",
         "domain": [
          0.34,
          0.66
         ],
         "gridcolor": "lightgrey",
         "linecolor": "black",
         "mirror": true,
         "showline": true,
         "ticks": "outside"
        },
        "yaxis16": {
         "anchor": "x16",
         "domain": [
          0.34,
          0.66
         ],
         "gridcolor": "lightgrey",
         "linecolor": "black",
         "mirror": true,
         "showline": true,
         "ticks": "outside"
        },
        "yaxis17": {
         "anchor": "x17",
         "domain": [
          0.34,
          0.66
         ],
         "gridcolor": "lightgrey",
         "linecolor": "black",
         "mirror": true,
         "showline": true,
         "ticks": "outside"
        },
        "yaxis18": {
         "anchor": "x18",
         "domain": [
          0.34,
          0.66
         ],
         "gridcolor": "lightgrey",
         "linecolor": "black",
         "mirror": true,
         "showline": true,
         "ticks": "outside"
        },
        "yaxis19": {
         "anchor": "x19",
         "domain": [
          0.34,
          0.66
         ],
         "gridcolor": "lightgrey",
         "linecolor": "black",
         "mirror": true,
         "showline": true,
         "ticks": "outside"
        },
        "yaxis2": {
         "anchor": "x2",
         "domain": [
          0.68,
          1
         ],
         "gridcolor": "lightgrey",
         "linecolor": "black",
         "mirror": true,
         "showline": true,
         "ticks": "outside"
        },
        "yaxis20": {
         "anchor": "x20",
         "domain": [
          0.34,
          0.32
         ],
         "gridcolor": "lightgrey",
         "linecolor": "black",
         "mirror": true,
         "showline": true,
         "ticks": "outside"
        },
        "yaxis21": {
         "anchor": "x21",
         "domain": [
          0.34,
          0.32
         ],
         "gridcolor": "lightgrey",
         "linecolor": "black",
         "mirror": true,
         "showline": true,
         "ticks": "outside"
        },
        "yaxis22": {
         "anchor": "x22",
         "domain": [
          0.34,
          0.32
         ],
         "gridcolor": "lightgrey",
         "linecolor": "black",
         "mirror": true,
         "showline": true,
         "ticks": "outside"
        },
        "yaxis23": {
         "anchor": "x23",
         "domain": [
          0.34,
          0.32
         ],
         "gridcolor": "lightgrey",
         "linecolor": "black",
         "mirror": true,
         "showline": true,
         "ticks": "outside"
        },
        "yaxis24": {
         "anchor": "x24",
         "domain": [
          0.34,
          0.32
         ],
         "gridcolor": "lightgrey",
         "linecolor": "black",
         "mirror": true,
         "showline": true,
         "ticks": "outside"
        },
        "yaxis25": {
         "anchor": "x25",
         "domain": [
          0.34,
          0.32
         ],
         "gridcolor": "lightgrey",
         "linecolor": "black",
         "mirror": true,
         "showline": true,
         "ticks": "outside"
        },
        "yaxis26": {
         "anchor": "x26",
         "domain": [
          0.34,
          0.32
         ],
         "gridcolor": "lightgrey",
         "linecolor": "black",
         "mirror": true,
         "showline": true,
         "ticks": "outside"
        },
        "yaxis27": {
         "anchor": "x27",
         "domain": [
          0.34,
          0.32
         ],
         "gridcolor": "lightgrey",
         "linecolor": "black",
         "mirror": true,
         "showline": true,
         "ticks": "outside"
        },
        "yaxis28": {
         "anchor": "x28",
         "domain": [
          0.34,
          0.32
         ],
         "gridcolor": "lightgrey",
         "linecolor": "black",
         "mirror": true,
         "showline": true,
         "ticks": "outside"
        },
        "yaxis29": {
         "anchor": "x29",
         "domain": [
          0.34,
          0.32
         ],
         "gridcolor": "lightgrey",
         "linecolor": "black",
         "mirror": true,
         "showline": true,
         "ticks": "outside"
        },
        "yaxis3": {
         "anchor": "x3",
         "domain": [
          0.68,
          1
         ],
         "gridcolor": "lightgrey",
         "linecolor": "black",
         "mirror": true,
         "showline": true,
         "ticks": "outside"
        },
        "yaxis4": {
         "anchor": "x4",
         "domain": [
          0.68,
          1
         ],
         "gridcolor": "lightgrey",
         "linecolor": "black",
         "mirror": true,
         "showline": true,
         "ticks": "outside"
        },
        "yaxis5": {
         "anchor": "x5",
         "domain": [
          0.68,
          1
         ],
         "gridcolor": "lightgrey",
         "linecolor": "black",
         "mirror": true,
         "showline": true,
         "ticks": "outside"
        },
        "yaxis6": {
         "anchor": "x6",
         "domain": [
          0.68,
          1
         ],
         "gridcolor": "lightgrey",
         "linecolor": "black",
         "mirror": true,
         "showline": true,
         "ticks": "outside"
        },
        "yaxis7": {
         "anchor": "x7",
         "domain": [
          0.68,
          1
         ],
         "gridcolor": "lightgrey",
         "linecolor": "black",
         "mirror": true,
         "showline": true,
         "ticks": "outside"
        },
        "yaxis8": {
         "anchor": "x8",
         "domain": [
          0.68,
          1
         ],
         "gridcolor": "lightgrey",
         "linecolor": "black",
         "mirror": true,
         "showline": true,
         "ticks": "outside"
        },
        "yaxis9": {
         "anchor": "x9",
         "domain": [
          0.68,
          1
         ],
         "gridcolor": "lightgrey",
         "linecolor": "black",
         "mirror": true,
         "showline": true,
         "ticks": "outside"
        }
       }
      }
     },
     "metadata": {},
     "output_type": "display_data"
    }
   ],
   "source": [
    "from plotly.subplots import make_subplots\n",
    "import plotly.graph_objects as go\n",
    "# data\n",
    "# biome_order = ['Amazônia','Mata Atlântica', 'Pampa', 'Caatinga', 'Cerrado', 'Pantanal']\n",
    "biome_order = ['Mata Atlântica', 'Amazônia','Cerrado','Caatinga','Pampa', 'Pantanal']\n",
    "combined_df = combined_df.loc[biome_order]\n",
    "biomes = combined_df.index.map(biome_rename_dict)\n",
    "biome_colors = combined_df.index.map(bar_colordict) \n",
    "# biome_colors = combined_df.index.map(bar_grayscaledict) \n",
    "\n",
    "# Create bar traces\n",
    "trace1 = go.Bar(name='This Study', x=biomes, y=combined_df['count_our'], marker_color=biome_colors)\n",
    "trace2 = go.Bar(name='ANA', x=biomes, y=combined_df['count_ana'],  marker_color=biome_colors,\n",
    "                marker_pattern_shape='/')\n",
    "\n",
    "# Create the figure\n",
    "fig = go.Figure(data=[trace1, trace2])\n",
    "\n",
    "# Update layout for side-by-side bars\n",
    "fig.update_layout(barmode='group',\n",
    "                  yaxis_title='Reservoir Count')\n",
    "# Show the figure\n",
    "\n",
    "# gray_colors = [(a,a,a) for a in np.arange(0,1.1,0.2)]\n",
    "fig2 = px.sunburst(count_df_complete,\n",
    "                   path=['Bioma', 'lulc_class_name'], values='Count',\n",
    "                color='Bioma',\n",
    "                # Grayscale\n",
    "                # color_discrete_sequence=[\"#d9d9d9\",\"#b3b3b3\", \"#8c8c8c\", '#666666',\"#4d4d4d\" ])\n",
    "                # Color\n",
    "                color_discrete_sequence=[\"#e0bc86\",\"#898b9e\", \"#bdcc99\", '#b3c4b9',\"#adc0cc\" ])\n",
    "fig2.update_layout(uniformtext=dict(minsize=14, mode='hide'))\n",
    "fig2.update_traces(\n",
    "    texttemplate='<b>%{label}: %{percentParent}</b>', \n",
    "    textfont_color='black',\n",
    "    insidetextorientation='radial',\n",
    "    # textinfo=\"label+percent parent\"\n",
    "    sort=True\n",
    ")\n",
    "\n",
    "fig_combined = make_subplots(\n",
    "    rows=3, cols=10, \n",
    "    specs=[[{\"type\": \"xy\", 'rowspan':1, 'colspan':10}, {'colspan':0},{'colspan':0},{'colspan':0},{'colspan':0},{'colspan':0},{'colspan':0},{'colspan':0},{'colspan':0},{'colspan':0},],\n",
    "           [{\"type\": \"domain\",'colspan':9, 'rowspan':2},{'colspan':0},{'colspan':0},{'colspan':0},{'colspan':0},{'colspan':0},{'colspan':0},{'colspan':0},{'colspan':0},{'colspan':0},],\n",
    "           [{'rowspan':0},{'rowspan':0},{'rowspan':0},{'rowspan':0},{'rowspan':0},{'rowspan':0},{'rowspan':0},{'rowspan':0},{'rowspan':0},{'rowspan':0}]],\n",
    "    vertical_spacing=0.02,\n",
    "    horizontal_spacing=0\n",
    ")\n",
    "\n",
    "# Add traces from fig1 (graph_objects) to the first subplot\n",
    "for trace in fig.data:\n",
    "    fig_combined.add_trace(trace, row=1, col=1)\n",
    "\n",
    "# Add traces from fig2 (express) to the second subplot\n",
    "for trace in fig2.data:\n",
    "    fig_combined.add_trace(trace, row=2, col=1)\n",
    "  \n",
    "fig_combined.update_layout(xaxis2_domain = [0.0, 0.9])\n",
    "# Update layout for combined figure\n",
    "fig_combined.update_layout(\n",
    "    showlegend=True,  # Enable the legend\n",
    "    legend=dict(\n",
    "        x=0.77,  # Horizontal position (0: left, 1: right)\n",
    "        y=0.99,  # Vertical position (0: bottom, 1: top)\n",
    "        orientation=\"v\",  # Horizontal legend layout\n",
    "        font=dict(size=20)\n",
    "    ),\n",
    "    width=3.5*220,\n",
    "    height=5.5 * 220,\n",
    "    margin=dict(l=10, r=10, t=10, b=10)\n",
    ")\n",
    "fig_combined.update_layout(\n",
    "    {\n",
    "        \"paper_bgcolor\": \"white\",\n",
    "        \"plot_bgcolor\": \"rgba(0, 0, 0, 0)\",\n",
    "    },\n",
    "    yaxis_title='Reservoir Count',\n",
    "    )\n",
    "\n",
    "fig_combined.update_xaxes(\n",
    "    mirror=True,\n",
    "    ticks='outside',\n",
    "    showline=True,\n",
    "    linecolor='black',\n",
    "    gridcolor='white'\n",
    ")\n",
    "fig_combined.update_yaxes(\n",
    "    mirror=True,\n",
    "    ticks='outside',\n",
    "    showline=True,\n",
    "    linecolor='black',\n",
    "    gridcolor='lightgrey'\n",
    ")\n",
    "\n",
    "\n",
    "\n",
    "fig_combined.update_layout(font=dict(size=15, color='black'),  # Make general font size larger,\n",
    "                           uniformtext=dict(minsize=14, mode='hide'))\n",
    "                           # Add panel labels (a) and (b) in the top left corner\n",
    "fig_combined.add_annotation(\n",
    "    text=\"<i>(a)</i>\", \n",
    "    x=0.005, \n",
    "    y=1, \n",
    "    xref=\"paper\", \n",
    "    yref=\"paper\", \n",
    "    showarrow=False, \n",
    "    font=dict(size=18, color=\"black\"), \n",
    "    align=\"left\", \n",
    "    ax=20,  # Slight offset to move it a bit from the edge\n",
    "    ay=-20  # Slightly lower\n",
    ")\n",
    "\n",
    "fig_combined.add_annotation(\n",
    "    text=\"<i>(b)</i>\", \n",
    "    x=0.005, \n",
    "    y=0.6, \n",
    "    xref=\"paper\", \n",
    "    yref=\"paper\", \n",
    "    showarrow=False, \n",
    "    font=dict(size=18, color=\"black\"), \n",
    "    align=\"left\", \n",
    "    ax=40,  # Slight offset to move it a bit from the edge\n",
    "    ay=-20  # Slightly lower\n",
    ")\n",
    "\n",
    "# Manual annotations, yay!\n",
    "# Cerrado\n",
    "fig_combined.add_annotation(\n",
    "    text='<b>Other: 3%</b>',\n",
    "    xanchor='auto',\n",
    "    x=0.438, y=0.068,\n",
    "    ax=0, ay=20,\n",
    "    font_color='black',\n",
    "    font_size=14,\n",
    "    xref='paper',\n",
    "    yref='paper')\n",
    "\n",
    "# Caatinga\n",
    "fig_combined.add_annotation(\n",
    "    text='<b>Other:<br>4%</b>',\n",
    "    xanchor='auto',\n",
    "    x=0.905, y=0.3265,\n",
    "    ax=35, ay=0,\n",
    "    font_color='black',\n",
    "    font_size=14,\n",
    "    xref='paper',\n",
    "    yref='paper')\n",
    "# Pampa\n",
    "fig_combined.add_annotation(\n",
    "    text='<b>Other:<br>5%</b>',\n",
    "    xanchor='auto',\n",
    "    x=0.822, y=0.182,\n",
    "    ax=33, ay=24,\n",
    "    font_color='black',\n",
    "    font_size=14,\n",
    "    xref='paper',\n",
    "    yref='paper')\n",
    "\n",
    "\n",
    "fig.update_layout(legend= {'itemsizing': 'constant'})\n",
    "fig_combined.show()\n",
    "# fig_combined.write_image('/home/ksolvik/research/reservoirs/figs/ch0/sunburst_combined.svg')\n",
    "# fig_combined.write_image('/home/ksolvik/research/reservoirs/figs/ch0/sunburst_combined.jpg')"
   ]
  },
  {
   "cell_type": "markdown",
   "id": "c618b3b4",
   "metadata": {},
   "source": [
    "# Bubble chart"
   ]
  },
  {
   "cell_type": "code",
   "execution_count": 59,
   "id": "e7f6e6d5",
   "metadata": {},
   "outputs": [],
   "source": [
    "\n",
    "\n",
    "class BubbleChart:\n",
    "    def __init__(self, area, bubble_spacing=0):\n",
    "        \"\"\"\n",
    "        Setup for bubble collapse.\n",
    "\n",
    "        Parameters\n",
    "        ----------\n",
    "        area : array-like\n",
    "            Area of the bubbles.\n",
    "        bubble_spacing : float, default: 0\n",
    "            Minimal spacing between bubbles after collapsing.\n",
    "\n",
    "        Notes\n",
    "        -----\n",
    "        If \"area\" is sorted, the results might look weird.\n",
    "        \"\"\"\n",
    "        area = np.asarray(area)\n",
    "        r = np.sqrt(area / np.pi)\n",
    "\n",
    "        self.bubble_spacing = bubble_spacing\n",
    "        self.bubbles = np.ones((len(area), 4))\n",
    "        self.bubbles[:, 2] = r\n",
    "        self.bubbles[:, 3] = area\n",
    "        self.maxstep = 2 * self.bubbles[:, 2].max() + self.bubble_spacing\n",
    "        self.step_dist = self.maxstep / 2\n",
    "\n",
    "        # calculate initial grid layout for bubbles\n",
    "        length = np.ceil(np.sqrt(len(self.bubbles)))\n",
    "        grid = np.arange(length) * self.maxstep\n",
    "        gx, gy = np.meshgrid(grid, grid)\n",
    "        self.bubbles[:, 0] = gx.flatten()[:len(self.bubbles)]\n",
    "        self.bubbles[:, 1] = gy.flatten()[:len(self.bubbles)]\n",
    "\n",
    "        self.com = self.center_of_mass()\n",
    "\n",
    "    def center_of_mass(self):\n",
    "        return np.average(\n",
    "            self.bubbles[:, :2], axis=0, weights=self.bubbles[:, 3]\n",
    "        )\n",
    "\n",
    "    def center_distance(self, bubble, bubbles):\n",
    "        return np.hypot(bubble[0] - bubbles[:, 0],\n",
    "                        bubble[1] - bubbles[:, 1])\n",
    "\n",
    "    def outline_distance(self, bubble, bubbles):\n",
    "        center_distance = self.center_distance(bubble, bubbles)\n",
    "        return center_distance - bubble[2] - \\\n",
    "            bubbles[:, 2] - self.bubble_spacing\n",
    "\n",
    "    def check_collisions(self, bubble, bubbles):\n",
    "        distance = self.outline_distance(bubble, bubbles)\n",
    "        return len(distance[distance < 0])\n",
    "\n",
    "    def collides_with(self, bubble, bubbles):\n",
    "        distance = self.outline_distance(bubble, bubbles)\n",
    "        return np.argmin(distance, keepdims=True)\n",
    "\n",
    "    def collapse(self, n_iterations=50):\n",
    "        \"\"\"\n",
    "        Move bubbles to the center of mass.\n",
    "\n",
    "        Parameters\n",
    "        ----------\n",
    "        n_iterations : int, default: 50\n",
    "            Number of moves to perform.\n",
    "        \"\"\"\n",
    "        for _i in range(n_iterations):\n",
    "            moves = 0\n",
    "            for i in range(len(self.bubbles)):\n",
    "                rest_bub = np.delete(self.bubbles, i, 0)\n",
    "                # try to move directly towards the center of mass\n",
    "                # direction vector from bubble to the center of mass\n",
    "                dir_vec = self.com - self.bubbles[i, :2]\n",
    "\n",
    "                # shorten direction vector to have length of 1\n",
    "                dir_vec = dir_vec / np.sqrt(dir_vec.dot(dir_vec))\n",
    "\n",
    "                # calculate new bubble position\n",
    "                new_point = self.bubbles[i, :2] + dir_vec * self.step_dist\n",
    "                new_bubble = np.append(new_point, self.bubbles[i, 2:4])\n",
    "\n",
    "                # check whether new bubble collides with other bubbles\n",
    "                if not self.check_collisions(new_bubble, rest_bub):\n",
    "                    self.bubbles[i, :] = new_bubble\n",
    "                    self.com = self.center_of_mass()\n",
    "                    moves += 1\n",
    "                else:\n",
    "                    # try to move around a bubble that you collide with\n",
    "                    # find colliding bubble\n",
    "                    for colliding in self.collides_with(new_bubble, rest_bub):\n",
    "                        # calculate direction vector\n",
    "                        dir_vec = rest_bub[colliding, :2] - self.bubbles[i, :2]\n",
    "                        dir_vec = dir_vec / np.sqrt(dir_vec.dot(dir_vec))\n",
    "                        # calculate orthogonal vector\n",
    "                        orth = np.array([dir_vec[1], -dir_vec[0]])\n",
    "                        # test which direction to go\n",
    "                        new_point1 = (self.bubbles[i, :2] + orth *\n",
    "                                      self.step_dist)\n",
    "                        new_point2 = (self.bubbles[i, :2] - orth *\n",
    "                                      self.step_dist)\n",
    "                        dist1 = self.center_distance(\n",
    "                            self.com, np.array([new_point1]))\n",
    "                        dist2 = self.center_distance(\n",
    "                            self.com, np.array([new_point2]))\n",
    "                        new_point = new_point1 if dist1 < dist2 else new_point2\n",
    "                        new_bubble = np.append(new_point, self.bubbles[i, 2:4])\n",
    "                        if not self.check_collisions(new_bubble, rest_bub):\n",
    "                            self.bubbles[i, :] = new_bubble\n",
    "                            self.com = self.center_of_mass()\n",
    "\n",
    "            if moves / len(self.bubbles) < 0.1:\n",
    "                self.step_dist = self.step_dist / 2\n",
    "\n",
    "    def plot(self, ax, labels, colors):\n",
    "        \"\"\"\n",
    "        Draw the bubble plot.\n",
    "\n",
    "        Parameters\n",
    "        ----------\n",
    "        ax : matplotlib.axes.Axes\n",
    "        labels : list\n",
    "            Labels of the bubbles.\n",
    "        colors : list\n",
    "            Colors of the bubbles.\n",
    "        \"\"\"\n",
    "        for i in range(len(self.bubbles)):\n",
    "            circ = plt.Circle(\n",
    "                self.bubbles[i, :2], self.bubbles[i, 2], color=colors[i])\n",
    "            ax.add_patch(circ)\n",
    "            ax.text(*self.bubbles[i, :2], labels[i],\n",
    "                    horizontalalignment='center', verticalalignment='center')"
   ]
  },
  {
   "cell_type": "code",
   "execution_count": 60,
   "id": "66f432b3",
   "metadata": {},
   "outputs": [],
   "source": [
    "biome_gdf_merged_bubble = biome_gdf_merged.copy()\n",
    "biome_gdf_merged_bubble.loc[biome_gdf_merged_bubble['Bioma']=='Mata\\nAtlântica', 'Bioma'] = 'Mata Atlântica'\n",
    "biome_gdf_merged_bubble.loc[biome_gdf_merged_bubble['Bioma']=='Amazon', 'Bioma'] = 'Amazônia'\n",
    "biome_gdf_merged_bubble['color'] = biome_gdf_merged_bubble['Bioma'].map(bar_colordict)\n",
    "bubble_order = ['Pampa','Cerrado','Mata Atlântica',  'Amazônia', 'Pantanal', 'Caatinga']\n",
    "biome_gdf_merged_bubble = biome_gdf_merged_bubble.set_index('Bioma').loc[bubble_order].reset_index()"
   ]
  },
  {
   "cell_type": "code",
   "execution_count": 61,
   "id": "b6745eac",
   "metadata": {},
   "outputs": [
    {
     "data": {
      "image/png": "[encoded data removed]",
      "text/plain": [
       "<Figure size 640x480 with 1 Axes>"
      ]
     },
     "metadata": {},
     "output_type": "display_data"
    }
   ],
   "source": [
    "\n",
    "bubble_chart = BubbleChart(area=biome_gdf_merged_bubble['count_2021'],\n",
    "                           bubble_spacing=10)\n",
    "\n",
    "bubble_chart.collapse()\n",
    "\n",
    "fig, ax = plt.subplots(subplot_kw=dict(aspect=\"equal\"))\n",
    "bubble_chart.plot(\n",
    "    ax, biome_gdf_merged_bubble['Bioma'], biome_gdf_merged_bubble['color'])\n",
    "ax.axis(\"off\")\n",
    "ax.relim()\n",
    "ax.autoscale_view()\n"
   ]
  }
 ],
 "metadata": {
  "kernelspec": {
   "display_name": "resgis",
   "language": "python",
   "name": "python3"
  },
  "language_info": {
   "codemirror_mode": {
    "name": "ipython",
    "version": 3
   },
   "file_extension": ".py",
   "mimetype": "text/x-python",
   "name": "python",
   "nbconvert_exporter": "python",
   "pygments_lexer": "ipython3",
   "version": "3.10.13"
  }
 },
 "nbformat": 4,
 "nbformat_minor": 5
}
